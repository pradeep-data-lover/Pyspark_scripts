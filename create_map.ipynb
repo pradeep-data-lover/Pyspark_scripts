{
 "cells": [
  {
   "cell_type": "code",
   "execution_count": 0,
   "metadata": {
    "application/vnd.databricks.v1+cell": {
     "cellMetadata": {
      "byteLimit": 2048000,
      "rowLimit": 10000
     },
     "inputWidgets": {},
     "nuid": "d9b5e293-ab3c-4f80-b9ac-a4a17c00a2bb",
     "showTitle": false,
     "tableResultSettingsMap": {},
     "title": ""
    }
   },
   "outputs": [
    {
     "output_type": "display_data",
     "data": {
      "text/html": [
       "<style scoped>\n",
       "  .table-result-container {\n",
       "    max-height: 300px;\n",
       "    overflow: auto;\n",
       "  }\n",
       "  table, th, td {\n",
       "    border: 1px solid black;\n",
       "    border-collapse: collapse;\n",
       "  }\n",
       "  th, td {\n",
       "    padding: 5px;\n",
       "  }\n",
       "  th {\n",
       "    text-align: left;\n",
       "  }\n",
       "</style><div class='table-result-container'><table class='table-result'><thead style='background-color: white'><tr><th>product_id</th><th>product_name</th><th>price</th><th>Discount</th></tr></thead><tbody><tr><td>100</td><td>mobile</td><td>5000</td><td>10</td></tr><tr><td>100</td><td>mobile</td><td>7000</td><td>7</td></tr><tr><td>200</td><td>laptop</td><td>20000</td><td>4</td></tr><tr><td>200</td><td>laptop</td><td>25000</td><td>8</td></tr><tr><td>200</td><td>laptop</td><td>22000</td><td>12</td></tr></tbody></table></div>"
      ]
     },
     "metadata": {
      "application/vnd.databricks.v1+output": {
       "addedWidgets": {},
       "aggData": [],
       "aggError": "",
       "aggOverflow": false,
       "aggSchema": [],
       "aggSeriesLimitReached": false,
       "aggType": "",
       "arguments": {},
       "columnCustomDisplayInfos": {},
       "data": [
        [
         100,
         "mobile",
         5000,
         10
        ],
        [
         100,
         "mobile",
         7000,
         7
        ],
        [
         200,
         "laptop",
         20000,
         4
        ],
        [
         200,
         "laptop",
         25000,
         8
        ],
        [
         200,
         "laptop",
         22000,
         12
        ]
       ],
       "datasetInfos": [],
       "dbfsResultPath": null,
       "isJsonSchema": true,
       "metadata": {},
       "overflow": false,
       "plotOptions": {
        "customPlotOptions": {},
        "displayType": "table",
        "pivotAggregation": null,
        "pivotColumns": null,
        "xColumns": null,
        "yColumns": null
       },
       "removedWidgets": [],
       "schema": [
        {
         "metadata": "{}",
         "name": "product_id",
         "type": "\"integer\""
        },
        {
         "metadata": "{}",
         "name": "product_name",
         "type": "\"string\""
        },
        {
         "metadata": "{}",
         "name": "price",
         "type": "\"integer\""
        },
        {
         "metadata": "{}",
         "name": "Discount",
         "type": "\"integer\""
        }
       ],
       "type": "table"
      }
     },
     "output_type": "display_data"
    }
   ],
   "source": [
    "simpledata=((100,'mobile',5000,10),\\\n",
    "    (100,'mobile',7000,7),\\\n",
    "    (200,'laptop',20000,4),\\\n",
    "    (200,'laptop',25000,8),\\\n",
    "    (200,'laptop',22000,12))\n",
    "from pyspark.sql.types import StructType,StructField,IntegerType,StringType\n",
    "dfschema=StructType([\\\n",
    "    StructField('product_id',IntegerType(),False),\\\n",
    "    StructField('product_name',StringType(),True),\\\n",
    "    StructField('price',IntegerType(),True),\\\n",
    "    StructField('Discount',IntegerType(),True)])\n",
    "df=spark.createDataFrame(data=simpledata,schema=dfschema)\n",
    "display(df)"
   ]
  },
  {
   "cell_type": "code",
   "execution_count": 0,
   "metadata": {
    "application/vnd.databricks.v1+cell": {
     "cellMetadata": {
      "byteLimit": 2048000,
      "rowLimit": 10000
     },
     "inputWidgets": {},
     "nuid": "e907bbbf-88e8-4d7d-a40d-1313b8de91db",
     "showTitle": false,
     "tableResultSettingsMap": {},
     "title": ""
    }
   },
   "outputs": [
    {
     "output_type": "display_data",
     "data": {
      "text/html": [
       "<style scoped>\n",
       "  .table-result-container {\n",
       "    max-height: 300px;\n",
       "    overflow: auto;\n",
       "  }\n",
       "  table, th, td {\n",
       "    border: 1px solid black;\n",
       "    border-collapse: collapse;\n",
       "  }\n",
       "  th, td {\n",
       "    padding: 5px;\n",
       "  }\n",
       "  th {\n",
       "    text-align: left;\n",
       "  }\n",
       "</style><div class='table-result-container'><table class='table-result'><thead style='background-color: white'><tr><th>product_id</th><th>product_name</th><th>price</th><th>Discount</th><th>price_dict</th></tr></thead><tbody><tr><td>100</td><td>mobile</td><td>5000</td><td>10</td><td>Map(mobile -> 5000)</td></tr><tr><td>100</td><td>mobile</td><td>7000</td><td>7</td><td>Map(mobile -> 7000)</td></tr><tr><td>200</td><td>laptop</td><td>20000</td><td>4</td><td>Map(laptop -> 20000)</td></tr><tr><td>200</td><td>laptop</td><td>25000</td><td>8</td><td>Map(laptop -> 25000)</td></tr><tr><td>200</td><td>laptop</td><td>22000</td><td>12</td><td>Map(laptop -> 22000)</td></tr></tbody></table></div>"
      ]
     },
     "metadata": {
      "application/vnd.databricks.v1+output": {
       "addedWidgets": {},
       "aggData": [],
       "aggError": "",
       "aggOverflow": false,
       "aggSchema": [],
       "aggSeriesLimitReached": false,
       "aggType": "",
       "arguments": {},
       "columnCustomDisplayInfos": {},
       "data": [
        [
         100,
         "mobile",
         5000,
         10,
         {
          "mobile": 5000
         }
        ],
        [
         100,
         "mobile",
         7000,
         7,
         {
          "mobile": 7000
         }
        ],
        [
         200,
         "laptop",
         20000,
         4,
         {
          "laptop": 20000
         }
        ],
        [
         200,
         "laptop",
         25000,
         8,
         {
          "laptop": 25000
         }
        ],
        [
         200,
         "laptop",
         22000,
         12,
         {
          "laptop": 22000
         }
        ]
       ],
       "datasetInfos": [],
       "dbfsResultPath": null,
       "isJsonSchema": true,
       "metadata": {},
       "overflow": false,
       "plotOptions": {
        "customPlotOptions": {},
        "displayType": "table",
        "pivotAggregation": null,
        "pivotColumns": null,
        "xColumns": null,
        "yColumns": null
       },
       "removedWidgets": [],
       "schema": [
        {
         "metadata": "{}",
         "name": "product_id",
         "type": "\"integer\""
        },
        {
         "metadata": "{}",
         "name": "product_name",
         "type": "\"string\""
        },
        {
         "metadata": "{}",
         "name": "price",
         "type": "\"integer\""
        },
        {
         "metadata": "{}",
         "name": "Discount",
         "type": "\"integer\""
        },
        {
         "metadata": "{}",
         "name": "price_dict",
         "type": "{\"type\":\"map\",\"keyType\":\"string\",\"valueType\":\"integer\",\"valueContainsNull\":true}"
        }
       ],
       "type": "table"
      }
     },
     "output_type": "display_data"
    }
   ],
   "source": [
    "from pyspark.sql.functions import lit,col,create_map\n",
    "dfdict=df.select(col('product_id'),col('product_name'),col('price'),col('Discount'),create_map(col('product_name'),col('price')).alias('price_dict'))\n",
    "display(dfdict)\n"
   ]
  },
  {
   "cell_type": "code",
   "execution_count": 0,
   "metadata": {
    "application/vnd.databricks.v1+cell": {
     "cellMetadata": {
      "byteLimit": 2048000,
      "rowLimit": 10000
     },
     "inputWidgets": {},
     "nuid": "55ec4881-d41a-4a29-b6bf-4e5488ddd046",
     "showTitle": false,
     "tableResultSettingsMap": {},
     "title": ""
    }
   },
   "outputs": [
    {
     "output_type": "display_data",
     "data": {
      "text/html": [
       "<style scoped>\n",
       "  .table-result-container {\n",
       "    max-height: 300px;\n",
       "    overflow: auto;\n",
       "  }\n",
       "  table, th, td {\n",
       "    border: 1px solid black;\n",
       "    border-collapse: collapse;\n",
       "  }\n",
       "  th, td {\n",
       "    padding: 5px;\n",
       "  }\n",
       "  th {\n",
       "    text-align: left;\n",
       "  }\n",
       "</style><div class='table-result-container'><table class='table-result'><thead style='background-color: white'><tr><th>product_id</th><th>product_name</th><th>price</th><th>Discount</th><th>price_dict</th></tr></thead><tbody><tr><td>100</td><td>mobile</td><td>5000</td><td>10</td><td>Map(product_name -> mobile, price -> 5000)</td></tr><tr><td>100</td><td>mobile</td><td>7000</td><td>7</td><td>Map(product_name -> mobile, price -> 7000)</td></tr><tr><td>200</td><td>laptop</td><td>20000</td><td>4</td><td>Map(product_name -> laptop, price -> 20000)</td></tr><tr><td>200</td><td>laptop</td><td>25000</td><td>8</td><td>Map(product_name -> laptop, price -> 25000)</td></tr><tr><td>200</td><td>laptop</td><td>22000</td><td>12</td><td>Map(product_name -> laptop, price -> 22000)</td></tr></tbody></table></div>"
      ]
     },
     "metadata": {
      "application/vnd.databricks.v1+output": {
       "addedWidgets": {},
       "aggData": [],
       "aggError": "",
       "aggOverflow": false,
       "aggSchema": [],
       "aggSeriesLimitReached": false,
       "aggType": "",
       "arguments": {},
       "columnCustomDisplayInfos": {},
       "data": [
        [
         100,
         "mobile",
         5000,
         10,
         {
          "price": "5000",
          "product_name": "mobile"
         }
        ],
        [
         100,
         "mobile",
         7000,
         7,
         {
          "price": "7000",
          "product_name": "mobile"
         }
        ],
        [
         200,
         "laptop",
         20000,
         4,
         {
          "price": "20000",
          "product_name": "laptop"
         }
        ],
        [
         200,
         "laptop",
         25000,
         8,
         {
          "price": "25000",
          "product_name": "laptop"
         }
        ],
        [
         200,
         "laptop",
         22000,
         12,
         {
          "price": "22000",
          "product_name": "laptop"
         }
        ]
       ],
       "datasetInfos": [],
       "dbfsResultPath": null,
       "isJsonSchema": true,
       "metadata": {},
       "overflow": false,
       "plotOptions": {
        "customPlotOptions": {},
        "displayType": "table",
        "pivotAggregation": null,
        "pivotColumns": null,
        "xColumns": null,
        "yColumns": null
       },
       "removedWidgets": [],
       "schema": [
        {
         "metadata": "{}",
         "name": "product_id",
         "type": "\"integer\""
        },
        {
         "metadata": "{}",
         "name": "product_name",
         "type": "\"string\""
        },
        {
         "metadata": "{}",
         "name": "price",
         "type": "\"integer\""
        },
        {
         "metadata": "{}",
         "name": "Discount",
         "type": "\"integer\""
        },
        {
         "metadata": "{}",
         "name": "price_dict",
         "type": "{\"type\":\"map\",\"keyType\":\"string\",\"valueType\":\"string\",\"valueContainsNull\":true}"
        }
       ],
       "type": "table"
      }
     },
     "output_type": "display_data"
    }
   ],
   "source": [
    "from pyspark.sql.functions import lit,col,create_map\n",
    "dfdicto=df.select(col('product_id'),col('product_name'),col('price'),col('Discount'),create_map(lit('product_name'),col('product_name'),lit('price'),col('price')).alias('price_dict'))\n",
    "display(dfdicto)"
   ]
  }
 ],
 "metadata": {
  "application/vnd.databricks.v1+notebook": {
   "computePreferences": null,
   "dashboards": [],
   "environmentMetadata": {
    "base_environment": "",
    "client": "1"
   },
   "language": "python",
   "notebookMetadata": {
    "pythonIndentUnit": 4
   },
   "notebookName": "create_map",
   "widgets": {}
  }
 },
 "nbformat": 4,
 "nbformat_minor": 0
}
