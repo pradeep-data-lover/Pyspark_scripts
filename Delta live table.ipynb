{
 "cells": [
  {
   "cell_type": "code",
   "execution_count": 0,
   "metadata": {
    "application/vnd.databricks.v1+cell": {
     "cellMetadata": {
      "byteLimit": 2048000,
      "rowLimit": 10000
     },
     "inputWidgets": {},
     "nuid": "f4a18997-52e1-4315-bfdb-dde73b7a90b4",
     "showTitle": false,
     "tableResultSettingsMap": {},
     "title": ""
    }
   },
   "outputs": [
    {
     "output_type": "execute_result",
     "data": {
      "text/plain": [
       "<delta.tables.DeltaTable at 0x7f0d1cecde50>"
      ]
     },
     "execution_count": 2,
     "metadata": {},
     "output_type": "execute_result"
    }
   ],
   "source": [
    "from delta.tables import *\n",
    "\n",
    "DeltaTable.create(spark)\\\n",
    "    .tableName('delta_internal_demo')\\\n",
    "        .addColumn('emp_id','INT')\\\n",
    "            .addColumn('emp_name','STRING')\\\n",
    "                .addColumn('gender','STRING')\\\n",
    "                    .addColumn('salary','INT')\\\n",
    "                        .addColumn('dept','STRING')\\\n",
    "                            .property('description', 'table created for demo purpose')\\\n",
    "                                .location('/FileStore/tables/delta/arch_demo')\\\n",
    "                                     .execute()"
   ]
  },
  {
   "cell_type": "code",
   "execution_count": 0,
   "metadata": {
    "application/vnd.databricks.v1+cell": {
     "cellMetadata": {
      "byteLimit": 2048000,
      "rowLimit": 10000
     },
     "inputWidgets": {},
     "nuid": "4ebb446b-4a08-44b0-9e10-726cd5a64da0",
     "showTitle": false,
     "tableResultSettingsMap": {},
     "title": ""
    }
   },
   "outputs": [
    {
     "output_type": "display_data",
     "data": {
      "text/html": [
       "<style scoped>\n",
       "  .table-result-container {\n",
       "    max-height: 300px;\n",
       "    overflow: auto;\n",
       "  }\n",
       "  table, th, td {\n",
       "    border: 1px solid black;\n",
       "    border-collapse: collapse;\n",
       "  }\n",
       "  th, td {\n",
       "    padding: 5px;\n",
       "  }\n",
       "  th {\n",
       "    text-align: left;\n",
       "  }\n",
       "</style><div class='table-result-container'><table class='table-result'><thead style='background-color: white'><tr><th>path</th><th>name</th><th>size</th><th>modificationTime</th></tr></thead><tbody><tr><td>dbfs:/FileStore/tables/delta/arch_demo/_delta_log/00000000000000000000.crc</td><td>00000000000000000000.crc</td><td>2253</td><td>1739185230000</td></tr><tr><td>dbfs:/FileStore/tables/delta/arch_demo/_delta_log/00000000000000000000.json</td><td>00000000000000000000.json</td><td>1328</td><td>1739185212000</td></tr><tr><td>dbfs:/FileStore/tables/delta/arch_demo/_delta_log/00000000000000000001.crc</td><td>00000000000000000001.crc</td><td>2902</td><td>1739185703000</td></tr><tr><td>dbfs:/FileStore/tables/delta/arch_demo/_delta_log/00000000000000000001.json</td><td>00000000000000000001.json</td><td>1250</td><td>1739185698000</td></tr><tr><td>dbfs:/FileStore/tables/delta/arch_demo/_delta_log/00000000000000000002.crc</td><td>00000000000000000002.crc</td><td>3544</td><td>1739185708000</td></tr><tr><td>dbfs:/FileStore/tables/delta/arch_demo/_delta_log/00000000000000000002.json</td><td>00000000000000000002.json</td><td>1248</td><td>1739185704000</td></tr><tr><td>dbfs:/FileStore/tables/delta/arch_demo/_delta_log/00000000000000000003.crc</td><td>00000000000000000003.crc</td><td>4188</td><td>1739185713000</td></tr><tr><td>dbfs:/FileStore/tables/delta/arch_demo/_delta_log/00000000000000000003.json</td><td>00000000000000000003.json</td><td>1250</td><td>1739185709000</td></tr><tr><td>dbfs:/FileStore/tables/delta/arch_demo/_delta_log/00000000000000000004.crc</td><td>00000000000000000004.crc</td><td>4830</td><td>1739185743000</td></tr><tr><td>dbfs:/FileStore/tables/delta/arch_demo/_delta_log/00000000000000000004.json</td><td>00000000000000000004.json</td><td>1248</td><td>1739185740000</td></tr><tr><td>dbfs:/FileStore/tables/delta/arch_demo/_delta_log/00000000000000000005.crc</td><td>00000000000000000005.crc</td><td>5474</td><td>1739185756000</td></tr><tr><td>dbfs:/FileStore/tables/delta/arch_demo/_delta_log/00000000000000000005.json</td><td>00000000000000000005.json</td><td>1250</td><td>1739185754000</td></tr><tr><td>dbfs:/FileStore/tables/delta/arch_demo/_delta_log/00000000000000000006.crc</td><td>00000000000000000006.crc</td><td>4186</td><td>1739186884000</td></tr><tr><td>dbfs:/FileStore/tables/delta/arch_demo/_delta_log/00000000000000000006.json</td><td>00000000000000000006.json</td><td>1665</td><td>1739186879000</td></tr><tr><td>dbfs:/FileStore/tables/delta/arch_demo/_delta_log/00000000000000000007.crc</td><td>00000000000000000007.crc</td><td>4830</td><td>1739186940000</td></tr><tr><td>dbfs:/FileStore/tables/delta/arch_demo/_delta_log/00000000000000000007.json</td><td>00000000000000000007.json</td><td>1250</td><td>1739186938000</td></tr><tr><td>dbfs:/FileStore/tables/delta/arch_demo/_delta_log/00000000000000000008.crc</td><td>00000000000000000008.crc</td><td>5472</td><td>1739186945000</td></tr><tr><td>dbfs:/FileStore/tables/delta/arch_demo/_delta_log/00000000000000000008.json</td><td>00000000000000000008.json</td><td>1248</td><td>1739186941000</td></tr><tr><td>dbfs:/FileStore/tables/delta/arch_demo/_delta_log/00000000000000000009.crc</td><td>00000000000000000009.crc</td><td>6116</td><td>1739186948000</td></tr><tr><td>dbfs:/FileStore/tables/delta/arch_demo/_delta_log/00000000000000000009.json</td><td>00000000000000000009.json</td><td>1250</td><td>1739186946000</td></tr><tr><td>dbfs:/FileStore/tables/delta/arch_demo/_delta_log/00000000000000000010.crc</td><td>00000000000000000010.crc</td><td>6760</td><td>1739186954000</td></tr><tr><td>dbfs:/FileStore/tables/delta/arch_demo/_delta_log/00000000000000000010.json</td><td>00000000000000000010.json</td><td>1250</td><td>1739186952000</td></tr><tr><td>dbfs:/FileStore/tables/delta/arch_demo/_delta_log/00000000000000000011.crc</td><td>00000000000000000011.crc</td><td>7404</td><td>1739186958000</td></tr><tr><td>dbfs:/FileStore/tables/delta/arch_demo/_delta_log/00000000000000000011.json</td><td>00000000000000000011.json</td><td>1249</td><td>1739186955000</td></tr><tr><td>dbfs:/FileStore/tables/delta/arch_demo/_delta_log/00000000000000000012.crc</td><td>00000000000000000012.crc</td><td>8048</td><td>1739186961000</td></tr><tr><td>dbfs:/FileStore/tables/delta/arch_demo/_delta_log/00000000000000000012.json</td><td>00000000000000000012.json</td><td>1251</td><td>1739186959000</td></tr><tr><td>dbfs:/FileStore/tables/delta/arch_demo/_delta_log/_commits/</td><td>_commits/</td><td>0</td><td>0</td></tr></tbody></table></div>"
      ]
     },
     "metadata": {
      "application/vnd.databricks.v1+output": {
       "addedWidgets": {},
       "aggData": [],
       "aggError": "",
       "aggOverflow": false,
       "aggSchema": [],
       "aggSeriesLimitReached": false,
       "aggType": "",
       "arguments": {},
       "columnCustomDisplayInfos": {},
       "data": [
        [
         "dbfs:/FileStore/tables/delta/arch_demo/_delta_log/00000000000000000000.crc",
         "00000000000000000000.crc",
         2253,
         1739185230000
        ],
        [
         "dbfs:/FileStore/tables/delta/arch_demo/_delta_log/00000000000000000000.json",
         "00000000000000000000.json",
         1328,
         1739185212000
        ],
        [
         "dbfs:/FileStore/tables/delta/arch_demo/_delta_log/00000000000000000001.crc",
         "00000000000000000001.crc",
         2902,
         1739185703000
        ],
        [
         "dbfs:/FileStore/tables/delta/arch_demo/_delta_log/00000000000000000001.json",
         "00000000000000000001.json",
         1250,
         1739185698000
        ],
        [
         "dbfs:/FileStore/tables/delta/arch_demo/_delta_log/00000000000000000002.crc",
         "00000000000000000002.crc",
         3544,
         1739185708000
        ],
        [
         "dbfs:/FileStore/tables/delta/arch_demo/_delta_log/00000000000000000002.json",
         "00000000000000000002.json",
         1248,
         1739185704000
        ],
        [
         "dbfs:/FileStore/tables/delta/arch_demo/_delta_log/00000000000000000003.crc",
         "00000000000000000003.crc",
         4188,
         1739185713000
        ],
        [
         "dbfs:/FileStore/tables/delta/arch_demo/_delta_log/00000000000000000003.json",
         "00000000000000000003.json",
         1250,
         1739185709000
        ],
        [
         "dbfs:/FileStore/tables/delta/arch_demo/_delta_log/00000000000000000004.crc",
         "00000000000000000004.crc",
         4830,
         1739185743000
        ],
        [
         "dbfs:/FileStore/tables/delta/arch_demo/_delta_log/00000000000000000004.json",
         "00000000000000000004.json",
         1248,
         1739185740000
        ],
        [
         "dbfs:/FileStore/tables/delta/arch_demo/_delta_log/00000000000000000005.crc",
         "00000000000000000005.crc",
         5474,
         1739185756000
        ],
        [
         "dbfs:/FileStore/tables/delta/arch_demo/_delta_log/00000000000000000005.json",
         "00000000000000000005.json",
         1250,
         1739185754000
        ],
        [
         "dbfs:/FileStore/tables/delta/arch_demo/_delta_log/00000000000000000006.crc",
         "00000000000000000006.crc",
         4186,
         1739186884000
        ],
        [
         "dbfs:/FileStore/tables/delta/arch_demo/_delta_log/00000000000000000006.json",
         "00000000000000000006.json",
         1665,
         1739186879000
        ],
        [
         "dbfs:/FileStore/tables/delta/arch_demo/_delta_log/00000000000000000007.crc",
         "00000000000000000007.crc",
         4830,
         1739186940000
        ],
        [
         "dbfs:/FileStore/tables/delta/arch_demo/_delta_log/00000000000000000007.json",
         "00000000000000000007.json",
         1250,
         1739186938000
        ],
        [
         "dbfs:/FileStore/tables/delta/arch_demo/_delta_log/00000000000000000008.crc",
         "00000000000000000008.crc",
         5472,
         1739186945000
        ],
        [
         "dbfs:/FileStore/tables/delta/arch_demo/_delta_log/00000000000000000008.json",
         "00000000000000000008.json",
         1248,
         1739186941000
        ],
        [
         "dbfs:/FileStore/tables/delta/arch_demo/_delta_log/00000000000000000009.crc",
         "00000000000000000009.crc",
         6116,
         1739186948000
        ],
        [
         "dbfs:/FileStore/tables/delta/arch_demo/_delta_log/00000000000000000009.json",
         "00000000000000000009.json",
         1250,
         1739186946000
        ],
        [
         "dbfs:/FileStore/tables/delta/arch_demo/_delta_log/00000000000000000010.crc",
         "00000000000000000010.crc",
         6760,
         1739186954000
        ],
        [
         "dbfs:/FileStore/tables/delta/arch_demo/_delta_log/00000000000000000010.json",
         "00000000000000000010.json",
         1250,
         1739186952000
        ],
        [
         "dbfs:/FileStore/tables/delta/arch_demo/_delta_log/00000000000000000011.crc",
         "00000000000000000011.crc",
         7404,
         1739186958000
        ],
        [
         "dbfs:/FileStore/tables/delta/arch_demo/_delta_log/00000000000000000011.json",
         "00000000000000000011.json",
         1249,
         1739186955000
        ],
        [
         "dbfs:/FileStore/tables/delta/arch_demo/_delta_log/00000000000000000012.crc",
         "00000000000000000012.crc",
         8048,
         1739186961000
        ],
        [
         "dbfs:/FileStore/tables/delta/arch_demo/_delta_log/00000000000000000012.json",
         "00000000000000000012.json",
         1251,
         1739186959000
        ],
        [
         "dbfs:/FileStore/tables/delta/arch_demo/_delta_log/_commits/",
         "_commits/",
         0,
         0
        ]
       ],
       "datasetInfos": [],
       "dbfsResultPath": null,
       "isJsonSchema": true,
       "metadata": {
        "isDbfsCommandResult": false
       },
       "overflow": false,
       "plotOptions": {
        "customPlotOptions": {},
        "displayType": "table",
        "pivotAggregation": null,
        "pivotColumns": null,
        "xColumns": null,
        "yColumns": null
       },
       "removedWidgets": [],
       "schema": [
        {
         "metadata": "{}",
         "name": "path",
         "type": "\"string\""
        },
        {
         "metadata": "{}",
         "name": "name",
         "type": "\"string\""
        },
        {
         "metadata": "{}",
         "name": "size",
         "type": "\"long\""
        },
        {
         "metadata": "{}",
         "name": "modificationTime",
         "type": "\"long\""
        }
       ],
       "type": "table"
      }
     },
     "output_type": "display_data"
    }
   ],
   "source": [
    "%fs\n",
    "ls /FileStore/tables/delta/arch_demo/_delta_log "
   ]
  },
  {
   "cell_type": "code",
   "execution_count": 0,
   "metadata": {
    "application/vnd.databricks.v1+cell": {
     "cellMetadata": {
      "byteLimit": 2048000,
      "rowLimit": 10000
     },
     "inputWidgets": {},
     "nuid": "e3ad892b-6f3d-4aac-bfb8-15cacbd7b1da",
     "showTitle": false,
     "tableResultSettingsMap": {},
     "title": ""
    }
   },
   "outputs": [
    {
     "output_type": "display_data",
     "data": {
      "text/html": [
       "<style scoped>\n",
       "  .ansiout {\n",
       "    display: block;\n",
       "    unicode-bidi: embed;\n",
       "    white-space: pre-wrap;\n",
       "    word-wrap: break-word;\n",
       "    word-break: break-all;\n",
       "    font-family: \"Menlo\", \"Monaco\", \"Consolas\", \"Ubuntu Mono\", \"Source Code Pro\", monospace;\n",
       "    font-size: 13px;\n",
       "    color: #555;\n",
       "    margin-left: 4px;\n",
       "    line-height: 19px;\n",
       "  }\n",
       "</style>\n",
       "<div class=\"ansiout\">{&quot;commitInfo&quot;:{&quot;timestamp&quot;:1739185209839,&quot;userId&quot;:&quot;4991788245327114&quot;,&quot;userName&quot;:&quot;pradeep114843@gmail.com&quot;,&quot;operation&quot;:&quot;CREATE TABLE&quot;,&quot;operationParameters&quot;:{&quot;partitionBy&quot;:&quot;[]&quot;,&quot;clusterBy&quot;:&quot;[]&quot;,&quot;description&quot;:null,&quot;isManaged&quot;:&quot;false&quot;,&quot;properties&quot;:&quot;{\\&quot;description\\&quot;:\\&quot;table created for demo purpose\\&quot;}&quot;,&quot;statsOnLoad&quot;:false},&quot;notebook&quot;:{&quot;notebookId&quot;:&quot;684219324114221&quot;},&quot;clusterId&quot;:&quot;0210-105122-sb0t2cer&quot;,&quot;isolationLevel&quot;:&quot;WriteSerializable&quot;,&quot;isBlindAppend&quot;:true,&quot;operationMetrics&quot;:{},&quot;tags&quot;:{&quot;restoresDeletedRows&quot;:&quot;false&quot;},&quot;engineInfo&quot;:&quot;Databricks-Runtime/15.4.x-scala2.12&quot;,&quot;txnId&quot;:&quot;248ccc4d-3b8d-4048-8b36-e5b884fa33ce&quot;}}\n",
       "{&quot;metaData&quot;:{&quot;id&quot;:&quot;5a3803a7-99d8-4dd2-ab45-5a57d6b4df61&quot;,&quot;format&quot;:{&quot;provider&quot;:&quot;parquet&quot;,&quot;options&quot;:{}},&quot;schemaString&quot;:&quot;{\\&quot;type\\&quot;:\\&quot;struct\\&quot;,\\&quot;fields\\&quot;:[{\\&quot;name\\&quot;:\\&quot;emp_id\\&quot;,\\&quot;type\\&quot;:\\&quot;integer\\&quot;,\\&quot;nullable\\&quot;:true,\\&quot;metadata\\&quot;:{}},{\\&quot;name\\&quot;:\\&quot;emp_name\\&quot;,\\&quot;type\\&quot;:\\&quot;string\\&quot;,\\&quot;nullable\\&quot;:true,\\&quot;metadata\\&quot;:{}},{\\&quot;name\\&quot;:\\&quot;gender\\&quot;,\\&quot;type\\&quot;:\\&quot;string\\&quot;,\\&quot;nullable\\&quot;:true,\\&quot;metadata\\&quot;:{}},{\\&quot;name\\&quot;:\\&quot;salary\\&quot;,\\&quot;type\\&quot;:\\&quot;integer\\&quot;,\\&quot;nullable\\&quot;:true,\\&quot;metadata\\&quot;:{}},{\\&quot;name\\&quot;:\\&quot;dept\\&quot;,\\&quot;type\\&quot;:\\&quot;string\\&quot;,\\&quot;nullable\\&quot;:true,\\&quot;metadata\\&quot;:{}}]}&quot;,&quot;partitionColumns&quot;:[],&quot;configuration&quot;:{&quot;description&quot;:&quot;table created for demo purpose&quot;},&quot;createdTime&quot;:1739185208525}}\n",
       "{&quot;protocol&quot;:{&quot;minReaderVersion&quot;:1,&quot;minWriterVersion&quot;:2}}\n",
       "</div>"
      ]
     },
     "metadata": {
      "application/vnd.databricks.v1+output": {
       "addedWidgets": {},
       "arguments": {},
       "data": "<div class=\"ansiout\">{&quot;commitInfo&quot;:{&quot;timestamp&quot;:1739185209839,&quot;userId&quot;:&quot;4991788245327114&quot;,&quot;userName&quot;:&quot;pradeep114843@gmail.com&quot;,&quot;operation&quot;:&quot;CREATE TABLE&quot;,&quot;operationParameters&quot;:{&quot;partitionBy&quot;:&quot;[]&quot;,&quot;clusterBy&quot;:&quot;[]&quot;,&quot;description&quot;:null,&quot;isManaged&quot;:&quot;false&quot;,&quot;properties&quot;:&quot;{\\&quot;description\\&quot;:\\&quot;table created for demo purpose\\&quot;}&quot;,&quot;statsOnLoad&quot;:false},&quot;notebook&quot;:{&quot;notebookId&quot;:&quot;684219324114221&quot;},&quot;clusterId&quot;:&quot;0210-105122-sb0t2cer&quot;,&quot;isolationLevel&quot;:&quot;WriteSerializable&quot;,&quot;isBlindAppend&quot;:true,&quot;operationMetrics&quot;:{},&quot;tags&quot;:{&quot;restoresDeletedRows&quot;:&quot;false&quot;},&quot;engineInfo&quot;:&quot;Databricks-Runtime/15.4.x-scala2.12&quot;,&quot;txnId&quot;:&quot;248ccc4d-3b8d-4048-8b36-e5b884fa33ce&quot;}}\n{&quot;metaData&quot;:{&quot;id&quot;:&quot;5a3803a7-99d8-4dd2-ab45-5a57d6b4df61&quot;,&quot;format&quot;:{&quot;provider&quot;:&quot;parquet&quot;,&quot;options&quot;:{}},&quot;schemaString&quot;:&quot;{\\&quot;type\\&quot;:\\&quot;struct\\&quot;,\\&quot;fields\\&quot;:[{\\&quot;name\\&quot;:\\&quot;emp_id\\&quot;,\\&quot;type\\&quot;:\\&quot;integer\\&quot;,\\&quot;nullable\\&quot;:true,\\&quot;metadata\\&quot;:{}},{\\&quot;name\\&quot;:\\&quot;emp_name\\&quot;,\\&quot;type\\&quot;:\\&quot;string\\&quot;,\\&quot;nullable\\&quot;:true,\\&quot;metadata\\&quot;:{}},{\\&quot;name\\&quot;:\\&quot;gender\\&quot;,\\&quot;type\\&quot;:\\&quot;string\\&quot;,\\&quot;nullable\\&quot;:true,\\&quot;metadata\\&quot;:{}},{\\&quot;name\\&quot;:\\&quot;salary\\&quot;,\\&quot;type\\&quot;:\\&quot;integer\\&quot;,\\&quot;nullable\\&quot;:true,\\&quot;metadata\\&quot;:{}},{\\&quot;name\\&quot;:\\&quot;dept\\&quot;,\\&quot;type\\&quot;:\\&quot;string\\&quot;,\\&quot;nullable\\&quot;:true,\\&quot;metadata\\&quot;:{}}]}&quot;,&quot;partitionColumns&quot;:[],&quot;configuration&quot;:{&quot;description&quot;:&quot;table created for demo purpose&quot;},&quot;createdTime&quot;:1739185208525}}\n{&quot;protocol&quot;:{&quot;minReaderVersion&quot;:1,&quot;minWriterVersion&quot;:2}}\n</div>",
       "datasetInfos": [],
       "metadata": {
        "isDbfsCommandResult": false
       },
       "removedWidgets": [],
       "type": "html"
      }
     },
     "output_type": "display_data"
    }
   ],
   "source": [
    "%fs\n",
    "head /FileStore/tables/delta/arch_demo/_delta_log/00000000000000000000.json"
   ]
  },
  {
   "cell_type": "code",
   "execution_count": 0,
   "metadata": {
    "application/vnd.databricks.v1+cell": {
     "cellMetadata": {
      "byteLimit": 2048000,
      "implicitDf": true,
      "rowLimit": 10000
     },
     "inputWidgets": {},
     "nuid": "1844ec35-dace-482a-bc80-fa2bb4515af1",
     "showTitle": false,
     "tableResultSettingsMap": {},
     "title": ""
    }
   },
   "outputs": [
    {
     "output_type": "display_data",
     "data": {
      "text/html": [
       "<style scoped>\n",
       "  .table-result-container {\n",
       "    max-height: 300px;\n",
       "    overflow: auto;\n",
       "  }\n",
       "  table, th, td {\n",
       "    border: 1px solid black;\n",
       "    border-collapse: collapse;\n",
       "  }\n",
       "  th, td {\n",
       "    padding: 5px;\n",
       "  }\n",
       "  th {\n",
       "    text-align: left;\n",
       "  }\n",
       "</style><div class='table-result-container'><table class='table-result'><thead style='background-color: white'><tr><th>emp_id</th><th>emp_name</th><th>gender</th><th>salary</th><th>dept</th></tr></thead><tbody><tr><td>300</td><td>Lara</td><td>F</td><td>6000</td><td>Sales</td></tr><tr><td>300</td><td>Lara</td><td>F</td><td>6000</td><td>Sales</td></tr><tr><td>100</td><td>stephen</td><td>M</td><td>2000</td><td>IT</td></tr><tr><td>100</td><td>stephen</td><td>M</td><td>2000</td><td>IT</td></tr><tr><td>100</td><td>stephen</td><td>M</td><td>2000</td><td>IT</td></tr><tr><td>200</td><td>philip</td><td>M</td><td>8000</td><td>HR</td></tr><tr><td>200</td><td>philip</td><td>M</td><td>8000</td><td>HR</td></tr><tr><td>200</td><td>philip</td><td>M</td><td>8000</td><td>HR</td></tr><tr><td>200</td><td>philip</td><td>M</td><td>8000</td><td>HR</td></tr></tbody></table></div>"
      ]
     },
     "metadata": {
      "application/vnd.databricks.v1+output": {
       "addedWidgets": {},
       "aggData": [],
       "aggError": "",
       "aggOverflow": false,
       "aggSchema": [],
       "aggSeriesLimitReached": false,
       "aggType": "",
       "arguments": {},
       "columnCustomDisplayInfos": {},
       "data": [
        [
         300,
         "Lara",
         "F",
         6000,
         "Sales"
        ],
        [
         300,
         "Lara",
         "F",
         6000,
         "Sales"
        ],
        [
         100,
         "stephen",
         "M",
         2000,
         "IT"
        ],
        [
         100,
         "stephen",
         "M",
         2000,
         "IT"
        ],
        [
         100,
         "stephen",
         "M",
         2000,
         "IT"
        ],
        [
         200,
         "philip",
         "M",
         8000,
         "HR"
        ],
        [
         200,
         "philip",
         "M",
         8000,
         "HR"
        ],
        [
         200,
         "philip",
         "M",
         8000,
         "HR"
        ],
        [
         200,
         "philip",
         "M",
         8000,
         "HR"
        ]
       ],
       "datasetInfos": [],
       "dbfsResultPath": null,
       "isJsonSchema": true,
       "metadata": {
        "createTempViewForImplicitDf": true,
        "dataframeName": "_sqldf",
        "executionCount": 2
       },
       "overflow": false,
       "plotOptions": {
        "customPlotOptions": {},
        "displayType": "table",
        "pivotAggregation": null,
        "pivotColumns": null,
        "xColumns": null,
        "yColumns": null
       },
       "removedWidgets": [],
       "schema": [
        {
         "metadata": "{}",
         "name": "emp_id",
         "type": "\"integer\""
        },
        {
         "metadata": "{}",
         "name": "emp_name",
         "type": "\"string\""
        },
        {
         "metadata": "{}",
         "name": "gender",
         "type": "\"string\""
        },
        {
         "metadata": "{}",
         "name": "salary",
         "type": "\"integer\""
        },
        {
         "metadata": "{}",
         "name": "dept",
         "type": "\"string\""
        }
       ],
       "type": "table"
      }
     },
     "output_type": "display_data"
    }
   ],
   "source": [
    "%sql\n",
    "select * from delta_internal_demo"
   ]
  },
  {
   "cell_type": "code",
   "execution_count": 0,
   "metadata": {
    "application/vnd.databricks.v1+cell": {
     "cellMetadata": {
      "byteLimit": 2048000,
      "implicitDf": true,
      "rowLimit": 10000
     },
     "inputWidgets": {},
     "nuid": "cba6ce21-069c-4bc6-aeb5-a86fd4c34800",
     "showTitle": false,
     "tableResultSettingsMap": {},
     "title": ""
    }
   },
   "outputs": [
    {
     "output_type": "display_data",
     "data": {
      "text/html": [
       "<style scoped>\n",
       "  .table-result-container {\n",
       "    max-height: 300px;\n",
       "    overflow: auto;\n",
       "  }\n",
       "  table, th, td {\n",
       "    border: 1px solid black;\n",
       "    border-collapse: collapse;\n",
       "  }\n",
       "  th, td {\n",
       "    padding: 5px;\n",
       "  }\n",
       "  th {\n",
       "    text-align: left;\n",
       "  }\n",
       "</style><div class='table-result-container'><table class='table-result'><thead style='background-color: white'><tr><th>num_affected_rows</th><th>num_inserted_rows</th></tr></thead><tbody><tr><td>1</td><td>1</td></tr></tbody></table></div>"
      ]
     },
     "metadata": {
      "application/vnd.databricks.v1+output": {
       "addedWidgets": {},
       "aggData": [],
       "aggError": "",
       "aggOverflow": false,
       "aggSchema": [],
       "aggSeriesLimitReached": false,
       "aggType": "",
       "arguments": {},
       "columnCustomDisplayInfos": {},
       "data": [
        [
         1,
         1
        ]
       ],
       "datasetInfos": [],
       "dbfsResultPath": null,
       "isJsonSchema": true,
       "metadata": {
        "createTempViewForImplicitDf": true,
        "dataframeName": "_sqldf",
        "executionCount": 11
       },
       "overflow": false,
       "plotOptions": {
        "customPlotOptions": {},
        "displayType": "table",
        "pivotAggregation": null,
        "pivotColumns": null,
        "xColumns": null,
        "yColumns": null
       },
       "removedWidgets": [],
       "schema": [
        {
         "metadata": "{}",
         "name": "num_affected_rows",
         "type": "\"long\""
        },
        {
         "metadata": "{}",
         "name": "num_inserted_rows",
         "type": "\"long\""
        }
       ],
       "type": "table"
      }
     },
     "output_type": "display_data"
    }
   ],
   "source": [
    "%sql\n",
    "insert into delta_internal_demo values(100,'stephen','M',2000,'IT');\n",
    "insert into delta_internal_demo values(200,'philip','M',8000,'HR');\n",
    "insert into delta_internal_demo values(300,'Lara','F',6000,'Sales');"
   ]
  },
  {
   "cell_type": "code",
   "execution_count": 0,
   "metadata": {
    "application/vnd.databricks.v1+cell": {
     "cellMetadata": {
      "byteLimit": 2048000,
      "implicitDf": true,
      "rowLimit": 10000
     },
     "inputWidgets": {},
     "nuid": "fb938e51-a873-4a8b-88ab-e084086ab7fc",
     "showTitle": false,
     "tableResultSettingsMap": {},
     "title": ""
    }
   },
   "outputs": [
    {
     "output_type": "display_data",
     "data": {
      "text/html": [
       "<style scoped>\n",
       "  .table-result-container {\n",
       "    max-height: 300px;\n",
       "    overflow: auto;\n",
       "  }\n",
       "  table, th, td {\n",
       "    border: 1px solid black;\n",
       "    border-collapse: collapse;\n",
       "  }\n",
       "  th, td {\n",
       "    padding: 5px;\n",
       "  }\n",
       "  th {\n",
       "    text-align: left;\n",
       "  }\n",
       "</style><div class='table-result-container'><table class='table-result'><thead style='background-color: white'><tr><th>num_affected_rows</th></tr></thead><tbody><tr><td>2</td></tr></tbody></table></div>"
      ]
     },
     "metadata": {
      "application/vnd.databricks.v1+output": {
       "addedWidgets": {},
       "aggData": [],
       "aggError": "",
       "aggOverflow": false,
       "aggSchema": [],
       "aggSeriesLimitReached": false,
       "aggType": "",
       "arguments": {},
       "columnCustomDisplayInfos": {},
       "data": [
        [
         2
        ]
       ],
       "datasetInfos": [],
       "dbfsResultPath": null,
       "isJsonSchema": true,
       "metadata": {
        "createTempViewForImplicitDf": true,
        "dataframeName": "_sqldf",
        "executionCount": 9
       },
       "overflow": false,
       "plotOptions": {
        "customPlotOptions": {},
        "displayType": "table",
        "pivotAggregation": null,
        "pivotColumns": null,
        "xColumns": null,
        "yColumns": null
       },
       "removedWidgets": [],
       "schema": [
        {
         "metadata": "{}",
         "name": "num_affected_rows",
         "type": "\"long\""
        }
       ],
       "type": "table"
      }
     },
     "output_type": "display_data"
    }
   ],
   "source": [
    "%sql\n",
    "\n",
    "delete from delta_internal_demo where emp_id=300"
   ]
  },
  {
   "cell_type": "code",
   "execution_count": 0,
   "metadata": {
    "application/vnd.databricks.v1+cell": {
     "cellMetadata": {
      "byteLimit": 2048000,
      "rowLimit": 10000
     },
     "inputWidgets": {},
     "nuid": "43dac0fd-4933-4574-8691-f08f65517bd1",
     "showTitle": false,
     "tableResultSettingsMap": {},
     "title": ""
    }
   },
   "outputs": [
    {
     "output_type": "execute_result",
     "data": {
      "text/plain": [
       "<delta.tables.DeltaTable at 0x7f72a958fa90>"
      ]
     },
     "execution_count": 1,
     "metadata": {},
     "output_type": "execute_result"
    }
   ],
   "source": [
    "from delta.tables import *\n",
    "\n",
    "DeltaTable.createIfNotExists(spark)\\\n",
    "    .tableName('delta_internal_demo')\\\n",
    "        .addColumn('emp_id','INT')\\\n",
    "            .addColumn('emp_name','STRING')\\\n",
    "                .addColumn('gender','STRING')\\\n",
    "                    .addColumn('salary','INT')\\\n",
    "                        .addColumn('dept','STRING')\\\n",
    "                            .property('description', 'table created for demo purpose')\\\n",
    "                                .location('/FileStore/tables/delta/arch_demo')\\\n",
    "                                     .execute()"
   ]
  },
  {
   "cell_type": "code",
   "execution_count": 0,
   "metadata": {
    "application/vnd.databricks.v1+cell": {
     "cellMetadata": {},
     "inputWidgets": {},
     "nuid": "6cef8c61-a0cb-49dd-9b7d-65c92311d97f",
     "showTitle": false,
     "tableResultSettingsMap": {},
     "title": ""
    }
   },
   "outputs": [],
   "source": [
    "DeltaTable.createOrReplace(spark)\\\n",
    "    .tableName('delta_internal_demo')\\\n",
    "        .addColumn('emp_id','INT')\\\n",
    "            .addColumn('emp_name','STRING')\\\n",
    "                .addColumn('gender','STRING')\\\n",
    "                    .addColumn('salary','INT')\\\n",
    "                        .addColumn('dept','STRING')\\\n",
    "                            .property('description', 'table created for demo purpose')\\\n",
    "                                .location('/FileStore/tables/delta/arch_demo')\\\n",
    "                                     .execute()"
   ]
  },
  {
   "cell_type": "code",
   "execution_count": 0,
   "metadata": {
    "application/vnd.databricks.v1+cell": {
     "cellMetadata": {
      "byteLimit": 2048000,
      "implicitDf": true,
      "rowLimit": 10000
     },
     "inputWidgets": {},
     "nuid": "939ca5a5-1bf1-443b-9afd-d5ab036432c9",
     "showTitle": false,
     "tableResultSettingsMap": {},
     "title": ""
    }
   },
   "outputs": [
    {
     "output_type": "display_data",
     "data": {
      "text/html": [
       "<style scoped>\n",
       "  .table-result-container {\n",
       "    max-height: 300px;\n",
       "    overflow: auto;\n",
       "  }\n",
       "  table, th, td {\n",
       "    border: 1px solid black;\n",
       "    border-collapse: collapse;\n",
       "  }\n",
       "  th, td {\n",
       "    padding: 5px;\n",
       "  }\n",
       "  th {\n",
       "    text-align: left;\n",
       "  }\n",
       "</style><div class='table-result-container'><table class='table-result'><thead style='background-color: white'><tr></tr></thead><tbody></tbody></table></div>"
      ]
     },
     "metadata": {
      "application/vnd.databricks.v1+output": {
       "addedWidgets": {},
       "aggData": [],
       "aggError": "",
       "aggOverflow": false,
       "aggSchema": [],
       "aggSeriesLimitReached": false,
       "aggType": "",
       "arguments": {},
       "columnCustomDisplayInfos": {},
       "data": [],
       "datasetInfos": [],
       "dbfsResultPath": null,
       "isJsonSchema": true,
       "metadata": {
        "dataframeName": null
       },
       "overflow": false,
       "plotOptions": {
        "customPlotOptions": {},
        "displayType": "table",
        "pivotAggregation": null,
        "pivotColumns": null,
        "xColumns": null,
        "yColumns": null
       },
       "removedWidgets": [],
       "schema": [],
       "type": "table"
      }
     },
     "output_type": "display_data"
    }
   ],
   "source": [
    "%sql\n",
    "Create table employee_demo(\n",
    "  emp_id int,\n",
    "  emp_name string,\n",
    "  salary int,\n",
    "  dept string\n",
    ")using delta"
   ]
  },
  {
   "cell_type": "code",
   "execution_count": 0,
   "metadata": {
    "application/vnd.databricks.v1+cell": {
     "cellMetadata": {},
     "inputWidgets": {},
     "nuid": "0b70955c-b5ef-4628-b47b-530368d1a8be",
     "showTitle": false,
     "tableResultSettingsMap": {},
     "title": ""
    }
   },
   "outputs": [],
   "source": [
    "%sql\n",
    "Create table if not exists employee_demo(\n",
    "  emp_id int,\n",
    "  emp_name string,\n",
    "  salary int,\n",
    "  dept string\n",
    ")using delta"
   ]
  },
  {
   "cell_type": "code",
   "execution_count": 0,
   "metadata": {
    "application/vnd.databricks.v1+cell": {
     "cellMetadata": {
      "byteLimit": 2048000,
      "implicitDf": true,
      "rowLimit": 10000
     },
     "inputWidgets": {},
     "nuid": "f546a9a8-b008-4406-b754-001319ee16c8",
     "showTitle": false,
     "tableResultSettingsMap": {},
     "title": ""
    }
   },
   "outputs": [
    {
     "output_type": "display_data",
     "data": {
      "text/html": [
       "<style scoped>\n",
       "  .table-result-container {\n",
       "    max-height: 300px;\n",
       "    overflow: auto;\n",
       "  }\n",
       "  table, th, td {\n",
       "    border: 1px solid black;\n",
       "    border-collapse: collapse;\n",
       "  }\n",
       "  th, td {\n",
       "    padding: 5px;\n",
       "  }\n",
       "  th {\n",
       "    text-align: left;\n",
       "  }\n",
       "</style><div class='table-result-container'><table class='table-result'><thead style='background-color: white'><tr></tr></thead><tbody></tbody></table></div>"
      ]
     },
     "metadata": {
      "application/vnd.databricks.v1+output": {
       "addedWidgets": {},
       "aggData": [],
       "aggError": "",
       "aggOverflow": false,
       "aggSchema": [],
       "aggSeriesLimitReached": false,
       "aggType": "",
       "arguments": {},
       "columnCustomDisplayInfos": {},
       "data": [],
       "datasetInfos": [],
       "dbfsResultPath": null,
       "isJsonSchema": true,
       "metadata": {
        "dataframeName": null
       },
       "overflow": false,
       "plotOptions": {
        "customPlotOptions": {},
        "displayType": "table",
        "pivotAggregation": null,
        "pivotColumns": null,
        "xColumns": null,
        "yColumns": null
       },
       "removedWidgets": [],
       "schema": [],
       "type": "table"
      }
     },
     "output_type": "display_data"
    }
   ],
   "source": [
    "%sql\n",
    "Create or replace table my_database.employee_demo(\n",
    "  emp_id int,\n",
    "  emp_name string,\n",
    "  salary int,\n",
    "  dept string\n",
    ")using delta\n",
    "location '/FileStore/tables/del/'"
   ]
  },
  {
   "cell_type": "code",
   "execution_count": 0,
   "metadata": {
    "application/vnd.databricks.v1+cell": {
     "cellMetadata": {
      "byteLimit": 2048000,
      "implicitDf": true,
      "rowLimit": 10000
     },
     "inputWidgets": {},
     "nuid": "601fcf5d-1294-4073-bc88-63284ad46c52",
     "showTitle": false,
     "tableResultSettingsMap": {},
     "title": ""
    }
   },
   "outputs": [
    {
     "output_type": "display_data",
     "data": {
      "text/html": [
       "<style scoped>\n",
       "  .table-result-container {\n",
       "    max-height: 300px;\n",
       "    overflow: auto;\n",
       "  }\n",
       "  table, th, td {\n",
       "    border: 1px solid black;\n",
       "    border-collapse: collapse;\n",
       "  }\n",
       "  th, td {\n",
       "    padding: 5px;\n",
       "  }\n",
       "  th {\n",
       "    text-align: left;\n",
       "  }\n",
       "</style><div class='table-result-container'><table class='table-result'><thead style='background-color: white'><tr><th>emp_id</th><th>emp_name</th><th>salary</th><th>dept</th></tr></thead><tbody></tbody></table></div>"
      ]
     },
     "metadata": {
      "application/vnd.databricks.v1+output": {
       "addedWidgets": {},
       "aggData": [],
       "aggError": "",
       "aggOverflow": false,
       "aggSchema": [],
       "aggSeriesLimitReached": false,
       "aggType": "",
       "arguments": {},
       "columnCustomDisplayInfos": {},
       "data": [],
       "datasetInfos": [],
       "dbfsResultPath": null,
       "isJsonSchema": true,
       "metadata": {
        "createTempViewForImplicitDf": true,
        "dataframeName": "_sqldf",
        "executionCount": 3
       },
       "overflow": false,
       "plotOptions": {
        "customPlotOptions": {},
        "displayType": "table",
        "pivotAggregation": null,
        "pivotColumns": null,
        "xColumns": null,
        "yColumns": null
       },
       "removedWidgets": [],
       "schema": [
        {
         "metadata": "{}",
         "name": "emp_id",
         "type": "\"integer\""
        },
        {
         "metadata": "{}",
         "name": "emp_name",
         "type": "\"string\""
        },
        {
         "metadata": "{}",
         "name": "salary",
         "type": "\"integer\""
        },
        {
         "metadata": "{}",
         "name": "dept",
         "type": "\"string\""
        }
       ],
       "type": "table"
      }
     },
     "output_type": "display_data"
    }
   ],
   "source": [
    "%sql\n",
    "select * from employee_demo"
   ]
  },
  {
   "cell_type": "code",
   "execution_count": 0,
   "metadata": {
    "application/vnd.databricks.v1+cell": {
     "cellMetadata": {
      "byteLimit": 2048000,
      "implicitDf": true,
      "rowLimit": 10000
     },
     "inputWidgets": {},
     "nuid": "429a3446-d19a-42dc-834b-ad6a934ceb99",
     "showTitle": false,
     "tableResultSettingsMap": {},
     "title": ""
    }
   },
   "outputs": [
    {
     "output_type": "display_data",
     "data": {
      "text/html": [
       "<style scoped>\n",
       "  .table-result-container {\n",
       "    max-height: 300px;\n",
       "    overflow: auto;\n",
       "  }\n",
       "  table, th, td {\n",
       "    border: 1px solid black;\n",
       "    border-collapse: collapse;\n",
       "  }\n",
       "  th, td {\n",
       "    padding: 5px;\n",
       "  }\n",
       "  th {\n",
       "    text-align: left;\n",
       "  }\n",
       "</style><div class='table-result-container'><table class='table-result'><thead style='background-color: white'><tr></tr></thead><tbody></tbody></table></div>"
      ]
     },
     "metadata": {
      "application/vnd.databricks.v1+output": {
       "addedWidgets": {},
       "aggData": [],
       "aggError": "",
       "aggOverflow": false,
       "aggSchema": [],
       "aggSeriesLimitReached": false,
       "aggType": "",
       "arguments": {},
       "columnCustomDisplayInfos": {},
       "data": [],
       "datasetInfos": [],
       "dbfsResultPath": null,
       "isJsonSchema": true,
       "metadata": {
        "dataframeName": null
       },
       "overflow": false,
       "plotOptions": {
        "customPlotOptions": {},
        "displayType": "table",
        "pivotAggregation": null,
        "pivotColumns": null,
        "xColumns": null,
        "yColumns": null
       },
       "removedWidgets": [],
       "schema": [],
       "type": "table"
      }
     },
     "output_type": "display_data"
    }
   ],
   "source": [
    "%sql\n",
    "CREATE DATABASE my_database;"
   ]
  },
  {
   "cell_type": "code",
   "execution_count": 0,
   "metadata": {
    "application/vnd.databricks.v1+cell": {
     "cellMetadata": {
      "byteLimit": 2048000,
      "rowLimit": 10000
     },
     "inputWidgets": {},
     "nuid": "70d18a1f-179d-498f-a7ca-5253fbb7780e",
     "showTitle": false,
     "tableResultSettingsMap": {},
     "title": ""
    }
   },
   "outputs": [
    {
     "output_type": "display_data",
     "data": {
      "text/html": [
       "<style scoped>\n",
       "  .table-result-container {\n",
       "    max-height: 300px;\n",
       "    overflow: auto;\n",
       "  }\n",
       "  table, th, td {\n",
       "    border: 1px solid black;\n",
       "    border-collapse: collapse;\n",
       "  }\n",
       "  th, td {\n",
       "    padding: 5px;\n",
       "  }\n",
       "  th {\n",
       "    text-align: left;\n",
       "  }\n",
       "</style><div class='table-result-container'><table class='table-result'><thead style='background-color: white'><tr><th>emp_id</th><th>emp_name</th><th>gender</th><th>salary</th><th>dept</th></tr></thead><tbody><tr><td>100</td><td>Stephen</td><td>M</td><td>2000</td><td>IT</td></tr><tr><td>200</td><td>Philipp</td><td>M</td><td>8000</td><td>HR</td></tr><tr><td>300</td><td>Lara</td><td>F</td><td>6000</td><td>Sales</td></tr></tbody></table></div>"
      ]
     },
     "metadata": {
      "application/vnd.databricks.v1+output": {
       "addedWidgets": {},
       "aggData": [],
       "aggError": "",
       "aggOverflow": false,
       "aggSchema": [],
       "aggSeriesLimitReached": false,
       "aggType": "",
       "arguments": {},
       "columnCustomDisplayInfos": {},
       "data": [
        [
         100,
         "Stephen",
         "M",
         2000,
         "IT"
        ],
        [
         200,
         "Philipp",
         "M",
         8000,
         "HR"
        ],
        [
         300,
         "Lara",
         "F",
         6000,
         "Sales"
        ]
       ],
       "datasetInfos": [],
       "dbfsResultPath": null,
       "isJsonSchema": true,
       "metadata": {},
       "overflow": false,
       "plotOptions": {
        "customPlotOptions": {},
        "displayType": "table",
        "pivotAggregation": null,
        "pivotColumns": null,
        "xColumns": null,
        "yColumns": null
       },
       "removedWidgets": [],
       "schema": [
        {
         "metadata": "{}",
         "name": "emp_id",
         "type": "\"long\""
        },
        {
         "metadata": "{}",
         "name": "emp_name",
         "type": "\"string\""
        },
        {
         "metadata": "{}",
         "name": "gender",
         "type": "\"string\""
        },
        {
         "metadata": "{}",
         "name": "salary",
         "type": "\"long\""
        },
        {
         "metadata": "{}",
         "name": "dept",
         "type": "\"string\""
        }
       ],
       "type": "table"
      }
     },
     "output_type": "display_data"
    }
   ],
   "source": [
    "employee_data=[(100,'Stephen','M',2000,'IT'),\n",
    "               (200,'Philipp','M',8000,'HR'),\n",
    "               (300,'Lara','F',6000,'Sales')]\n",
    "df=spark.createDataFrame(data=employee_data,schema=['emp_id','emp_name','gender','salary','dept'])\n",
    "display(df)"
   ]
  },
  {
   "cell_type": "code",
   "execution_count": 0,
   "metadata": {
    "application/vnd.databricks.v1+cell": {
     "cellMetadata": {
      "byteLimit": 2048000,
      "rowLimit": 10000
     },
     "inputWidgets": {},
     "nuid": "07ba09f0-f12a-42e5-ab98-8dcb33cc8e42",
     "showTitle": false,
     "tableResultSettingsMap": {},
     "title": ""
    }
   },
   "outputs": [],
   "source": [
    "df.write.format('delta').saveAsTable('my_database.employee_demo1')"
   ]
  }
 ],
 "metadata": {
  "application/vnd.databricks.v1+notebook": {
   "computePreferences": null,
   "dashboards": [],
   "environmentMetadata": {
    "base_environment": "",
    "client": "1"
   },
   "language": "python",
   "notebookMetadata": {
    "mostRecentlyExecutedCommandWithImplicitDF": {
     "commandId": 2051112862993759,
     "dataframes": [
      "_sqldf"
     ]
    },
    "pythonIndentUnit": 4
   },
   "notebookName": "Delta live table",
   "widgets": {}
  }
 },
 "nbformat": 4,
 "nbformat_minor": 0
}
