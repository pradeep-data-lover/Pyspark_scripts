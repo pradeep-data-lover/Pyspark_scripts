{
 "cells": [
  {
   "cell_type": "code",
   "execution_count": 0,
   "metadata": {
    "application/vnd.databricks.v1+cell": {
     "cellMetadata": {},
     "inputWidgets": {},
     "nuid": "c6f935e9-789d-49bd-b17d-6175be312ed7",
     "showTitle": false,
     "tableResultSettingsMap": {},
     "title": ""
    }
   },
   "outputs": [],
   "source": [
    "adlsaccount=dbutils.secrets.get(scope=\"key vault secret name\",key=\"adls name\")\n",
    "adlskey=dbutils.secrets.get(scope=\"key vault secret name\",key=\"adls access key\")\n",
    "spark.conf.set(\"fs.azure.account.key.\"+adlsaccount+\"blob.core.windows.net\",adlskey)  \n",
    "spark.conf.set(\"fs.azure.account.key.\"+adlsaccount+\"dfs.core.windows.net\",adlskey)           "
   ]
  },
  {
   "cell_type": "code",
   "execution_count": 0,
   "metadata": {
    "application/vnd.databricks.v1+cell": {
     "cellMetadata": {},
     "inputWidgets": {},
     "nuid": "4ee9ae8b-91c0-4b67-addd-5d4a7941b623",
     "showTitle": false,
     "tableResultSettingsMap": {},
     "title": ""
    }
   },
   "outputs": [],
   "source": [
    "df=spark.readstream.format(\"cloudFiles\").option(\"cloudFiles.format\",\"json\").load(location)"
   ]
  },
  {
   "cell_type": "code",
   "execution_count": 0,
   "metadata": {
    "application/vnd.databricks.v1+cell": {
     "cellMetadata": {},
     "inputWidgets": {},
     "nuid": "a9e36616-ca9a-410c-bfca-880efa495a3f",
     "showTitle": false,
     "tableResultSettingsMap": {},
     "title": ""
    }
   },
   "outputs": [],
   "source": [
    "df=spark.readstream.format(\"cloudFiles\").option(\"cloudFiles.format\",\"json\").schema(user_schema_).load(location)"
   ]
  },
  {
   "cell_type": "code",
   "execution_count": 0,
   "metadata": {
    "application/vnd.databricks.v1+cell": {
     "cellMetadata": {},
     "inputWidgets": {},
     "nuid": "ac54e210-88ef-4cd8-b364-20e03d7506c2",
     "showTitle": false,
     "tableResultSettingsMap": {},
     "title": ""
    }
   },
   "outputs": [],
   "source": [
    "df=spark.readstream.format(\"cloudFiles\").option(\"cloudFiles.format\",\"json\")\n",
    ".option(\"cloudFiles.schemaLocation\",\"/mnt/data/inferred_schema\")\n",
    ".option(\"cloudFiles.inferColumnTypes\",True)\n",
    ".load(location)"
   ]
  },
  {
   "cell_type": "code",
   "execution_count": 0,
   "metadata": {
    "application/vnd.databricks.v1+cell": {
     "cellMetadata": {},
     "inputWidgets": {},
     "nuid": "bb684075-d724-491b-892c-65dff9d5ffba",
     "showTitle": false,
     "tableResultSettingsMap": {},
     "title": ""
    }
   },
   "outputs": [],
   "source": [
    "df=spark.readstream.format(\"cloudFiles\").option(\"cloudFiles.format\",\"json\")\n",
    ".option(\"cloudFiles.schemaLocation\",\"/mnt/data/inferred_schema\")\n",
    ".option(\"cloudFiles.inferColumnTypes\",True)\n",
    ".option(\"cloudFiles.schemaHints\",\"emp_id bigint\")\n",
    ".load(location)"
   ]
  },
  {
   "cell_type": "code",
   "execution_count": 0,
   "metadata": {
    "application/vnd.databricks.v1+cell": {
     "cellMetadata": {},
     "inputWidgets": {},
     "nuid": "af494f7a-4321-4bb4-8577-b0962171c59d",
     "showTitle": false,
     "tableResultSettingsMap": {},
     "title": ""
    }
   },
   "outputs": [],
   "source": [
    "df=spark.readstream.format(\"cloudFiles\").option(\"cloudFiles.format\",\"json\").option(\"cloudFiles.useNotifications\",\"true\")\n",
    ".schema(user_schema_).load(location)"
   ]
  },
  {
   "cell_type": "code",
   "execution_count": 0,
   "metadata": {
    "application/vnd.databricks.v1+cell": {
     "cellMetadata": {},
     "inputWidgets": {},
     "nuid": "c5578b63-abd8-4229-b12c-88043d5b1238",
     "showTitle": false,
     "tableResultSettingsMap": {},
     "title": ""
    }
   },
   "outputs": [],
   "source": [
    "cloudFilesconf={\n",
    "    \"cloudFiles.subscriptionId\":dbutils.secrets.get(scope=\"key vault secrets\",key=\"sp-subscriptionid\"),\n",
    "    \"cloudFiles.connectionString\":queue_sas,\n",
    "    \"cloudFiles.format\":\"avro\",\n",
    "    \"cloudFiles.tenantId\":dbutils.secrets.get(scope=\"key-vault-secrets\",key=\"sp-tenantId\"),\n",
    "    \"cloudFiles.clientId\":dbutils.secrets.get(scope=\"key-vault-secrets\",key=\"sp-clientId\"),\n",
    "    \"cloudFiles.clientSecret\":dbutils.secrets.get(scope=\"key-vault-secrets\",key=\"sp-clientKey\"),\n",
    "    \"cloudFiles.resourceGroup\":dbutils.secrets.get(scope=\"key-vault-secrets\",key=\"sp-rgName\"),\n",
    "    \"cloudFiles,useNotifications\":\"true\",\n",
    "    \"cloudFiles.includeExistingFiles\":\"true\",\n",
    "    \"cloudFiles.validateoptions\":\"true\"\n",
    "\n",
    "}\n",
    "autoloader_df=(spark.readStream.format(\"cloudFiles\").options(**cloudFilesConf).load(f\"wasbs://landings@{adls_account}.blob.core.windows.net/dateexport.prod-2.AzureBlob.integration.12345/event_type={table}/\"))"
   ]
  },
  {
   "cell_type": "code",
   "execution_count": 0,
   "metadata": {
    "application/vnd.databricks.v1+cell": {
     "cellMetadata": {},
     "inputWidgets": {},
     "nuid": "a1e40687-37a9-49e9-8481-00b621bc19c0",
     "showTitle": false,
     "tableResultSettingsMap": {},
     "title": ""
    }
   },
   "outputs": [],
   "source": [
    "df=spark.readStream.format(\"cloudFiles\")\\\n",
    "    .option(\"cloudFiles.format\",<format>)\\\n",
    "    .schema(schema)\n",
    "    .load(\"/root_folde/*/files\")\n",
    "\n",
    "df.writeStream.trigger(once=True).save(\"<traget_location>\")"
   ]
  }
 ],
 "metadata": {
  "application/vnd.databricks.v1+notebook": {
   "computePreferences": null,
   "dashboards": [],
   "environmentMetadata": {
    "base_environment": "",
    "client": "1"
   },
   "language": "python",
   "notebookMetadata": {
    "pythonIndentUnit": 4
   },
   "notebookName": "Autoloader",
   "widgets": {}
  }
 },
 "nbformat": 4,
 "nbformat_minor": 0
}
