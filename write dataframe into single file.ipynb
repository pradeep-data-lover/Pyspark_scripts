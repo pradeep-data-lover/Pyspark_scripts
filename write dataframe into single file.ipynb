{
 "cells": [
  {
   "cell_type": "code",
   "execution_count": 0,
   "metadata": {
    "application/vnd.databricks.v1+cell": {
     "cellMetadata": {},
     "inputWidgets": {},
     "nuid": "b59eb632-70f9-4158-ae1d-e5eafede0fb2",
     "showTitle": false,
     "tableResultSettingsMap": {},
     "title": ""
    }
   },
   "outputs": [],
   "source": [
    "%fs\n",
    "ls\n",
    "/mnt/adlsgen2/sale"
   ]
  },
  {
   "cell_type": "code",
   "execution_count": 0,
   "metadata": {
    "application/vnd.databricks.v1+cell": {
     "cellMetadata": {},
     "inputWidgets": {},
     "nuid": "411556ee-29e5-4573-939c-df9944aca928",
     "showTitle": false,
     "tableResultSettingsMap": {},
     "title": ""
    }
   },
   "outputs": [],
   "source": [
    "salesdf=spark.read.format('parquet').load('/mnt/adlsgen2/sale')\n",
    "salesdf.display()"
   ]
  },
  {
   "cell_type": "code",
   "execution_count": 0,
   "metadata": {
    "application/vnd.databricks.v1+cell": {
     "cellMetadata": {},
     "inputWidgets": {},
     "nuid": "0c33deaf-9690-4c3e-b3e4-132efb0aee72",
     "showTitle": true,
     "tableResultSettingsMap": {},
     "title": "wide transformation"
    }
   },
   "outputs": [],
   "source": [
    "from pyspark.sql.windows import Window\n",
    "from pyspark.sql.functions import row_number,lit\n",
    "windowspec=Window.partitionBy('salesorderlinekey').orderBy('salesorderlinekey')\n",
    "outdf=salesdf.withColumn('row_number',row_number().over(windowspec))\n",
    "dispaly(outdf)"
   ]
  },
  {
   "cell_type": "code",
   "execution_count": 0,
   "metadata": {
    "application/vnd.databricks.v1+cell": {
     "cellMetadata": {},
     "inputWidgets": {},
     "nuid": "b4c8e292-60bf-42be-a16c-d1a036d81654",
     "showTitle": false,
     "tableResultSettingsMap": {},
     "title": ""
    }
   },
   "outputs": [],
   "source": [
    "outdf.write.format('csv').option('header',True).option('sept',\"|\").save(\"/mnt/adlsgen2/sale/output\")"
   ]
  },
  {
   "cell_type": "code",
   "execution_count": 0,
   "metadata": {
    "application/vnd.databricks.v1+cell": {
     "cellMetadata": {},
     "inputWidgets": {},
     "nuid": "79534d67-e5e1-438b-99e6-9d66bb9dc1a9",
     "showTitle": false,
     "tableResultSettingsMap": {},
     "title": ""
    }
   },
   "outputs": [],
   "source": [
    "outdf.coalesce(1).write.format('csv').option('header',True).option('sept',\"|\").save(\"/mnt/adlsgen2/sale/output/singlefile\")"
   ]
  },
  {
   "cell_type": "code",
   "execution_count": 0,
   "metadata": {
    "application/vnd.databricks.v1+cell": {
     "cellMetadata": {},
     "inputWidgets": {},
     "nuid": "2c3e140a-e03f-4cfb-835b-82f7d02724da",
     "showTitle": false,
     "tableResultSettingsMap": {},
     "title": ""
    }
   },
   "outputs": [],
   "source": [
    "pandasdf=outdf.toPandas()\n",
    "display(pandasdf)"
   ]
  },
  {
   "cell_type": "code",
   "execution_count": 0,
   "metadata": {
    "application/vnd.databricks.v1+cell": {
     "cellMetadata": {},
     "inputWidgets": {},
     "nuid": "a8f1ae59-42e9-4de8-a6a2-3d9a52cf0787",
     "showTitle": false,
     "tableResultSettingsMap": {},
     "title": ""
    }
   },
   "outputs": [],
   "source": [
    "outdirwithname='/dbfs/mnt/adlsgen2/sales/pandasdf/pnadasfile.csv'\n",
    "pandasdf.to_csv(outdirwithname,index=False)"
   ]
  }
 ],
 "metadata": {
  "application/vnd.databricks.v1+notebook": {
   "computePreferences": null,
   "dashboards": [],
   "environmentMetadata": {
    "base_environment": "",
    "client": "1"
   },
   "language": "python",
   "notebookMetadata": {
    "pythonIndentUnit": 4
   },
   "notebookName": "write dataframe into single file",
   "widgets": {}
  }
 },
 "nbformat": 4,
 "nbformat_minor": 0
}
