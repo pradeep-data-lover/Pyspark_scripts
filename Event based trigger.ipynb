{
 "cells": [
  {
   "cell_type": "code",
   "execution_count": 0,
   "metadata": {
    "application/vnd.databricks.v1+cell": {
     "cellMetadata": {},
     "inputWidgets": {},
     "nuid": "f333a96b-1381-4b14-9382-2d850517fcc0",
     "showTitle": false,
     "tableResultSettingsMap": {},
     "title": ""
    }
   },
   "outputs": [],
   "source": [
    "root_path=\"/mnt/adls2/event_trigger\""
   ]
  },
  {
   "cell_type": "code",
   "execution_count": 0,
   "metadata": {
    "application/vnd.databricks.v1+cell": {
     "cellMetadata": {},
     "inputWidgets": {},
     "nuid": "8f945126-fd36-4566-a172-adaa38754f7e",
     "showTitle": false,
     "tableResultSettingsMap": {},
     "title": ""
    }
   },
   "outputs": [],
   "source": [
    "lst=dbutils.fs.ls(root_path)\n",
    "latest_file=sorted(lst,reverse=True)[0]\n",
    "print(latest_file)\n",
    "root_path+=latest_file.name\n",
    "print(root_path)"
   ]
  },
  {
   "cell_type": "code",
   "execution_count": 0,
   "metadata": {
    "application/vnd.databricks.v1+cell": {
     "cellMetadata": {},
     "inputWidgets": {},
     "nuid": "c94c4837-3217-4f6c-90c0-d1d88eec3477",
     "showTitle": false,
     "tableResultSettingsMap": {},
     "title": ""
    }
   },
   "outputs": [],
   "source": [
    "df=spark.read.option(\"sep\",\"|\").option(\"header\",True).csv(root_path)\n",
    "display(df)"
   ]
  },
  {
   "cell_type": "code",
   "execution_count": 0,
   "metadata": {
    "application/vnd.databricks.v1+cell": {
     "cellMetadata": {},
     "inputWidgets": {},
     "nuid": "cb96f6cc-ab19-484e-b2a4-80b469d194b4",
     "showTitle": false,
     "tableResultSettingsMap": {},
     "title": ""
    }
   },
   "outputs": [],
   "source": [
    "jdbcHostname=dbutils.secrets.get(scope='akv_secret_demo',key=\"jdbcHostname\")\n",
    "jdbcport=1433\n",
    "jdbcDatabase=dbutils.secrets.get(scope='akv_secret_demo',key=\"jdbcDatabase\")\n",
    "jdbcUsername=dbutils.secrets.get(scope='akv_secret_demo',key=\"jdbcUsername\")\n",
    "jdbcPassword=dbutils.secrets.get(scope='akv_secret_demo',key=\"jdbcPassword\")\n",
    "jdbcdriver=\"com.microsoft.sqlserver.jdbc.SQLServerDriver\"\n",
    "jdbcurl=f\"jdbc:sqlserver://{jdbcHostname}:{jdbcport};databaseName={jdbcDatabase};UserName={jdbcUsername};Password={jdbcPassword}\""
   ]
  },
  {
   "cell_type": "code",
   "execution_count": 0,
   "metadata": {
    "application/vnd.databricks.v1+cell": {
     "cellMetadata": {},
     "inputWidgets": {},
     "nuid": "80b31d75-4726-48eb-9d57-e357875e120b",
     "showTitle": false,
     "tableResultSettingsMap": {},
     "title": ""
    }
   },
   "outputs": [],
   "source": [
    "df.write\\\n",
    "    .format(\"jdbc\")\\\n",
    "    .option(\"url\",jdbcurl)\\\n",
    "    .option(\"dbtable\",\"dbo.emp\")\\\n",
    "    .option(\"user\",jdbcUsername)\\\n",
    "    .option(\"password\",jdbcPassword)\\\n",
    "    .mode(\"append\")\\\n",
    "    .save()"
   ]
  }
 ],
 "metadata": {
  "application/vnd.databricks.v1+notebook": {
   "computePreferences": null,
   "dashboards": [],
   "environmentMetadata": {
    "base_environment": "",
    "client": "1"
   },
   "language": "python",
   "notebookMetadata": {
    "pythonIndentUnit": 4
   },
   "notebookName": "Event based trigger",
   "widgets": {}
  }
 },
 "nbformat": 4,
 "nbformat_minor": 0
}
