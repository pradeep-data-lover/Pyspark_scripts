{
 "cells": [
  {
   "cell_type": "code",
   "execution_count": 0,
   "metadata": {
    "application/vnd.databricks.v1+cell": {
     "cellMetadata": {
      "byteLimit": 2048000,
      "implicitDf": true,
      "rowLimit": 10000
     },
     "inputWidgets": {},
     "nuid": "c56968f2-828f-4497-a83f-3e22ac9d542b",
     "showTitle": false,
     "tableResultSettingsMap": {},
     "title": ""
    }
   },
   "outputs": [
    {
     "output_type": "display_data",
     "data": {
      "text/html": [
       "<style scoped>\n",
       "  .table-result-container {\n",
       "    max-height: 300px;\n",
       "    overflow: auto;\n",
       "  }\n",
       "  table, th, td {\n",
       "    border: 1px solid black;\n",
       "    border-collapse: collapse;\n",
       "  }\n",
       "  th, td {\n",
       "    padding: 5px;\n",
       "  }\n",
       "  th {\n",
       "    text-align: left;\n",
       "  }\n",
       "</style><div class='table-result-container'><table class='table-result'><thead style='background-color: white'><tr></tr></thead><tbody></tbody></table></div>"
      ]
     },
     "metadata": {
      "application/vnd.databricks.v1+output": {
       "addedWidgets": {},
       "aggData": [],
       "aggError": "",
       "aggOverflow": false,
       "aggSchema": [],
       "aggSeriesLimitReached": false,
       "aggType": "",
       "arguments": {},
       "columnCustomDisplayInfos": {},
       "data": [],
       "datasetInfos": [],
       "dbfsResultPath": null,
       "isJsonSchema": true,
       "metadata": {
        "dataframeName": null
       },
       "overflow": false,
       "plotOptions": {
        "customPlotOptions": {},
        "displayType": "table",
        "pivotAggregation": null,
        "pivotColumns": null,
        "xColumns": null,
        "yColumns": null
       },
       "removedWidgets": [],
       "schema": [],
       "type": "table"
      }
     },
     "output_type": "display_data"
    }
   ],
   "source": [
    "%sql\n",
    "create or replace table scd2demo(\n",
    "  pk1 int,\n",
    "  pk2 string,\n",
    "  dim1 int,\n",
    "  dim2 int,\n",
    "  dim3 int,\n",
    "  dim4 int,\n",
    "  active_status string,\n",
    "  start_date timestamp,\n",
    "  end_date timestamp\n",
    ")\n",
    "using delta\n",
    "location '/FileStore/tables/scd2demo'"
   ]
  },
  {
   "cell_type": "code",
   "execution_count": 0,
   "metadata": {
    "application/vnd.databricks.v1+cell": {
     "cellMetadata": {
      "byteLimit": 2048000,
      "implicitDf": true,
      "rowLimit": 10000
     },
     "inputWidgets": {},
     "nuid": "15c5bd3e-cf2a-4575-ae4f-ce475955939d",
     "showTitle": false,
     "tableResultSettingsMap": {},
     "title": ""
    }
   },
   "outputs": [
    {
     "output_type": "display_data",
     "data": {
      "text/html": [
       "<style scoped>\n",
       "  .table-result-container {\n",
       "    max-height: 300px;\n",
       "    overflow: auto;\n",
       "  }\n",
       "  table, th, td {\n",
       "    border: 1px solid black;\n",
       "    border-collapse: collapse;\n",
       "  }\n",
       "  th, td {\n",
       "    padding: 5px;\n",
       "  }\n",
       "  th {\n",
       "    text-align: left;\n",
       "  }\n",
       "</style><div class='table-result-container'><table class='table-result'><thead style='background-color: white'><tr><th>num_affected_rows</th><th>num_inserted_rows</th></tr></thead><tbody><tr><td>1</td><td>1</td></tr></tbody></table></div>"
      ]
     },
     "metadata": {
      "application/vnd.databricks.v1+output": {
       "addedWidgets": {},
       "aggData": [],
       "aggError": "",
       "aggOverflow": false,
       "aggSchema": [],
       "aggSeriesLimitReached": false,
       "aggType": "",
       "arguments": {},
       "columnCustomDisplayInfos": {},
       "data": [
        [
         1,
         1
        ]
       ],
       "datasetInfos": [],
       "dbfsResultPath": null,
       "isJsonSchema": true,
       "metadata": {
        "createTempViewForImplicitDf": true,
        "dataframeName": "_sqldf",
        "executionCount": 1
       },
       "overflow": false,
       "plotOptions": {
        "customPlotOptions": {},
        "displayType": "table",
        "pivotAggregation": null,
        "pivotColumns": null,
        "xColumns": null,
        "yColumns": null
       },
       "removedWidgets": [],
       "schema": [
        {
         "metadata": "{}",
         "name": "num_affected_rows",
         "type": "\"long\""
        },
        {
         "metadata": "{}",
         "name": "num_inserted_rows",
         "type": "\"long\""
        }
       ],
       "type": "table"
      }
     },
     "output_type": "display_data"
    }
   ],
   "source": [
    "%sql\n",
    "insert into scd2demo values(111,'unit1',200,500,800,400,'y',current_timestamp(),'9999-12-31');\n",
    "insert into scd2demo values(222,'unit2',900,Null,700,100,'y',current_timestamp(),'9999-12-31');\n",
    "insert into scd2demo values(333,'unit3',300,900,250,650,'y',current_timestamp(),'9999-12-31');\n",
    "\n"
   ]
  },
  {
   "cell_type": "code",
   "execution_count": 0,
   "metadata": {
    "application/vnd.databricks.v1+cell": {
     "cellMetadata": {
      "byteLimit": 2048000,
      "implicitDf": true,
      "rowLimit": 10000
     },
     "inputWidgets": {},
     "nuid": "656c0172-a286-415e-895e-f5c0e6722892",
     "showTitle": false,
     "tableResultSettingsMap": {},
     "title": ""
    }
   },
   "outputs": [
    {
     "output_type": "display_data",
     "data": {
      "text/html": [
       "<style scoped>\n",
       "  .table-result-container {\n",
       "    max-height: 300px;\n",
       "    overflow: auto;\n",
       "  }\n",
       "  table, th, td {\n",
       "    border: 1px solid black;\n",
       "    border-collapse: collapse;\n",
       "  }\n",
       "  th, td {\n",
       "    padding: 5px;\n",
       "  }\n",
       "  th {\n",
       "    text-align: left;\n",
       "  }\n",
       "</style><div class='table-result-container'><table class='table-result'><thead style='background-color: white'><tr><th>pk1</th><th>pk2</th><th>dim1</th><th>dim2</th><th>dim3</th><th>dim4</th><th>active_status</th><th>start_date</th><th>end_date</th></tr></thead><tbody><tr><td>111</td><td>unit1</td><td>200</td><td>500</td><td>800</td><td>400</td><td>y</td><td>2025-02-17T05:16:44.209Z</td><td>9999-12-31T00:00:00Z</td></tr><tr><td>333</td><td>unit3</td><td>300</td><td>900</td><td>250</td><td>650</td><td>y</td><td>2025-02-17T05:16:59.069Z</td><td>9999-12-31T00:00:00Z</td></tr><tr><td>222</td><td>unit2</td><td>900</td><td>null</td><td>700</td><td>100</td><td>N</td><td>2025-02-17T05:16:54.658Z</td><td>2025-02-17T00:00:00Z</td></tr><tr><td>222</td><td>unit2</td><td>800</td><td>1300</td><td>800</td><td>500</td><td>null</td><td>null</td><td>null</td></tr><tr><td>444</td><td>unit4</td><td>100</td><td>null</td><td>700</td><td>300</td><td>null</td><td>null</td><td>null</td></tr></tbody></table></div>"
      ]
     },
     "metadata": {
      "application/vnd.databricks.v1+output": {
       "addedWidgets": {},
       "aggData": [],
       "aggError": "",
       "aggOverflow": false,
       "aggSchema": [],
       "aggSeriesLimitReached": false,
       "aggType": "",
       "arguments": {},
       "columnCustomDisplayInfos": {},
       "data": [
        [
         111,
         "unit1",
         200,
         500,
         800,
         400,
         "y",
         "2025-02-17T05:16:44.209Z",
         "9999-12-31T00:00:00Z"
        ],
        [
         333,
         "unit3",
         300,
         900,
         250,
         650,
         "y",
         "2025-02-17T05:16:59.069Z",
         "9999-12-31T00:00:00Z"
        ],
        [
         222,
         "unit2",
         900,
         null,
         700,
         100,
         "N",
         "2025-02-17T05:16:54.658Z",
         "2025-02-17T00:00:00Z"
        ],
        [
         222,
         "unit2",
         800,
         1300,
         800,
         500,
         null,
         null,
         null
        ],
        [
         444,
         "unit4",
         100,
         null,
         700,
         300,
         null,
         null,
         null
        ]
       ],
       "datasetInfos": [],
       "dbfsResultPath": null,
       "isJsonSchema": true,
       "metadata": {
        "createTempViewForImplicitDf": true,
        "dataframeName": "_sqldf",
        "executionCount": 31
       },
       "overflow": false,
       "plotOptions": {
        "customPlotOptions": {},
        "displayType": "table",
        "pivotAggregation": null,
        "pivotColumns": null,
        "xColumns": null,
        "yColumns": null
       },
       "removedWidgets": [],
       "schema": [
        {
         "metadata": "{}",
         "name": "pk1",
         "type": "\"integer\""
        },
        {
         "metadata": "{}",
         "name": "pk2",
         "type": "\"string\""
        },
        {
         "metadata": "{}",
         "name": "dim1",
         "type": "\"integer\""
        },
        {
         "metadata": "{}",
         "name": "dim2",
         "type": "\"integer\""
        },
        {
         "metadata": "{}",
         "name": "dim3",
         "type": "\"integer\""
        },
        {
         "metadata": "{}",
         "name": "dim4",
         "type": "\"integer\""
        },
        {
         "metadata": "{}",
         "name": "active_status",
         "type": "\"string\""
        },
        {
         "metadata": "{}",
         "name": "start_date",
         "type": "\"timestamp\""
        },
        {
         "metadata": "{}",
         "name": "end_date",
         "type": "\"timestamp\""
        }
       ],
       "type": "table"
      }
     },
     "output_type": "display_data"
    }
   ],
   "source": [
    "%sql\n",
    "select * from scd2demo"
   ]
  },
  {
   "cell_type": "code",
   "execution_count": 0,
   "metadata": {
    "application/vnd.databricks.v1+cell": {
     "cellMetadata": {
      "byteLimit": 2048000,
      "rowLimit": 10000
     },
     "inputWidgets": {},
     "nuid": "97c965c8-b20c-41e9-b3c9-fe1ef46a1ab2",
     "showTitle": false,
     "tableResultSettingsMap": {},
     "title": ""
    }
   },
   "outputs": [
    {
     "output_type": "display_data",
     "data": {
      "text/html": [
       "<style scoped>\n",
       "  .table-result-container {\n",
       "    max-height: 300px;\n",
       "    overflow: auto;\n",
       "  }\n",
       "  table, th, td {\n",
       "    border: 1px solid black;\n",
       "    border-collapse: collapse;\n",
       "  }\n",
       "  th, td {\n",
       "    padding: 5px;\n",
       "  }\n",
       "  th {\n",
       "    text-align: left;\n",
       "  }\n",
       "</style><div class='table-result-container'><table class='table-result'><thead style='background-color: white'><tr><th>pk1</th><th>pk2</th><th>dim1</th><th>dim2</th><th>dim3</th><th>dim4</th><th>active_status</th><th>start_date</th><th>end_date</th></tr></thead><tbody><tr><td>111</td><td>unit1</td><td>200</td><td>500</td><td>800</td><td>400</td><td>y</td><td>2025-02-17T05:16:44.209Z</td><td>9999-12-31T00:00:00Z</td></tr><tr><td>333</td><td>unit3</td><td>300</td><td>900</td><td>250</td><td>650</td><td>y</td><td>2025-02-17T05:16:59.069Z</td><td>9999-12-31T00:00:00Z</td></tr><tr><td>222</td><td>unit2</td><td>900</td><td>null</td><td>700</td><td>100</td><td>y</td><td>2025-02-17T05:16:54.658Z</td><td>9999-12-31T00:00:00Z</td></tr></tbody></table></div>"
      ]
     },
     "metadata": {
      "application/vnd.databricks.v1+output": {
       "addedWidgets": {},
       "aggData": [],
       "aggError": "",
       "aggOverflow": false,
       "aggSchema": [],
       "aggSeriesLimitReached": false,
       "aggType": "",
       "arguments": {},
       "columnCustomDisplayInfos": {},
       "data": [
        [
         111,
         "unit1",
         200,
         500,
         800,
         400,
         "y",
         "2025-02-17T05:16:44.209Z",
         "9999-12-31T00:00:00Z"
        ],
        [
         333,
         "unit3",
         300,
         900,
         250,
         650,
         "y",
         "2025-02-17T05:16:59.069Z",
         "9999-12-31T00:00:00Z"
        ],
        [
         222,
         "unit2",
         900,
         null,
         700,
         100,
         "y",
         "2025-02-17T05:16:54.658Z",
         "9999-12-31T00:00:00Z"
        ]
       ],
       "datasetInfos": [],
       "dbfsResultPath": null,
       "isJsonSchema": true,
       "metadata": {},
       "overflow": false,
       "plotOptions": {
        "customPlotOptions": {},
        "displayType": "table",
        "pivotAggregation": null,
        "pivotColumns": null,
        "xColumns": null,
        "yColumns": null
       },
       "removedWidgets": [],
       "schema": [
        {
         "metadata": "{}",
         "name": "pk1",
         "type": "\"integer\""
        },
        {
         "metadata": "{}",
         "name": "pk2",
         "type": "\"string\""
        },
        {
         "metadata": "{}",
         "name": "dim1",
         "type": "\"integer\""
        },
        {
         "metadata": "{}",
         "name": "dim2",
         "type": "\"integer\""
        },
        {
         "metadata": "{}",
         "name": "dim3",
         "type": "\"integer\""
        },
        {
         "metadata": "{}",
         "name": "dim4",
         "type": "\"integer\""
        },
        {
         "metadata": "{}",
         "name": "active_status",
         "type": "\"string\""
        },
        {
         "metadata": "{}",
         "name": "start_date",
         "type": "\"timestamp\""
        },
        {
         "metadata": "{}",
         "name": "end_date",
         "type": "\"timestamp\""
        }
       ],
       "type": "table"
      }
     },
     "output_type": "display_data"
    }
   ],
   "source": [
    "from delta import *\n",
    "from pyspark.sql.functions import *\n",
    "targertable=DeltaTable.forPath(spark,'/FileStore/tables/scd2demo')\n",
    "targetdf=targertable.toDF()\n",
    "display(targetdf)"
   ]
  },
  {
   "cell_type": "code",
   "execution_count": 0,
   "metadata": {
    "application/vnd.databricks.v1+cell": {
     "cellMetadata": {
      "byteLimit": 2048000,
      "rowLimit": 10000
     },
     "inputWidgets": {},
     "nuid": "92d51245-2eba-4a83-a284-57b1a18ff64e",
     "showTitle": false,
     "tableResultSettingsMap": {},
     "title": ""
    }
   },
   "outputs": [],
   "source": [
    "from pyspark.sql.functions import *\n",
    "from pyspark.sql.types import *\n",
    "schema_scd2=StructType([StructField('pk1',StringType(),True),\\\n",
    "    StructField('pk2',StringType(),True),\\\n",
    "        StructField('dim1',IntegerType(),True),\\\n",
    "            StructField('dim2',IntegerType(),True),\\\n",
    "                StructField('dim3',IntegerType(),True),\\\n",
    "                    StructField('dim4',IntegerType(),True)]\n",
    "                       )"
   ]
  },
  {
   "cell_type": "code",
   "execution_count": 0,
   "metadata": {
    "application/vnd.databricks.v1+cell": {
     "cellMetadata": {
      "byteLimit": 2048000,
      "rowLimit": 10000
     },
     "inputWidgets": {},
     "nuid": "c1a11e4b-206d-4a83-960f-41ba81858e82",
     "showTitle": false,
     "tableResultSettingsMap": {},
     "title": ""
    }
   },
   "outputs": [
    {
     "output_type": "display_data",
     "data": {
      "text/html": [
       "<style scoped>\n",
       "  .table-result-container {\n",
       "    max-height: 300px;\n",
       "    overflow: auto;\n",
       "  }\n",
       "  table, th, td {\n",
       "    border: 1px solid black;\n",
       "    border-collapse: collapse;\n",
       "  }\n",
       "  th, td {\n",
       "    padding: 5px;\n",
       "  }\n",
       "  th {\n",
       "    text-align: left;\n",
       "  }\n",
       "</style><div class='table-result-container'><table class='table-result'><thead style='background-color: white'><tr><th>pk1</th><th>pk2</th><th>dim1</th><th>dim2</th><th>dim3</th><th>dim4</th></tr></thead><tbody><tr><td>111</td><td>unit1</td><td>200</td><td>500</td><td>800</td><td>400</td></tr><tr><td>222</td><td>unit2</td><td>800</td><td>1300</td><td>800</td><td>500</td></tr><tr><td>444</td><td>unit4</td><td>100</td><td>null</td><td>700</td><td>300</td></tr></tbody></table></div>"
      ]
     },
     "metadata": {
      "application/vnd.databricks.v1+output": {
       "addedWidgets": {},
       "aggData": [],
       "aggError": "",
       "aggOverflow": false,
       "aggSchema": [],
       "aggSeriesLimitReached": false,
       "aggType": "",
       "arguments": {},
       "columnCustomDisplayInfos": {},
       "data": [
        [
         "111",
         "unit1",
         200,
         500,
         800,
         400
        ],
        [
         "222",
         "unit2",
         800,
         1300,
         800,
         500
        ],
        [
         "444",
         "unit4",
         100,
         null,
         700,
         300
        ]
       ],
       "datasetInfos": [],
       "dbfsResultPath": null,
       "isJsonSchema": true,
       "metadata": {},
       "overflow": false,
       "plotOptions": {
        "customPlotOptions": {},
        "displayType": "table",
        "pivotAggregation": null,
        "pivotColumns": null,
        "xColumns": null,
        "yColumns": null
       },
       "removedWidgets": [],
       "schema": [
        {
         "metadata": "{}",
         "name": "pk1",
         "type": "\"string\""
        },
        {
         "metadata": "{}",
         "name": "pk2",
         "type": "\"string\""
        },
        {
         "metadata": "{}",
         "name": "dim1",
         "type": "\"integer\""
        },
        {
         "metadata": "{}",
         "name": "dim2",
         "type": "\"integer\""
        },
        {
         "metadata": "{}",
         "name": "dim3",
         "type": "\"integer\""
        },
        {
         "metadata": "{}",
         "name": "dim4",
         "type": "\"integer\""
        }
       ],
       "type": "table"
      }
     },
     "output_type": "display_data"
    }
   ],
   "source": [
    "data=[(111,'unit1',200,500,800,400),\n",
    "      (222,'unit2',800,1300,800,500),\n",
    "      (444,'unit4',100,None,700,300)]\n",
    "sourcedf=spark.createDataFrame(data=data,schema=schema_scd2)\n",
    "display(sourcedf)"
   ]
  },
  {
   "cell_type": "code",
   "execution_count": 0,
   "metadata": {
    "application/vnd.databricks.v1+cell": {
     "cellMetadata": {
      "byteLimit": 2048000,
      "rowLimit": 10000
     },
     "inputWidgets": {},
     "nuid": "9a01c369-a869-478b-a678-0662320ce222",
     "showTitle": false,
     "tableResultSettingsMap": {},
     "title": ""
    }
   },
   "outputs": [
    {
     "output_type": "display_data",
     "data": {
      "text/html": [
       "<style scoped>\n",
       "  .table-result-container {\n",
       "    max-height: 300px;\n",
       "    overflow: auto;\n",
       "  }\n",
       "  table, th, td {\n",
       "    border: 1px solid black;\n",
       "    border-collapse: collapse;\n",
       "  }\n",
       "  th, td {\n",
       "    padding: 5px;\n",
       "  }\n",
       "  th {\n",
       "    text-align: left;\n",
       "  }\n",
       "</style><div class='table-result-container'><table class='table-result'><thead style='background-color: white'><tr><th>pk1</th><th>pk2</th><th>dim1</th><th>dim2</th><th>dim3</th><th>dim4</th><th>target_pk1</th><th>target_pk2</th><th>target_dim1</th><th>target_dim2</th><th>target_dim3</th><th>target_dim4</th></tr></thead><tbody><tr><td>111</td><td>unit1</td><td>200</td><td>500</td><td>800</td><td>400</td><td>111</td><td>unit1</td><td>200</td><td>500</td><td>800</td><td>400</td></tr><tr><td>222</td><td>unit2</td><td>800</td><td>1300</td><td>800</td><td>500</td><td>222</td><td>unit2</td><td>900</td><td>null</td><td>700</td><td>100</td></tr><tr><td>444</td><td>unit4</td><td>100</td><td>null</td><td>700</td><td>300</td><td>null</td><td>null</td><td>null</td><td>null</td><td>null</td><td>null</td></tr></tbody></table></div>"
      ]
     },
     "metadata": {
      "application/vnd.databricks.v1+output": {
       "addedWidgets": {},
       "aggData": [],
       "aggError": "",
       "aggOverflow": false,
       "aggSchema": [],
       "aggSeriesLimitReached": false,
       "aggType": "",
       "arguments": {},
       "columnCustomDisplayInfos": {},
       "data": [
        [
         "111",
         "unit1",
         200,
         500,
         800,
         400,
         111,
         "unit1",
         200,
         500,
         800,
         400
        ],
        [
         "222",
         "unit2",
         800,
         1300,
         800,
         500,
         222,
         "unit2",
         900,
         null,
         700,
         100
        ],
        [
         "444",
         "unit4",
         100,
         null,
         700,
         300,
         null,
         null,
         null,
         null,
         null,
         null
        ]
       ],
       "datasetInfos": [],
       "dbfsResultPath": null,
       "isJsonSchema": true,
       "metadata": {},
       "overflow": false,
       "plotOptions": {
        "customPlotOptions": {},
        "displayType": "table",
        "pivotAggregation": null,
        "pivotColumns": null,
        "xColumns": null,
        "yColumns": null
       },
       "removedWidgets": [],
       "schema": [
        {
         "metadata": "{}",
         "name": "pk1",
         "type": "\"string\""
        },
        {
         "metadata": "{}",
         "name": "pk2",
         "type": "\"string\""
        },
        {
         "metadata": "{}",
         "name": "dim1",
         "type": "\"integer\""
        },
        {
         "metadata": "{}",
         "name": "dim2",
         "type": "\"integer\""
        },
        {
         "metadata": "{}",
         "name": "dim3",
         "type": "\"integer\""
        },
        {
         "metadata": "{}",
         "name": "dim4",
         "type": "\"integer\""
        },
        {
         "metadata": "{}",
         "name": "target_pk1",
         "type": "\"integer\""
        },
        {
         "metadata": "{}",
         "name": "target_pk2",
         "type": "\"string\""
        },
        {
         "metadata": "{}",
         "name": "target_dim1",
         "type": "\"integer\""
        },
        {
         "metadata": "{}",
         "name": "target_dim2",
         "type": "\"integer\""
        },
        {
         "metadata": "{}",
         "name": "target_dim3",
         "type": "\"integer\""
        },
        {
         "metadata": "{}",
         "name": "target_dim4",
         "type": "\"integer\""
        }
       ],
       "type": "table"
      }
     },
     "output_type": "display_data"
    }
   ],
   "source": [
    "joindf=sourcedf.join(targetdf,(sourcedf.pk1==targetdf.pk1) &\\\n",
    "    (sourcedf.pk2==targetdf.pk2) & \\\n",
    "        (targetdf.active_status=='y'),'leftouter'\n",
    "    ).select(sourcedf['*'],\\\n",
    "            targetdf.pk1.alias('target_pk1'),\\\n",
    "                targetdf.pk2.alias('target_pk2'),\\\n",
    "                    targetdf.dim1.alias('target_dim1'),\\\n",
    "                        targetdf.dim2.alias('target_dim2'),\\\n",
    "                            targetdf.dim3.alias('target_dim3'),\\\n",
    "                                targetdf.dim4.alias('target_dim4'))\n",
    "display(joindf)"
   ]
  },
  {
   "cell_type": "code",
   "execution_count": 0,
   "metadata": {
    "application/vnd.databricks.v1+cell": {
     "cellMetadata": {
      "byteLimit": 2048000,
      "rowLimit": 10000
     },
     "inputWidgets": {},
     "nuid": "01bd7131-7aef-4bc2-aac7-961d64867d9f",
     "showTitle": false,
     "tableResultSettingsMap": {},
     "title": ""
    }
   },
   "outputs": [
    {
     "output_type": "display_data",
     "data": {
      "text/html": [
       "<style scoped>\n",
       "  .table-result-container {\n",
       "    max-height: 300px;\n",
       "    overflow: auto;\n",
       "  }\n",
       "  table, th, td {\n",
       "    border: 1px solid black;\n",
       "    border-collapse: collapse;\n",
       "  }\n",
       "  th, td {\n",
       "    padding: 5px;\n",
       "  }\n",
       "  th {\n",
       "    text-align: left;\n",
       "  }\n",
       "</style><div class='table-result-container'><table class='table-result'><thead style='background-color: white'><tr><th>pk1</th><th>pk2</th><th>dim1</th><th>dim2</th><th>dim3</th><th>dim4</th><th>target_pk1</th><th>target_pk2</th><th>target_dim1</th><th>target_dim2</th><th>target_dim3</th><th>target_dim4</th></tr></thead><tbody><tr><td>222</td><td>unit2</td><td>800</td><td>1300</td><td>800</td><td>500</td><td>222</td><td>unit2</td><td>900</td><td>null</td><td>700</td><td>100</td></tr><tr><td>444</td><td>unit4</td><td>100</td><td>null</td><td>700</td><td>300</td><td>null</td><td>null</td><td>null</td><td>null</td><td>null</td><td>null</td></tr></tbody></table></div>"
      ]
     },
     "metadata": {
      "application/vnd.databricks.v1+output": {
       "addedWidgets": {},
       "aggData": [],
       "aggError": "",
       "aggOverflow": false,
       "aggSchema": [],
       "aggSeriesLimitReached": false,
       "aggType": "",
       "arguments": {},
       "columnCustomDisplayInfos": {},
       "data": [
        [
         "222",
         "unit2",
         800,
         1300,
         800,
         500,
         222,
         "unit2",
         900,
         null,
         700,
         100
        ],
        [
         "444",
         "unit4",
         100,
         null,
         700,
         300,
         null,
         null,
         null,
         null,
         null,
         null
        ]
       ],
       "datasetInfos": [],
       "dbfsResultPath": null,
       "isJsonSchema": true,
       "metadata": {},
       "overflow": false,
       "plotOptions": {
        "customPlotOptions": {},
        "displayType": "table",
        "pivotAggregation": null,
        "pivotColumns": null,
        "xColumns": null,
        "yColumns": null
       },
       "removedWidgets": [],
       "schema": [
        {
         "metadata": "{}",
         "name": "pk1",
         "type": "\"string\""
        },
        {
         "metadata": "{}",
         "name": "pk2",
         "type": "\"string\""
        },
        {
         "metadata": "{}",
         "name": "dim1",
         "type": "\"integer\""
        },
        {
         "metadata": "{}",
         "name": "dim2",
         "type": "\"integer\""
        },
        {
         "metadata": "{}",
         "name": "dim3",
         "type": "\"integer\""
        },
        {
         "metadata": "{}",
         "name": "dim4",
         "type": "\"integer\""
        },
        {
         "metadata": "{}",
         "name": "target_pk1",
         "type": "\"integer\""
        },
        {
         "metadata": "{}",
         "name": "target_pk2",
         "type": "\"string\""
        },
        {
         "metadata": "{}",
         "name": "target_dim1",
         "type": "\"integer\""
        },
        {
         "metadata": "{}",
         "name": "target_dim2",
         "type": "\"integer\""
        },
        {
         "metadata": "{}",
         "name": "target_dim3",
         "type": "\"integer\""
        },
        {
         "metadata": "{}",
         "name": "target_dim4",
         "type": "\"integer\""
        }
       ],
       "type": "table"
      }
     },
     "output_type": "display_data"
    }
   ],
   "source": [
    "filterdf=joindf.filter(xxhash64(joindf.dim1,joindf.dim2,joindf.dim3,joindf.dim4)!=xxhash64(joindf.target_dim1,joindf.target_dim2,joindf.target_dim3,joindf.target_dim4))\n",
    "display(filterdf)"
   ]
  },
  {
   "cell_type": "code",
   "execution_count": 0,
   "metadata": {
    "application/vnd.databricks.v1+cell": {
     "cellMetadata": {
      "byteLimit": 2048000,
      "rowLimit": 10000
     },
     "inputWidgets": {},
     "nuid": "73e98903-29f4-4382-9d6a-a26f98cf2669",
     "showTitle": false,
     "tableResultSettingsMap": {},
     "title": ""
    }
   },
   "outputs": [
    {
     "output_type": "display_data",
     "data": {
      "text/html": [
       "<style scoped>\n",
       "  .table-result-container {\n",
       "    max-height: 300px;\n",
       "    overflow: auto;\n",
       "  }\n",
       "  table, th, td {\n",
       "    border: 1px solid black;\n",
       "    border-collapse: collapse;\n",
       "  }\n",
       "  th, td {\n",
       "    padding: 5px;\n",
       "  }\n",
       "  th {\n",
       "    text-align: left;\n",
       "  }\n",
       "</style><div class='table-result-container'><table class='table-result'><thead style='background-color: white'><tr><th>pk1</th><th>pk2</th><th>dim1</th><th>dim2</th><th>dim3</th><th>dim4</th><th>target_pk1</th><th>target_pk2</th><th>target_dim1</th><th>target_dim2</th><th>target_dim3</th><th>target_dim4</th><th>merge_key</th></tr></thead><tbody><tr><td>222</td><td>unit2</td><td>800</td><td>1300</td><td>800</td><td>500</td><td>222</td><td>unit2</td><td>900</td><td>null</td><td>700</td><td>100</td><td>222unit2</td></tr><tr><td>444</td><td>unit4</td><td>100</td><td>null</td><td>700</td><td>300</td><td>null</td><td>null</td><td>null</td><td>null</td><td>null</td><td>null</td><td>444unit4</td></tr></tbody></table></div>"
      ]
     },
     "metadata": {
      "application/vnd.databricks.v1+output": {
       "addedWidgets": {},
       "aggData": [],
       "aggError": "",
       "aggOverflow": false,
       "aggSchema": [],
       "aggSeriesLimitReached": false,
       "aggType": "",
       "arguments": {},
       "columnCustomDisplayInfos": {},
       "data": [
        [
         "222",
         "unit2",
         800,
         1300,
         800,
         500,
         222,
         "unit2",
         900,
         null,
         700,
         100,
         "222unit2"
        ],
        [
         "444",
         "unit4",
         100,
         null,
         700,
         300,
         null,
         null,
         null,
         null,
         null,
         null,
         "444unit4"
        ]
       ],
       "datasetInfos": [],
       "dbfsResultPath": null,
       "isJsonSchema": true,
       "metadata": {},
       "overflow": false,
       "plotOptions": {
        "customPlotOptions": {},
        "displayType": "table",
        "pivotAggregation": null,
        "pivotColumns": null,
        "xColumns": null,
        "yColumns": null
       },
       "removedWidgets": [],
       "schema": [
        {
         "metadata": "{}",
         "name": "pk1",
         "type": "\"string\""
        },
        {
         "metadata": "{}",
         "name": "pk2",
         "type": "\"string\""
        },
        {
         "metadata": "{}",
         "name": "dim1",
         "type": "\"integer\""
        },
        {
         "metadata": "{}",
         "name": "dim2",
         "type": "\"integer\""
        },
        {
         "metadata": "{}",
         "name": "dim3",
         "type": "\"integer\""
        },
        {
         "metadata": "{}",
         "name": "dim4",
         "type": "\"integer\""
        },
        {
         "metadata": "{}",
         "name": "target_pk1",
         "type": "\"integer\""
        },
        {
         "metadata": "{}",
         "name": "target_pk2",
         "type": "\"string\""
        },
        {
         "metadata": "{}",
         "name": "target_dim1",
         "type": "\"integer\""
        },
        {
         "metadata": "{}",
         "name": "target_dim2",
         "type": "\"integer\""
        },
        {
         "metadata": "{}",
         "name": "target_dim3",
         "type": "\"integer\""
        },
        {
         "metadata": "{}",
         "name": "target_dim4",
         "type": "\"integer\""
        },
        {
         "metadata": "{}",
         "name": "merge_key",
         "type": "\"string\""
        }
       ],
       "type": "table"
      }
     },
     "output_type": "display_data"
    }
   ],
   "source": [
    "mergedf=filterdf.withColumn('merge_key',concat(filterdf.pk1,filterdf.pk2))\n",
    "display(mergedf)"
   ]
  },
  {
   "cell_type": "code",
   "execution_count": 0,
   "metadata": {
    "application/vnd.databricks.v1+cell": {
     "cellMetadata": {
      "byteLimit": 2048000,
      "rowLimit": 10000
     },
     "inputWidgets": {},
     "nuid": "43e0f64c-f274-4a60-8761-3075e6c66859",
     "showTitle": false,
     "tableResultSettingsMap": {},
     "title": ""
    }
   },
   "outputs": [
    {
     "output_type": "display_data",
     "data": {
      "text/html": [
       "<style scoped>\n",
       "  .table-result-container {\n",
       "    max-height: 300px;\n",
       "    overflow: auto;\n",
       "  }\n",
       "  table, th, td {\n",
       "    border: 1px solid black;\n",
       "    border-collapse: collapse;\n",
       "  }\n",
       "  th, td {\n",
       "    padding: 5px;\n",
       "  }\n",
       "  th {\n",
       "    text-align: left;\n",
       "  }\n",
       "</style><div class='table-result-container'><table class='table-result'><thead style='background-color: white'><tr><th>pk1</th><th>pk2</th><th>dim1</th><th>dim2</th><th>dim3</th><th>dim4</th><th>target_pk1</th><th>target_pk2</th><th>target_dim1</th><th>target_dim2</th><th>target_dim3</th><th>target_dim4</th><th>merge_key</th></tr></thead><tbody><tr><td>222</td><td>unit2</td><td>800</td><td>1300</td><td>800</td><td>500</td><td>222</td><td>unit2</td><td>900</td><td>null</td><td>700</td><td>100</td><td>null</td></tr></tbody></table></div>"
      ]
     },
     "metadata": {
      "application/vnd.databricks.v1+output": {
       "addedWidgets": {},
       "aggData": [],
       "aggError": "",
       "aggOverflow": false,
       "aggSchema": [],
       "aggSeriesLimitReached": false,
       "aggType": "",
       "arguments": {},
       "columnCustomDisplayInfos": {},
       "data": [
        [
         "222",
         "unit2",
         800,
         1300,
         800,
         500,
         222,
         "unit2",
         900,
         null,
         700,
         100,
         null
        ]
       ],
       "datasetInfos": [],
       "dbfsResultPath": null,
       "isJsonSchema": true,
       "metadata": {},
       "overflow": false,
       "plotOptions": {
        "customPlotOptions": {},
        "displayType": "table",
        "pivotAggregation": null,
        "pivotColumns": null,
        "xColumns": null,
        "yColumns": null
       },
       "removedWidgets": [],
       "schema": [
        {
         "metadata": "{}",
         "name": "pk1",
         "type": "\"string\""
        },
        {
         "metadata": "{}",
         "name": "pk2",
         "type": "\"string\""
        },
        {
         "metadata": "{}",
         "name": "dim1",
         "type": "\"integer\""
        },
        {
         "metadata": "{}",
         "name": "dim2",
         "type": "\"integer\""
        },
        {
         "metadata": "{}",
         "name": "dim3",
         "type": "\"integer\""
        },
        {
         "metadata": "{}",
         "name": "dim4",
         "type": "\"integer\""
        },
        {
         "metadata": "{}",
         "name": "target_pk1",
         "type": "\"integer\""
        },
        {
         "metadata": "{}",
         "name": "target_pk2",
         "type": "\"string\""
        },
        {
         "metadata": "{}",
         "name": "target_dim1",
         "type": "\"integer\""
        },
        {
         "metadata": "{}",
         "name": "target_dim2",
         "type": "\"integer\""
        },
        {
         "metadata": "{}",
         "name": "target_dim3",
         "type": "\"integer\""
        },
        {
         "metadata": "{}",
         "name": "target_dim4",
         "type": "\"integer\""
        },
        {
         "metadata": "{}",
         "name": "merge_key",
         "type": "\"void\""
        }
       ],
       "type": "table"
      }
     },
     "output_type": "display_data"
    }
   ],
   "source": [
    "dummydf=filterdf.filter(\"target_pk1 is not null\").withColumn('merge_key',lit(None))\n",
    "display(dummydf)"
   ]
  },
  {
   "cell_type": "code",
   "execution_count": 0,
   "metadata": {
    "application/vnd.databricks.v1+cell": {
     "cellMetadata": {
      "byteLimit": 2048000,
      "rowLimit": 10000
     },
     "inputWidgets": {},
     "nuid": "4452e96a-9060-4ca4-9615-08a93dbaf98f",
     "showTitle": false,
     "tableResultSettingsMap": {},
     "title": ""
    }
   },
   "outputs": [
    {
     "output_type": "display_data",
     "data": {
      "text/html": [
       "<style scoped>\n",
       "  .table-result-container {\n",
       "    max-height: 300px;\n",
       "    overflow: auto;\n",
       "  }\n",
       "  table, th, td {\n",
       "    border: 1px solid black;\n",
       "    border-collapse: collapse;\n",
       "  }\n",
       "  th, td {\n",
       "    padding: 5px;\n",
       "  }\n",
       "  th {\n",
       "    text-align: left;\n",
       "  }\n",
       "</style><div class='table-result-container'><table class='table-result'><thead style='background-color: white'><tr><th>pk1</th><th>pk2</th><th>dim1</th><th>dim2</th><th>dim3</th><th>dim4</th><th>target_pk1</th><th>target_pk2</th><th>target_dim1</th><th>target_dim2</th><th>target_dim3</th><th>target_dim4</th><th>merge_key</th></tr></thead><tbody><tr><td>222</td><td>unit2</td><td>800</td><td>1300</td><td>800</td><td>500</td><td>222</td><td>unit2</td><td>900</td><td>null</td><td>700</td><td>100</td><td>222unit2</td></tr><tr><td>444</td><td>unit4</td><td>100</td><td>null</td><td>700</td><td>300</td><td>null</td><td>null</td><td>null</td><td>null</td><td>null</td><td>null</td><td>444unit4</td></tr><tr><td>222</td><td>unit2</td><td>800</td><td>1300</td><td>800</td><td>500</td><td>222</td><td>unit2</td><td>900</td><td>null</td><td>700</td><td>100</td><td>null</td></tr></tbody></table></div>"
      ]
     },
     "metadata": {
      "application/vnd.databricks.v1+output": {
       "addedWidgets": {},
       "aggData": [],
       "aggError": "",
       "aggOverflow": false,
       "aggSchema": [],
       "aggSeriesLimitReached": false,
       "aggType": "",
       "arguments": {},
       "columnCustomDisplayInfos": {},
       "data": [
        [
         "222",
         "unit2",
         800,
         1300,
         800,
         500,
         222,
         "unit2",
         900,
         null,
         700,
         100,
         "222unit2"
        ],
        [
         "444",
         "unit4",
         100,
         null,
         700,
         300,
         null,
         null,
         null,
         null,
         null,
         null,
         "444unit4"
        ],
        [
         "222",
         "unit2",
         800,
         1300,
         800,
         500,
         222,
         "unit2",
         900,
         null,
         700,
         100,
         null
        ]
       ],
       "datasetInfos": [],
       "dbfsResultPath": null,
       "isJsonSchema": true,
       "metadata": {},
       "overflow": false,
       "plotOptions": {
        "customPlotOptions": {},
        "displayType": "table",
        "pivotAggregation": null,
        "pivotColumns": null,
        "xColumns": null,
        "yColumns": null
       },
       "removedWidgets": [],
       "schema": [
        {
         "metadata": "{}",
         "name": "pk1",
         "type": "\"string\""
        },
        {
         "metadata": "{}",
         "name": "pk2",
         "type": "\"string\""
        },
        {
         "metadata": "{}",
         "name": "dim1",
         "type": "\"integer\""
        },
        {
         "metadata": "{}",
         "name": "dim2",
         "type": "\"integer\""
        },
        {
         "metadata": "{}",
         "name": "dim3",
         "type": "\"integer\""
        },
        {
         "metadata": "{}",
         "name": "dim4",
         "type": "\"integer\""
        },
        {
         "metadata": "{}",
         "name": "target_pk1",
         "type": "\"integer\""
        },
        {
         "metadata": "{}",
         "name": "target_pk2",
         "type": "\"string\""
        },
        {
         "metadata": "{}",
         "name": "target_dim1",
         "type": "\"integer\""
        },
        {
         "metadata": "{}",
         "name": "target_dim2",
         "type": "\"integer\""
        },
        {
         "metadata": "{}",
         "name": "target_dim3",
         "type": "\"integer\""
        },
        {
         "metadata": "{}",
         "name": "target_dim4",
         "type": "\"integer\""
        },
        {
         "metadata": "{}",
         "name": "merge_key",
         "type": "\"string\""
        }
       ],
       "type": "table"
      }
     },
     "output_type": "display_data"
    }
   ],
   "source": [
    "scddf=mergedf.union(dummydf)\n",
    "display(scddf)"
   ]
  },
  {
   "cell_type": "code",
   "execution_count": 0,
   "metadata": {
    "application/vnd.databricks.v1+cell": {
     "cellMetadata": {
      "byteLimit": 2048000,
      "rowLimit": 10000
     },
     "inputWidgets": {},
     "nuid": "121454bb-0993-4bcf-9bd0-9d0baabfb757",
     "showTitle": false,
     "tableResultSettingsMap": {},
     "title": ""
    }
   },
   "outputs": [],
   "source": [
    "targertable.alias('target').merge(source=scddf.alias('source'),\n",
    "                               condition=\"concat(target.pk1,target.pk2)=source.merge_key and target.active_status='y'\").whenMatchedUpdate(set={\n",
    "                                   \"active_status\":\"'N'\",\n",
    "                                   \"end_date\":\"current_date\"\n",
    "                               }).whenNotMatchedInsert(values={\n",
    "                                   \"pk1\":\"source.pk1\",\n",
    "                                   \"pk2\":\"source.pk2\",\n",
    "                                   \"dim1\":\"source.dim1\",\n",
    "                                   \"dim2\":\"source.dim2\",\n",
    "                                   \"dim3\":\"source.dim3\",\n",
    "                                   \"dim4\":\"source.dim4\"\n",
    "                               }).execute()\n"
   ]
  }
 ],
 "metadata": {
  "application/vnd.databricks.v1+notebook": {
   "computePreferences": null,
   "dashboards": [],
   "environmentMetadata": {
    "base_environment": "",
    "client": "1"
   },
   "language": "python",
   "notebookMetadata": {
    "mostRecentlyExecutedCommandWithImplicitDF": {
     "commandId": 3579194937930976,
     "dataframes": [
      "_sqldf"
     ]
    },
    "pythonIndentUnit": 4
   },
   "notebookName": "SCD type2 in pyspark",
   "widgets": {}
  }
 },
 "nbformat": 4,
 "nbformat_minor": 0
}
