{
 "cells": [
  {
   "cell_type": "code",
   "execution_count": 0,
   "metadata": {
    "application/vnd.databricks.v1+cell": {
     "cellMetadata": {
      "byteLimit": 2048000,
      "rowLimit": 10000
     },
     "inputWidgets": {},
     "nuid": "3e694a8d-0bda-43b6-976a-f976af146195",
     "showTitle": true,
     "tableResultSettingsMap": {},
     "title": "Employee data frame"
    }
   },
   "outputs": [
    {
     "output_type": "stream",
     "name": "stdout",
     "output_type": "stream",
     "text": [
      "+-----------+------+----+-------+------+------+\n|employee_id|  name| doj|dept_id|gender|salary|\n+-----------+------+----+-------+------+------+\n|         10|   Raj|1999|    100|     M|  2000|\n|         20| Rahul|2002|    200|     M|  8000|\n|         30|Raghav|2010|    100|      |  6000|\n|         40|  Raja|2004|    100|     F|  7000|\n|         50|  Rama|2008|    400|     F|  1000|\n|         60| Rasul|2014|    500|     M|  5000|\n+-----------+------+----+-------+------+------+\n\n"
     ]
    }
   ],
   "source": [
    "employee_data=[(10,'Raj',1999,100,'M',2000),\n",
    "               (20,'Rahul',2002,200,'M',8000),\n",
    "               (30,'Raghav',2010,100,\"\",6000),\n",
    "               (40,'Raja',2004,100,'F',7000),\n",
    "               (50,'Rama',2008,400,'F',1000),\n",
    "               (60,'Rasul',2014,500,'M',5000)]\n",
    "employee_schema=['employee_id','name','doj','dept_id','gender','salary']\n",
    "df_employee=spark.createDataFrame(data=employee_data,schema=employee_schema)\n",
    "df_employee.show()"
   ]
  },
  {
   "cell_type": "code",
   "execution_count": 0,
   "metadata": {
    "application/vnd.databricks.v1+cell": {
     "cellMetadata": {
      "byteLimit": 2048000,
      "rowLimit": 10000
     },
     "inputWidgets": {},
     "nuid": "606d5c8f-5862-4d1c-86cd-e7d5f3091b94",
     "showTitle": true,
     "tableResultSettingsMap": {},
     "title": "Department data frame"
    }
   },
   "outputs": [
    {
     "output_type": "stream",
     "name": "stdout",
     "output_type": "stream",
     "text": [
      "+---------+-------+\n|dept_name|dept_id|\n+---------+-------+\n|       HR|    100|\n|   supply|    200|\n|    stock|    400|\n|    sales|    300|\n+---------+-------+\n\n"
     ]
    }
   ],
   "source": [
    "department_data=[(\"HR\",100),\n",
    "                 (\"supply\",200),\n",
    "                 (\"stock\",400),\n",
    "                 (\"sales\",300)]\n",
    "department_schema=[\"dept_name\",\"dept_id\"]\n",
    "df_dept=spark.createDataFrame(data=department_data,schema=department_schema)\n",
    "df_dept.show()"
   ]
  },
  {
   "cell_type": "code",
   "execution_count": 0,
   "metadata": {
    "application/vnd.databricks.v1+cell": {
     "cellMetadata": {
      "byteLimit": 2048000,
      "rowLimit": 10000
     },
     "inputWidgets": {},
     "nuid": "b3b2f8d4-5784-43c4-bdf3-5ed9034dd265",
     "showTitle": true,
     "tableResultSettingsMap": {},
     "title": "Inner join"
    }
   },
   "outputs": [
    {
     "output_type": "stream",
     "name": "stdout",
     "output_type": "stream",
     "text": [
      "+-----------+------+----+-------+------+------+---------+-------+\n|employee_id|  name| doj|dept_id|gender|salary|dept_name|dept_id|\n+-----------+------+----+-------+------+------+---------+-------+\n|         10|   Raj|1999|    100|     M|  2000|       HR|    100|\n|         30|Raghav|2010|    100|      |  6000|       HR|    100|\n|         40|  Raja|2004|    100|     F|  7000|       HR|    100|\n|         20| Rahul|2002|    200|     M|  8000|   supply|    200|\n|         50|  Rama|2008|    400|     F|  1000|    stock|    400|\n+-----------+------+----+-------+------+------+---------+-------+\n\n"
     ]
    }
   ],
   "source": [
    "df_inner_join=df_employee.join(df_dept,df_employee.dept_id==df_dept.dept_id,\"inner\")\n",
    "df_inner_join.show()"
   ]
  },
  {
   "cell_type": "code",
   "execution_count": 0,
   "metadata": {
    "application/vnd.databricks.v1+cell": {
     "cellMetadata": {
      "byteLimit": 2048000,
      "rowLimit": 10000
     },
     "inputWidgets": {},
     "nuid": "37e9cb1a-89e2-484d-968e-1848ec9a9ed2",
     "showTitle": true,
     "tableResultSettingsMap": {},
     "title": "Full outer join"
    }
   },
   "outputs": [
    {
     "output_type": "stream",
     "name": "stdout",
     "output_type": "stream",
     "text": [
      "+-----------+------+----+-------+------+------+---------+-------+\n|employee_id|  name| doj|dept_id|gender|salary|dept_name|dept_id|\n+-----------+------+----+-------+------+------+---------+-------+\n|         10|   Raj|1999|    100|     M|  2000|       HR|    100|\n|         30|Raghav|2010|    100|      |  6000|       HR|    100|\n|         40|  Raja|2004|    100|     F|  7000|       HR|    100|\n|         20| Rahul|2002|    200|     M|  8000|   supply|    200|\n|       NULL|  NULL|NULL|   NULL|  NULL|  NULL|    sales|    300|\n|         50|  Rama|2008|    400|     F|  1000|    stock|    400|\n|         60| Rasul|2014|    500|     M|  5000|     NULL|   NULL|\n+-----------+------+----+-------+------+------+---------+-------+\n\n"
     ]
    }
   ],
   "source": [
    "df_full_join=df_employee.join(df_dept,df_employee.dept_id==df_dept.dept_id,\"full\")\n",
    "df_full_join.show()"
   ]
  },
  {
   "cell_type": "code",
   "execution_count": 0,
   "metadata": {
    "application/vnd.databricks.v1+cell": {
     "cellMetadata": {
      "byteLimit": 2048000,
      "rowLimit": 10000
     },
     "inputWidgets": {},
     "nuid": "79bb5797-8d78-458c-8890-94b5e927fe59",
     "showTitle": true,
     "tableResultSettingsMap": {},
     "title": "Left outer join"
    }
   },
   "outputs": [
    {
     "output_type": "stream",
     "name": "stdout",
     "output_type": "stream",
     "text": [
      "+-----------+------+----+-------+------+------+---------+-------+\n|employee_id|  name| doj|dept_id|gender|salary|dept_name|dept_id|\n+-----------+------+----+-------+------+------+---------+-------+\n|         10|   Raj|1999|    100|     M|  2000|       HR|    100|\n|         20| Rahul|2002|    200|     M|  8000|   supply|    200|\n|         30|Raghav|2010|    100|      |  6000|       HR|    100|\n|         40|  Raja|2004|    100|     F|  7000|       HR|    100|\n|         50|  Rama|2008|    400|     F|  1000|    stock|    400|\n|         60| Rasul|2014|    500|     M|  5000|     NULL|   NULL|\n+-----------+------+----+-------+------+------+---------+-------+\n\n"
     ]
    }
   ],
   "source": [
    "df_left_outer_join=df_employee.join(df_dept,df_employee.dept_id==df_dept.dept_id,\"left\")\n",
    "df_left_outer_join.show()"
   ]
  },
  {
   "cell_type": "code",
   "execution_count": 0,
   "metadata": {
    "application/vnd.databricks.v1+cell": {
     "cellMetadata": {
      "byteLimit": 2048000,
      "rowLimit": 10000
     },
     "inputWidgets": {},
     "nuid": "a62ab39e-c520-4222-a52c-c16f589f7630",
     "showTitle": true,
     "tableResultSettingsMap": {},
     "title": "Right outer join"
    }
   },
   "outputs": [
    {
     "output_type": "stream",
     "name": "stdout",
     "output_type": "stream",
     "text": [
      "+-----------+------+----+-------+------+------+---------+-------+\n|employee_id|  name| doj|dept_id|gender|salary|dept_name|dept_id|\n+-----------+------+----+-------+------+------+---------+-------+\n|         40|  Raja|2004|    100|     F|  7000|       HR|    100|\n|         30|Raghav|2010|    100|      |  6000|       HR|    100|\n|         10|   Raj|1999|    100|     M|  2000|       HR|    100|\n|         20| Rahul|2002|    200|     M|  8000|   supply|    200|\n|         50|  Rama|2008|    400|     F|  1000|    stock|    400|\n|       NULL|  NULL|NULL|   NULL|  NULL|  NULL|    sales|    300|\n+-----------+------+----+-------+------+------+---------+-------+\n\n"
     ]
    }
   ],
   "source": [
    "df_right_outer_join=df_employee.join(df_dept,df_employee.dept_id==df_dept.dept_id,\"right\")\n",
    "df_right_outer_join.show()"
   ]
  },
  {
   "cell_type": "markdown",
   "metadata": {
    "application/vnd.databricks.v1+cell": {
     "cellMetadata": {},
     "inputWidgets": {},
     "nuid": "0303f409-b83c-4e0b-9506-67e3063ff893",
     "showTitle": false,
     "tableResultSettingsMap": {},
     "title": ""
    }
   },
   "source": [
    "Left semi join is like iner join it will return all columns from left data frame and don't return column from right data frame and return only matching records from both data frames"
   ]
  },
  {
   "cell_type": "code",
   "execution_count": 0,
   "metadata": {
    "application/vnd.databricks.v1+cell": {
     "cellMetadata": {
      "byteLimit": 2048000,
      "rowLimit": 10000
     },
     "inputWidgets": {},
     "nuid": "0fcd2a89-12e3-4135-880c-b19233406474",
     "showTitle": true,
     "tableResultSettingsMap": {},
     "title": "Left semi join"
    }
   },
   "outputs": [
    {
     "output_type": "stream",
     "name": "stdout",
     "output_type": "stream",
     "text": [
      "+-----------+------+----+-------+------+------+\n|employee_id|  name| doj|dept_id|gender|salary|\n+-----------+------+----+-------+------+------+\n|         10|   Raj|1999|    100|     M|  2000|\n|         30|Raghav|2010|    100|      |  6000|\n|         40|  Raja|2004|    100|     F|  7000|\n|         20| Rahul|2002|    200|     M|  8000|\n|         50|  Rama|2008|    400|     F|  1000|\n+-----------+------+----+-------+------+------+\n\n"
     ]
    }
   ],
   "source": [
    "df_semi_join=df_employee.join(df_dept,df_employee.dept_id==df_dept.dept_id,\"semi\")\n",
    "df_semi_join.show()"
   ]
  },
  {
   "cell_type": "markdown",
   "metadata": {
    "application/vnd.databricks.v1+cell": {
     "cellMetadata": {},
     "inputWidgets": {},
     "nuid": "39831972-bd9d-49e9-a2fe-ed829b2b0a32",
     "showTitle": false,
     "tableResultSettingsMap": {},
     "title": ""
    }
   },
   "source": [
    "Left anti join opposite to left semi join, it will return all the records which are not common from left data frame."
   ]
  },
  {
   "cell_type": "code",
   "execution_count": 0,
   "metadata": {
    "application/vnd.databricks.v1+cell": {
     "cellMetadata": {
      "byteLimit": 2048000,
      "rowLimit": 10000
     },
     "inputWidgets": {},
     "nuid": "c751eb96-59cc-4396-851e-35606df817f2",
     "showTitle": true,
     "tableResultSettingsMap": {},
     "title": "Left anti join"
    }
   },
   "outputs": [
    {
     "output_type": "stream",
     "name": "stdout",
     "output_type": "stream",
     "text": [
      "+-----------+-----+----+-------+------+------+\n|employee_id| name| doj|dept_id|gender|salary|\n+-----------+-----+----+-------+------+------+\n|         60|Rasul|2014|    500|     M|  5000|\n+-----------+-----+----+-------+------+------+\n\n"
     ]
    }
   ],
   "source": [
    "df_anti_join=df_employee.join(df_dept,df_employee.dept_id==df_dept.dept_id,\"anti\")\n",
    "df_anti_join.show()"
   ]
  }
 ],
 "metadata": {
  "application/vnd.databricks.v1+notebook": {
   "computePreferences": null,
   "dashboards": [],
   "environmentMetadata": {
    "base_environment": "",
    "client": "1"
   },
   "language": "python",
   "notebookMetadata": {
    "pythonIndentUnit": 4
   },
   "notebookName": "dataframe_joins",
   "widgets": {}
  }
 },
 "nbformat": 4,
 "nbformat_minor": 0
}
