{
 "cells": [
  {
   "cell_type": "code",
   "execution_count": 0,
   "metadata": {
    "application/vnd.databricks.v1+cell": {
     "cellMetadata": {
      "byteLimit": 2048000,
      "rowLimit": 10000
     },
     "inputWidgets": {},
     "nuid": "950bd704-e1d3-4467-ae12-c05cb2b6bbb4",
     "showTitle": false,
     "tableResultSettingsMap": {},
     "title": ""
    }
   },
   "outputs": [
    {
     "output_type": "display_data",
     "data": {
      "text/html": [
       "<style scoped>\n",
       "  .table-result-container {\n",
       "    max-height: 300px;\n",
       "    overflow: auto;\n",
       "  }\n",
       "  table, th, td {\n",
       "    border: 1px solid black;\n",
       "    border-collapse: collapse;\n",
       "  }\n",
       "  th, td {\n",
       "    padding: 5px;\n",
       "  }\n",
       "  th {\n",
       "    text-align: left;\n",
       "  }\n",
       "</style><div class='table-result-container'><table class='table-result'><thead style='background-color: white'><tr><th>customer_id</th><th>trans_date</th><th>amount</th></tr></thead><tbody><tr><td>C1</td><td>2023-06-01</td><td>100</td></tr><tr><td>C1</td><td>2023-06-02</td><td>150</td></tr><tr><td>C1</td><td>2023-06-03</td><td>200</td></tr><tr><td>C2</td><td>2023-06-01</td><td>50</td></tr><tr><td>C2</td><td>2023-06-02</td><td>75</td></tr><tr><td>C2</td><td>2023-06-03</td><td>100</td></tr></tbody></table></div>"
      ]
     },
     "metadata": {
      "application/vnd.databricks.v1+output": {
       "addedWidgets": {},
       "aggData": [],
       "aggError": "",
       "aggOverflow": false,
       "aggSchema": [],
       "aggSeriesLimitReached": false,
       "aggType": "",
       "arguments": {},
       "columnCustomDisplayInfos": {},
       "data": [
        [
         "C1",
         "2023-06-01",
         100
        ],
        [
         "C1",
         "2023-06-02",
         150
        ],
        [
         "C1",
         "2023-06-03",
         200
        ],
        [
         "C2",
         "2023-06-01",
         50
        ],
        [
         "C2",
         "2023-06-02",
         75
        ],
        [
         "C2",
         "2023-06-03",
         100
        ]
       ],
       "datasetInfos": [],
       "dbfsResultPath": null,
       "isJsonSchema": true,
       "metadata": {},
       "overflow": false,
       "plotOptions": {
        "customPlotOptions": {},
        "displayType": "table",
        "pivotAggregation": null,
        "pivotColumns": null,
        "xColumns": null,
        "yColumns": null
       },
       "removedWidgets": [],
       "schema": [
        {
         "metadata": "{}",
         "name": "customer_id",
         "type": "\"string\""
        },
        {
         "metadata": "{}",
         "name": "trans_date",
         "type": "\"string\""
        },
        {
         "metadata": "{}",
         "name": "amount",
         "type": "\"long\""
        }
       ],
       "type": "table"
      }
     },
     "output_type": "display_data"
    }
   ],
   "source": [
    "from pyspark.sql.functions import *\n",
    "data=[\n",
    "    (\"C1\",\"2023-06-01\",100),\n",
    "    (\"C1\",\"2023-06-02\",150),\n",
    "    (\"C1\",\"2023-06-03\",200),\n",
    "    (\"C2\",\"2023-06-01\",50),\n",
    "    (\"C2\",\"2023-06-02\",75),\n",
    "    (\"C2\",\"2023-06-03\",100)\n",
    "]\n",
    "df=spark.createDataFrame(data,[\"customer_id\",\"trans_date\",\"amount\"])\n",
    "df.display()"
   ]
  },
  {
   "cell_type": "code",
   "execution_count": 0,
   "metadata": {
    "application/vnd.databricks.v1+cell": {
     "cellMetadata": {
      "byteLimit": 2048000,
      "rowLimit": 10000
     },
     "inputWidgets": {},
     "nuid": "340fce24-a84a-45d4-ae95-1c587f50dd04",
     "showTitle": false,
     "tableResultSettingsMap": {},
     "title": ""
    }
   },
   "outputs": [
    {
     "output_type": "stream",
     "name": "stdout",
     "output_type": "stream",
     "text": [
      "root\n |-- customer_id: string (nullable = true)\n |-- trans_date: string (nullable = true)\n |-- amount: long (nullable = true)\n\nroot\n |-- customer_id: string (nullable = true)\n |-- trans_date: date (nullable = true)\n |-- amount: long (nullable = true)\n\n"
     ]
    }
   ],
   "source": [
    "df.printSchema()\n",
    "df=df.withColumn(\"trans_date\",to_date(col(\"trans_date\")))\n",
    "df.printSchema()"
   ]
  },
  {
   "cell_type": "code",
   "execution_count": 0,
   "metadata": {
    "application/vnd.databricks.v1+cell": {
     "cellMetadata": {
      "byteLimit": 2048000,
      "rowLimit": 10000
     },
     "inputWidgets": {},
     "nuid": "18842986-c76d-4329-89e7-f1d1325dc08a",
     "showTitle": false,
     "tableResultSettingsMap": {},
     "title": ""
    }
   },
   "outputs": [
    {
     "output_type": "display_data",
     "data": {
      "text/html": [
       "<style scoped>\n",
       "  .table-result-container {\n",
       "    max-height: 300px;\n",
       "    overflow: auto;\n",
       "  }\n",
       "  table, th, td {\n",
       "    border: 1px solid black;\n",
       "    border-collapse: collapse;\n",
       "  }\n",
       "  th, td {\n",
       "    padding: 5px;\n",
       "  }\n",
       "  th {\n",
       "    text-align: left;\n",
       "  }\n",
       "</style><div class='table-result-container'><table class='table-result'><thead style='background-color: white'><tr><th>customer_id</th><th>trans_date</th><th>amount</th><th>fisrt_trans</th><th>last_trans</th></tr></thead><tbody><tr><td>C1</td><td>2023-06-01</td><td>100</td><td>2023-06-01</td><td>2023-06-03</td></tr><tr><td>C1</td><td>2023-06-02</td><td>150</td><td>2023-06-01</td><td>2023-06-03</td></tr><tr><td>C1</td><td>2023-06-03</td><td>200</td><td>2023-06-01</td><td>2023-06-03</td></tr><tr><td>C2</td><td>2023-06-01</td><td>50</td><td>2023-06-01</td><td>2023-06-03</td></tr><tr><td>C2</td><td>2023-06-02</td><td>75</td><td>2023-06-01</td><td>2023-06-03</td></tr><tr><td>C2</td><td>2023-06-03</td><td>100</td><td>2023-06-01</td><td>2023-06-03</td></tr></tbody></table></div>"
      ]
     },
     "metadata": {
      "application/vnd.databricks.v1+output": {
       "addedWidgets": {},
       "aggData": [],
       "aggError": "",
       "aggOverflow": false,
       "aggSchema": [],
       "aggSeriesLimitReached": false,
       "aggType": "",
       "arguments": {},
       "columnCustomDisplayInfos": {},
       "data": [
        [
         "C1",
         "2023-06-01",
         100,
         "2023-06-01",
         "2023-06-03"
        ],
        [
         "C1",
         "2023-06-02",
         150,
         "2023-06-01",
         "2023-06-03"
        ],
        [
         "C1",
         "2023-06-03",
         200,
         "2023-06-01",
         "2023-06-03"
        ],
        [
         "C2",
         "2023-06-01",
         50,
         "2023-06-01",
         "2023-06-03"
        ],
        [
         "C2",
         "2023-06-02",
         75,
         "2023-06-01",
         "2023-06-03"
        ],
        [
         "C2",
         "2023-06-03",
         100,
         "2023-06-01",
         "2023-06-03"
        ]
       ],
       "datasetInfos": [],
       "dbfsResultPath": null,
       "isJsonSchema": true,
       "metadata": {},
       "overflow": false,
       "plotOptions": {
        "customPlotOptions": {},
        "displayType": "table",
        "pivotAggregation": null,
        "pivotColumns": null,
        "xColumns": null,
        "yColumns": null
       },
       "removedWidgets": [],
       "schema": [
        {
         "metadata": "{}",
         "name": "customer_id",
         "type": "\"string\""
        },
        {
         "metadata": "{}",
         "name": "trans_date",
         "type": "\"date\""
        },
        {
         "metadata": "{}",
         "name": "amount",
         "type": "\"long\""
        },
        {
         "metadata": "{}",
         "name": "fisrt_trans",
         "type": "\"date\""
        },
        {
         "metadata": "{}",
         "name": "last_trans",
         "type": "\"date\""
        }
       ],
       "type": "table"
      }
     },
     "output_type": "display_data"
    }
   ],
   "source": [
    "from pyspark.sql.window import Window\n",
    "windowspec=Window.partitionBy(\"customer_id\")\n",
    "res=df.withColumn(\"fisrt_trans\",first(\"trans_date\").over(windowspec))\\\n",
    "    .withColumn(\"last_trans\",last(\"trans_date\").over(windowspec))\n",
    "display(res)"
   ]
  }
 ],
 "metadata": {
  "application/vnd.databricks.v1+notebook": {
   "computePreferences": null,
   "dashboards": [],
   "environmentMetadata": {
    "base_environment": "",
    "client": "1"
   },
   "language": "python",
   "notebookMetadata": {
    "pythonIndentUnit": 4
   },
   "notebookName": "Windows:First and last",
   "widgets": {}
  }
 },
 "nbformat": 4,
 "nbformat_minor": 0
}
