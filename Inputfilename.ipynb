{
 "cells": [
  {
   "cell_type": "code",
   "execution_count": 0,
   "metadata": {
    "application/vnd.databricks.v1+cell": {
     "cellMetadata": {},
     "inputWidgets": {},
     "nuid": "41d46ab4-a62d-4d83-a8a8-e97ff6002521",
     "showTitle": false,
     "tableResultSettingsMap": {},
     "title": ""
    }
   },
   "outputs": [],
   "source": [
    "dbutils.fs.mount(\n",
    "    source=\"wabs://training@storage_name.blob.core.windows.net\",\n",
    "    mount_point=\"/mnt/adls\",\n",
    "    extra_configs=\n",
    "    {\"fs.azure.account.key.storage_name.blob.core.windows.net\":\"key_value\"}\n",
    ")"
   ]
  },
  {
   "cell_type": "code",
   "execution_count": 0,
   "metadata": {
    "application/vnd.databricks.v1+cell": {
     "cellMetadata": {},
     "inputWidgets": {},
     "nuid": "3aba3401-4bcb-4386-b4db-4edfbb1cf0c1",
     "showTitle": false,
     "tableResultSettingsMap": {},
     "title": ""
    }
   },
   "outputs": [],
   "source": [
    "from pyspark.sql.functiosns import *\n",
    "df=spark.read.option('sep','|').option('header',True).csv(root_path+'\\*\\*\\')\n",
    "display(df)"
   ]
  },
  {
   "cell_type": "code",
   "execution_count": 0,
   "metadata": {
    "application/vnd.databricks.v1+cell": {
     "cellMetadata": {},
     "inputWidgets": {},
     "nuid": "060d6e71-a05c-4d05-9e9f-b70761d92be1",
     "showTitle": false,
     "tableResultSettingsMap": {},
     "title": ""
    }
   },
   "outputs": [],
   "source": [
    "df_inputfile=df.withColumn('inputfilename',input_file_name())\n",
    "display(df_inputfile)"
   ]
  }
 ],
 "metadata": {
  "application/vnd.databricks.v1+notebook": {
   "computePreferences": null,
   "dashboards": [],
   "environmentMetadata": {
    "base_environment": "",
    "client": "1"
   },
   "language": "python",
   "notebookMetadata": {
    "pythonIndentUnit": 4
   },
   "notebookName": "Inputfilename",
   "widgets": {}
  }
 },
 "nbformat": 4,
 "nbformat_minor": 0
}
