{
 "cells": [
  {
   "cell_type": "code",
   "execution_count": 0,
   "metadata": {
    "application/vnd.databricks.v1+cell": {
     "cellMetadata": {
      "byteLimit": 2048000,
      "rowLimit": 10000
     },
     "inputWidgets": {},
     "nuid": "1f1165b0-52eb-4f07-a942-ea6ddbc58423",
     "showTitle": false,
     "tableResultSettingsMap": {},
     "title": ""
    }
   },
   "outputs": [
    {
     "output_type": "stream",
     "name": "stdout",
     "output_type": "stream",
     "text": [
      "+----------+------------+---------+---------+---------+-----+-----+----------+----------+----+\n|product_id|product_name|    brand|suppliers| quantity|price|start|       end|    active| _10|\n+----------+------------+---------+---------+---------+-----+-----+----------+----------+----+\n|         1|    productA|category1|   brandx|supplier1|  100|10.99|2023-01-01|2023-01-10|true|\n|         2|    productB|category2|   brandy|supplier2|   50|15.49|2023-01-02|2023-01-12|true|\n|         3|    productC|category3|   brandx|supplier3|   75| 8.49|2023-01-03|2023-01-14|true|\n|         4|    productD|category4|   brandz|supplier4|  200|10.49|2023-01-04|2023-01-16|true|\n|         5|    productE|category5|   brandy|supplier5|   60|12.49|2023-01-05|2023-01-18|true|\n+----------+------------+---------+---------+---------+-----+-----+----------+----------+----+\n\n"
     ]
    }
   ],
   "source": [
    "data=[\n",
    "    (1,\"productA\",\"category1\",\"brandx\",\"supplier1\",100,10.99,\"2023-01-01\",\"2023-01-10\",True),\n",
    "    (2,\"productB\",\"category2\",\"brandy\",\"supplier2\",50,15.49,\"2023-01-02\",\"2023-01-12\",True),\n",
    "    (3,\"productC\",\"category3\",\"brandx\",\"supplier3\",75,8.49,\"2023-01-03\",\"2023-01-14\",True),\n",
    "    (4,\"productD\",\"category4\",\"brandz\",\"supplier4\",200,10.49,\"2023-01-04\",\"2023-01-16\",True),\n",
    "    (5,\"productE\",\"category5\",\"brandy\",\"supplier5\",60,12.49,\"2023-01-05\",\"2023-01-18\",True),\n",
    "]\n",
    "columns=[\"product_id\",\"product_name\",\"brand\",\"suppliers\",\"quantity\",\"price\",\"start\",\"end\",\"active\"]\n",
    "df=spark.createDataFrame(data,columns)\n",
    "df.show()"
   ]
  },
  {
   "cell_type": "code",
   "execution_count": 0,
   "metadata": {
    "application/vnd.databricks.v1+cell": {
     "cellMetadata": {
      "byteLimit": 2048000,
      "rowLimit": 10000
     },
     "inputWidgets": {},
     "nuid": "027f2cba-f509-4799-8b40-603f6f54e0e3",
     "showTitle": false,
     "tableResultSettingsMap": {},
     "title": ""
    }
   },
   "outputs": [],
   "source": [
    "df.createOrReplaceTempView(\"product\")"
   ]
  },
  {
   "cell_type": "code",
   "execution_count": 0,
   "metadata": {
    "application/vnd.databricks.v1+cell": {
     "cellMetadata": {
      "byteLimit": 2048000,
      "implicitDf": true,
      "rowLimit": 10000
     },
     "inputWidgets": {},
     "nuid": "959f4340-52e9-4495-85f0-e5146816795d",
     "showTitle": false,
     "tableResultSettingsMap": {},
     "title": ""
    }
   },
   "outputs": [
    {
     "output_type": "display_data",
     "data": {
      "text/html": [
       "<style scoped>\n",
       "  .table-result-container {\n",
       "    max-height: 300px;\n",
       "    overflow: auto;\n",
       "  }\n",
       "  table, th, td {\n",
       "    border: 1px solid black;\n",
       "    border-collapse: collapse;\n",
       "  }\n",
       "  th, td {\n",
       "    padding: 5px;\n",
       "  }\n",
       "  th {\n",
       "    text-align: left;\n",
       "  }\n",
       "</style><div class='table-result-container'><table class='table-result'><thead style='background-color: white'><tr><th>product_id</th><th>product_name</th><th>brand</th><th>suppliers</th><th>quantity</th><th>price</th><th>active</th><th>_10</th></tr></thead><tbody><tr><td>1</td><td>productA</td><td>category1</td><td>brandx</td><td>supplier1</td><td>100</td><td>2023-01-10</td><td>true</td></tr><tr><td>2</td><td>productB</td><td>category2</td><td>brandy</td><td>supplier2</td><td>50</td><td>2023-01-12</td><td>true</td></tr><tr><td>3</td><td>productC</td><td>category3</td><td>brandx</td><td>supplier3</td><td>75</td><td>2023-01-14</td><td>true</td></tr><tr><td>4</td><td>productD</td><td>category4</td><td>brandz</td><td>supplier4</td><td>200</td><td>2023-01-16</td><td>true</td></tr><tr><td>5</td><td>productE</td><td>category5</td><td>brandy</td><td>supplier5</td><td>60</td><td>2023-01-18</td><td>true</td></tr></tbody></table></div>"
      ]
     },
     "metadata": {
      "application/vnd.databricks.v1+output": {
       "addedWidgets": {},
       "aggData": [],
       "aggError": "",
       "aggOverflow": false,
       "aggSchema": [],
       "aggSeriesLimitReached": false,
       "aggType": "",
       "arguments": {},
       "columnCustomDisplayInfos": {},
       "data": [
        [
         1,
         "productA",
         "category1",
         "brandx",
         "supplier1",
         100,
         "2023-01-10",
         true
        ],
        [
         2,
         "productB",
         "category2",
         "brandy",
         "supplier2",
         50,
         "2023-01-12",
         true
        ],
        [
         3,
         "productC",
         "category3",
         "brandx",
         "supplier3",
         75,
         "2023-01-14",
         true
        ],
        [
         4,
         "productD",
         "category4",
         "brandz",
         "supplier4",
         200,
         "2023-01-16",
         true
        ],
        [
         5,
         "productE",
         "category5",
         "brandy",
         "supplier5",
         60,
         "2023-01-18",
         true
        ]
       ],
       "datasetInfos": [],
       "dbfsResultPath": null,
       "isJsonSchema": true,
       "metadata": {
        "createTempViewForImplicitDf": true,
        "dataframeName": "_sqldf",
        "executionCount": 4
       },
       "overflow": false,
       "plotOptions": {
        "customPlotOptions": {},
        "displayType": "table",
        "pivotAggregation": null,
        "pivotColumns": null,
        "xColumns": null,
        "yColumns": null
       },
       "removedWidgets": [],
       "schema": [
        {
         "metadata": "{}",
         "name": "product_id",
         "type": "\"long\""
        },
        {
         "metadata": "{}",
         "name": "product_name",
         "type": "\"string\""
        },
        {
         "metadata": "{}",
         "name": "brand",
         "type": "\"string\""
        },
        {
         "metadata": "{}",
         "name": "suppliers",
         "type": "\"string\""
        },
        {
         "metadata": "{}",
         "name": "quantity",
         "type": "\"string\""
        },
        {
         "metadata": "{}",
         "name": "price",
         "type": "\"long\""
        },
        {
         "metadata": "{}",
         "name": "active",
         "type": "\"string\""
        },
        {
         "metadata": "{}",
         "name": "_10",
         "type": "\"boolean\""
        }
       ],
       "type": "table"
      }
     },
     "output_type": "display_data"
    }
   ],
   "source": [
    "%sql\n",
    "Select * EXCEPT(start,end) from product"
   ]
  },
  {
   "cell_type": "code",
   "execution_count": 0,
   "metadata": {
    "application/vnd.databricks.v1+cell": {
     "cellMetadata": {
      "byteLimit": 2048000,
      "rowLimit": 10000
     },
     "inputWidgets": {},
     "nuid": "e8836c92-8daf-4265-8392-1a1e7a95e28c",
     "showTitle": false,
     "tableResultSettingsMap": {},
     "title": ""
    }
   },
   "outputs": [
    {
     "output_type": "stream",
     "name": "stdout",
     "output_type": "stream",
     "text": [
      "+----------+------------+---------+---------+---------+-----+----------+----+\n|product_id|product_name|    brand|suppliers| quantity|price|    active| _10|\n+----------+------------+---------+---------+---------+-----+----------+----+\n|         1|    productA|category1|   brandx|supplier1|  100|2023-01-10|true|\n|         2|    productB|category2|   brandy|supplier2|   50|2023-01-12|true|\n|         3|    productC|category3|   brandx|supplier3|   75|2023-01-14|true|\n|         4|    productD|category4|   brandz|supplier4|  200|2023-01-16|true|\n|         5|    productE|category5|   brandy|supplier5|   60|2023-01-18|true|\n+----------+------------+---------+---------+---------+-----+----------+----+\n\n"
     ]
    }
   ],
   "source": [
    "df2=df.select([col for col in df.columns if col not in(\"start\",\"end\")])\n",
    "df2.show()"
   ]
  }
 ],
 "metadata": {
  "application/vnd.databricks.v1+notebook": {
   "computePreferences": null,
   "dashboards": [],
   "environmentMetadata": {
    "base_environment": "",
    "client": "1"
   },
   "language": "python",
   "notebookMetadata": {
    "mostRecentlyExecutedCommandWithImplicitDF": {
     "commandId": 2009041343475708,
     "dataframes": [
      "_sqldf"
     ]
    },
    "pythonIndentUnit": 4
   },
   "notebookName": "ExceptColumns",
   "widgets": {}
  }
 },
 "nbformat": 4,
 "nbformat_minor": 0
}
