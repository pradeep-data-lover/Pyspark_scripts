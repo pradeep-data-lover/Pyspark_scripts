{
 "cells": [
  {
   "cell_type": "code",
   "execution_count": 0,
   "metadata": {
    "application/vnd.databricks.v1+cell": {
     "cellMetadata": {
      "byteLimit": 2048000,
      "implicitDf": true,
      "rowLimit": 10000
     },
     "inputWidgets": {},
     "nuid": "748648a9-2de3-46a9-96e7-f0ddf6dc9d07",
     "showTitle": false,
     "tableResultSettingsMap": {},
     "title": ""
    }
   },
   "outputs": [
    {
     "output_type": "display_data",
     "data": {
      "text/html": [
       "<style scoped>\n",
       "  .table-result-container {\n",
       "    max-height: 300px;\n",
       "    overflow: auto;\n",
       "  }\n",
       "  table, th, td {\n",
       "    border: 1px solid black;\n",
       "    border-collapse: collapse;\n",
       "  }\n",
       "  th, td {\n",
       "    padding: 5px;\n",
       "  }\n",
       "  th {\n",
       "    text-align: left;\n",
       "  }\n",
       "</style><div class='table-result-container'><table class='table-result'><thead style='background-color: white'><tr></tr></thead><tbody></tbody></table></div>"
      ]
     },
     "metadata": {
      "application/vnd.databricks.v1+output": {
       "addedWidgets": {},
       "aggData": [],
       "aggError": "",
       "aggOverflow": false,
       "aggSchema": [],
       "aggSeriesLimitReached": false,
       "aggType": "",
       "arguments": {},
       "columnCustomDisplayInfos": {},
       "data": [],
       "datasetInfos": [],
       "dbfsResultPath": null,
       "isJsonSchema": true,
       "metadata": {
        "dataframeName": null
       },
       "overflow": false,
       "plotOptions": {
        "customPlotOptions": {},
        "displayType": "table",
        "pivotAggregation": null,
        "pivotColumns": null,
        "xColumns": null,
        "yColumns": null
       },
       "removedWidgets": [],
       "schema": [],
       "type": "table"
      }
     },
     "output_type": "display_data"
    }
   ],
   "source": [
    "%sql\n",
    "CREATE table audit_log(operation string,\n",
    "                        updated_time TIMESTAMP,\n",
    "                        user_name STRING,\n",
    "                        notebook_name STRING,\n",
    "                        numTargetRowsUpdated INT,\n",
    "                        numTargetRowsInserted INT,\n",
    "                        numTargetRowDeleted INT)"
   ]
  },
  {
   "cell_type": "code",
   "execution_count": 0,
   "metadata": {
    "application/vnd.databricks.v1+cell": {
     "cellMetadata": {
      "byteLimit": 2048000,
      "implicitDf": true,
      "rowLimit": 10000
     },
     "inputWidgets": {},
     "nuid": "0f0f0522-fa7d-4a2c-806e-ff32c8e47f18",
     "showTitle": false,
     "tableResultSettingsMap": {},
     "title": ""
    }
   },
   "outputs": [
    {
     "output_type": "display_data",
     "data": {
      "text/html": [
       "<style scoped>\n",
       "  .table-result-container {\n",
       "    max-height: 300px;\n",
       "    overflow: auto;\n",
       "  }\n",
       "  table, th, td {\n",
       "    border: 1px solid black;\n",
       "    border-collapse: collapse;\n",
       "  }\n",
       "  th, td {\n",
       "    padding: 5px;\n",
       "  }\n",
       "  th {\n",
       "    text-align: left;\n",
       "  }\n",
       "</style><div class='table-result-container'><table class='table-result'><thead style='background-color: white'><tr><th>operation</th><th>updated_time</th><th>user_name</th><th>notebook_name</th><th>numTargetRowsUpdated</th><th>numTargetRowsInserted</th><th>numTargetRowDeleted</th></tr></thead><tbody><tr><td>MERGE</td><td>2025-02-14T12:07:22.686Z</td><td>pradeep114843@gmail.com</td><td>/Users/pradeep114843@gmail.com/Audit log in delta lake</td><td>3</td><td>4</td><td>0</td></tr></tbody></table></div>"
      ]
     },
     "metadata": {
      "application/vnd.databricks.v1+output": {
       "addedWidgets": {},
       "aggData": [],
       "aggError": "",
       "aggOverflow": false,
       "aggSchema": [],
       "aggSeriesLimitReached": false,
       "aggType": "",
       "arguments": {},
       "columnCustomDisplayInfos": {},
       "data": [
        [
         "MERGE",
         "2025-02-14T12:07:22.686Z",
         "pradeep114843@gmail.com",
         "/Users/pradeep114843@gmail.com/Audit log in delta lake",
         3,
         4,
         0
        ]
       ],
       "datasetInfos": [],
       "dbfsResultPath": null,
       "isJsonSchema": true,
       "metadata": {
        "createTempViewForImplicitDf": true,
        "dataframeName": "_sqldf",
        "executionCount": 31
       },
       "overflow": false,
       "plotOptions": {
        "customPlotOptions": {},
        "displayType": "table",
        "pivotAggregation": null,
        "pivotColumns": null,
        "xColumns": null,
        "yColumns": null
       },
       "removedWidgets": [],
       "schema": [
        {
         "metadata": "{}",
         "name": "operation",
         "type": "\"string\""
        },
        {
         "metadata": "{}",
         "name": "updated_time",
         "type": "\"timestamp\""
        },
        {
         "metadata": "{}",
         "name": "user_name",
         "type": "\"string\""
        },
        {
         "metadata": "{}",
         "name": "notebook_name",
         "type": "\"string\""
        },
        {
         "metadata": "{}",
         "name": "numTargetRowsUpdated",
         "type": "\"integer\""
        },
        {
         "metadata": "{}",
         "name": "numTargetRowsInserted",
         "type": "\"integer\""
        },
        {
         "metadata": "{}",
         "name": "numTargetRowDeleted",
         "type": "\"integer\""
        }
       ],
       "type": "table"
      }
     },
     "output_type": "display_data"
    }
   ],
   "source": [
    "%sql\n",
    "select * from audit_log"
   ]
  },
  {
   "cell_type": "code",
   "execution_count": 0,
   "metadata": {
    "application/vnd.databricks.v1+cell": {
     "cellMetadata": {
      "byteLimit": 2048000,
      "rowLimit": 10000
     },
     "inputWidgets": {},
     "nuid": "ed9095b6-879c-43d6-b3fd-52a7897c0d55",
     "showTitle": false,
     "tableResultSettingsMap": {},
     "title": ""
    }
   },
   "outputs": [
    {
     "output_type": "display_data",
     "data": {
      "text/html": [
       "<style scoped>\n",
       "  .table-result-container {\n",
       "    max-height: 300px;\n",
       "    overflow: auto;\n",
       "  }\n",
       "  table, th, td {\n",
       "    border: 1px solid black;\n",
       "    border-collapse: collapse;\n",
       "  }\n",
       "  th, td {\n",
       "    padding: 5px;\n",
       "  }\n",
       "  th {\n",
       "    text-align: left;\n",
       "  }\n",
       "</style><div class='table-result-container'><table class='table-result'><thead style='background-color: white'><tr><th>version</th><th>timestamp</th><th>userId</th><th>userName</th><th>operation</th><th>operationParameters</th><th>job</th><th>notebook</th><th>clusterId</th><th>readVersion</th><th>isolationLevel</th><th>isBlindAppend</th><th>operationMetrics</th><th>userMetadata</th><th>engineInfo</th></tr></thead><tbody><tr><td>7</td><td>2025-02-14T08:05:51Z</td><td>4991788245327114</td><td>pradeep114843@gmail.com</td><td>MERGE</td><td>Map(predicate -> [\"(emp_id#19047 = emp_id#19007)\"], matchedPredicates -> [{\"actionType\":\"update\"}], statsOnLoad -> false, notMatchedBySourcePredicates -> [], notMatchedPredicates -> [{\"actionType\":\"insert\"}])</td><td>null</td><td>List(4230555448895631)</td><td>0214-054906-uzg63spj</td><td>6</td><td>WriteSerializable</td><td>false</td><td>Map(numTargetRowsCopied -> 0, numTargetRowsDeleted -> 0, numTargetFilesAdded -> 1, numTargetBytesAdded -> 1374, numTargetBytesRemoved -> 0, numTargetDeletionVectorsAdded -> 0, numTargetRowsMatchedUpdated -> 0, executionTimeMs -> 3044, materializeSourceTimeMs -> 622, numTargetRowsInserted -> 1, numTargetRowsMatchedDeleted -> 0, numTargetDeletionVectorsUpdated -> 0, scanTimeMs -> 889, numTargetRowsUpdated -> 0, numOutputRows -> 1, numTargetDeletionVectorsRemoved -> 0, numTargetRowsNotMatchedBySourceUpdated -> 0, numTargetChangeFilesAdded -> 0, numSourceRows -> 1, numTargetFilesRemoved -> 0, numTargetRowsNotMatchedBySourceDeleted -> 0, rewriteTimeMs -> 1312)</td><td>null</td><td>Databricks-Runtime/15.4.x-scala2.12</td></tr><tr><td>6</td><td>2025-02-14T08:03:55Z</td><td>4991788245327114</td><td>pradeep114843@gmail.com</td><td>MERGE</td><td>Map(predicate -> [\"(emp_id#19047 = emp_id#19007)\"], matchedPredicates -> [{\"actionType\":\"update\"}], statsOnLoad -> false, notMatchedBySourcePredicates -> [], notMatchedPredicates -> [{\"actionType\":\"insert\"}])</td><td>null</td><td>List(4230555448895631)</td><td>0214-054906-uzg63spj</td><td>5</td><td>WriteSerializable</td><td>false</td><td>Map(numTargetRowsCopied -> 0, numTargetRowsDeleted -> 0, numTargetFilesAdded -> 1, numTargetBytesAdded -> 1338, numTargetBytesRemoved -> 0, numTargetDeletionVectorsAdded -> 0, numTargetRowsMatchedUpdated -> 0, executionTimeMs -> 3025, materializeSourceTimeMs -> 226, numTargetRowsInserted -> 1, numTargetRowsMatchedDeleted -> 0, numTargetDeletionVectorsUpdated -> 0, scanTimeMs -> 1246, numTargetRowsUpdated -> 0, numOutputRows -> 1, numTargetDeletionVectorsRemoved -> 0, numTargetRowsNotMatchedBySourceUpdated -> 0, numTargetChangeFilesAdded -> 0, numSourceRows -> 1, numTargetFilesRemoved -> 0, numTargetRowsNotMatchedBySourceDeleted -> 0, rewriteTimeMs -> 1459)</td><td>null</td><td>Databricks-Runtime/15.4.x-scala2.12</td></tr><tr><td>5</td><td>2025-02-14T08:03:11Z</td><td>4991788245327114</td><td>pradeep114843@gmail.com</td><td>MERGE</td><td>Map(predicate -> [\"(emp_id#18103 = emp_id#18078)\"], matchedPredicates -> [{\"actionType\":\"update\"}], statsOnLoad -> false, notMatchedBySourcePredicates -> [], notMatchedPredicates -> [{\"actionType\":\"insert\"}])</td><td>null</td><td>List(4230555448895631)</td><td>0214-054906-uzg63spj</td><td>4</td><td>WriteSerializable</td><td>false</td><td>Map(numTargetRowsCopied -> 0, numTargetRowsDeleted -> 0, numTargetFilesAdded -> 1, numTargetBytesAdded -> 1338, numTargetBytesRemoved -> 0, numTargetDeletionVectorsAdded -> 0, numTargetRowsMatchedUpdated -> 0, executionTimeMs -> 2265, materializeSourceTimeMs -> 263, numTargetRowsInserted -> 1, numTargetRowsMatchedDeleted -> 0, numTargetDeletionVectorsUpdated -> 0, scanTimeMs -> 975, numTargetRowsUpdated -> 0, numOutputRows -> 1, numTargetDeletionVectorsRemoved -> 0, numTargetRowsNotMatchedBySourceUpdated -> 0, numTargetChangeFilesAdded -> 0, numSourceRows -> 1, numTargetFilesRemoved -> 0, numTargetRowsNotMatchedBySourceDeleted -> 0, rewriteTimeMs -> 945)</td><td>null</td><td>Databricks-Runtime/15.4.x-scala2.12</td></tr><tr><td>4</td><td>2025-02-14T08:02:29Z</td><td>4991788245327114</td><td>pradeep114843@gmail.com</td><td>MERGE</td><td>Map(predicate -> [\"(emp_id#17074 = emp_id#12806)\"], matchedPredicates -> [{\"actionType\":\"update\"}], statsOnLoad -> false, notMatchedBySourcePredicates -> [], notMatchedPredicates -> [{\"actionType\":\"insert\"}])</td><td>null</td><td>List(4230555448895631)</td><td>0214-054906-uzg63spj</td><td>3</td><td>WriteSerializable</td><td>false</td><td>Map(numTargetRowsCopied -> 0, numTargetRowsDeleted -> 0, numTargetFilesAdded -> 1, numTargetBytesAdded -> 1403, numTargetBytesRemoved -> 1374, numTargetDeletionVectorsAdded -> 0, numTargetRowsMatchedUpdated -> 1, executionTimeMs -> 3650, materializeSourceTimeMs -> 314, numTargetRowsInserted -> 0, numTargetRowsMatchedDeleted -> 0, numTargetDeletionVectorsUpdated -> 0, scanTimeMs -> 1176, numTargetRowsUpdated -> 1, numOutputRows -> 1, numTargetDeletionVectorsRemoved -> 0, numTargetRowsNotMatchedBySourceUpdated -> 0, numTargetChangeFilesAdded -> 0, numSourceRows -> 1, numTargetFilesRemoved -> 1, numTargetRowsNotMatchedBySourceDeleted -> 0, rewriteTimeMs -> 2008)</td><td>null</td><td>Databricks-Runtime/15.4.x-scala2.12</td></tr><tr><td>3</td><td>2025-02-14T08:01:26Z</td><td>4991788245327114</td><td>pradeep114843@gmail.com</td><td>MERGE</td><td>Map(predicate -> [\"(emp_id#15086 = emp_id#15018)\"], matchedPredicates -> [{\"actionType\":\"update\"}], statsOnLoad -> false, notMatchedBySourcePredicates -> [], notMatchedPredicates -> [{\"actionType\":\"insert\"}])</td><td>null</td><td>List(4230555448895631)</td><td>0214-054906-uzg63spj</td><td>2</td><td>WriteSerializable</td><td>false</td><td>Map(numTargetRowsCopied -> 0, numTargetRowsDeleted -> 0, numTargetFilesAdded -> 1, numTargetBytesAdded -> 1374, numTargetBytesRemoved -> 1515, numTargetDeletionVectorsAdded -> 0, numTargetRowsMatchedUpdated -> 1, executionTimeMs -> 4111, materializeSourceTimeMs -> 335, numTargetRowsInserted -> 0, numTargetRowsMatchedDeleted -> 0, numTargetDeletionVectorsUpdated -> 0, scanTimeMs -> 1544, numTargetRowsUpdated -> 1, numOutputRows -> 1, numTargetDeletionVectorsRemoved -> 0, numTargetRowsNotMatchedBySourceUpdated -> 0, numTargetChangeFilesAdded -> 0, numSourceRows -> 1, numTargetFilesRemoved -> 1, numTargetRowsNotMatchedBySourceDeleted -> 0, rewriteTimeMs -> 2055)</td><td>null</td><td>Databricks-Runtime/15.4.x-scala2.12</td></tr><tr><td>2</td><td>2025-02-14T08:00:32Z</td><td>4991788245327114</td><td>pradeep114843@gmail.com</td><td>MERGE</td><td>Map(predicate -> [\"(emp_id#15086 = emp_id#15018)\"], matchedPredicates -> [{\"actionType\":\"update\"}], statsOnLoad -> false, notMatchedBySourcePredicates -> [], notMatchedPredicates -> [{\"actionType\":\"insert\"}])</td><td>null</td><td>List(4230555448895631)</td><td>0214-054906-uzg63spj</td><td>1</td><td>WriteSerializable</td><td>false</td><td>Map(numTargetRowsCopied -> 0, numTargetRowsDeleted -> 0, numTargetFilesAdded -> 1, numTargetBytesAdded -> 1515, numTargetBytesRemoved -> 1403, numTargetDeletionVectorsAdded -> 0, numTargetRowsMatchedUpdated -> 1, executionTimeMs -> 6056, materializeSourceTimeMs -> 732, numTargetRowsInserted -> 0, numTargetRowsMatchedDeleted -> 0, numTargetDeletionVectorsUpdated -> 0, scanTimeMs -> 2460, numTargetRowsUpdated -> 1, numOutputRows -> 1, numTargetDeletionVectorsRemoved -> 0, numTargetRowsNotMatchedBySourceUpdated -> 0, numTargetChangeFilesAdded -> 0, numSourceRows -> 1, numTargetFilesRemoved -> 1, numTargetRowsNotMatchedBySourceDeleted -> 0, rewriteTimeMs -> 2382)</td><td>null</td><td>Databricks-Runtime/15.4.x-scala2.12</td></tr><tr><td>1</td><td>2025-02-14T07:46:14Z</td><td>4991788245327114</td><td>pradeep114843@gmail.com</td><td>MERGE</td><td>Map(predicate -> [\"(emp_id#14089 = emp_id#12806)\"], matchedPredicates -> [{\"actionType\":\"update\"}], statsOnLoad -> false, notMatchedBySourcePredicates -> [], notMatchedPredicates -> [{\"actionType\":\"insert\"}])</td><td>null</td><td>List(4230555448895631)</td><td>0214-054906-uzg63spj</td><td>0</td><td>WriteSerializable</td><td>false</td><td>Map(numTargetRowsCopied -> 0, numTargetRowsDeleted -> 0, numTargetFilesAdded -> 1, numTargetBytesAdded -> 1403, numTargetBytesRemoved -> 0, numTargetDeletionVectorsAdded -> 0, numTargetRowsMatchedUpdated -> 0, executionTimeMs -> 3922, materializeSourceTimeMs -> 716, numTargetRowsInserted -> 1, numTargetRowsMatchedDeleted -> 0, numTargetDeletionVectorsUpdated -> 0, scanTimeMs -> 1885, numTargetRowsUpdated -> 0, numOutputRows -> 1, numTargetDeletionVectorsRemoved -> 0, numTargetRowsNotMatchedBySourceUpdated -> 0, numTargetChangeFilesAdded -> 0, numSourceRows -> 1, numTargetFilesRemoved -> 0, numTargetRowsNotMatchedBySourceDeleted -> 0, rewriteTimeMs -> 1164)</td><td>null</td><td>Databricks-Runtime/15.4.x-scala2.12</td></tr><tr><td>0</td><td>2025-02-14T07:34:29Z</td><td>4991788245327114</td><td>pradeep114843@gmail.com</td><td>CREATE OR REPLACE TABLE</td><td>Map(partitionBy -> [], clusterBy -> [], description -> null, isManaged -> false, properties -> {}, statsOnLoad -> false)</td><td>null</td><td>List(4230555448895631)</td><td>0214-054906-uzg63spj</td><td>null</td><td>WriteSerializable</td><td>true</td><td>Map()</td><td>null</td><td>Databricks-Runtime/15.4.x-scala2.12</td></tr></tbody></table></div>"
      ]
     },
     "metadata": {
      "application/vnd.databricks.v1+output": {
       "addedWidgets": {},
       "aggData": [],
       "aggError": "",
       "aggOverflow": false,
       "aggSchema": [],
       "aggSeriesLimitReached": false,
       "aggType": "",
       "arguments": {},
       "columnCustomDisplayInfos": {},
       "data": [
        [
         7,
         "2025-02-14T08:05:51Z",
         "4991788245327114",
         "pradeep114843@gmail.com",
         "MERGE",
         {
          "matchedPredicates": "[{\"actionType\":\"update\"}]",
          "notMatchedBySourcePredicates": "[]",
          "notMatchedPredicates": "[{\"actionType\":\"insert\"}]",
          "predicate": "[\"(emp_id#19047 = emp_id#19007)\"]",
          "statsOnLoad": "false"
         },
         null,
         [
          "4230555448895631"
         ],
         "0214-054906-uzg63spj",
         6,
         "WriteSerializable",
         false,
         {
          "executionTimeMs": "3044",
          "materializeSourceTimeMs": "622",
          "numOutputRows": "1",
          "numSourceRows": "1",
          "numTargetBytesAdded": "1374",
          "numTargetBytesRemoved": "0",
          "numTargetChangeFilesAdded": "0",
          "numTargetDeletionVectorsAdded": "0",
          "numTargetDeletionVectorsRemoved": "0",
          "numTargetDeletionVectorsUpdated": "0",
          "numTargetFilesAdded": "1",
          "numTargetFilesRemoved": "0",
          "numTargetRowsCopied": "0",
          "numTargetRowsDeleted": "0",
          "numTargetRowsInserted": "1",
          "numTargetRowsMatchedDeleted": "0",
          "numTargetRowsMatchedUpdated": "0",
          "numTargetRowsNotMatchedBySourceDeleted": "0",
          "numTargetRowsNotMatchedBySourceUpdated": "0",
          "numTargetRowsUpdated": "0",
          "rewriteTimeMs": "1312",
          "scanTimeMs": "889"
         },
         null,
         "Databricks-Runtime/15.4.x-scala2.12"
        ],
        [
         6,
         "2025-02-14T08:03:55Z",
         "4991788245327114",
         "pradeep114843@gmail.com",
         "MERGE",
         {
          "matchedPredicates": "[{\"actionType\":\"update\"}]",
          "notMatchedBySourcePredicates": "[]",
          "notMatchedPredicates": "[{\"actionType\":\"insert\"}]",
          "predicate": "[\"(emp_id#19047 = emp_id#19007)\"]",
          "statsOnLoad": "false"
         },
         null,
         [
          "4230555448895631"
         ],
         "0214-054906-uzg63spj",
         5,
         "WriteSerializable",
         false,
         {
          "executionTimeMs": "3025",
          "materializeSourceTimeMs": "226",
          "numOutputRows": "1",
          "numSourceRows": "1",
          "numTargetBytesAdded": "1338",
          "numTargetBytesRemoved": "0",
          "numTargetChangeFilesAdded": "0",
          "numTargetDeletionVectorsAdded": "0",
          "numTargetDeletionVectorsRemoved": "0",
          "numTargetDeletionVectorsUpdated": "0",
          "numTargetFilesAdded": "1",
          "numTargetFilesRemoved": "0",
          "numTargetRowsCopied": "0",
          "numTargetRowsDeleted": "0",
          "numTargetRowsInserted": "1",
          "numTargetRowsMatchedDeleted": "0",
          "numTargetRowsMatchedUpdated": "0",
          "numTargetRowsNotMatchedBySourceDeleted": "0",
          "numTargetRowsNotMatchedBySourceUpdated": "0",
          "numTargetRowsUpdated": "0",
          "rewriteTimeMs": "1459",
          "scanTimeMs": "1246"
         },
         null,
         "Databricks-Runtime/15.4.x-scala2.12"
        ],
        [
         5,
         "2025-02-14T08:03:11Z",
         "4991788245327114",
         "pradeep114843@gmail.com",
         "MERGE",
         {
          "matchedPredicates": "[{\"actionType\":\"update\"}]",
          "notMatchedBySourcePredicates": "[]",
          "notMatchedPredicates": "[{\"actionType\":\"insert\"}]",
          "predicate": "[\"(emp_id#18103 = emp_id#18078)\"]",
          "statsOnLoad": "false"
         },
         null,
         [
          "4230555448895631"
         ],
         "0214-054906-uzg63spj",
         4,
         "WriteSerializable",
         false,
         {
          "executionTimeMs": "2265",
          "materializeSourceTimeMs": "263",
          "numOutputRows": "1",
          "numSourceRows": "1",
          "numTargetBytesAdded": "1338",
          "numTargetBytesRemoved": "0",
          "numTargetChangeFilesAdded": "0",
          "numTargetDeletionVectorsAdded": "0",
          "numTargetDeletionVectorsRemoved": "0",
          "numTargetDeletionVectorsUpdated": "0",
          "numTargetFilesAdded": "1",
          "numTargetFilesRemoved": "0",
          "numTargetRowsCopied": "0",
          "numTargetRowsDeleted": "0",
          "numTargetRowsInserted": "1",
          "numTargetRowsMatchedDeleted": "0",
          "numTargetRowsMatchedUpdated": "0",
          "numTargetRowsNotMatchedBySourceDeleted": "0",
          "numTargetRowsNotMatchedBySourceUpdated": "0",
          "numTargetRowsUpdated": "0",
          "rewriteTimeMs": "945",
          "scanTimeMs": "975"
         },
         null,
         "Databricks-Runtime/15.4.x-scala2.12"
        ],
        [
         4,
         "2025-02-14T08:02:29Z",
         "4991788245327114",
         "pradeep114843@gmail.com",
         "MERGE",
         {
          "matchedPredicates": "[{\"actionType\":\"update\"}]",
          "notMatchedBySourcePredicates": "[]",
          "notMatchedPredicates": "[{\"actionType\":\"insert\"}]",
          "predicate": "[\"(emp_id#17074 = emp_id#12806)\"]",
          "statsOnLoad": "false"
         },
         null,
         [
          "4230555448895631"
         ],
         "0214-054906-uzg63spj",
         3,
         "WriteSerializable",
         false,
         {
          "executionTimeMs": "3650",
          "materializeSourceTimeMs": "314",
          "numOutputRows": "1",
          "numSourceRows": "1",
          "numTargetBytesAdded": "1403",
          "numTargetBytesRemoved": "1374",
          "numTargetChangeFilesAdded": "0",
          "numTargetDeletionVectorsAdded": "0",
          "numTargetDeletionVectorsRemoved": "0",
          "numTargetDeletionVectorsUpdated": "0",
          "numTargetFilesAdded": "1",
          "numTargetFilesRemoved": "1",
          "numTargetRowsCopied": "0",
          "numTargetRowsDeleted": "0",
          "numTargetRowsInserted": "0",
          "numTargetRowsMatchedDeleted": "0",
          "numTargetRowsMatchedUpdated": "1",
          "numTargetRowsNotMatchedBySourceDeleted": "0",
          "numTargetRowsNotMatchedBySourceUpdated": "0",
          "numTargetRowsUpdated": "1",
          "rewriteTimeMs": "2008",
          "scanTimeMs": "1176"
         },
         null,
         "Databricks-Runtime/15.4.x-scala2.12"
        ],
        [
         3,
         "2025-02-14T08:01:26Z",
         "4991788245327114",
         "pradeep114843@gmail.com",
         "MERGE",
         {
          "matchedPredicates": "[{\"actionType\":\"update\"}]",
          "notMatchedBySourcePredicates": "[]",
          "notMatchedPredicates": "[{\"actionType\":\"insert\"}]",
          "predicate": "[\"(emp_id#15086 = emp_id#15018)\"]",
          "statsOnLoad": "false"
         },
         null,
         [
          "4230555448895631"
         ],
         "0214-054906-uzg63spj",
         2,
         "WriteSerializable",
         false,
         {
          "executionTimeMs": "4111",
          "materializeSourceTimeMs": "335",
          "numOutputRows": "1",
          "numSourceRows": "1",
          "numTargetBytesAdded": "1374",
          "numTargetBytesRemoved": "1515",
          "numTargetChangeFilesAdded": "0",
          "numTargetDeletionVectorsAdded": "0",
          "numTargetDeletionVectorsRemoved": "0",
          "numTargetDeletionVectorsUpdated": "0",
          "numTargetFilesAdded": "1",
          "numTargetFilesRemoved": "1",
          "numTargetRowsCopied": "0",
          "numTargetRowsDeleted": "0",
          "numTargetRowsInserted": "0",
          "numTargetRowsMatchedDeleted": "0",
          "numTargetRowsMatchedUpdated": "1",
          "numTargetRowsNotMatchedBySourceDeleted": "0",
          "numTargetRowsNotMatchedBySourceUpdated": "0",
          "numTargetRowsUpdated": "1",
          "rewriteTimeMs": "2055",
          "scanTimeMs": "1544"
         },
         null,
         "Databricks-Runtime/15.4.x-scala2.12"
        ],
        [
         2,
         "2025-02-14T08:00:32Z",
         "4991788245327114",
         "pradeep114843@gmail.com",
         "MERGE",
         {
          "matchedPredicates": "[{\"actionType\":\"update\"}]",
          "notMatchedBySourcePredicates": "[]",
          "notMatchedPredicates": "[{\"actionType\":\"insert\"}]",
          "predicate": "[\"(emp_id#15086 = emp_id#15018)\"]",
          "statsOnLoad": "false"
         },
         null,
         [
          "4230555448895631"
         ],
         "0214-054906-uzg63spj",
         1,
         "WriteSerializable",
         false,
         {
          "executionTimeMs": "6056",
          "materializeSourceTimeMs": "732",
          "numOutputRows": "1",
          "numSourceRows": "1",
          "numTargetBytesAdded": "1515",
          "numTargetBytesRemoved": "1403",
          "numTargetChangeFilesAdded": "0",
          "numTargetDeletionVectorsAdded": "0",
          "numTargetDeletionVectorsRemoved": "0",
          "numTargetDeletionVectorsUpdated": "0",
          "numTargetFilesAdded": "1",
          "numTargetFilesRemoved": "1",
          "numTargetRowsCopied": "0",
          "numTargetRowsDeleted": "0",
          "numTargetRowsInserted": "0",
          "numTargetRowsMatchedDeleted": "0",
          "numTargetRowsMatchedUpdated": "1",
          "numTargetRowsNotMatchedBySourceDeleted": "0",
          "numTargetRowsNotMatchedBySourceUpdated": "0",
          "numTargetRowsUpdated": "1",
          "rewriteTimeMs": "2382",
          "scanTimeMs": "2460"
         },
         null,
         "Databricks-Runtime/15.4.x-scala2.12"
        ],
        [
         1,
         "2025-02-14T07:46:14Z",
         "4991788245327114",
         "pradeep114843@gmail.com",
         "MERGE",
         {
          "matchedPredicates": "[{\"actionType\":\"update\"}]",
          "notMatchedBySourcePredicates": "[]",
          "notMatchedPredicates": "[{\"actionType\":\"insert\"}]",
          "predicate": "[\"(emp_id#14089 = emp_id#12806)\"]",
          "statsOnLoad": "false"
         },
         null,
         [
          "4230555448895631"
         ],
         "0214-054906-uzg63spj",
         0,
         "WriteSerializable",
         false,
         {
          "executionTimeMs": "3922",
          "materializeSourceTimeMs": "716",
          "numOutputRows": "1",
          "numSourceRows": "1",
          "numTargetBytesAdded": "1403",
          "numTargetBytesRemoved": "0",
          "numTargetChangeFilesAdded": "0",
          "numTargetDeletionVectorsAdded": "0",
          "numTargetDeletionVectorsRemoved": "0",
          "numTargetDeletionVectorsUpdated": "0",
          "numTargetFilesAdded": "1",
          "numTargetFilesRemoved": "0",
          "numTargetRowsCopied": "0",
          "numTargetRowsDeleted": "0",
          "numTargetRowsInserted": "1",
          "numTargetRowsMatchedDeleted": "0",
          "numTargetRowsMatchedUpdated": "0",
          "numTargetRowsNotMatchedBySourceDeleted": "0",
          "numTargetRowsNotMatchedBySourceUpdated": "0",
          "numTargetRowsUpdated": "0",
          "rewriteTimeMs": "1164",
          "scanTimeMs": "1885"
         },
         null,
         "Databricks-Runtime/15.4.x-scala2.12"
        ],
        [
         0,
         "2025-02-14T07:34:29Z",
         "4991788245327114",
         "pradeep114843@gmail.com",
         "CREATE OR REPLACE TABLE",
         {
          "clusterBy": "[]",
          "description": null,
          "isManaged": "false",
          "partitionBy": "[]",
          "properties": "{}",
          "statsOnLoad": "false"
         },
         null,
         [
          "4230555448895631"
         ],
         "0214-054906-uzg63spj",
         null,
         "WriteSerializable",
         true,
         {},
         null,
         "Databricks-Runtime/15.4.x-scala2.12"
        ]
       ],
       "datasetInfos": [],
       "dbfsResultPath": null,
       "isJsonSchema": true,
       "metadata": {},
       "overflow": false,
       "plotOptions": {
        "customPlotOptions": {},
        "displayType": "table",
        "pivotAggregation": null,
        "pivotColumns": null,
        "xColumns": null,
        "yColumns": null
       },
       "removedWidgets": [],
       "schema": [
        {
         "metadata": "{}",
         "name": "version",
         "type": "\"long\""
        },
        {
         "metadata": "{}",
         "name": "timestamp",
         "type": "\"timestamp\""
        },
        {
         "metadata": "{}",
         "name": "userId",
         "type": "\"string\""
        },
        {
         "metadata": "{}",
         "name": "userName",
         "type": "\"string\""
        },
        {
         "metadata": "{}",
         "name": "operation",
         "type": "\"string\""
        },
        {
         "metadata": "{}",
         "name": "operationParameters",
         "type": "{\"type\":\"map\",\"keyType\":\"string\",\"valueType\":\"string\",\"valueContainsNull\":true}"
        },
        {
         "metadata": "{}",
         "name": "job",
         "type": "{\"type\":\"struct\",\"fields\":[{\"name\":\"jobId\",\"type\":\"string\",\"nullable\":true,\"metadata\":{}},{\"name\":\"jobName\",\"type\":\"string\",\"nullable\":true,\"metadata\":{}},{\"name\":\"jobRunId\",\"type\":\"string\",\"nullable\":true,\"metadata\":{}},{\"name\":\"runId\",\"type\":\"string\",\"nullable\":true,\"metadata\":{}},{\"name\":\"jobOwnerId\",\"type\":\"string\",\"nullable\":true,\"metadata\":{}},{\"name\":\"triggerType\",\"type\":\"string\",\"nullable\":true,\"metadata\":{}}]}"
        },
        {
         "metadata": "{}",
         "name": "notebook",
         "type": "{\"type\":\"struct\",\"fields\":[{\"name\":\"notebookId\",\"type\":\"string\",\"nullable\":true,\"metadata\":{}}]}"
        },
        {
         "metadata": "{}",
         "name": "clusterId",
         "type": "\"string\""
        },
        {
         "metadata": "{}",
         "name": "readVersion",
         "type": "\"long\""
        },
        {
         "metadata": "{}",
         "name": "isolationLevel",
         "type": "\"string\""
        },
        {
         "metadata": "{}",
         "name": "isBlindAppend",
         "type": "\"boolean\""
        },
        {
         "metadata": "{}",
         "name": "operationMetrics",
         "type": "{\"type\":\"map\",\"keyType\":\"string\",\"valueType\":\"string\",\"valueContainsNull\":true}"
        },
        {
         "metadata": "{}",
         "name": "userMetadata",
         "type": "\"string\""
        },
        {
         "metadata": "{}",
         "name": "engineInfo",
         "type": "\"string\""
        }
       ],
       "type": "table"
      }
     },
     "output_type": "display_data"
    }
   ],
   "source": [
    "from pyspark.sql.functions import *\n",
    "from delta.tables import *\n",
    "delta_df=DeltaTable.forPath(spark,'/FileStore/tables/delta_merge')\n",
    "operation_df=delta_df.history()\n",
    "display(operation_df)"
   ]
  },
  {
   "cell_type": "code",
   "execution_count": 0,
   "metadata": {
    "application/vnd.databricks.v1+cell": {
     "cellMetadata": {
      "byteLimit": 2048000,
      "rowLimit": 10000
     },
     "inputWidgets": {},
     "nuid": "5964920b-8ded-4562-980a-2d749e91c2a8",
     "showTitle": false,
     "tableResultSettingsMap": {},
     "title": ""
    }
   },
   "outputs": [
    {
     "output_type": "display_data",
     "data": {
      "text/html": [
       "<style scoped>\n",
       "  .table-result-container {\n",
       "    max-height: 300px;\n",
       "    overflow: auto;\n",
       "  }\n",
       "  table, th, td {\n",
       "    border: 1px solid black;\n",
       "    border-collapse: collapse;\n",
       "  }\n",
       "  th, td {\n",
       "    padding: 5px;\n",
       "  }\n",
       "  th {\n",
       "    text-align: left;\n",
       "  }\n",
       "</style><div class='table-result-container'><table class='table-result'><thead style='background-color: white'><tr><th>userName</th><th>operation</th><th>notebook</th><th>key</th><th>value</th></tr></thead><tbody><tr><td>pradeep114843@gmail.com</td><td>MERGE</td><td>List(4230555448895631)</td><td>numTargetRowsCopied</td><td>0</td></tr><tr><td>pradeep114843@gmail.com</td><td>MERGE</td><td>List(4230555448895631)</td><td>numTargetRowsDeleted</td><td>0</td></tr><tr><td>pradeep114843@gmail.com</td><td>MERGE</td><td>List(4230555448895631)</td><td>numTargetFilesAdded</td><td>1</td></tr><tr><td>pradeep114843@gmail.com</td><td>MERGE</td><td>List(4230555448895631)</td><td>numTargetBytesAdded</td><td>1374</td></tr><tr><td>pradeep114843@gmail.com</td><td>MERGE</td><td>List(4230555448895631)</td><td>numTargetBytesRemoved</td><td>0</td></tr><tr><td>pradeep114843@gmail.com</td><td>MERGE</td><td>List(4230555448895631)</td><td>numTargetDeletionVectorsAdded</td><td>0</td></tr><tr><td>pradeep114843@gmail.com</td><td>MERGE</td><td>List(4230555448895631)</td><td>numTargetRowsMatchedUpdated</td><td>0</td></tr><tr><td>pradeep114843@gmail.com</td><td>MERGE</td><td>List(4230555448895631)</td><td>executionTimeMs</td><td>3044</td></tr><tr><td>pradeep114843@gmail.com</td><td>MERGE</td><td>List(4230555448895631)</td><td>materializeSourceTimeMs</td><td>622</td></tr><tr><td>pradeep114843@gmail.com</td><td>MERGE</td><td>List(4230555448895631)</td><td>numTargetRowsInserted</td><td>1</td></tr><tr><td>pradeep114843@gmail.com</td><td>MERGE</td><td>List(4230555448895631)</td><td>numTargetRowsMatchedDeleted</td><td>0</td></tr><tr><td>pradeep114843@gmail.com</td><td>MERGE</td><td>List(4230555448895631)</td><td>numTargetDeletionVectorsUpdated</td><td>0</td></tr><tr><td>pradeep114843@gmail.com</td><td>MERGE</td><td>List(4230555448895631)</td><td>scanTimeMs</td><td>889</td></tr><tr><td>pradeep114843@gmail.com</td><td>MERGE</td><td>List(4230555448895631)</td><td>numTargetRowsUpdated</td><td>0</td></tr><tr><td>pradeep114843@gmail.com</td><td>MERGE</td><td>List(4230555448895631)</td><td>numOutputRows</td><td>1</td></tr><tr><td>pradeep114843@gmail.com</td><td>MERGE</td><td>List(4230555448895631)</td><td>numTargetDeletionVectorsRemoved</td><td>0</td></tr><tr><td>pradeep114843@gmail.com</td><td>MERGE</td><td>List(4230555448895631)</td><td>numTargetRowsNotMatchedBySourceUpdated</td><td>0</td></tr><tr><td>pradeep114843@gmail.com</td><td>MERGE</td><td>List(4230555448895631)</td><td>numTargetChangeFilesAdded</td><td>0</td></tr><tr><td>pradeep114843@gmail.com</td><td>MERGE</td><td>List(4230555448895631)</td><td>numSourceRows</td><td>1</td></tr><tr><td>pradeep114843@gmail.com</td><td>MERGE</td><td>List(4230555448895631)</td><td>numTargetFilesRemoved</td><td>0</td></tr><tr><td>pradeep114843@gmail.com</td><td>MERGE</td><td>List(4230555448895631)</td><td>numTargetRowsNotMatchedBySourceDeleted</td><td>0</td></tr><tr><td>pradeep114843@gmail.com</td><td>MERGE</td><td>List(4230555448895631)</td><td>rewriteTimeMs</td><td>1312</td></tr><tr><td>pradeep114843@gmail.com</td><td>MERGE</td><td>List(4230555448895631)</td><td>numTargetRowsCopied</td><td>0</td></tr><tr><td>pradeep114843@gmail.com</td><td>MERGE</td><td>List(4230555448895631)</td><td>numTargetRowsDeleted</td><td>0</td></tr><tr><td>pradeep114843@gmail.com</td><td>MERGE</td><td>List(4230555448895631)</td><td>numTargetFilesAdded</td><td>1</td></tr><tr><td>pradeep114843@gmail.com</td><td>MERGE</td><td>List(4230555448895631)</td><td>numTargetBytesAdded</td><td>1338</td></tr><tr><td>pradeep114843@gmail.com</td><td>MERGE</td><td>List(4230555448895631)</td><td>numTargetBytesRemoved</td><td>0</td></tr><tr><td>pradeep114843@gmail.com</td><td>MERGE</td><td>List(4230555448895631)</td><td>numTargetDeletionVectorsAdded</td><td>0</td></tr><tr><td>pradeep114843@gmail.com</td><td>MERGE</td><td>List(4230555448895631)</td><td>numTargetRowsMatchedUpdated</td><td>0</td></tr><tr><td>pradeep114843@gmail.com</td><td>MERGE</td><td>List(4230555448895631)</td><td>executionTimeMs</td><td>3025</td></tr><tr><td>pradeep114843@gmail.com</td><td>MERGE</td><td>List(4230555448895631)</td><td>materializeSourceTimeMs</td><td>226</td></tr><tr><td>pradeep114843@gmail.com</td><td>MERGE</td><td>List(4230555448895631)</td><td>numTargetRowsInserted</td><td>1</td></tr><tr><td>pradeep114843@gmail.com</td><td>MERGE</td><td>List(4230555448895631)</td><td>numTargetRowsMatchedDeleted</td><td>0</td></tr><tr><td>pradeep114843@gmail.com</td><td>MERGE</td><td>List(4230555448895631)</td><td>numTargetDeletionVectorsUpdated</td><td>0</td></tr><tr><td>pradeep114843@gmail.com</td><td>MERGE</td><td>List(4230555448895631)</td><td>scanTimeMs</td><td>1246</td></tr><tr><td>pradeep114843@gmail.com</td><td>MERGE</td><td>List(4230555448895631)</td><td>numTargetRowsUpdated</td><td>0</td></tr><tr><td>pradeep114843@gmail.com</td><td>MERGE</td><td>List(4230555448895631)</td><td>numOutputRows</td><td>1</td></tr><tr><td>pradeep114843@gmail.com</td><td>MERGE</td><td>List(4230555448895631)</td><td>numTargetDeletionVectorsRemoved</td><td>0</td></tr><tr><td>pradeep114843@gmail.com</td><td>MERGE</td><td>List(4230555448895631)</td><td>numTargetRowsNotMatchedBySourceUpdated</td><td>0</td></tr><tr><td>pradeep114843@gmail.com</td><td>MERGE</td><td>List(4230555448895631)</td><td>numTargetChangeFilesAdded</td><td>0</td></tr><tr><td>pradeep114843@gmail.com</td><td>MERGE</td><td>List(4230555448895631)</td><td>numSourceRows</td><td>1</td></tr><tr><td>pradeep114843@gmail.com</td><td>MERGE</td><td>List(4230555448895631)</td><td>numTargetFilesRemoved</td><td>0</td></tr><tr><td>pradeep114843@gmail.com</td><td>MERGE</td><td>List(4230555448895631)</td><td>numTargetRowsNotMatchedBySourceDeleted</td><td>0</td></tr><tr><td>pradeep114843@gmail.com</td><td>MERGE</td><td>List(4230555448895631)</td><td>rewriteTimeMs</td><td>1459</td></tr><tr><td>pradeep114843@gmail.com</td><td>MERGE</td><td>List(4230555448895631)</td><td>numTargetRowsCopied</td><td>0</td></tr><tr><td>pradeep114843@gmail.com</td><td>MERGE</td><td>List(4230555448895631)</td><td>numTargetRowsDeleted</td><td>0</td></tr><tr><td>pradeep114843@gmail.com</td><td>MERGE</td><td>List(4230555448895631)</td><td>numTargetFilesAdded</td><td>1</td></tr><tr><td>pradeep114843@gmail.com</td><td>MERGE</td><td>List(4230555448895631)</td><td>numTargetBytesAdded</td><td>1338</td></tr><tr><td>pradeep114843@gmail.com</td><td>MERGE</td><td>List(4230555448895631)</td><td>numTargetBytesRemoved</td><td>0</td></tr><tr><td>pradeep114843@gmail.com</td><td>MERGE</td><td>List(4230555448895631)</td><td>numTargetDeletionVectorsAdded</td><td>0</td></tr><tr><td>pradeep114843@gmail.com</td><td>MERGE</td><td>List(4230555448895631)</td><td>numTargetRowsMatchedUpdated</td><td>0</td></tr><tr><td>pradeep114843@gmail.com</td><td>MERGE</td><td>List(4230555448895631)</td><td>executionTimeMs</td><td>2265</td></tr><tr><td>pradeep114843@gmail.com</td><td>MERGE</td><td>List(4230555448895631)</td><td>materializeSourceTimeMs</td><td>263</td></tr><tr><td>pradeep114843@gmail.com</td><td>MERGE</td><td>List(4230555448895631)</td><td>numTargetRowsInserted</td><td>1</td></tr><tr><td>pradeep114843@gmail.com</td><td>MERGE</td><td>List(4230555448895631)</td><td>numTargetRowsMatchedDeleted</td><td>0</td></tr><tr><td>pradeep114843@gmail.com</td><td>MERGE</td><td>List(4230555448895631)</td><td>numTargetDeletionVectorsUpdated</td><td>0</td></tr><tr><td>pradeep114843@gmail.com</td><td>MERGE</td><td>List(4230555448895631)</td><td>scanTimeMs</td><td>975</td></tr><tr><td>pradeep114843@gmail.com</td><td>MERGE</td><td>List(4230555448895631)</td><td>numTargetRowsUpdated</td><td>0</td></tr><tr><td>pradeep114843@gmail.com</td><td>MERGE</td><td>List(4230555448895631)</td><td>numOutputRows</td><td>1</td></tr><tr><td>pradeep114843@gmail.com</td><td>MERGE</td><td>List(4230555448895631)</td><td>numTargetDeletionVectorsRemoved</td><td>0</td></tr><tr><td>pradeep114843@gmail.com</td><td>MERGE</td><td>List(4230555448895631)</td><td>numTargetRowsNotMatchedBySourceUpdated</td><td>0</td></tr><tr><td>pradeep114843@gmail.com</td><td>MERGE</td><td>List(4230555448895631)</td><td>numTargetChangeFilesAdded</td><td>0</td></tr><tr><td>pradeep114843@gmail.com</td><td>MERGE</td><td>List(4230555448895631)</td><td>numSourceRows</td><td>1</td></tr><tr><td>pradeep114843@gmail.com</td><td>MERGE</td><td>List(4230555448895631)</td><td>numTargetFilesRemoved</td><td>0</td></tr><tr><td>pradeep114843@gmail.com</td><td>MERGE</td><td>List(4230555448895631)</td><td>numTargetRowsNotMatchedBySourceDeleted</td><td>0</td></tr><tr><td>pradeep114843@gmail.com</td><td>MERGE</td><td>List(4230555448895631)</td><td>rewriteTimeMs</td><td>945</td></tr><tr><td>pradeep114843@gmail.com</td><td>MERGE</td><td>List(4230555448895631)</td><td>numTargetRowsCopied</td><td>0</td></tr><tr><td>pradeep114843@gmail.com</td><td>MERGE</td><td>List(4230555448895631)</td><td>numTargetRowsDeleted</td><td>0</td></tr><tr><td>pradeep114843@gmail.com</td><td>MERGE</td><td>List(4230555448895631)</td><td>numTargetFilesAdded</td><td>1</td></tr><tr><td>pradeep114843@gmail.com</td><td>MERGE</td><td>List(4230555448895631)</td><td>numTargetBytesAdded</td><td>1403</td></tr><tr><td>pradeep114843@gmail.com</td><td>MERGE</td><td>List(4230555448895631)</td><td>numTargetBytesRemoved</td><td>1374</td></tr><tr><td>pradeep114843@gmail.com</td><td>MERGE</td><td>List(4230555448895631)</td><td>numTargetDeletionVectorsAdded</td><td>0</td></tr><tr><td>pradeep114843@gmail.com</td><td>MERGE</td><td>List(4230555448895631)</td><td>numTargetRowsMatchedUpdated</td><td>1</td></tr><tr><td>pradeep114843@gmail.com</td><td>MERGE</td><td>List(4230555448895631)</td><td>executionTimeMs</td><td>3650</td></tr><tr><td>pradeep114843@gmail.com</td><td>MERGE</td><td>List(4230555448895631)</td><td>materializeSourceTimeMs</td><td>314</td></tr><tr><td>pradeep114843@gmail.com</td><td>MERGE</td><td>List(4230555448895631)</td><td>numTargetRowsInserted</td><td>0</td></tr><tr><td>pradeep114843@gmail.com</td><td>MERGE</td><td>List(4230555448895631)</td><td>numTargetRowsMatchedDeleted</td><td>0</td></tr><tr><td>pradeep114843@gmail.com</td><td>MERGE</td><td>List(4230555448895631)</td><td>numTargetDeletionVectorsUpdated</td><td>0</td></tr><tr><td>pradeep114843@gmail.com</td><td>MERGE</td><td>List(4230555448895631)</td><td>scanTimeMs</td><td>1176</td></tr><tr><td>pradeep114843@gmail.com</td><td>MERGE</td><td>List(4230555448895631)</td><td>numTargetRowsUpdated</td><td>1</td></tr><tr><td>pradeep114843@gmail.com</td><td>MERGE</td><td>List(4230555448895631)</td><td>numOutputRows</td><td>1</td></tr><tr><td>pradeep114843@gmail.com</td><td>MERGE</td><td>List(4230555448895631)</td><td>numTargetDeletionVectorsRemoved</td><td>0</td></tr><tr><td>pradeep114843@gmail.com</td><td>MERGE</td><td>List(4230555448895631)</td><td>numTargetRowsNotMatchedBySourceUpdated</td><td>0</td></tr><tr><td>pradeep114843@gmail.com</td><td>MERGE</td><td>List(4230555448895631)</td><td>numTargetChangeFilesAdded</td><td>0</td></tr><tr><td>pradeep114843@gmail.com</td><td>MERGE</td><td>List(4230555448895631)</td><td>numSourceRows</td><td>1</td></tr><tr><td>pradeep114843@gmail.com</td><td>MERGE</td><td>List(4230555448895631)</td><td>numTargetFilesRemoved</td><td>1</td></tr><tr><td>pradeep114843@gmail.com</td><td>MERGE</td><td>List(4230555448895631)</td><td>numTargetRowsNotMatchedBySourceDeleted</td><td>0</td></tr><tr><td>pradeep114843@gmail.com</td><td>MERGE</td><td>List(4230555448895631)</td><td>rewriteTimeMs</td><td>2008</td></tr><tr><td>pradeep114843@gmail.com</td><td>MERGE</td><td>List(4230555448895631)</td><td>numTargetRowsCopied</td><td>0</td></tr><tr><td>pradeep114843@gmail.com</td><td>MERGE</td><td>List(4230555448895631)</td><td>numTargetRowsDeleted</td><td>0</td></tr><tr><td>pradeep114843@gmail.com</td><td>MERGE</td><td>List(4230555448895631)</td><td>numTargetFilesAdded</td><td>1</td></tr><tr><td>pradeep114843@gmail.com</td><td>MERGE</td><td>List(4230555448895631)</td><td>numTargetBytesAdded</td><td>1374</td></tr><tr><td>pradeep114843@gmail.com</td><td>MERGE</td><td>List(4230555448895631)</td><td>numTargetBytesRemoved</td><td>1515</td></tr><tr><td>pradeep114843@gmail.com</td><td>MERGE</td><td>List(4230555448895631)</td><td>numTargetDeletionVectorsAdded</td><td>0</td></tr><tr><td>pradeep114843@gmail.com</td><td>MERGE</td><td>List(4230555448895631)</td><td>numTargetRowsMatchedUpdated</td><td>1</td></tr><tr><td>pradeep114843@gmail.com</td><td>MERGE</td><td>List(4230555448895631)</td><td>executionTimeMs</td><td>4111</td></tr><tr><td>pradeep114843@gmail.com</td><td>MERGE</td><td>List(4230555448895631)</td><td>materializeSourceTimeMs</td><td>335</td></tr><tr><td>pradeep114843@gmail.com</td><td>MERGE</td><td>List(4230555448895631)</td><td>numTargetRowsInserted</td><td>0</td></tr><tr><td>pradeep114843@gmail.com</td><td>MERGE</td><td>List(4230555448895631)</td><td>numTargetRowsMatchedDeleted</td><td>0</td></tr><tr><td>pradeep114843@gmail.com</td><td>MERGE</td><td>List(4230555448895631)</td><td>numTargetDeletionVectorsUpdated</td><td>0</td></tr><tr><td>pradeep114843@gmail.com</td><td>MERGE</td><td>List(4230555448895631)</td><td>scanTimeMs</td><td>1544</td></tr><tr><td>pradeep114843@gmail.com</td><td>MERGE</td><td>List(4230555448895631)</td><td>numTargetRowsUpdated</td><td>1</td></tr><tr><td>pradeep114843@gmail.com</td><td>MERGE</td><td>List(4230555448895631)</td><td>numOutputRows</td><td>1</td></tr><tr><td>pradeep114843@gmail.com</td><td>MERGE</td><td>List(4230555448895631)</td><td>numTargetDeletionVectorsRemoved</td><td>0</td></tr><tr><td>pradeep114843@gmail.com</td><td>MERGE</td><td>List(4230555448895631)</td><td>numTargetRowsNotMatchedBySourceUpdated</td><td>0</td></tr><tr><td>pradeep114843@gmail.com</td><td>MERGE</td><td>List(4230555448895631)</td><td>numTargetChangeFilesAdded</td><td>0</td></tr><tr><td>pradeep114843@gmail.com</td><td>MERGE</td><td>List(4230555448895631)</td><td>numSourceRows</td><td>1</td></tr><tr><td>pradeep114843@gmail.com</td><td>MERGE</td><td>List(4230555448895631)</td><td>numTargetFilesRemoved</td><td>1</td></tr><tr><td>pradeep114843@gmail.com</td><td>MERGE</td><td>List(4230555448895631)</td><td>numTargetRowsNotMatchedBySourceDeleted</td><td>0</td></tr><tr><td>pradeep114843@gmail.com</td><td>MERGE</td><td>List(4230555448895631)</td><td>rewriteTimeMs</td><td>2055</td></tr><tr><td>pradeep114843@gmail.com</td><td>MERGE</td><td>List(4230555448895631)</td><td>numTargetRowsCopied</td><td>0</td></tr><tr><td>pradeep114843@gmail.com</td><td>MERGE</td><td>List(4230555448895631)</td><td>numTargetRowsDeleted</td><td>0</td></tr><tr><td>pradeep114843@gmail.com</td><td>MERGE</td><td>List(4230555448895631)</td><td>numTargetFilesAdded</td><td>1</td></tr><tr><td>pradeep114843@gmail.com</td><td>MERGE</td><td>List(4230555448895631)</td><td>numTargetBytesAdded</td><td>1515</td></tr><tr><td>pradeep114843@gmail.com</td><td>MERGE</td><td>List(4230555448895631)</td><td>numTargetBytesRemoved</td><td>1403</td></tr><tr><td>pradeep114843@gmail.com</td><td>MERGE</td><td>List(4230555448895631)</td><td>numTargetDeletionVectorsAdded</td><td>0</td></tr><tr><td>pradeep114843@gmail.com</td><td>MERGE</td><td>List(4230555448895631)</td><td>numTargetRowsMatchedUpdated</td><td>1</td></tr><tr><td>pradeep114843@gmail.com</td><td>MERGE</td><td>List(4230555448895631)</td><td>executionTimeMs</td><td>6056</td></tr><tr><td>pradeep114843@gmail.com</td><td>MERGE</td><td>List(4230555448895631)</td><td>materializeSourceTimeMs</td><td>732</td></tr><tr><td>pradeep114843@gmail.com</td><td>MERGE</td><td>List(4230555448895631)</td><td>numTargetRowsInserted</td><td>0</td></tr><tr><td>pradeep114843@gmail.com</td><td>MERGE</td><td>List(4230555448895631)</td><td>numTargetRowsMatchedDeleted</td><td>0</td></tr><tr><td>pradeep114843@gmail.com</td><td>MERGE</td><td>List(4230555448895631)</td><td>numTargetDeletionVectorsUpdated</td><td>0</td></tr><tr><td>pradeep114843@gmail.com</td><td>MERGE</td><td>List(4230555448895631)</td><td>scanTimeMs</td><td>2460</td></tr><tr><td>pradeep114843@gmail.com</td><td>MERGE</td><td>List(4230555448895631)</td><td>numTargetRowsUpdated</td><td>1</td></tr><tr><td>pradeep114843@gmail.com</td><td>MERGE</td><td>List(4230555448895631)</td><td>numOutputRows</td><td>1</td></tr><tr><td>pradeep114843@gmail.com</td><td>MERGE</td><td>List(4230555448895631)</td><td>numTargetDeletionVectorsRemoved</td><td>0</td></tr><tr><td>pradeep114843@gmail.com</td><td>MERGE</td><td>List(4230555448895631)</td><td>numTargetRowsNotMatchedBySourceUpdated</td><td>0</td></tr><tr><td>pradeep114843@gmail.com</td><td>MERGE</td><td>List(4230555448895631)</td><td>numTargetChangeFilesAdded</td><td>0</td></tr><tr><td>pradeep114843@gmail.com</td><td>MERGE</td><td>List(4230555448895631)</td><td>numSourceRows</td><td>1</td></tr><tr><td>pradeep114843@gmail.com</td><td>MERGE</td><td>List(4230555448895631)</td><td>numTargetFilesRemoved</td><td>1</td></tr><tr><td>pradeep114843@gmail.com</td><td>MERGE</td><td>List(4230555448895631)</td><td>numTargetRowsNotMatchedBySourceDeleted</td><td>0</td></tr><tr><td>pradeep114843@gmail.com</td><td>MERGE</td><td>List(4230555448895631)</td><td>rewriteTimeMs</td><td>2382</td></tr><tr><td>pradeep114843@gmail.com</td><td>MERGE</td><td>List(4230555448895631)</td><td>numTargetRowsCopied</td><td>0</td></tr><tr><td>pradeep114843@gmail.com</td><td>MERGE</td><td>List(4230555448895631)</td><td>numTargetRowsDeleted</td><td>0</td></tr><tr><td>pradeep114843@gmail.com</td><td>MERGE</td><td>List(4230555448895631)</td><td>numTargetFilesAdded</td><td>1</td></tr><tr><td>pradeep114843@gmail.com</td><td>MERGE</td><td>List(4230555448895631)</td><td>numTargetBytesAdded</td><td>1403</td></tr><tr><td>pradeep114843@gmail.com</td><td>MERGE</td><td>List(4230555448895631)</td><td>numTargetBytesRemoved</td><td>0</td></tr><tr><td>pradeep114843@gmail.com</td><td>MERGE</td><td>List(4230555448895631)</td><td>numTargetDeletionVectorsAdded</td><td>0</td></tr><tr><td>pradeep114843@gmail.com</td><td>MERGE</td><td>List(4230555448895631)</td><td>numTargetRowsMatchedUpdated</td><td>0</td></tr><tr><td>pradeep114843@gmail.com</td><td>MERGE</td><td>List(4230555448895631)</td><td>executionTimeMs</td><td>3922</td></tr><tr><td>pradeep114843@gmail.com</td><td>MERGE</td><td>List(4230555448895631)</td><td>materializeSourceTimeMs</td><td>716</td></tr><tr><td>pradeep114843@gmail.com</td><td>MERGE</td><td>List(4230555448895631)</td><td>numTargetRowsInserted</td><td>1</td></tr><tr><td>pradeep114843@gmail.com</td><td>MERGE</td><td>List(4230555448895631)</td><td>numTargetRowsMatchedDeleted</td><td>0</td></tr><tr><td>pradeep114843@gmail.com</td><td>MERGE</td><td>List(4230555448895631)</td><td>numTargetDeletionVectorsUpdated</td><td>0</td></tr><tr><td>pradeep114843@gmail.com</td><td>MERGE</td><td>List(4230555448895631)</td><td>scanTimeMs</td><td>1885</td></tr><tr><td>pradeep114843@gmail.com</td><td>MERGE</td><td>List(4230555448895631)</td><td>numTargetRowsUpdated</td><td>0</td></tr><tr><td>pradeep114843@gmail.com</td><td>MERGE</td><td>List(4230555448895631)</td><td>numOutputRows</td><td>1</td></tr><tr><td>pradeep114843@gmail.com</td><td>MERGE</td><td>List(4230555448895631)</td><td>numTargetDeletionVectorsRemoved</td><td>0</td></tr><tr><td>pradeep114843@gmail.com</td><td>MERGE</td><td>List(4230555448895631)</td><td>numTargetRowsNotMatchedBySourceUpdated</td><td>0</td></tr><tr><td>pradeep114843@gmail.com</td><td>MERGE</td><td>List(4230555448895631)</td><td>numTargetChangeFilesAdded</td><td>0</td></tr><tr><td>pradeep114843@gmail.com</td><td>MERGE</td><td>List(4230555448895631)</td><td>numSourceRows</td><td>1</td></tr><tr><td>pradeep114843@gmail.com</td><td>MERGE</td><td>List(4230555448895631)</td><td>numTargetFilesRemoved</td><td>0</td></tr><tr><td>pradeep114843@gmail.com</td><td>MERGE</td><td>List(4230555448895631)</td><td>numTargetRowsNotMatchedBySourceDeleted</td><td>0</td></tr><tr><td>pradeep114843@gmail.com</td><td>MERGE</td><td>List(4230555448895631)</td><td>rewriteTimeMs</td><td>1164</td></tr></tbody></table></div>"
      ]
     },
     "metadata": {
      "application/vnd.databricks.v1+output": {
       "addedWidgets": {},
       "aggData": [],
       "aggError": "",
       "aggOverflow": false,
       "aggSchema": [],
       "aggSeriesLimitReached": false,
       "aggType": "",
       "arguments": {},
       "columnCustomDisplayInfos": {},
       "data": [
        [
         "pradeep114843@gmail.com",
         "MERGE",
         [
          "4230555448895631"
         ],
         "numTargetRowsCopied",
         0
        ],
        [
         "pradeep114843@gmail.com",
         "MERGE",
         [
          "4230555448895631"
         ],
         "numTargetRowsDeleted",
         0
        ],
        [
         "pradeep114843@gmail.com",
         "MERGE",
         [
          "4230555448895631"
         ],
         "numTargetFilesAdded",
         1
        ],
        [
         "pradeep114843@gmail.com",
         "MERGE",
         [
          "4230555448895631"
         ],
         "numTargetBytesAdded",
         1374
        ],
        [
         "pradeep114843@gmail.com",
         "MERGE",
         [
          "4230555448895631"
         ],
         "numTargetBytesRemoved",
         0
        ],
        [
         "pradeep114843@gmail.com",
         "MERGE",
         [
          "4230555448895631"
         ],
         "numTargetDeletionVectorsAdded",
         0
        ],
        [
         "pradeep114843@gmail.com",
         "MERGE",
         [
          "4230555448895631"
         ],
         "numTargetRowsMatchedUpdated",
         0
        ],
        [
         "pradeep114843@gmail.com",
         "MERGE",
         [
          "4230555448895631"
         ],
         "executionTimeMs",
         3044
        ],
        [
         "pradeep114843@gmail.com",
         "MERGE",
         [
          "4230555448895631"
         ],
         "materializeSourceTimeMs",
         622
        ],
        [
         "pradeep114843@gmail.com",
         "MERGE",
         [
          "4230555448895631"
         ],
         "numTargetRowsInserted",
         1
        ],
        [
         "pradeep114843@gmail.com",
         "MERGE",
         [
          "4230555448895631"
         ],
         "numTargetRowsMatchedDeleted",
         0
        ],
        [
         "pradeep114843@gmail.com",
         "MERGE",
         [
          "4230555448895631"
         ],
         "numTargetDeletionVectorsUpdated",
         0
        ],
        [
         "pradeep114843@gmail.com",
         "MERGE",
         [
          "4230555448895631"
         ],
         "scanTimeMs",
         889
        ],
        [
         "pradeep114843@gmail.com",
         "MERGE",
         [
          "4230555448895631"
         ],
         "numTargetRowsUpdated",
         0
        ],
        [
         "pradeep114843@gmail.com",
         "MERGE",
         [
          "4230555448895631"
         ],
         "numOutputRows",
         1
        ],
        [
         "pradeep114843@gmail.com",
         "MERGE",
         [
          "4230555448895631"
         ],
         "numTargetDeletionVectorsRemoved",
         0
        ],
        [
         "pradeep114843@gmail.com",
         "MERGE",
         [
          "4230555448895631"
         ],
         "numTargetRowsNotMatchedBySourceUpdated",
         0
        ],
        [
         "pradeep114843@gmail.com",
         "MERGE",
         [
          "4230555448895631"
         ],
         "numTargetChangeFilesAdded",
         0
        ],
        [
         "pradeep114843@gmail.com",
         "MERGE",
         [
          "4230555448895631"
         ],
         "numSourceRows",
         1
        ],
        [
         "pradeep114843@gmail.com",
         "MERGE",
         [
          "4230555448895631"
         ],
         "numTargetFilesRemoved",
         0
        ],
        [
         "pradeep114843@gmail.com",
         "MERGE",
         [
          "4230555448895631"
         ],
         "numTargetRowsNotMatchedBySourceDeleted",
         0
        ],
        [
         "pradeep114843@gmail.com",
         "MERGE",
         [
          "4230555448895631"
         ],
         "rewriteTimeMs",
         1312
        ],
        [
         "pradeep114843@gmail.com",
         "MERGE",
         [
          "4230555448895631"
         ],
         "numTargetRowsCopied",
         0
        ],
        [
         "pradeep114843@gmail.com",
         "MERGE",
         [
          "4230555448895631"
         ],
         "numTargetRowsDeleted",
         0
        ],
        [
         "pradeep114843@gmail.com",
         "MERGE",
         [
          "4230555448895631"
         ],
         "numTargetFilesAdded",
         1
        ],
        [
         "pradeep114843@gmail.com",
         "MERGE",
         [
          "4230555448895631"
         ],
         "numTargetBytesAdded",
         1338
        ],
        [
         "pradeep114843@gmail.com",
         "MERGE",
         [
          "4230555448895631"
         ],
         "numTargetBytesRemoved",
         0
        ],
        [
         "pradeep114843@gmail.com",
         "MERGE",
         [
          "4230555448895631"
         ],
         "numTargetDeletionVectorsAdded",
         0
        ],
        [
         "pradeep114843@gmail.com",
         "MERGE",
         [
          "4230555448895631"
         ],
         "numTargetRowsMatchedUpdated",
         0
        ],
        [
         "pradeep114843@gmail.com",
         "MERGE",
         [
          "4230555448895631"
         ],
         "executionTimeMs",
         3025
        ],
        [
         "pradeep114843@gmail.com",
         "MERGE",
         [
          "4230555448895631"
         ],
         "materializeSourceTimeMs",
         226
        ],
        [
         "pradeep114843@gmail.com",
         "MERGE",
         [
          "4230555448895631"
         ],
         "numTargetRowsInserted",
         1
        ],
        [
         "pradeep114843@gmail.com",
         "MERGE",
         [
          "4230555448895631"
         ],
         "numTargetRowsMatchedDeleted",
         0
        ],
        [
         "pradeep114843@gmail.com",
         "MERGE",
         [
          "4230555448895631"
         ],
         "numTargetDeletionVectorsUpdated",
         0
        ],
        [
         "pradeep114843@gmail.com",
         "MERGE",
         [
          "4230555448895631"
         ],
         "scanTimeMs",
         1246
        ],
        [
         "pradeep114843@gmail.com",
         "MERGE",
         [
          "4230555448895631"
         ],
         "numTargetRowsUpdated",
         0
        ],
        [
         "pradeep114843@gmail.com",
         "MERGE",
         [
          "4230555448895631"
         ],
         "numOutputRows",
         1
        ],
        [
         "pradeep114843@gmail.com",
         "MERGE",
         [
          "4230555448895631"
         ],
         "numTargetDeletionVectorsRemoved",
         0
        ],
        [
         "pradeep114843@gmail.com",
         "MERGE",
         [
          "4230555448895631"
         ],
         "numTargetRowsNotMatchedBySourceUpdated",
         0
        ],
        [
         "pradeep114843@gmail.com",
         "MERGE",
         [
          "4230555448895631"
         ],
         "numTargetChangeFilesAdded",
         0
        ],
        [
         "pradeep114843@gmail.com",
         "MERGE",
         [
          "4230555448895631"
         ],
         "numSourceRows",
         1
        ],
        [
         "pradeep114843@gmail.com",
         "MERGE",
         [
          "4230555448895631"
         ],
         "numTargetFilesRemoved",
         0
        ],
        [
         "pradeep114843@gmail.com",
         "MERGE",
         [
          "4230555448895631"
         ],
         "numTargetRowsNotMatchedBySourceDeleted",
         0
        ],
        [
         "pradeep114843@gmail.com",
         "MERGE",
         [
          "4230555448895631"
         ],
         "rewriteTimeMs",
         1459
        ],
        [
         "pradeep114843@gmail.com",
         "MERGE",
         [
          "4230555448895631"
         ],
         "numTargetRowsCopied",
         0
        ],
        [
         "pradeep114843@gmail.com",
         "MERGE",
         [
          "4230555448895631"
         ],
         "numTargetRowsDeleted",
         0
        ],
        [
         "pradeep114843@gmail.com",
         "MERGE",
         [
          "4230555448895631"
         ],
         "numTargetFilesAdded",
         1
        ],
        [
         "pradeep114843@gmail.com",
         "MERGE",
         [
          "4230555448895631"
         ],
         "numTargetBytesAdded",
         1338
        ],
        [
         "pradeep114843@gmail.com",
         "MERGE",
         [
          "4230555448895631"
         ],
         "numTargetBytesRemoved",
         0
        ],
        [
         "pradeep114843@gmail.com",
         "MERGE",
         [
          "4230555448895631"
         ],
         "numTargetDeletionVectorsAdded",
         0
        ],
        [
         "pradeep114843@gmail.com",
         "MERGE",
         [
          "4230555448895631"
         ],
         "numTargetRowsMatchedUpdated",
         0
        ],
        [
         "pradeep114843@gmail.com",
         "MERGE",
         [
          "4230555448895631"
         ],
         "executionTimeMs",
         2265
        ],
        [
         "pradeep114843@gmail.com",
         "MERGE",
         [
          "4230555448895631"
         ],
         "materializeSourceTimeMs",
         263
        ],
        [
         "pradeep114843@gmail.com",
         "MERGE",
         [
          "4230555448895631"
         ],
         "numTargetRowsInserted",
         1
        ],
        [
         "pradeep114843@gmail.com",
         "MERGE",
         [
          "4230555448895631"
         ],
         "numTargetRowsMatchedDeleted",
         0
        ],
        [
         "pradeep114843@gmail.com",
         "MERGE",
         [
          "4230555448895631"
         ],
         "numTargetDeletionVectorsUpdated",
         0
        ],
        [
         "pradeep114843@gmail.com",
         "MERGE",
         [
          "4230555448895631"
         ],
         "scanTimeMs",
         975
        ],
        [
         "pradeep114843@gmail.com",
         "MERGE",
         [
          "4230555448895631"
         ],
         "numTargetRowsUpdated",
         0
        ],
        [
         "pradeep114843@gmail.com",
         "MERGE",
         [
          "4230555448895631"
         ],
         "numOutputRows",
         1
        ],
        [
         "pradeep114843@gmail.com",
         "MERGE",
         [
          "4230555448895631"
         ],
         "numTargetDeletionVectorsRemoved",
         0
        ],
        [
         "pradeep114843@gmail.com",
         "MERGE",
         [
          "4230555448895631"
         ],
         "numTargetRowsNotMatchedBySourceUpdated",
         0
        ],
        [
         "pradeep114843@gmail.com",
         "MERGE",
         [
          "4230555448895631"
         ],
         "numTargetChangeFilesAdded",
         0
        ],
        [
         "pradeep114843@gmail.com",
         "MERGE",
         [
          "4230555448895631"
         ],
         "numSourceRows",
         1
        ],
        [
         "pradeep114843@gmail.com",
         "MERGE",
         [
          "4230555448895631"
         ],
         "numTargetFilesRemoved",
         0
        ],
        [
         "pradeep114843@gmail.com",
         "MERGE",
         [
          "4230555448895631"
         ],
         "numTargetRowsNotMatchedBySourceDeleted",
         0
        ],
        [
         "pradeep114843@gmail.com",
         "MERGE",
         [
          "4230555448895631"
         ],
         "rewriteTimeMs",
         945
        ],
        [
         "pradeep114843@gmail.com",
         "MERGE",
         [
          "4230555448895631"
         ],
         "numTargetRowsCopied",
         0
        ],
        [
         "pradeep114843@gmail.com",
         "MERGE",
         [
          "4230555448895631"
         ],
         "numTargetRowsDeleted",
         0
        ],
        [
         "pradeep114843@gmail.com",
         "MERGE",
         [
          "4230555448895631"
         ],
         "numTargetFilesAdded",
         1
        ],
        [
         "pradeep114843@gmail.com",
         "MERGE",
         [
          "4230555448895631"
         ],
         "numTargetBytesAdded",
         1403
        ],
        [
         "pradeep114843@gmail.com",
         "MERGE",
         [
          "4230555448895631"
         ],
         "numTargetBytesRemoved",
         1374
        ],
        [
         "pradeep114843@gmail.com",
         "MERGE",
         [
          "4230555448895631"
         ],
         "numTargetDeletionVectorsAdded",
         0
        ],
        [
         "pradeep114843@gmail.com",
         "MERGE",
         [
          "4230555448895631"
         ],
         "numTargetRowsMatchedUpdated",
         1
        ],
        [
         "pradeep114843@gmail.com",
         "MERGE",
         [
          "4230555448895631"
         ],
         "executionTimeMs",
         3650
        ],
        [
         "pradeep114843@gmail.com",
         "MERGE",
         [
          "4230555448895631"
         ],
         "materializeSourceTimeMs",
         314
        ],
        [
         "pradeep114843@gmail.com",
         "MERGE",
         [
          "4230555448895631"
         ],
         "numTargetRowsInserted",
         0
        ],
        [
         "pradeep114843@gmail.com",
         "MERGE",
         [
          "4230555448895631"
         ],
         "numTargetRowsMatchedDeleted",
         0
        ],
        [
         "pradeep114843@gmail.com",
         "MERGE",
         [
          "4230555448895631"
         ],
         "numTargetDeletionVectorsUpdated",
         0
        ],
        [
         "pradeep114843@gmail.com",
         "MERGE",
         [
          "4230555448895631"
         ],
         "scanTimeMs",
         1176
        ],
        [
         "pradeep114843@gmail.com",
         "MERGE",
         [
          "4230555448895631"
         ],
         "numTargetRowsUpdated",
         1
        ],
        [
         "pradeep114843@gmail.com",
         "MERGE",
         [
          "4230555448895631"
         ],
         "numOutputRows",
         1
        ],
        [
         "pradeep114843@gmail.com",
         "MERGE",
         [
          "4230555448895631"
         ],
         "numTargetDeletionVectorsRemoved",
         0
        ],
        [
         "pradeep114843@gmail.com",
         "MERGE",
         [
          "4230555448895631"
         ],
         "numTargetRowsNotMatchedBySourceUpdated",
         0
        ],
        [
         "pradeep114843@gmail.com",
         "MERGE",
         [
          "4230555448895631"
         ],
         "numTargetChangeFilesAdded",
         0
        ],
        [
         "pradeep114843@gmail.com",
         "MERGE",
         [
          "4230555448895631"
         ],
         "numSourceRows",
         1
        ],
        [
         "pradeep114843@gmail.com",
         "MERGE",
         [
          "4230555448895631"
         ],
         "numTargetFilesRemoved",
         1
        ],
        [
         "pradeep114843@gmail.com",
         "MERGE",
         [
          "4230555448895631"
         ],
         "numTargetRowsNotMatchedBySourceDeleted",
         0
        ],
        [
         "pradeep114843@gmail.com",
         "MERGE",
         [
          "4230555448895631"
         ],
         "rewriteTimeMs",
         2008
        ],
        [
         "pradeep114843@gmail.com",
         "MERGE",
         [
          "4230555448895631"
         ],
         "numTargetRowsCopied",
         0
        ],
        [
         "pradeep114843@gmail.com",
         "MERGE",
         [
          "4230555448895631"
         ],
         "numTargetRowsDeleted",
         0
        ],
        [
         "pradeep114843@gmail.com",
         "MERGE",
         [
          "4230555448895631"
         ],
         "numTargetFilesAdded",
         1
        ],
        [
         "pradeep114843@gmail.com",
         "MERGE",
         [
          "4230555448895631"
         ],
         "numTargetBytesAdded",
         1374
        ],
        [
         "pradeep114843@gmail.com",
         "MERGE",
         [
          "4230555448895631"
         ],
         "numTargetBytesRemoved",
         1515
        ],
        [
         "pradeep114843@gmail.com",
         "MERGE",
         [
          "4230555448895631"
         ],
         "numTargetDeletionVectorsAdded",
         0
        ],
        [
         "pradeep114843@gmail.com",
         "MERGE",
         [
          "4230555448895631"
         ],
         "numTargetRowsMatchedUpdated",
         1
        ],
        [
         "pradeep114843@gmail.com",
         "MERGE",
         [
          "4230555448895631"
         ],
         "executionTimeMs",
         4111
        ],
        [
         "pradeep114843@gmail.com",
         "MERGE",
         [
          "4230555448895631"
         ],
         "materializeSourceTimeMs",
         335
        ],
        [
         "pradeep114843@gmail.com",
         "MERGE",
         [
          "4230555448895631"
         ],
         "numTargetRowsInserted",
         0
        ],
        [
         "pradeep114843@gmail.com",
         "MERGE",
         [
          "4230555448895631"
         ],
         "numTargetRowsMatchedDeleted",
         0
        ],
        [
         "pradeep114843@gmail.com",
         "MERGE",
         [
          "4230555448895631"
         ],
         "numTargetDeletionVectorsUpdated",
         0
        ],
        [
         "pradeep114843@gmail.com",
         "MERGE",
         [
          "4230555448895631"
         ],
         "scanTimeMs",
         1544
        ],
        [
         "pradeep114843@gmail.com",
         "MERGE",
         [
          "4230555448895631"
         ],
         "numTargetRowsUpdated",
         1
        ],
        [
         "pradeep114843@gmail.com",
         "MERGE",
         [
          "4230555448895631"
         ],
         "numOutputRows",
         1
        ],
        [
         "pradeep114843@gmail.com",
         "MERGE",
         [
          "4230555448895631"
         ],
         "numTargetDeletionVectorsRemoved",
         0
        ],
        [
         "pradeep114843@gmail.com",
         "MERGE",
         [
          "4230555448895631"
         ],
         "numTargetRowsNotMatchedBySourceUpdated",
         0
        ],
        [
         "pradeep114843@gmail.com",
         "MERGE",
         [
          "4230555448895631"
         ],
         "numTargetChangeFilesAdded",
         0
        ],
        [
         "pradeep114843@gmail.com",
         "MERGE",
         [
          "4230555448895631"
         ],
         "numSourceRows",
         1
        ],
        [
         "pradeep114843@gmail.com",
         "MERGE",
         [
          "4230555448895631"
         ],
         "numTargetFilesRemoved",
         1
        ],
        [
         "pradeep114843@gmail.com",
         "MERGE",
         [
          "4230555448895631"
         ],
         "numTargetRowsNotMatchedBySourceDeleted",
         0
        ],
        [
         "pradeep114843@gmail.com",
         "MERGE",
         [
          "4230555448895631"
         ],
         "rewriteTimeMs",
         2055
        ],
        [
         "pradeep114843@gmail.com",
         "MERGE",
         [
          "4230555448895631"
         ],
         "numTargetRowsCopied",
         0
        ],
        [
         "pradeep114843@gmail.com",
         "MERGE",
         [
          "4230555448895631"
         ],
         "numTargetRowsDeleted",
         0
        ],
        [
         "pradeep114843@gmail.com",
         "MERGE",
         [
          "4230555448895631"
         ],
         "numTargetFilesAdded",
         1
        ],
        [
         "pradeep114843@gmail.com",
         "MERGE",
         [
          "4230555448895631"
         ],
         "numTargetBytesAdded",
         1515
        ],
        [
         "pradeep114843@gmail.com",
         "MERGE",
         [
          "4230555448895631"
         ],
         "numTargetBytesRemoved",
         1403
        ],
        [
         "pradeep114843@gmail.com",
         "MERGE",
         [
          "4230555448895631"
         ],
         "numTargetDeletionVectorsAdded",
         0
        ],
        [
         "pradeep114843@gmail.com",
         "MERGE",
         [
          "4230555448895631"
         ],
         "numTargetRowsMatchedUpdated",
         1
        ],
        [
         "pradeep114843@gmail.com",
         "MERGE",
         [
          "4230555448895631"
         ],
         "executionTimeMs",
         6056
        ],
        [
         "pradeep114843@gmail.com",
         "MERGE",
         [
          "4230555448895631"
         ],
         "materializeSourceTimeMs",
         732
        ],
        [
         "pradeep114843@gmail.com",
         "MERGE",
         [
          "4230555448895631"
         ],
         "numTargetRowsInserted",
         0
        ],
        [
         "pradeep114843@gmail.com",
         "MERGE",
         [
          "4230555448895631"
         ],
         "numTargetRowsMatchedDeleted",
         0
        ],
        [
         "pradeep114843@gmail.com",
         "MERGE",
         [
          "4230555448895631"
         ],
         "numTargetDeletionVectorsUpdated",
         0
        ],
        [
         "pradeep114843@gmail.com",
         "MERGE",
         [
          "4230555448895631"
         ],
         "scanTimeMs",
         2460
        ],
        [
         "pradeep114843@gmail.com",
         "MERGE",
         [
          "4230555448895631"
         ],
         "numTargetRowsUpdated",
         1
        ],
        [
         "pradeep114843@gmail.com",
         "MERGE",
         [
          "4230555448895631"
         ],
         "numOutputRows",
         1
        ],
        [
         "pradeep114843@gmail.com",
         "MERGE",
         [
          "4230555448895631"
         ],
         "numTargetDeletionVectorsRemoved",
         0
        ],
        [
         "pradeep114843@gmail.com",
         "MERGE",
         [
          "4230555448895631"
         ],
         "numTargetRowsNotMatchedBySourceUpdated",
         0
        ],
        [
         "pradeep114843@gmail.com",
         "MERGE",
         [
          "4230555448895631"
         ],
         "numTargetChangeFilesAdded",
         0
        ],
        [
         "pradeep114843@gmail.com",
         "MERGE",
         [
          "4230555448895631"
         ],
         "numSourceRows",
         1
        ],
        [
         "pradeep114843@gmail.com",
         "MERGE",
         [
          "4230555448895631"
         ],
         "numTargetFilesRemoved",
         1
        ],
        [
         "pradeep114843@gmail.com",
         "MERGE",
         [
          "4230555448895631"
         ],
         "numTargetRowsNotMatchedBySourceDeleted",
         0
        ],
        [
         "pradeep114843@gmail.com",
         "MERGE",
         [
          "4230555448895631"
         ],
         "rewriteTimeMs",
         2382
        ],
        [
         "pradeep114843@gmail.com",
         "MERGE",
         [
          "4230555448895631"
         ],
         "numTargetRowsCopied",
         0
        ],
        [
         "pradeep114843@gmail.com",
         "MERGE",
         [
          "4230555448895631"
         ],
         "numTargetRowsDeleted",
         0
        ],
        [
         "pradeep114843@gmail.com",
         "MERGE",
         [
          "4230555448895631"
         ],
         "numTargetFilesAdded",
         1
        ],
        [
         "pradeep114843@gmail.com",
         "MERGE",
         [
          "4230555448895631"
         ],
         "numTargetBytesAdded",
         1403
        ],
        [
         "pradeep114843@gmail.com",
         "MERGE",
         [
          "4230555448895631"
         ],
         "numTargetBytesRemoved",
         0
        ],
        [
         "pradeep114843@gmail.com",
         "MERGE",
         [
          "4230555448895631"
         ],
         "numTargetDeletionVectorsAdded",
         0
        ],
        [
         "pradeep114843@gmail.com",
         "MERGE",
         [
          "4230555448895631"
         ],
         "numTargetRowsMatchedUpdated",
         0
        ],
        [
         "pradeep114843@gmail.com",
         "MERGE",
         [
          "4230555448895631"
         ],
         "executionTimeMs",
         3922
        ],
        [
         "pradeep114843@gmail.com",
         "MERGE",
         [
          "4230555448895631"
         ],
         "materializeSourceTimeMs",
         716
        ],
        [
         "pradeep114843@gmail.com",
         "MERGE",
         [
          "4230555448895631"
         ],
         "numTargetRowsInserted",
         1
        ],
        [
         "pradeep114843@gmail.com",
         "MERGE",
         [
          "4230555448895631"
         ],
         "numTargetRowsMatchedDeleted",
         0
        ],
        [
         "pradeep114843@gmail.com",
         "MERGE",
         [
          "4230555448895631"
         ],
         "numTargetDeletionVectorsUpdated",
         0
        ],
        [
         "pradeep114843@gmail.com",
         "MERGE",
         [
          "4230555448895631"
         ],
         "scanTimeMs",
         1885
        ],
        [
         "pradeep114843@gmail.com",
         "MERGE",
         [
          "4230555448895631"
         ],
         "numTargetRowsUpdated",
         0
        ],
        [
         "pradeep114843@gmail.com",
         "MERGE",
         [
          "4230555448895631"
         ],
         "numOutputRows",
         1
        ],
        [
         "pradeep114843@gmail.com",
         "MERGE",
         [
          "4230555448895631"
         ],
         "numTargetDeletionVectorsRemoved",
         0
        ],
        [
         "pradeep114843@gmail.com",
         "MERGE",
         [
          "4230555448895631"
         ],
         "numTargetRowsNotMatchedBySourceUpdated",
         0
        ],
        [
         "pradeep114843@gmail.com",
         "MERGE",
         [
          "4230555448895631"
         ],
         "numTargetChangeFilesAdded",
         0
        ],
        [
         "pradeep114843@gmail.com",
         "MERGE",
         [
          "4230555448895631"
         ],
         "numSourceRows",
         1
        ],
        [
         "pradeep114843@gmail.com",
         "MERGE",
         [
          "4230555448895631"
         ],
         "numTargetFilesRemoved",
         0
        ],
        [
         "pradeep114843@gmail.com",
         "MERGE",
         [
          "4230555448895631"
         ],
         "numTargetRowsNotMatchedBySourceDeleted",
         0
        ],
        [
         "pradeep114843@gmail.com",
         "MERGE",
         [
          "4230555448895631"
         ],
         "rewriteTimeMs",
         1164
        ]
       ],
       "datasetInfos": [],
       "dbfsResultPath": null,
       "isJsonSchema": true,
       "metadata": {},
       "overflow": false,
       "plotOptions": {
        "customPlotOptions": {},
        "displayType": "table",
        "pivotAggregation": null,
        "pivotColumns": null,
        "xColumns": null,
        "yColumns": null
       },
       "removedWidgets": [],
       "schema": [
        {
         "metadata": "{}",
         "name": "userName",
         "type": "\"string\""
        },
        {
         "metadata": "{}",
         "name": "operation",
         "type": "\"string\""
        },
        {
         "metadata": "{}",
         "name": "notebook",
         "type": "{\"type\":\"struct\",\"fields\":[{\"name\":\"notebookId\",\"type\":\"string\",\"nullable\":true,\"metadata\":{}}]}"
        },
        {
         "metadata": "{}",
         "name": "key",
         "type": "\"string\""
        },
        {
         "metadata": "{}",
         "name": "value",
         "type": "\"integer\""
        }
       ],
       "type": "table"
      }
     },
     "output_type": "display_data"
    }
   ],
   "source": [
    "from pyspark.sql.functions import explode\n",
    "df_explode=operation_df.select(operation_df.userName,operation_df.operation,operation_df.notebook,explode(operation_df.operationMetrics))\n",
    "df_explode_select=df_explode.select(df_explode.userName,df_explode.operation,df_explode.notebook,df_explode.key,df_explode.value.cast('int'))\n",
    "display(df_explode_select)                             "
   ]
  },
  {
   "cell_type": "code",
   "execution_count": 0,
   "metadata": {
    "application/vnd.databricks.v1+cell": {
     "cellMetadata": {
      "byteLimit": 2048000,
      "rowLimit": 10000
     },
     "inputWidgets": {},
     "nuid": "1eda51f8-6771-4164-844f-e5a2f8b31919",
     "showTitle": false,
     "tableResultSettingsMap": {},
     "title": ""
    }
   },
   "outputs": [
    {
     "output_type": "display_data",
     "data": {
      "text/html": [
       "<style scoped>\n",
       "  .table-result-container {\n",
       "    max-height: 300px;\n",
       "    overflow: auto;\n",
       "  }\n",
       "  table, th, td {\n",
       "    border: 1px solid black;\n",
       "    border-collapse: collapse;\n",
       "  }\n",
       "  th, td {\n",
       "    padding: 5px;\n",
       "  }\n",
       "  th {\n",
       "    text-align: left;\n",
       "  }\n",
       "</style><div class='table-result-container'><table class='table-result'><thead style='background-color: white'><tr><th>operation</th><th>executionTimeMs</th><th>materializeSourceTimeMs</th><th>numOutputRows</th><th>numSourceRows</th><th>numTargetBytesAdded</th><th>numTargetBytesRemoved</th><th>numTargetChangeFilesAdded</th><th>numTargetDeletionVectorsAdded</th><th>numTargetDeletionVectorsRemoved</th><th>numTargetDeletionVectorsUpdated</th><th>numTargetFilesAdded</th><th>numTargetFilesRemoved</th><th>numTargetRowsCopied</th><th>numTargetRowsDeleted</th><th>numTargetRowsInserted</th><th>numTargetRowsMatchedDeleted</th><th>numTargetRowsMatchedUpdated</th><th>numTargetRowsNotMatchedBySourceDeleted</th><th>numTargetRowsNotMatchedBySourceUpdated</th><th>numTargetRowsUpdated</th><th>rewriteTimeMs</th><th>scanTimeMs</th></tr></thead><tbody><tr><td>MERGE</td><td>26073</td><td>3208</td><td>7</td><td>7</td><td>9745</td><td>4292</td><td>0</td><td>0</td><td>0</td><td>0</td><td>7</td><td>3</td><td>0</td><td>0</td><td>4</td><td>0</td><td>3</td><td>0</td><td>0</td><td>3</td><td>11325</td><td>10175</td></tr></tbody></table></div>"
      ]
     },
     "metadata": {
      "application/vnd.databricks.v1+output": {
       "addedWidgets": {},
       "aggData": [],
       "aggError": "",
       "aggOverflow": false,
       "aggSchema": [],
       "aggSeriesLimitReached": false,
       "aggType": "",
       "arguments": {},
       "columnCustomDisplayInfos": {},
       "data": [
        [
         "MERGE",
         26073,
         3208,
         7,
         7,
         9745,
         4292,
         0,
         0,
         0,
         0,
         7,
         3,
         0,
         0,
         4,
         0,
         3,
         0,
         0,
         3,
         11325,
         10175
        ]
       ],
       "datasetInfos": [],
       "dbfsResultPath": null,
       "isJsonSchema": true,
       "metadata": {},
       "overflow": false,
       "plotOptions": {
        "customPlotOptions": {},
        "displayType": "table",
        "pivotAggregation": null,
        "pivotColumns": null,
        "xColumns": null,
        "yColumns": null
       },
       "removedWidgets": [],
       "schema": [
        {
         "metadata": "{}",
         "name": "operation",
         "type": "\"string\""
        },
        {
         "metadata": "{}",
         "name": "executionTimeMs",
         "type": "\"long\""
        },
        {
         "metadata": "{}",
         "name": "materializeSourceTimeMs",
         "type": "\"long\""
        },
        {
         "metadata": "{}",
         "name": "numOutputRows",
         "type": "\"long\""
        },
        {
         "metadata": "{}",
         "name": "numSourceRows",
         "type": "\"long\""
        },
        {
         "metadata": "{}",
         "name": "numTargetBytesAdded",
         "type": "\"long\""
        },
        {
         "metadata": "{}",
         "name": "numTargetBytesRemoved",
         "type": "\"long\""
        },
        {
         "metadata": "{}",
         "name": "numTargetChangeFilesAdded",
         "type": "\"long\""
        },
        {
         "metadata": "{}",
         "name": "numTargetDeletionVectorsAdded",
         "type": "\"long\""
        },
        {
         "metadata": "{}",
         "name": "numTargetDeletionVectorsRemoved",
         "type": "\"long\""
        },
        {
         "metadata": "{}",
         "name": "numTargetDeletionVectorsUpdated",
         "type": "\"long\""
        },
        {
         "metadata": "{}",
         "name": "numTargetFilesAdded",
         "type": "\"long\""
        },
        {
         "metadata": "{}",
         "name": "numTargetFilesRemoved",
         "type": "\"long\""
        },
        {
         "metadata": "{}",
         "name": "numTargetRowsCopied",
         "type": "\"long\""
        },
        {
         "metadata": "{}",
         "name": "numTargetRowsDeleted",
         "type": "\"long\""
        },
        {
         "metadata": "{}",
         "name": "numTargetRowsInserted",
         "type": "\"long\""
        },
        {
         "metadata": "{}",
         "name": "numTargetRowsMatchedDeleted",
         "type": "\"long\""
        },
        {
         "metadata": "{}",
         "name": "numTargetRowsMatchedUpdated",
         "type": "\"long\""
        },
        {
         "metadata": "{}",
         "name": "numTargetRowsNotMatchedBySourceDeleted",
         "type": "\"long\""
        },
        {
         "metadata": "{}",
         "name": "numTargetRowsNotMatchedBySourceUpdated",
         "type": "\"long\""
        },
        {
         "metadata": "{}",
         "name": "numTargetRowsUpdated",
         "type": "\"long\""
        },
        {
         "metadata": "{}",
         "name": "rewriteTimeMs",
         "type": "\"long\""
        },
        {
         "metadata": "{}",
         "name": "scanTimeMs",
         "type": "\"long\""
        }
       ],
       "type": "table"
      }
     },
     "output_type": "display_data"
    }
   ],
   "source": [
    "from pyspark.sql.functions import *\n",
    "pivot_df=df_explode_select.groupBy('operation').pivot('key').sum('value')\n",
    "display(pivot_df)"
   ]
  },
  {
   "cell_type": "code",
   "execution_count": 0,
   "metadata": {
    "application/vnd.databricks.v1+cell": {
     "cellMetadata": {
      "byteLimit": 2048000,
      "rowLimit": 10000
     },
     "inputWidgets": {},
     "nuid": "4abfbf54-1729-4b1d-b67e-7d16e245712a",
     "showTitle": false,
     "tableResultSettingsMap": {},
     "title": ""
    }
   },
   "outputs": [
    {
     "output_type": "display_data",
     "data": {
      "text/html": [
       "<style scoped>\n",
       "  .table-result-container {\n",
       "    max-height: 300px;\n",
       "    overflow: auto;\n",
       "  }\n",
       "  table, th, td {\n",
       "    border: 1px solid black;\n",
       "    border-collapse: collapse;\n",
       "  }\n",
       "  th, td {\n",
       "    padding: 5px;\n",
       "  }\n",
       "  th {\n",
       "    text-align: left;\n",
       "  }\n",
       "</style><div class='table-result-container'><table class='table-result'><thead style='background-color: white'><tr><th>operation</th><th>numTargetRowsDeleted</th><th>numTargetRowsInserted</th><th>numTargetRowsUpdated</th></tr></thead><tbody><tr><td>MERGE</td><td>0</td><td>4</td><td>3</td></tr></tbody></table></div>"
      ]
     },
     "metadata": {
      "application/vnd.databricks.v1+output": {
       "addedWidgets": {},
       "aggData": [],
       "aggError": "",
       "aggOverflow": false,
       "aggSchema": [],
       "aggSeriesLimitReached": false,
       "aggType": "",
       "arguments": {},
       "columnCustomDisplayInfos": {},
       "data": [
        [
         "MERGE",
         0,
         4,
         3
        ]
       ],
       "datasetInfos": [],
       "dbfsResultPath": null,
       "isJsonSchema": true,
       "metadata": {},
       "overflow": false,
       "plotOptions": {
        "customPlotOptions": {},
        "displayType": "table",
        "pivotAggregation": null,
        "pivotColumns": null,
        "xColumns": null,
        "yColumns": null
       },
       "removedWidgets": [],
       "schema": [
        {
         "metadata": "{}",
         "name": "operation",
         "type": "\"string\""
        },
        {
         "metadata": "{}",
         "name": "numTargetRowsDeleted",
         "type": "\"long\""
        },
        {
         "metadata": "{}",
         "name": "numTargetRowsInserted",
         "type": "\"long\""
        },
        {
         "metadata": "{}",
         "name": "numTargetRowsUpdated",
         "type": "\"long\""
        }
       ],
       "type": "table"
      }
     },
     "output_type": "display_data"
    }
   ],
   "source": [
    "pivot_df_select=pivot_df.select(pivot_df.operation,pivot_df.numTargetRowsDeleted,pivot_df.numTargetRowsInserted,pivot_df.numTargetRowsUpdated)\n",
    "display(pivot_df_select)"
   ]
  },
  {
   "cell_type": "code",
   "execution_count": 0,
   "metadata": {
    "application/vnd.databricks.v1+cell": {
     "cellMetadata": {
      "byteLimit": 2048000,
      "rowLimit": 10000
     },
     "inputWidgets": {},
     "nuid": "4d160cb5-e79a-438a-aa84-65157480565e",
     "showTitle": false,
     "tableResultSettingsMap": {},
     "title": ""
    }
   },
   "outputs": [
    {
     "output_type": "display_data",
     "data": {
      "text/html": [
       "<style scoped>\n",
       "  .table-result-container {\n",
       "    max-height: 300px;\n",
       "    overflow: auto;\n",
       "  }\n",
       "  table, th, td {\n",
       "    border: 1px solid black;\n",
       "    border-collapse: collapse;\n",
       "  }\n",
       "  th, td {\n",
       "    padding: 5px;\n",
       "  }\n",
       "  th {\n",
       "    text-align: left;\n",
       "  }\n",
       "</style><div class='table-result-container'><table class='table-result'><thead style='background-color: white'><tr><th>operation</th><th>updatetime</th><th>username</th><th>notebook_path</th><th>numTargetRowsUpdated</th><th>numTargetRowsInserted</th><th>numTargetRowsDeleted</th></tr></thead><tbody><tr><td>MERGE</td><td>2025-02-14T12:05:05.034Z</td><td>pradeep114843@gmail.com</td><td>/Users/pradeep114843@gmail.com/Audit log in delta lake</td><td>3</td><td>4</td><td>0</td></tr></tbody></table></div>"
      ]
     },
     "metadata": {
      "application/vnd.databricks.v1+output": {
       "addedWidgets": {},
       "aggData": [],
       "aggError": "",
       "aggOverflow": false,
       "aggSchema": [],
       "aggSeriesLimitReached": false,
       "aggType": "",
       "arguments": {},
       "columnCustomDisplayInfos": {},
       "data": [
        [
         "MERGE",
         "2025-02-14T12:05:05.034Z",
         "pradeep114843@gmail.com",
         "/Users/pradeep114843@gmail.com/Audit log in delta lake",
         3,
         4,
         0
        ]
       ],
       "datasetInfos": [],
       "dbfsResultPath": null,
       "isJsonSchema": true,
       "metadata": {},
       "overflow": false,
       "plotOptions": {
        "customPlotOptions": {},
        "displayType": "table",
        "pivotAggregation": null,
        "pivotColumns": null,
        "xColumns": null,
        "yColumns": null
       },
       "removedWidgets": [],
       "schema": [
        {
         "metadata": "{}",
         "name": "operation",
         "type": "\"string\""
        },
        {
         "metadata": "{}",
         "name": "updatetime",
         "type": "\"timestamp\""
        },
        {
         "metadata": "{}",
         "name": "username",
         "type": "\"string\""
        },
        {
         "metadata": "{}",
         "name": "notebook_path",
         "type": "\"string\""
        },
        {
         "metadata": "{}",
         "name": "numTargetRowsUpdated",
         "type": "\"long\""
        },
        {
         "metadata": "{}",
         "name": "numTargetRowsInserted",
         "type": "\"long\""
        },
        {
         "metadata": "{}",
         "name": "numTargetRowsDeleted",
         "type": "\"long\""
        }
       ],
       "type": "table"
      }
     },
     "output_type": "display_data"
    }
   ],
   "source": [
    "audit_df=pivot_df_select.withColumn('notebook_path',lit(dbutils.notebook.entry_point.getDbutils().notebook().getContext().notebookPath().get())).withColumn('username',lit(dbutils.notebook.entry_point.getDbutils().notebook().getContext().userName().get())).withColumn('updatetime',current_timestamp())\n",
    "audit_df_select=audit_df.select(audit_df.operation,audit_df.updatetime,audit_df.username,audit_df.notebook_path,audit_df.numTargetRowsUpdated,audit_df.numTargetRowsInserted,audit_df.numTargetRowsDeleted)\n",
    "display(audit_df_select)"
   ]
  },
  {
   "cell_type": "code",
   "execution_count": 0,
   "metadata": {
    "application/vnd.databricks.v1+cell": {
     "cellMetadata": {
      "byteLimit": 2048000,
      "rowLimit": 10000
     },
     "inputWidgets": {},
     "nuid": "330d6b3f-b51d-447a-8ff1-179e9bbf14f0",
     "showTitle": false,
     "tableResultSettingsMap": {},
     "title": ""
    }
   },
   "outputs": [],
   "source": [
    "audit_df_select.createOrReplaceTempView('audit')"
   ]
  },
  {
   "cell_type": "code",
   "execution_count": 0,
   "metadata": {
    "application/vnd.databricks.v1+cell": {
     "cellMetadata": {
      "byteLimit": 2048000,
      "implicitDf": true,
      "rowLimit": 10000
     },
     "inputWidgets": {},
     "nuid": "dbacd389-bc69-4da7-a260-279df9a4d262",
     "showTitle": false,
     "tableResultSettingsMap": {},
     "title": ""
    }
   },
   "outputs": [
    {
     "output_type": "display_data",
     "data": {
      "text/html": [
       "<style scoped>\n",
       "  .table-result-container {\n",
       "    max-height: 300px;\n",
       "    overflow: auto;\n",
       "  }\n",
       "  table, th, td {\n",
       "    border: 1px solid black;\n",
       "    border-collapse: collapse;\n",
       "  }\n",
       "  th, td {\n",
       "    padding: 5px;\n",
       "  }\n",
       "  th {\n",
       "    text-align: left;\n",
       "  }\n",
       "</style><div class='table-result-container'><table class='table-result'><thead style='background-color: white'><tr><th>num_affected_rows</th><th>num_inserted_rows</th></tr></thead><tbody><tr><td>1</td><td>1</td></tr></tbody></table></div>"
      ]
     },
     "metadata": {
      "application/vnd.databricks.v1+output": {
       "addedWidgets": {},
       "aggData": [],
       "aggError": "",
       "aggOverflow": false,
       "aggSchema": [],
       "aggSeriesLimitReached": false,
       "aggType": "",
       "arguments": {},
       "columnCustomDisplayInfos": {},
       "data": [
        [
         1,
         1
        ]
       ],
       "datasetInfos": [],
       "dbfsResultPath": null,
       "isJsonSchema": true,
       "metadata": {
        "createTempViewForImplicitDf": true,
        "dataframeName": "_sqldf",
        "executionCount": 30
       },
       "overflow": false,
       "plotOptions": {
        "customPlotOptions": {},
        "displayType": "table",
        "pivotAggregation": null,
        "pivotColumns": null,
        "xColumns": null,
        "yColumns": null
       },
       "removedWidgets": [],
       "schema": [
        {
         "metadata": "{}",
         "name": "num_affected_rows",
         "type": "\"long\""
        },
        {
         "metadata": "{}",
         "name": "num_inserted_rows",
         "type": "\"long\""
        }
       ],
       "type": "table"
      }
     },
     "output_type": "display_data"
    }
   ],
   "source": [
    "%sql\n",
    "insert into audit_log select * from audit"
   ]
  },
  {
   "cell_type": "code",
   "execution_count": 0,
   "metadata": {
    "application/vnd.databricks.v1+cell": {
     "cellMetadata": {
      "byteLimit": 2048000,
      "implicitDf": true,
      "rowLimit": 10000
     },
     "inputWidgets": {},
     "nuid": "b2469f53-a616-4bb7-8ec5-4589d2741b7e",
     "showTitle": false,
     "tableResultSettingsMap": {},
     "title": ""
    }
   },
   "outputs": [
    {
     "output_type": "display_data",
     "data": {
      "text/html": [
       "<style scoped>\n",
       "  .table-result-container {\n",
       "    max-height: 300px;\n",
       "    overflow: auto;\n",
       "  }\n",
       "  table, th, td {\n",
       "    border: 1px solid black;\n",
       "    border-collapse: collapse;\n",
       "  }\n",
       "  th, td {\n",
       "    padding: 5px;\n",
       "  }\n",
       "  th {\n",
       "    text-align: left;\n",
       "  }\n",
       "</style><div class='table-result-container'><table class='table-result'><thead style='background-color: white'><tr><th>operation</th><th>updatetime</th><th>username</th><th>notebook_path</th><th>numTargetRowsUpdated</th><th>numTargetRowsInserted</th><th>numTargetRowsDeleted</th></tr></thead><tbody><tr><td>MERGE</td><td>2025-02-14T12:08:32.003Z</td><td>pradeep114843@gmail.com</td><td>/Users/pradeep114843@gmail.com/Audit log in delta lake</td><td>3</td><td>4</td><td>0</td></tr></tbody></table></div>"
      ]
     },
     "metadata": {
      "application/vnd.databricks.v1+output": {
       "addedWidgets": {},
       "aggData": [],
       "aggError": "",
       "aggOverflow": false,
       "aggSchema": [],
       "aggSeriesLimitReached": false,
       "aggType": "",
       "arguments": {},
       "columnCustomDisplayInfos": {},
       "data": [
        [
         "MERGE",
         "2025-02-14T12:08:32.003Z",
         "pradeep114843@gmail.com",
         "/Users/pradeep114843@gmail.com/Audit log in delta lake",
         3,
         4,
         0
        ]
       ],
       "datasetInfos": [],
       "dbfsResultPath": null,
       "isJsonSchema": true,
       "metadata": {
        "createTempViewForImplicitDf": true,
        "dataframeName": "_sqldf",
        "executionCount": 32
       },
       "overflow": false,
       "plotOptions": {
        "customPlotOptions": {},
        "displayType": "table",
        "pivotAggregation": null,
        "pivotColumns": null,
        "xColumns": null,
        "yColumns": null
       },
       "removedWidgets": [],
       "schema": [
        {
         "metadata": "{}",
         "name": "operation",
         "type": "\"string\""
        },
        {
         "metadata": "{}",
         "name": "updatetime",
         "type": "\"timestamp\""
        },
        {
         "metadata": "{}",
         "name": "username",
         "type": "\"string\""
        },
        {
         "metadata": "{}",
         "name": "notebook_path",
         "type": "\"string\""
        },
        {
         "metadata": "{}",
         "name": "numTargetRowsUpdated",
         "type": "\"long\""
        },
        {
         "metadata": "{}",
         "name": "numTargetRowsInserted",
         "type": "\"long\""
        },
        {
         "metadata": "{}",
         "name": "numTargetRowsDeleted",
         "type": "\"long\""
        }
       ],
       "type": "table"
      }
     },
     "output_type": "display_data"
    }
   ],
   "source": [
    "%sql\n",
    "select * from audit"
   ]
  }
 ],
 "metadata": {
  "application/vnd.databricks.v1+notebook": {
   "computePreferences": null,
   "dashboards": [],
   "environmentMetadata": {
    "base_environment": "",
    "client": "1"
   },
   "language": "python",
   "notebookMetadata": {
    "mostRecentlyExecutedCommandWithImplicitDF": {
     "commandId": 1385838680810457,
     "dataframes": [
      "_sqldf"
     ]
    },
    "pythonIndentUnit": 4
   },
   "notebookName": "Audit log in delta lake",
   "widgets": {}
  }
 },
 "nbformat": 4,
 "nbformat_minor": 0
}
