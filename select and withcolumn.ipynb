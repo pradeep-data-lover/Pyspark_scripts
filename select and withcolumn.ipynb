{
 "cells": [
  {
   "cell_type": "code",
   "execution_count": 0,
   "metadata": {
    "application/vnd.databricks.v1+cell": {
     "cellMetadata": {
      "byteLimit": 2048000,
      "rowLimit": 10000
     },
     "inputWidgets": {},
     "nuid": "943c2f30-72c1-4e9a-97c6-b81defce90d8",
     "showTitle": false,
     "tableResultSettingsMap": {},
     "title": ""
    }
   },
   "outputs": [
    {
     "output_type": "display_data",
     "data": {
      "text/html": [
       "<style scoped>\n",
       "  .table-result-container {\n",
       "    max-height: 300px;\n",
       "    overflow: auto;\n",
       "  }\n",
       "  table, th, td {\n",
       "    border: 1px solid black;\n",
       "    border-collapse: collapse;\n",
       "  }\n",
       "  th, td {\n",
       "    padding: 5px;\n",
       "  }\n",
       "  th {\n",
       "    text-align: left;\n",
       "  }\n",
       "</style><div class='table-result-container'><table class='table-result'><thead style='background-color: white'><tr><th>id</th><th>name</th><th>last</th><th>salary</th></tr></thead><tbody><tr><td>111</td><td>stephen</td><td>king</td><td>2000</td></tr><tr><td>222</td><td>philip</td><td>larkin</td><td>8000</td></tr><tr><td>333</td><td>john</td><td>smith</td><td>6000</td></tr></tbody></table></div>"
      ]
     },
     "metadata": {
      "application/vnd.databricks.v1+output": {
       "addedWidgets": {},
       "aggData": [],
       "aggError": "",
       "aggOverflow": false,
       "aggSchema": [],
       "aggSeriesLimitReached": false,
       "aggType": "",
       "arguments": {},
       "columnCustomDisplayInfos": {},
       "data": [
        [
         111,
         "stephen",
         "king",
         2000
        ],
        [
         222,
         "philip",
         "larkin",
         8000
        ],
        [
         333,
         "john",
         "smith",
         6000
        ]
       ],
       "datasetInfos": [],
       "dbfsResultPath": null,
       "isJsonSchema": true,
       "metadata": {},
       "overflow": false,
       "plotOptions": {
        "customPlotOptions": {},
        "displayType": "table",
        "pivotAggregation": null,
        "pivotColumns": null,
        "xColumns": null,
        "yColumns": null
       },
       "removedWidgets": [],
       "schema": [
        {
         "metadata": "{}",
         "name": "id",
         "type": "\"long\""
        },
        {
         "metadata": "{}",
         "name": "name",
         "type": "\"string\""
        },
        {
         "metadata": "{}",
         "name": "last",
         "type": "\"string\""
        },
        {
         "metadata": "{}",
         "name": "salary",
         "type": "\"long\""
        }
       ],
       "type": "table"
      }
     },
     "output_type": "display_data"
    }
   ],
   "source": [
    "employee_data=((111,'stephen','king',2000),\n",
    "               (222,'philip','larkin',8000),\n",
    "               (333,'john','smith',6000))\n",
    "employee_schema=[\"id\",\"name\",\"last\",\"salary\"]\n",
    "df=spark.createDataFrame(data=employee_data,schema=employee_schema)\n",
    "display(df)"
   ]
  },
  {
   "cell_type": "code",
   "execution_count": 0,
   "metadata": {
    "application/vnd.databricks.v1+cell": {
     "cellMetadata": {
      "byteLimit": 2048000,
      "rowLimit": 10000
     },
     "inputWidgets": {},
     "nuid": "1372066f-4951-4a11-a7c1-f889fd5f6d8c",
     "showTitle": false,
     "tableResultSettingsMap": {},
     "title": ""
    }
   },
   "outputs": [
    {
     "output_type": "display_data",
     "data": {
      "text/html": [
       "<style scoped>\n",
       "  .table-result-container {\n",
       "    max-height: 300px;\n",
       "    overflow: auto;\n",
       "  }\n",
       "  table, th, td {\n",
       "    border: 1px solid black;\n",
       "    border-collapse: collapse;\n",
       "  }\n",
       "  th, td {\n",
       "    padding: 5px;\n",
       "  }\n",
       "  th {\n",
       "    text-align: left;\n",
       "  }\n",
       "</style><div class='table-result-container'><table class='table-result'><thead style='background-color: white'><tr><th>id</th><th>Name</th><th>last</th><th>salary</th><th>bonus</th><th>Totalsalary</th><th>datecreate</th></tr></thead><tbody><tr><td>111</td><td>stephen king</td><td>king</td><td>2000</td><td>10</td><td>20000</td><td>2025-02-26T07:51:48.734Z</td></tr><tr><td>222</td><td>philip larkin</td><td>larkin</td><td>8000</td><td>10</td><td>80000</td><td>2025-02-26T07:51:48.734Z</td></tr><tr><td>333</td><td>john smith</td><td>smith</td><td>6000</td><td>10</td><td>60000</td><td>2025-02-26T07:51:48.734Z</td></tr></tbody></table></div>"
      ]
     },
     "metadata": {
      "application/vnd.databricks.v1+output": {
       "addedWidgets": {},
       "aggData": [],
       "aggError": "",
       "aggOverflow": false,
       "aggSchema": [],
       "aggSeriesLimitReached": false,
       "aggType": "",
       "arguments": {},
       "columnCustomDisplayInfos": {},
       "data": [
        [
         111,
         "stephen king",
         "king",
         2000,
         10,
         20000,
         "2025-02-26T07:51:48.734Z"
        ],
        [
         222,
         "philip larkin",
         "larkin",
         8000,
         10,
         80000,
         "2025-02-26T07:51:48.734Z"
        ],
        [
         333,
         "john smith",
         "smith",
         6000,
         10,
         60000,
         "2025-02-26T07:51:48.734Z"
        ]
       ],
       "datasetInfos": [],
       "dbfsResultPath": null,
       "isJsonSchema": true,
       "metadata": {},
       "overflow": false,
       "plotOptions": {
        "customPlotOptions": {},
        "displayType": "table",
        "pivotAggregation": null,
        "pivotColumns": null,
        "xColumns": null,
        "yColumns": null
       },
       "removedWidgets": [],
       "schema": [
        {
         "metadata": "{}",
         "name": "id",
         "type": "\"long\""
        },
        {
         "metadata": "{}",
         "name": "Name",
         "type": "\"string\""
        },
        {
         "metadata": "{}",
         "name": "last",
         "type": "\"string\""
        },
        {
         "metadata": "{}",
         "name": "salary",
         "type": "\"long\""
        },
        {
         "metadata": "{}",
         "name": "bonus",
         "type": "\"integer\""
        },
        {
         "metadata": "{}",
         "name": "Totalsalary",
         "type": "\"long\""
        },
        {
         "metadata": "{}",
         "name": "datecreate",
         "type": "\"timestamp\""
        }
       ],
       "type": "table"
      }
     },
     "output_type": "display_data"
    }
   ],
   "source": [
    "from pyspark.sql.functions import col,concat,lit,current_timestamp\n",
    "dfiwthcolumn=df.withColumn(\"Name\",concat(col(\"name\"),lit(\" \"),col(\"last\")))\\\n",
    "    .withColumn(\"bonus\",lit(10))\\\n",
    "    .withColumn(\"Totalsalary\",col(\"salary\")*col(\"bonus\"))\\\n",
    "    .withColumn(\"datecreate\",current_timestamp())\n",
    "\n",
    "display(dfiwthcolumn)"
   ]
  },
  {
   "cell_type": "code",
   "execution_count": 0,
   "metadata": {
    "application/vnd.databricks.v1+cell": {
     "cellMetadata": {
      "byteLimit": 2048000,
      "rowLimit": 10000
     },
     "inputWidgets": {},
     "nuid": "c3d113af-8f26-424a-b83e-d6a6b5a5efa9",
     "showTitle": false,
     "tableResultSettingsMap": {},
     "title": ""
    }
   },
   "outputs": [
    {
     "output_type": "display_data",
     "data": {
      "text/plain": [
       "'/Users/pradeep114843@gmail.com/Untitled Notebook 2025-02-26 12:42:00'"
      ]
     },
     "metadata": {},
     "output_type": "display_data"
    }
   ],
   "source": [
    "display(dbutils.notebook.entry_point.getDbutils().notebook().getContext().notebookPath().get())"
   ]
  },
  {
   "cell_type": "code",
   "execution_count": 0,
   "metadata": {
    "application/vnd.databricks.v1+cell": {
     "cellMetadata": {
      "byteLimit": 2048000,
      "rowLimit": 10000
     },
     "inputWidgets": {},
     "nuid": "149c2a22-6092-4029-a9bb-a14deeda6c6a",
     "showTitle": false,
     "tableResultSettingsMap": {},
     "title": ""
    }
   },
   "outputs": [
    {
     "output_type": "display_data",
     "data": {
      "text/html": [
       "<style scoped>\n",
       "  .table-result-container {\n",
       "    max-height: 300px;\n",
       "    overflow: auto;\n",
       "  }\n",
       "  table, th, td {\n",
       "    border: 1px solid black;\n",
       "    border-collapse: collapse;\n",
       "  }\n",
       "  th, td {\n",
       "    padding: 5px;\n",
       "  }\n",
       "  th {\n",
       "    text-align: left;\n",
       "  }\n",
       "</style><div class='table-result-container'><table class='table-result'><thead style='background-color: white'><tr><th>id</th><th>name</th><th>last</th><th>salary</th><th>concat(name,  , last)</th><th>bonus</th><th>totalsalary</th><th>date</th></tr></thead><tbody><tr><td>111</td><td>stephen</td><td>king</td><td>2000</td><td>stephen king</td><td>10</td><td>20000</td><td>2025-02-26T08:14:13.575Z</td></tr><tr><td>222</td><td>philip</td><td>larkin</td><td>8000</td><td>philip larkin</td><td>10</td><td>80000</td><td>2025-02-26T08:14:13.575Z</td></tr><tr><td>333</td><td>john</td><td>smith</td><td>6000</td><td>john smith</td><td>10</td><td>60000</td><td>2025-02-26T08:14:13.575Z</td></tr></tbody></table></div>"
      ]
     },
     "metadata": {
      "application/vnd.databricks.v1+output": {
       "addedWidgets": {},
       "aggData": [],
       "aggError": "",
       "aggOverflow": false,
       "aggSchema": [],
       "aggSeriesLimitReached": false,
       "aggType": "",
       "arguments": {},
       "columnCustomDisplayInfos": {},
       "data": [
        [
         111,
         "stephen",
         "king",
         2000,
         "stephen king",
         10,
         20000,
         "2025-02-26T08:14:13.575Z"
        ],
        [
         222,
         "philip",
         "larkin",
         8000,
         "philip larkin",
         10,
         80000,
         "2025-02-26T08:14:13.575Z"
        ],
        [
         333,
         "john",
         "smith",
         6000,
         "john smith",
         10,
         60000,
         "2025-02-26T08:14:13.575Z"
        ]
       ],
       "datasetInfos": [],
       "dbfsResultPath": null,
       "isJsonSchema": true,
       "metadata": {},
       "overflow": false,
       "plotOptions": {
        "customPlotOptions": {},
        "displayType": "table",
        "pivotAggregation": null,
        "pivotColumns": null,
        "xColumns": null,
        "yColumns": null
       },
       "removedWidgets": [],
       "schema": [
        {
         "metadata": "{}",
         "name": "id",
         "type": "\"long\""
        },
        {
         "metadata": "{}",
         "name": "name",
         "type": "\"string\""
        },
        {
         "metadata": "{}",
         "name": "last",
         "type": "\"string\""
        },
        {
         "metadata": "{}",
         "name": "salary",
         "type": "\"long\""
        },
        {
         "metadata": "{}",
         "name": "concat(name,  , last)",
         "type": "\"string\""
        },
        {
         "metadata": "{}",
         "name": "bonus",
         "type": "\"integer\""
        },
        {
         "metadata": "{}",
         "name": "totalsalary",
         "type": "\"long\""
        },
        {
         "metadata": "{}",
         "name": "date",
         "type": "\"timestamp\""
        }
       ],
       "type": "table"
      }
     },
     "output_type": "display_data"
    }
   ],
   "source": [
    "from pyspark.sql.functions import col,current_timestamp,lit,concat\n",
    "dfselect=df.select(\"*\"\n",
    "                   ,concat(col(\"name\"),lit(\" \"),col(\"last\"))\n",
    "                    ,lit(10).alias(\"bonus\")\n",
    "                    ,(col(\"salary\")*lit(10)).alias(\"totalsalary\")\n",
    "                    ,current_timestamp().alias(\"date\"))\n",
    "display(dfselect)"
   ]
  }
 ],
 "metadata": {
  "application/vnd.databricks.v1+notebook": {
   "computePreferences": null,
   "dashboards": [],
   "environmentMetadata": {
    "base_environment": "",
    "client": "1"
   },
   "language": "python",
   "notebookMetadata": {
    "pythonIndentUnit": 4
   },
   "notebookName": "select and withcolumn",
   "widgets": {}
  }
 },
 "nbformat": 4,
 "nbformat_minor": 0
}
