{
 "cells": [
  {
   "cell_type": "code",
   "execution_count": 0,
   "metadata": {
    "application/vnd.databricks.v1+cell": {
     "cellMetadata": {
      "byteLimit": 2048000,
      "rowLimit": 10000
     },
     "inputWidgets": {},
     "nuid": "b5f21d04-d655-4039-a482-f348cff59938",
     "showTitle": false,
     "tableResultSettingsMap": {},
     "title": ""
    }
   },
   "outputs": [
    {
     "output_type": "execute_result",
     "data": {
      "text/plain": [
       "<delta.tables.DeltaTable at 0x7f8e647ea290>"
      ]
     },
     "execution_count": 1,
     "metadata": {},
     "output_type": "execute_result"
    }
   ],
   "source": [
    "from delta.tables import *\n",
    "\n",
    "DeltaTable.create(spark)\\\n",
    "    .tableName(\"dimemployee\")\\\n",
    "    .addColumn(\"empid\",\"INT\")\\\n",
    "    .addColumn(\"empName\",\"STRING\")\\\n",
    "    .addColumn(\"SSN\",\"STRING\")\\\n",
    "    .execute()"
   ]
  },
  {
   "cell_type": "code",
   "execution_count": 0,
   "metadata": {
    "application/vnd.databricks.v1+cell": {
     "cellMetadata": {
      "byteLimit": 2048000,
      "implicitDf": true,
      "rowLimit": 10000
     },
     "inputWidgets": {},
     "nuid": "916dea2a-2b44-4558-9927-eb6440354575",
     "showTitle": false,
     "tableResultSettingsMap": {},
     "title": ""
    }
   },
   "outputs": [
    {
     "output_type": "display_data",
     "data": {
      "text/html": [
       "<style scoped>\n",
       "  .table-result-container {\n",
       "    max-height: 300px;\n",
       "    overflow: auto;\n",
       "  }\n",
       "  table, th, td {\n",
       "    border: 1px solid black;\n",
       "    border-collapse: collapse;\n",
       "  }\n",
       "  th, td {\n",
       "    padding: 5px;\n",
       "  }\n",
       "  th {\n",
       "    text-align: left;\n",
       "  }\n",
       "</style><div class='table-result-container'><table class='table-result'><thead style='background-color: white'><tr><th>num_affected_rows</th><th>num_inserted_rows</th></tr></thead><tbody><tr><td>1</td><td>1</td></tr></tbody></table></div>"
      ]
     },
     "metadata": {
      "application/vnd.databricks.v1+output": {
       "addedWidgets": {},
       "aggData": [],
       "aggError": "",
       "aggOverflow": false,
       "aggSchema": [],
       "aggSeriesLimitReached": false,
       "aggType": "",
       "arguments": {},
       "columnCustomDisplayInfos": {},
       "data": [
        [
         1,
         1
        ]
       ],
       "datasetInfos": [],
       "dbfsResultPath": null,
       "isJsonSchema": true,
       "metadata": {
        "createTempViewForImplicitDf": true,
        "dataframeName": "_sqldf",
        "executionCount": 2
       },
       "overflow": false,
       "plotOptions": {
        "customPlotOptions": {},
        "displayType": "table",
        "pivotAggregation": null,
        "pivotColumns": null,
        "xColumns": null,
        "yColumns": null
       },
       "removedWidgets": [],
       "schema": [
        {
         "metadata": "{}",
         "name": "num_affected_rows",
         "type": "\"long\""
        },
        {
         "metadata": "{}",
         "name": "num_inserted_rows",
         "type": "\"long\""
        }
       ],
       "type": "table"
      }
     },
     "output_type": "display_data"
    }
   ],
   "source": [
    "%sql\n",
    "insert into dimemployee values(100,\"Mike\",'2345776');\n",
    "insert into dimemployee values(200,\"Davis\",'5632178');\n",
    "insert into dimemployee values(300,\"Peter\",'1456782');"
   ]
  },
  {
   "cell_type": "code",
   "execution_count": 0,
   "metadata": {
    "application/vnd.databricks.v1+cell": {
     "cellMetadata": {
      "byteLimit": 2048000,
      "implicitDf": true,
      "rowLimit": 10000
     },
     "inputWidgets": {},
     "nuid": "bbcf9049-208a-42ca-a39e-f08fdcf04c36",
     "showTitle": false,
     "tableResultSettingsMap": {},
     "title": ""
    }
   },
   "outputs": [
    {
     "output_type": "display_data",
     "data": {
      "text/html": [
       "<style scoped>\n",
       "  .table-result-container {\n",
       "    max-height: 300px;\n",
       "    overflow: auto;\n",
       "  }\n",
       "  table, th, td {\n",
       "    border: 1px solid black;\n",
       "    border-collapse: collapse;\n",
       "  }\n",
       "  th, td {\n",
       "    padding: 5px;\n",
       "  }\n",
       "  th {\n",
       "    text-align: left;\n",
       "  }\n",
       "</style><div class='table-result-container'><table class='table-result'><thead style='background-color: white'><tr><th>empid</th><th>empName</th><th>SSN</th></tr></thead><tbody><tr><td>200</td><td>Davis</td><td>5632178</td></tr><tr><td>300</td><td>Peter</td><td>1456782</td></tr><tr><td>100</td><td>Mike</td><td>2345776</td></tr></tbody></table></div>"
      ]
     },
     "metadata": {
      "application/vnd.databricks.v1+output": {
       "addedWidgets": {},
       "aggData": [],
       "aggError": "",
       "aggOverflow": false,
       "aggSchema": [],
       "aggSeriesLimitReached": false,
       "aggType": "",
       "arguments": {},
       "columnCustomDisplayInfos": {},
       "data": [
        [
         200,
         "Davis",
         "5632178"
        ],
        [
         300,
         "Peter",
         "1456782"
        ],
        [
         100,
         "Mike",
         "2345776"
        ]
       ],
       "datasetInfos": [],
       "dbfsResultPath": null,
       "isJsonSchema": true,
       "metadata": {
        "createTempViewForImplicitDf": true,
        "dataframeName": "_sqldf",
        "executionCount": 3
       },
       "overflow": false,
       "plotOptions": {
        "customPlotOptions": {},
        "displayType": "table",
        "pivotAggregation": null,
        "pivotColumns": null,
        "xColumns": null,
        "yColumns": null
       },
       "removedWidgets": [],
       "schema": [
        {
         "metadata": "{}",
         "name": "empid",
         "type": "\"integer\""
        },
        {
         "metadata": "{}",
         "name": "empName",
         "type": "\"string\""
        },
        {
         "metadata": "{}",
         "name": "SSN",
         "type": "\"string\""
        }
       ],
       "type": "table"
      }
     },
     "output_type": "display_data"
    }
   ],
   "source": [
    "%sql\n",
    "select * from dimemployee"
   ]
  },
  {
   "cell_type": "code",
   "execution_count": 0,
   "metadata": {
    "application/vnd.databricks.v1+cell": {
     "cellMetadata": {
      "byteLimit": 2048000,
      "rowLimit": 10000
     },
     "inputWidgets": {},
     "nuid": "94a97865-48e2-49dd-a8db-fc87f4be9b6f",
     "showTitle": false,
     "tableResultSettingsMap": {},
     "title": ""
    }
   },
   "outputs": [
    {
     "output_type": "stream",
     "name": "stdout",
     "output_type": "stream",
     "text": [
      "Requirement already satisfied: cryptography in /databricks/python3/lib/python3.11/site-packages (41.0.3)\nRequirement already satisfied: cffi>=1.12 in /databricks/python3/lib/python3.11/site-packages (from cryptography) (1.15.1)\nRequirement already satisfied: pycparser in /databricks/python3/lib/python3.11/site-packages (from cffi>=1.12->cryptography) (2.21)\n\u001B[43mNote: you may need to restart the kernel using %restart_python or dbutils.library.restartPython() to use updated packages.\u001B[0m\n"
     ]
    }
   ],
   "source": [
    "pip install cryptography"
   ]
  },
  {
   "cell_type": "code",
   "execution_count": 0,
   "metadata": {
    "application/vnd.databricks.v1+cell": {
     "cellMetadata": {
      "byteLimit": 2048000,
      "rowLimit": 10000
     },
     "inputWidgets": {},
     "nuid": "0cc6e4b9-e7db-4603-a49a-4b97d216fc76",
     "showTitle": false,
     "tableResultSettingsMap": {},
     "title": ""
    }
   },
   "outputs": [],
   "source": [
    "dbutils.library.restartPython() "
   ]
  },
  {
   "cell_type": "code",
   "execution_count": 0,
   "metadata": {
    "application/vnd.databricks.v1+cell": {
     "cellMetadata": {
      "byteLimit": 2048000,
      "rowLimit": 10000
     },
     "inputWidgets": {},
     "nuid": "ae63c470-488b-4605-890e-c927e0da0086",
     "showTitle": false,
     "tableResultSettingsMap": {},
     "title": ""
    }
   },
   "outputs": [],
   "source": [
    "from cryptography.fernet import Fernet\n",
    "key=Fernet.generate_key()\n",
    "f=Fernet(key)"
   ]
  },
  {
   "cell_type": "code",
   "execution_count": 0,
   "metadata": {
    "application/vnd.databricks.v1+cell": {
     "cellMetadata": {
      "byteLimit": 2048000,
      "rowLimit": 10000
     },
     "inputWidgets": {},
     "nuid": "d1c1cf44-074f-48b3-9d3e-a9e36d11eec2",
     "showTitle": false,
     "tableResultSettingsMap": {},
     "title": ""
    }
   },
   "outputs": [
    {
     "output_type": "stream",
     "name": "stdout",
     "output_type": "stream",
     "text": [
      "b'gAAAAABnv_Zs0L4j7wy1yoFd6Je7G_XT_RYwKAVCpIXjWeAxwfLoqjOjCKZFqtAR1liK00gwrPuTeXnoM705MyWGi8VRC4jCAuFOjHgEF731JTSdKRP6dMg='\n"
     ]
    }
   ],
   "source": [
    "PIIData=b\"pradeep484@gmail.com\"\n",
    "test_data=f.encrypt(PIIData)\n",
    "print(test_data)"
   ]
  },
  {
   "cell_type": "code",
   "execution_count": 0,
   "metadata": {
    "application/vnd.databricks.v1+cell": {
     "cellMetadata": {
      "byteLimit": 2048000,
      "rowLimit": 10000
     },
     "inputWidgets": {},
     "nuid": "321c5701-da5c-43a6-8be8-3d59ed254fc3",
     "showTitle": false,
     "tableResultSettingsMap": {},
     "title": ""
    }
   },
   "outputs": [
    {
     "output_type": "stream",
     "name": "stdout",
     "output_type": "stream",
     "text": [
      "b'pradeep484@gmail.com'\n"
     ]
    }
   ],
   "source": [
    "print(f.decrypt(test_data))"
   ]
  },
  {
   "cell_type": "code",
   "execution_count": 0,
   "metadata": {
    "application/vnd.databricks.v1+cell": {
     "cellMetadata": {
      "byteLimit": 2048000,
      "rowLimit": 10000
     },
     "inputWidgets": {},
     "nuid": "548f9c2a-4a26-4218-b9ba-89903d5d7721",
     "showTitle": false,
     "tableResultSettingsMap": {},
     "title": ""
    }
   },
   "outputs": [],
   "source": [
    "def encrypt_data(data,KEY):\n",
    "    from cryptography.fernet import Fernet\n",
    "    f=Fernet(KEY)\n",
    "    dataB=bytes(data,'utf-8')\n",
    "    encrypted_data=f.encrypt(dataB)\n",
    "    encrypted_data=str(encrypted_data.decode('ascii'))\n",
    "    return encrypted_data"
   ]
  },
  {
   "cell_type": "code",
   "execution_count": 0,
   "metadata": {
    "application/vnd.databricks.v1+cell": {
     "cellMetadata": {
      "byteLimit": 2048000,
      "rowLimit": 10000
     },
     "inputWidgets": {},
     "nuid": "a2d5649e-751e-43b2-8aef-d982f903417e",
     "showTitle": false,
     "tableResultSettingsMap": {},
     "title": ""
    }
   },
   "outputs": [],
   "source": [
    "def decrpt_data(encrypted_data,KEY):\n",
    "    from cryptography.fernet import Fernet\n",
    "    f=Fernet(KEY)\n",
    "    decrypted_data=f.decrypt(encrypted_data.encode()).decode()\n",
    "    return decrypted_data"
   ]
  },
  {
   "cell_type": "code",
   "execution_count": 0,
   "metadata": {
    "application/vnd.databricks.v1+cell": {
     "cellMetadata": {
      "byteLimit": 2048000,
      "rowLimit": 10000
     },
     "inputWidgets": {},
     "nuid": "92f89ee7-4823-4fa6-9f64-9d705738c0d7",
     "showTitle": false,
     "tableResultSettingsMap": {},
     "title": ""
    }
   },
   "outputs": [],
   "source": [
    "from pyspark.sql.functions import lit,udf,md5\n",
    "from pyspark.sql.types import StringType\n",
    "encryption = udf(encrypt_data,StringType())\n",
    "decryption = udf(decrpt_data,StringType())"
   ]
  },
  {
   "cell_type": "code",
   "execution_count": 0,
   "metadata": {
    "application/vnd.databricks.v1+cell": {
     "cellMetadata": {
      "byteLimit": 2048000,
      "rowLimit": 10000
     },
     "inputWidgets": {},
     "nuid": "49fe232e-62e9-4845-80b1-f31e6cf2a65f",
     "showTitle": false,
     "tableResultSettingsMap": {},
     "title": ""
    }
   },
   "outputs": [
    {
     "output_type": "display_data",
     "data": {
      "text/html": [
       "<style scoped>\n",
       "  .table-result-container {\n",
       "    max-height: 300px;\n",
       "    overflow: auto;\n",
       "  }\n",
       "  table, th, td {\n",
       "    border: 1px solid black;\n",
       "    border-collapse: collapse;\n",
       "  }\n",
       "  th, td {\n",
       "    padding: 5px;\n",
       "  }\n",
       "  th {\n",
       "    text-align: left;\n",
       "  }\n",
       "</style><div class='table-result-container'><table class='table-result'><thead style='background-color: white'><tr><th>empid</th><th>empName</th><th>SSN</th><th>encrypted_SSN</th></tr></thead><tbody><tr><td>200</td><td>Davis</td><td>5632178</td><td>gAAAAABnv_4ko-rWmQDN90hU9cgAdR58qOoMZVRKKyDwlOHUFoizDmrY4Ui2ZmgHLOxTuOe9Ftp9a3cs3uRqOA2aOSc8NjK3Qw==</td></tr><tr><td>300</td><td>Peter</td><td>1456782</td><td>gAAAAABnv_4lsz3GcEMb1Gp0jgLZymjklBgglF52rAu-k3HmVPXOMraukETM2qLRlIJyC5jlQ-ge3YFPu3IiJ27jNr5A8RPZEg==</td></tr><tr><td>100</td><td>Mike</td><td>2345776</td><td>gAAAAABnv_4lKm__uSBVh_Ebw19hH2vBbhi4RW9ZKMRY-QxagLIjswDxDxdM4DyyLXckCeKMMc0Pqbr-SZvHKxaaAxUaELlBxQ==</td></tr></tbody></table></div>"
      ]
     },
     "metadata": {
      "application/vnd.databricks.v1+output": {
       "addedWidgets": {},
       "aggData": [],
       "aggError": "",
       "aggOverflow": false,
       "aggSchema": [],
       "aggSeriesLimitReached": false,
       "aggType": "",
       "arguments": {},
       "columnCustomDisplayInfos": {},
       "data": [
        [
         200,
         "Davis",
         "5632178",
         "gAAAAABnv_4ko-rWmQDN90hU9cgAdR58qOoMZVRKKyDwlOHUFoizDmrY4Ui2ZmgHLOxTuOe9Ftp9a3cs3uRqOA2aOSc8NjK3Qw=="
        ],
        [
         300,
         "Peter",
         "1456782",
         "gAAAAABnv_4lsz3GcEMb1Gp0jgLZymjklBgglF52rAu-k3HmVPXOMraukETM2qLRlIJyC5jlQ-ge3YFPu3IiJ27jNr5A8RPZEg=="
        ],
        [
         100,
         "Mike",
         "2345776",
         "gAAAAABnv_4lKm__uSBVh_Ebw19hH2vBbhi4RW9ZKMRY-QxagLIjswDxDxdM4DyyLXckCeKMMc0Pqbr-SZvHKxaaAxUaELlBxQ=="
        ]
       ],
       "datasetInfos": [],
       "dbfsResultPath": null,
       "isJsonSchema": true,
       "metadata": {},
       "overflow": false,
       "plotOptions": {
        "customPlotOptions": {},
        "displayType": "table",
        "pivotAggregation": null,
        "pivotColumns": null,
        "xColumns": null,
        "yColumns": null
       },
       "removedWidgets": [],
       "schema": [
        {
         "metadata": "{}",
         "name": "empid",
         "type": "\"integer\""
        },
        {
         "metadata": "{}",
         "name": "empName",
         "type": "\"string\""
        },
        {
         "metadata": "{}",
         "name": "SSN",
         "type": "\"string\""
        },
        {
         "metadata": "{}",
         "name": "encrypted_SSN",
         "type": "\"string\""
        }
       ],
       "type": "table"
      }
     },
     "output_type": "display_data"
    }
   ],
   "source": [
    "df=spark.table(\"dimemployee\")\n",
    "encryptDf=df.select (\"*\",\n",
    "                     (encryption(\"SSN\",lit(key))).alias(\"encrypted_SSN\"))\n",
    "encryptDf.display()"
   ]
  },
  {
   "cell_type": "code",
   "execution_count": 0,
   "metadata": {
    "application/vnd.databricks.v1+cell": {
     "cellMetadata": {
      "byteLimit": 2048000,
      "rowLimit": 10000
     },
     "inputWidgets": {},
     "nuid": "1c370eef-4902-4a41-b1ef-5dad9347385b",
     "showTitle": false,
     "tableResultSettingsMap": {},
     "title": ""
    }
   },
   "outputs": [
    {
     "output_type": "display_data",
     "data": {
      "text/html": [
       "<style scoped>\n",
       "  .table-result-container {\n",
       "    max-height: 300px;\n",
       "    overflow: auto;\n",
       "  }\n",
       "  table, th, td {\n",
       "    border: 1px solid black;\n",
       "    border-collapse: collapse;\n",
       "  }\n",
       "  th, td {\n",
       "    padding: 5px;\n",
       "  }\n",
       "  th {\n",
       "    text-align: left;\n",
       "  }\n",
       "</style><div class='table-result-container'><table class='table-result'><thead style='background-color: white'><tr><th>empid</th><th>empName</th><th>SSN</th><th>encrypted_SSN</th><th>decrypted_SSN</th></tr></thead><tbody><tr><td>200</td><td>Davis</td><td>5632178</td><td>gAAAAABnv_6jqHepdPuduR5PEDwHVj8NIEIR8piUnHtVsBbbR7qCRWqRuzotr1G5sbDSwH2T0ODkvNusZ9pdNBcS5nePhH7U7A==</td><td>5632178</td></tr><tr><td>300</td><td>Peter</td><td>1456782</td><td>gAAAAABnv_6jY3QjHJvfvIwuChqF5u3bn7xPlNQUSV9k2wocjW-XPMfyHt3zXaS1_fubXDo1VuguBY5yZzmg8SC0Dx6pe-9qOw==</td><td>1456782</td></tr><tr><td>100</td><td>Mike</td><td>2345776</td><td>gAAAAABnv_6jfkpDtyMAjfHVt8HUWTE5kpRa7Jrc9qLRx-mHq-ssB_YVDQwWkADt4zZZPvosXAdkKSDY_qNEKhAOn8HcLJm5Ug==</td><td>2345776</td></tr></tbody></table></div>"
      ]
     },
     "metadata": {
      "application/vnd.databricks.v1+output": {
       "addedWidgets": {},
       "aggData": [],
       "aggError": "",
       "aggOverflow": false,
       "aggSchema": [],
       "aggSeriesLimitReached": false,
       "aggType": "",
       "arguments": {},
       "columnCustomDisplayInfos": {},
       "data": [
        [
         200,
         "Davis",
         "5632178",
         "gAAAAABnv_6jqHepdPuduR5PEDwHVj8NIEIR8piUnHtVsBbbR7qCRWqRuzotr1G5sbDSwH2T0ODkvNusZ9pdNBcS5nePhH7U7A==",
         "5632178"
        ],
        [
         300,
         "Peter",
         "1456782",
         "gAAAAABnv_6jY3QjHJvfvIwuChqF5u3bn7xPlNQUSV9k2wocjW-XPMfyHt3zXaS1_fubXDo1VuguBY5yZzmg8SC0Dx6pe-9qOw==",
         "1456782"
        ],
        [
         100,
         "Mike",
         "2345776",
         "gAAAAABnv_6jfkpDtyMAjfHVt8HUWTE5kpRa7Jrc9qLRx-mHq-ssB_YVDQwWkADt4zZZPvosXAdkKSDY_qNEKhAOn8HcLJm5Ug==",
         "2345776"
        ]
       ],
       "datasetInfos": [],
       "dbfsResultPath": null,
       "isJsonSchema": true,
       "metadata": {},
       "overflow": false,
       "plotOptions": {
        "customPlotOptions": {},
        "displayType": "table",
        "pivotAggregation": null,
        "pivotColumns": null,
        "xColumns": null,
        "yColumns": null
       },
       "removedWidgets": [],
       "schema": [
        {
         "metadata": "{}",
         "name": "empid",
         "type": "\"integer\""
        },
        {
         "metadata": "{}",
         "name": "empName",
         "type": "\"string\""
        },
        {
         "metadata": "{}",
         "name": "SSN",
         "type": "\"string\""
        },
        {
         "metadata": "{}",
         "name": "encrypted_SSN",
         "type": "\"string\""
        },
        {
         "metadata": "{}",
         "name": "decrypted_SSN",
         "type": "\"string\""
        }
       ],
       "type": "table"
      }
     },
     "output_type": "display_data"
    }
   ],
   "source": [
    "decryptDf=encryptDf.select (\"*\",\n",
    "                            (decryption(\"encrypted_SSN\",lit(key))).alias(\"decrypted_SSN\"))\n",
    "decryptDf.display()"
   ]
  }
 ],
 "metadata": {
  "application/vnd.databricks.v1+notebook": {
   "computePreferences": null,
   "dashboards": [],
   "environmentMetadata": {
    "base_environment": "",
    "client": "1"
   },
   "language": "python",
   "notebookMetadata": {
    "mostRecentlyExecutedCommandWithImplicitDF": {
     "commandId": 1490589157676480,
     "dataframes": [
      "_sqldf"
     ]
    },
    "pythonIndentUnit": 4
   },
   "notebookName": "Data encryption",
   "widgets": {}
  }
 },
 "nbformat": 4,
 "nbformat_minor": 0
}
