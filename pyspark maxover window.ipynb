{
 "cells": [
  {
   "cell_type": "code",
   "execution_count": 0,
   "metadata": {
    "application/vnd.databricks.v1+cell": {
     "cellMetadata": {
      "byteLimit": 2048000,
      "rowLimit": 10000
     },
     "inputWidgets": {},
     "nuid": "3b87cd89-48b2-429c-a930-49f0ed61f96b",
     "showTitle": false,
     "tableResultSettingsMap": {},
     "title": ""
    }
   },
   "outputs": [
    {
     "output_type": "display_data",
     "data": {
      "text/html": [
       "<style scoped>\n",
       "  .table-result-container {\n",
       "    max-height: 300px;\n",
       "    overflow: auto;\n",
       "  }\n",
       "  table, th, td {\n",
       "    border: 1px solid black;\n",
       "    border-collapse: collapse;\n",
       "  }\n",
       "  th, td {\n",
       "    padding: 5px;\n",
       "  }\n",
       "  th {\n",
       "    text-align: left;\n",
       "  }\n",
       "</style><div class='table-result-container'><table class='table-result'><thead style='background-color: white'><tr><th>product_id</th><th>product_name</th><th>price</th><th>Discount</th></tr></thead><tbody><tr><td>100</td><td>mobile</td><td>5000</td><td>10</td></tr><tr><td>100</td><td>mobile</td><td>7000</td><td>7</td></tr><tr><td>200</td><td>laptop</td><td>20000</td><td>4</td></tr><tr><td>200</td><td>laptop</td><td>25000</td><td>8</td></tr><tr><td>200</td><td>laptop</td><td>22000</td><td>12</td></tr></tbody></table></div>"
      ]
     },
     "metadata": {
      "application/vnd.databricks.v1+output": {
       "addedWidgets": {},
       "aggData": [],
       "aggError": "",
       "aggOverflow": false,
       "aggSchema": [],
       "aggSeriesLimitReached": false,
       "aggType": "",
       "arguments": {},
       "columnCustomDisplayInfos": {},
       "data": [
        [
         100,
         "mobile",
         5000,
         10
        ],
        [
         100,
         "mobile",
         7000,
         7
        ],
        [
         200,
         "laptop",
         20000,
         4
        ],
        [
         200,
         "laptop",
         25000,
         8
        ],
        [
         200,
         "laptop",
         22000,
         12
        ]
       ],
       "datasetInfos": [],
       "dbfsResultPath": null,
       "isJsonSchema": true,
       "metadata": {},
       "overflow": false,
       "plotOptions": {
        "customPlotOptions": {},
        "displayType": "table",
        "pivotAggregation": null,
        "pivotColumns": null,
        "xColumns": null,
        "yColumns": null
       },
       "removedWidgets": [],
       "schema": [
        {
         "metadata": "{}",
         "name": "product_id",
         "type": "\"integer\""
        },
        {
         "metadata": "{}",
         "name": "product_name",
         "type": "\"string\""
        },
        {
         "metadata": "{}",
         "name": "price",
         "type": "\"integer\""
        },
        {
         "metadata": "{}",
         "name": "Discount",
         "type": "\"integer\""
        }
       ],
       "type": "table"
      }
     },
     "output_type": "display_data"
    }
   ],
   "source": [
    "simpledata=((100,'mobile',5000,10),\\\n",
    "    (100,'mobile',7000,7),\\\n",
    "    (200,'laptop',20000,4),\\\n",
    "    (200,'laptop',25000,8),\\\n",
    "    (200,'laptop',22000,12))\n",
    "from pyspark.sql.types import StructType,StructField,IntegerType,StringType\n",
    "dfschema=StructType([\\\n",
    "    StructField('product_id',IntegerType(),False),\\\n",
    "    StructField('product_name',StringType(),True),\\\n",
    "    StructField('price',IntegerType(),True),\\\n",
    "    StructField('Discount',IntegerType(),True)])\n",
    "df=spark.createDataFrame(data=simpledata,schema=dfschema)\n",
    "display(df)"
   ]
  },
  {
   "cell_type": "code",
   "execution_count": 0,
   "metadata": {
    "application/vnd.databricks.v1+cell": {
     "cellMetadata": {
      "byteLimit": 2048000,
      "rowLimit": 10000
     },
     "inputWidgets": {},
     "nuid": "6de64978-8bb4-42f2-aabd-82fe68a57647",
     "showTitle": false,
     "tableResultSettingsMap": {},
     "title": ""
    }
   },
   "outputs": [
    {
     "output_type": "display_data",
     "data": {
      "text/html": [
       "<style scoped>\n",
       "  .table-result-container {\n",
       "    max-height: 300px;\n",
       "    overflow: auto;\n",
       "  }\n",
       "  table, th, td {\n",
       "    border: 1px solid black;\n",
       "    border-collapse: collapse;\n",
       "  }\n",
       "  th, td {\n",
       "    padding: 5px;\n",
       "  }\n",
       "  th {\n",
       "    text-align: left;\n",
       "  }\n",
       "</style><div class='table-result-container'><table class='table-result'><thead style='background-color: white'><tr><th>product_id</th><th>product_name</th><th>price</th><th>Discount</th><th>maxprice</th><th>discount_max</th></tr></thead><tbody><tr><td>100</td><td>mobile</td><td>5000</td><td>10</td><td>7000</td><td>10</td></tr><tr><td>100</td><td>mobile</td><td>7000</td><td>7</td><td>7000</td><td>10</td></tr><tr><td>200</td><td>laptop</td><td>20000</td><td>4</td><td>25000</td><td>12</td></tr><tr><td>200</td><td>laptop</td><td>25000</td><td>8</td><td>25000</td><td>12</td></tr><tr><td>200</td><td>laptop</td><td>22000</td><td>12</td><td>25000</td><td>12</td></tr></tbody></table></div>"
      ]
     },
     "metadata": {
      "application/vnd.databricks.v1+output": {
       "addedWidgets": {},
       "aggData": [],
       "aggError": "",
       "aggOverflow": false,
       "aggSchema": [],
       "aggSeriesLimitReached": false,
       "aggType": "",
       "arguments": {},
       "columnCustomDisplayInfos": {},
       "data": [
        [
         100,
         "mobile",
         5000,
         10,
         7000,
         10
        ],
        [
         100,
         "mobile",
         7000,
         7,
         7000,
         10
        ],
        [
         200,
         "laptop",
         20000,
         4,
         25000,
         12
        ],
        [
         200,
         "laptop",
         25000,
         8,
         25000,
         12
        ],
        [
         200,
         "laptop",
         22000,
         12,
         25000,
         12
        ]
       ],
       "datasetInfos": [],
       "dbfsResultPath": null,
       "isJsonSchema": true,
       "metadata": {},
       "overflow": false,
       "plotOptions": {
        "customPlotOptions": {},
        "displayType": "table",
        "pivotAggregation": null,
        "pivotColumns": null,
        "xColumns": null,
        "yColumns": null
       },
       "removedWidgets": [],
       "schema": [
        {
         "metadata": "{}",
         "name": "product_id",
         "type": "\"integer\""
        },
        {
         "metadata": "{}",
         "name": "product_name",
         "type": "\"string\""
        },
        {
         "metadata": "{}",
         "name": "price",
         "type": "\"integer\""
        },
        {
         "metadata": "{}",
         "name": "Discount",
         "type": "\"integer\""
        },
        {
         "metadata": "{}",
         "name": "maxprice",
         "type": "\"integer\""
        },
        {
         "metadata": "{}",
         "name": "discount_max",
         "type": "\"integer\""
        }
       ],
       "type": "table"
      }
     },
     "output_type": "display_data"
    }
   ],
   "source": [
    "from pyspark.sql.functions import col,max\n",
    "from pyspark.sql.window import Window\n",
    "df_max=(df.withColumn('maxprice',max('price').over(Window.partitionBy('product_id'))).withColumn('discount_max',max('discount').over(Window.partitionBy('product_id'))))\n",
    "display(df_max)\n",
    "\n"
   ]
  },
  {
   "cell_type": "code",
   "execution_count": 0,
   "metadata": {
    "application/vnd.databricks.v1+cell": {
     "cellMetadata": {
      "byteLimit": 2048000,
      "rowLimit": 10000
     },
     "inputWidgets": {},
     "nuid": "e8cd3ba7-7068-4eec-9661-a40007a4a16c",
     "showTitle": false,
     "tableResultSettingsMap": {},
     "title": ""
    }
   },
   "outputs": [
    {
     "output_type": "display_data",
     "data": {
      "text/html": [
       "<style scoped>\n",
       "  .table-result-container {\n",
       "    max-height: 300px;\n",
       "    overflow: auto;\n",
       "  }\n",
       "  table, th, td {\n",
       "    border: 1px solid black;\n",
       "    border-collapse: collapse;\n",
       "  }\n",
       "  th, td {\n",
       "    padding: 5px;\n",
       "  }\n",
       "  th {\n",
       "    text-align: left;\n",
       "  }\n",
       "</style><div class='table-result-container'><table class='table-result'><thead style='background-color: white'><tr><th>product_id</th><th>product_name</th><th>maxprice</th><th>Discountpercentage</th></tr></thead><tbody><tr><td>100</td><td>mobile</td><td>7000</td><td>10</td></tr><tr><td>100</td><td>mobile</td><td>7000</td><td>10</td></tr><tr><td>200</td><td>laptop</td><td>25000</td><td>12</td></tr><tr><td>200</td><td>laptop</td><td>25000</td><td>12</td></tr><tr><td>200</td><td>laptop</td><td>25000</td><td>12</td></tr></tbody></table></div>"
      ]
     },
     "metadata": {
      "application/vnd.databricks.v1+output": {
       "addedWidgets": {},
       "aggData": [],
       "aggError": "",
       "aggOverflow": false,
       "aggSchema": [],
       "aggSeriesLimitReached": false,
       "aggType": "",
       "arguments": {},
       "columnCustomDisplayInfos": {},
       "data": [
        [
         100,
         "mobile",
         7000,
         10
        ],
        [
         100,
         "mobile",
         7000,
         10
        ],
        [
         200,
         "laptop",
         25000,
         12
        ],
        [
         200,
         "laptop",
         25000,
         12
        ],
        [
         200,
         "laptop",
         25000,
         12
        ]
       ],
       "datasetInfos": [],
       "dbfsResultPath": null,
       "isJsonSchema": true,
       "metadata": {},
       "overflow": false,
       "plotOptions": {
        "customPlotOptions": {},
        "displayType": "table",
        "pivotAggregation": null,
        "pivotColumns": null,
        "xColumns": null,
        "yColumns": null
       },
       "removedWidgets": [],
       "schema": [
        {
         "metadata": "{}",
         "name": "product_id",
         "type": "\"integer\""
        },
        {
         "metadata": "{}",
         "name": "product_name",
         "type": "\"string\""
        },
        {
         "metadata": "{}",
         "name": "maxprice",
         "type": "\"integer\""
        },
        {
         "metadata": "{}",
         "name": "Discountpercentage",
         "type": "\"integer\""
        }
       ],
       "type": "table"
      }
     },
     "output_type": "display_data"
    }
   ],
   "source": [
    "dfsel=df_max.select(col('product_id'),col('product_name'),col('maxprice'),col('discount_max').alias('Discountpercentage'))\n",
    "display(dfsel)"
   ]
  },
  {
   "cell_type": "code",
   "execution_count": 0,
   "metadata": {
    "application/vnd.databricks.v1+cell": {
     "cellMetadata": {
      "byteLimit": 2048000,
      "rowLimit": 10000
     },
     "inputWidgets": {},
     "nuid": "41b50948-8745-46c5-9f69-eca355719ec9",
     "showTitle": false,
     "tableResultSettingsMap": {},
     "title": ""
    }
   },
   "outputs": [
    {
     "output_type": "display_data",
     "data": {
      "text/html": [
       "<style scoped>\n",
       "  .table-result-container {\n",
       "    max-height: 300px;\n",
       "    overflow: auto;\n",
       "  }\n",
       "  table, th, td {\n",
       "    border: 1px solid black;\n",
       "    border-collapse: collapse;\n",
       "  }\n",
       "  th, td {\n",
       "    padding: 5px;\n",
       "  }\n",
       "  th {\n",
       "    text-align: left;\n",
       "  }\n",
       "</style><div class='table-result-container'><table class='table-result'><thead style='background-color: white'><tr><th>product_id</th><th>product_name</th><th>maxprice</th><th>Discountpercentage</th></tr></thead><tbody><tr><td>100</td><td>mobile</td><td>7000</td><td>10</td></tr><tr><td>200</td><td>laptop</td><td>25000</td><td>12</td></tr></tbody></table></div>"
      ]
     },
     "metadata": {
      "application/vnd.databricks.v1+output": {
       "addedWidgets": {},
       "aggData": [],
       "aggError": "",
       "aggOverflow": false,
       "aggSchema": [],
       "aggSeriesLimitReached": false,
       "aggType": "",
       "arguments": {},
       "columnCustomDisplayInfos": {},
       "data": [
        [
         100,
         "mobile",
         7000,
         10
        ],
        [
         200,
         "laptop",
         25000,
         12
        ]
       ],
       "datasetInfos": [],
       "dbfsResultPath": null,
       "isJsonSchema": true,
       "metadata": {},
       "overflow": false,
       "plotOptions": {
        "customPlotOptions": {},
        "displayType": "table",
        "pivotAggregation": null,
        "pivotColumns": null,
        "xColumns": null,
        "yColumns": null
       },
       "removedWidgets": [],
       "schema": [
        {
         "metadata": "{}",
         "name": "product_id",
         "type": "\"integer\""
        },
        {
         "metadata": "{}",
         "name": "product_name",
         "type": "\"string\""
        },
        {
         "metadata": "{}",
         "name": "maxprice",
         "type": "\"integer\""
        },
        {
         "metadata": "{}",
         "name": "Discountpercentage",
         "type": "\"integer\""
        }
       ],
       "type": "table"
      }
     },
     "output_type": "display_data"
    }
   ],
   "source": [
    "dfout=dfsel.dropDuplicates()\n",
    "display(dfout)"
   ]
  }
 ],
 "metadata": {
  "application/vnd.databricks.v1+notebook": {
   "computePreferences": null,
   "dashboards": [],
   "environmentMetadata": {
    "base_environment": "",
    "client": "1"
   },
   "language": "python",
   "notebookMetadata": {
    "pythonIndentUnit": 4
   },
   "notebookName": "pyspark maxover window",
   "widgets": {}
  }
 },
 "nbformat": 4,
 "nbformat_minor": 0
}
