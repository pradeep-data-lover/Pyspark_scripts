{
 "cells": [
  {
   "cell_type": "code",
   "execution_count": 0,
   "metadata": {
    "application/vnd.databricks.v1+cell": {
     "cellMetadata": {
      "byteLimit": 2048000,
      "rowLimit": 10000
     },
     "inputWidgets": {},
     "nuid": "468a9a81-a696-4a9a-873e-29f2608508f8",
     "showTitle": false,
     "tableResultSettingsMap": {},
     "title": ""
    }
   },
   "outputs": [
    {
     "output_type": "display_data",
     "data": {
      "text/html": [
       "<style scoped>\n",
       "  .table-result-container {\n",
       "    max-height: 300px;\n",
       "    overflow: auto;\n",
       "  }\n",
       "  table, th, td {\n",
       "    border: 1px solid black;\n",
       "    border-collapse: collapse;\n",
       "  }\n",
       "  th, td {\n",
       "    padding: 5px;\n",
       "  }\n",
       "  th {\n",
       "    text-align: left;\n",
       "  }\n",
       "</style><div class='table-result-container'><table class='table-result'><thead style='background-color: white'><tr><th>productname</th><th>price</th><th>category</th></tr></thead><tbody><tr><td>product1</td><td>100</td><td>categrory1</td></tr><tr><td>product2</td><td>200</td><td>category2</td></tr><tr><td>product3</td><td>300</td><td>category3</td></tr></tbody></table></div>"
      ]
     },
     "metadata": {
      "application/vnd.databricks.v1+output": {
       "addedWidgets": {},
       "aggData": [],
       "aggError": "",
       "aggOverflow": false,
       "aggSchema": [],
       "aggSeriesLimitReached": false,
       "aggType": "",
       "arguments": {},
       "columnCustomDisplayInfos": {},
       "data": [
        [
         "product1",
         100,
         "categrory1"
        ],
        [
         "product2",
         200,
         "category2"
        ],
        [
         "product3",
         300,
         "category3"
        ]
       ],
       "datasetInfos": [],
       "dbfsResultPath": null,
       "isJsonSchema": true,
       "metadata": {},
       "overflow": false,
       "plotOptions": {
        "customPlotOptions": {},
        "displayType": "table",
        "pivotAggregation": null,
        "pivotColumns": null,
        "xColumns": null,
        "yColumns": null
       },
       "removedWidgets": [],
       "schema": [
        {
         "metadata": "{}",
         "name": "productname",
         "type": "\"string\""
        },
        {
         "metadata": "{}",
         "name": "price",
         "type": "\"long\""
        },
        {
         "metadata": "{}",
         "name": "category",
         "type": "\"string\""
        }
       ],
       "type": "table"
      }
     },
     "output_type": "display_data"
    }
   ],
   "source": [
    "data=[\n",
    "    (\"product1\",100,\"categrory1\"),\n",
    "    (\"product2\",200,\"category2\"),\n",
    "    (\"product3\",300,\"category3\")\n",
    "]\n",
    "columns=[\"productname\",\"price\",\"category\"]\n",
    "df=spark.createDataFrame(data=data,schema=columns)\n",
    "display(df)"
   ]
  },
  {
   "cell_type": "code",
   "execution_count": 0,
   "metadata": {
    "application/vnd.databricks.v1+cell": {
     "cellMetadata": {
      "byteLimit": 2048000,
      "rowLimit": 10000
     },
     "inputWidgets": {},
     "nuid": "fa008728-5603-474b-84e3-cac4b3ab12a6",
     "showTitle": false,
     "tableResultSettingsMap": {},
     "title": ""
    }
   },
   "outputs": [
    {
     "output_type": "display_data",
     "data": {
      "text/html": [
       "<style scoped>\n",
       "  .table-result-container {\n",
       "    max-height: 300px;\n",
       "    overflow: auto;\n",
       "  }\n",
       "  table, th, td {\n",
       "    border: 1px solid black;\n",
       "    border-collapse: collapse;\n",
       "  }\n",
       "  th, td {\n",
       "    padding: 5px;\n",
       "  }\n",
       "  th {\n",
       "    text-align: left;\n",
       "  }\n",
       "</style><div class='table-result-container'><table class='table-result'><thead style='background-color: white'><tr><th>productname</th><th>price</th><th>category</th><th>discountprice</th></tr></thead><tbody><tr><td>product1</td><td>100</td><td>categrory1</td><td>80.0</td></tr><tr><td>product2</td><td>200</td><td>category2</td><td>160.0</td></tr><tr><td>product3</td><td>300</td><td>category3</td><td>240.0</td></tr></tbody></table></div>"
      ]
     },
     "metadata": {
      "application/vnd.databricks.v1+output": {
       "addedWidgets": {},
       "aggData": [],
       "aggError": "",
       "aggOverflow": false,
       "aggSchema": [],
       "aggSeriesLimitReached": false,
       "aggType": "",
       "arguments": {},
       "columnCustomDisplayInfos": {},
       "data": [
        [
         "product1",
         100,
         "categrory1",
         80.0
        ],
        [
         "product2",
         200,
         "category2",
         160.0
        ],
        [
         "product3",
         300,
         "category3",
         240.0
        ]
       ],
       "datasetInfos": [],
       "dbfsResultPath": null,
       "isJsonSchema": true,
       "metadata": {},
       "overflow": false,
       "plotOptions": {
        "customPlotOptions": {},
        "displayType": "table",
        "pivotAggregation": null,
        "pivotColumns": null,
        "xColumns": null,
        "yColumns": null
       },
       "removedWidgets": [],
       "schema": [
        {
         "metadata": "{}",
         "name": "productname",
         "type": "\"string\""
        },
        {
         "metadata": "{}",
         "name": "price",
         "type": "\"long\""
        },
        {
         "metadata": "{}",
         "name": "category",
         "type": "\"string\""
        },
        {
         "metadata": "{}",
         "name": "discountprice",
         "type": "\"double\""
        }
       ],
       "type": "table"
      }
     },
     "output_type": "display_data"
    }
   ],
   "source": [
    "from pyspark.sql.functions import transform,col\n",
    "def transform_percentage(df,discount_percentage):\n",
    "    return df.withColumn(\"discountprice\",col(\"price\")*(1-discount_percentage/100))\n",
    "percentage=20\n",
    "#transform_df=df.transform(transform_percentage,percentage)\n",
    "transform_df=df.transform(lambda df:transform_percentage(df,percentage))\n",
    "transform_df.display()"
   ]
  },
  {
   "cell_type": "code",
   "execution_count": 0,
   "metadata": {
    "application/vnd.databricks.v1+cell": {
     "cellMetadata": {
      "byteLimit": 2048000,
      "rowLimit": 10000
     },
     "inputWidgets": {},
     "nuid": "2feb4ba4-5c83-4baf-9ba1-58066a3ec985",
     "showTitle": false,
     "tableResultSettingsMap": {},
     "title": ""
    }
   },
   "outputs": [
    {
     "output_type": "display_data",
     "data": {
      "text/html": [
       "<style scoped>\n",
       "  .table-result-container {\n",
       "    max-height: 300px;\n",
       "    overflow: auto;\n",
       "  }\n",
       "  table, th, td {\n",
       "    border: 1px solid black;\n",
       "    border-collapse: collapse;\n",
       "  }\n",
       "  th, td {\n",
       "    padding: 5px;\n",
       "  }\n",
       "  th {\n",
       "    text-align: left;\n",
       "  }\n",
       "</style><div class='table-result-container'><table class='table-result'><thead style='background-color: white'><tr><th>Name</th><th>Age</th></tr></thead><tbody><tr><td>Alice</td><td>34</td></tr><tr><td>Bob</td><td>45</td></tr><tr><td>Cathy</td><td>29</td></tr></tbody></table></div>"
      ]
     },
     "metadata": {
      "application/vnd.databricks.v1+output": {
       "addedWidgets": {},
       "aggData": [],
       "aggError": "",
       "aggOverflow": false,
       "aggSchema": [],
       "aggSeriesLimitReached": false,
       "aggType": "",
       "arguments": {},
       "columnCustomDisplayInfos": {},
       "data": [
        [
         "Alice",
         34
        ],
        [
         "Bob",
         45
        ],
        [
         "Cathy",
         29
        ]
       ],
       "datasetInfos": [],
       "dbfsResultPath": null,
       "isJsonSchema": true,
       "metadata": {},
       "overflow": false,
       "plotOptions": {
        "customPlotOptions": {},
        "displayType": "table",
        "pivotAggregation": null,
        "pivotColumns": null,
        "xColumns": null,
        "yColumns": null
       },
       "removedWidgets": [],
       "schema": [
        {
         "metadata": "{}",
         "name": "Name",
         "type": "\"string\""
        },
        {
         "metadata": "{}",
         "name": "Age",
         "type": "\"long\""
        }
       ],
       "type": "table"
      }
     },
     "output_type": "display_data"
    }
   ],
   "source": [
    "from pyspark.sql.functions import col,trim,log,when,concat_ws,lit\n",
    "data=[(\"Alice\",34),\n",
    "      (\"Bob\",45),\n",
    "      (\"Cathy\",29)]\n",
    "df=spark.createDataFrame(data,[\"Name\",\"Age\"])\n",
    "display(df)"
   ]
  },
  {
   "cell_type": "code",
   "execution_count": 0,
   "metadata": {
    "application/vnd.databricks.v1+cell": {
     "cellMetadata": {
      "byteLimit": 2048000,
      "rowLimit": 10000
     },
     "inputWidgets": {},
     "nuid": "9ef0000f-7ac1-4bf8-92a6-28a1be24e32b",
     "showTitle": false,
     "tableResultSettingsMap": {},
     "title": ""
    }
   },
   "outputs": [
    {
     "output_type": "display_data",
     "data": {
      "text/html": [
       "<style scoped>\n",
       "  .table-result-container {\n",
       "    max-height: 300px;\n",
       "    overflow: auto;\n",
       "  }\n",
       "  table, th, td {\n",
       "    border: 1px solid black;\n",
       "    border-collapse: collapse;\n",
       "  }\n",
       "  th, td {\n",
       "    padding: 5px;\n",
       "  }\n",
       "  th {\n",
       "    text-align: left;\n",
       "  }\n",
       "</style><div class='table-result-container'><table class='table-result'><thead style='background-color: white'><tr><th>Name</th><th>Age</th><th>Agecategory</th><th>LogAge</th><th>Name_Age</th></tr></thead><tbody><tr><td>Alice</td><td>34</td><td>Young</td><td>1.5314789170422551</td><td>Alice_34</td></tr><tr><td>Bob</td><td>45</td><td>Mature</td><td>1.6532125137753435</td><td>Bob_45</td></tr><tr><td>Cathy</td><td>29</td><td>Young</td><td>1.462397997898956</td><td>Cathy_29</td></tr></tbody></table></div>"
      ]
     },
     "metadata": {
      "application/vnd.databricks.v1+output": {
       "addedWidgets": {},
       "aggData": [],
       "aggError": "",
       "aggOverflow": false,
       "aggSchema": [],
       "aggSeriesLimitReached": false,
       "aggType": "",
       "arguments": {},
       "columnCustomDisplayInfos": {},
       "data": [
        [
         "Alice",
         34,
         "Young",
         1.5314789170422551,
         "Alice_34"
        ],
        [
         "Bob",
         45,
         "Mature",
         1.6532125137753435,
         "Bob_45"
        ],
        [
         "Cathy",
         29,
         "Young",
         1.462397997898956,
         "Cathy_29"
        ]
       ],
       "datasetInfos": [],
       "dbfsResultPath": null,
       "isJsonSchema": true,
       "metadata": {},
       "overflow": false,
       "plotOptions": {
        "customPlotOptions": {},
        "displayType": "table",
        "pivotAggregation": null,
        "pivotColumns": null,
        "xColumns": null,
        "yColumns": null
       },
       "removedWidgets": [],
       "schema": [
        {
         "metadata": "{}",
         "name": "Name",
         "type": "\"string\""
        },
        {
         "metadata": "{}",
         "name": "Age",
         "type": "\"long\""
        },
        {
         "metadata": "{}",
         "name": "Agecategory",
         "type": "\"string\""
        },
        {
         "metadata": "{}",
         "name": "LogAge",
         "type": "\"double\""
        },
        {
         "metadata": "{}",
         "name": "Name_Age",
         "type": "\"string\""
        }
       ],
       "type": "table"
      }
     },
     "output_type": "display_data"
    }
   ],
   "source": [
    "age_threshold=40\n",
    "log_base=10\n",
    "\n",
    "def clean_data(df):\n",
    "    return df.withColumn(\"Name\",trim(col(\"Name\")))\n",
    "\n",
    "def conditiona_transform(df,threshold):\n",
    "    return df.withColumn(\"Agecategory\",when(col(\"Age\")<lit(threshold),\"Young\").otherwise(\"Mature\"))\n",
    "\n",
    "def feature_engineering(df,base):\n",
    "    return df.withColumn(\"LogAge\",log(col(\"Age\"))/log(lit(base)))\n",
    "\n",
    "def combine_columns(df):\n",
    "    return df.withColumn(\"Name_Age\",concat_ws(\"_\",col(\"Name\"),col(\"Age\")))\n",
    "\n",
    "df_transformed=(df.transform(clean_data)\n",
    "                .transform(lambda df:conditiona_transform(df,age_threshold))\n",
    "                .transform(lambda df:feature_engineering(df,log_base))\n",
    "                .transform(combine_columns))\n",
    "df_transformed.display()"
   ]
  },
  {
   "cell_type": "code",
   "execution_count": 0,
   "metadata": {
    "application/vnd.databricks.v1+cell": {
     "cellMetadata": {
      "byteLimit": 2048000,
      "rowLimit": 10000
     },
     "inputWidgets": {},
     "nuid": "429aa8c4-5b00-43ad-819e-da7d09981969",
     "showTitle": false,
     "tableResultSettingsMap": {},
     "title": ""
    }
   },
   "outputs": [],
   "source": [
    "from pyspark.sql.functions import col,lit,when,avg,sum as _sum\n",
    "data=[\n",
    "    (\"Alice\",34,\"2023-06-01\",3000.0),\n",
    "    (\"Bob\",45,\"2023-06-02\",None),\n",
    "    (\"Cathy\",None,\"2023-06-03\",2500.0),\n",
    "    (\"Alice\",34,\"2023-06-01\",3000.0),\n",
    "    (None,45,None,4000.0)\n",
    "]\n",
    "df=spark.createDataFrame(data,[\"Name\",\"Age\",\"Date\",\"Salary\"])"
   ]
  },
  {
   "cell_type": "code",
   "execution_count": 0,
   "metadata": {
    "application/vnd.databricks.v1+cell": {
     "cellMetadata": {
      "byteLimit": 2048000,
      "rowLimit": 10000
     },
     "inputWidgets": {},
     "nuid": "8c356132-3486-4b5d-a529-7eae4c048f52",
     "showTitle": false,
     "tableResultSettingsMap": {},
     "title": ""
    }
   },
   "outputs": [],
   "source": [
    "name_fill=\"Unknown\"\n",
    "age_fill=0\n",
    "date_fill=\"1900-01-01\"\n",
    "salary_fill=0.0\n",
    "age_threshold=30\n",
    "salary_threshold=2000\n",
    "bonus_percentage=0.10\n",
    "\n",
    "def handle_nulls(df,name_fill,age_fill,date_fill,salary_fill):\n",
    "    return df.fillna({\n",
    "        \"Name\":name_fill,\n",
    "        \"Age\":age_fill,\n",
    "        \"Date\":date_fill,\n",
    "        \"Salary\":salary_fill\n",
    "    })\n",
    "\n",
    "def remove_duplicates(df):\n",
    "    return df.dropDuplicates()\n",
    "\n",
    "def standardize_datatypes(df):\n",
    "    return df.withColumn(\"Age\",col(\"Age\").cast(\"integer\")).withColumn(\"Date\",col(\"Date\").cast(\"date\")).withColumn(\"Salary\",col(\"Salary\").cast(\"double\"))\n",
    "\n",
    "def filter_rows(df,age_threshold,salary_threshold):\n",
    "    return df.filter((col(\"Age\")>lit(age_threshold)) &(col(\"Salary\")>lit(salary_threshold)))\n",
    "\n",
    "def add_bonus_column(df,bonus_percentage):\n",
    "    return df.withColumn(\"Bonus\",col(\"Salary\")*lit(bonus_percentage))\n",
    "\n",
    "def group_and_aggregate(df):\n",
    "    return df.groupBy(\"Name\").agg(avg(\"Age\").alias(\"Avg_age\"),\n",
    "    _sum(\"Salary\").alias(\"Total_salary\"),_sum(\"Bonus\").alias(\"Total_Bonus\")                            )"
   ]
  },
  {
   "cell_type": "code",
   "execution_count": 0,
   "metadata": {
    "application/vnd.databricks.v1+cell": {
     "cellMetadata": {
      "byteLimit": 2048000,
      "rowLimit": 10000
     },
     "inputWidgets": {},
     "nuid": "d79ab8db-d295-4742-affa-b45d4e7e27ce",
     "showTitle": false,
     "tableResultSettingsMap": {},
     "title": ""
    }
   },
   "outputs": [
    {
     "output_type": "display_data",
     "data": {
      "text/html": [
       "<style scoped>\n",
       "  .table-result-container {\n",
       "    max-height: 300px;\n",
       "    overflow: auto;\n",
       "  }\n",
       "  table, th, td {\n",
       "    border: 1px solid black;\n",
       "    border-collapse: collapse;\n",
       "  }\n",
       "  th, td {\n",
       "    padding: 5px;\n",
       "  }\n",
       "  th {\n",
       "    text-align: left;\n",
       "  }\n",
       "</style><div class='table-result-container'><table class='table-result'><thead style='background-color: white'><tr><th>Name</th><th>Avg_age</th><th>Total_salary</th><th>Total_Bonus</th></tr></thead><tbody><tr><td>Unknown</td><td>45.0</td><td>4000.0</td><td>400.0</td></tr><tr><td>Alice</td><td>34.0</td><td>3000.0</td><td>300.0</td></tr></tbody></table></div>"
      ]
     },
     "metadata": {
      "application/vnd.databricks.v1+output": {
       "addedWidgets": {},
       "aggData": [],
       "aggError": "",
       "aggOverflow": false,
       "aggSchema": [],
       "aggSeriesLimitReached": false,
       "aggType": "",
       "arguments": {},
       "columnCustomDisplayInfos": {},
       "data": [
        [
         "Unknown",
         45.0,
         4000.0,
         400.0
        ],
        [
         "Alice",
         34.0,
         3000.0,
         300.0
        ]
       ],
       "datasetInfos": [],
       "dbfsResultPath": null,
       "isJsonSchema": true,
       "metadata": {},
       "overflow": false,
       "plotOptions": {
        "customPlotOptions": {},
        "displayType": "table",
        "pivotAggregation": null,
        "pivotColumns": null,
        "xColumns": null,
        "yColumns": null
       },
       "removedWidgets": [],
       "schema": [
        {
         "metadata": "{}",
         "name": "Name",
         "type": "\"string\""
        },
        {
         "metadata": "{}",
         "name": "Avg_age",
         "type": "\"double\""
        },
        {
         "metadata": "{}",
         "name": "Total_salary",
         "type": "\"double\""
        },
        {
         "metadata": "{}",
         "name": "Total_Bonus",
         "type": "\"double\""
        }
       ],
       "type": "table"
      }
     },
     "output_type": "display_data"
    }
   ],
   "source": [
    "df_transform=(df.transform(lambda df: handle_nulls(df,name_fill,age_fill,date_fill,salary_fill))).transform(remove_duplicates).transform(standardize_datatypes).transform(lambda df:filter_rows(df,age_threshold,salary_threshold)).transform(lambda df:add_bonus_column(df,bonus_percentage)).transform(group_and_aggregate)\n",
    "display(df_transform)"
   ]
  }
 ],
 "metadata": {
  "application/vnd.databricks.v1+notebook": {
   "computePreferences": null,
   "dashboards": [],
   "environmentMetadata": {
    "base_environment": "",
    "client": "1"
   },
   "language": "python",
   "notebookMetadata": {
    "pythonIndentUnit": 4
   },
   "notebookName": "Transform_function",
   "widgets": {}
  }
 },
 "nbformat": 4,
 "nbformat_minor": 0
}
