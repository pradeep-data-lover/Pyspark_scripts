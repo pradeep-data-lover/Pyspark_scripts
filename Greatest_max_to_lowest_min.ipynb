{
 "cells": [
  {
   "cell_type": "code",
   "execution_count": 0,
   "metadata": {
    "application/vnd.databricks.v1+cell": {
     "cellMetadata": {
      "byteLimit": 2048000,
      "rowLimit": 10000
     },
     "inputWidgets": {},
     "nuid": "f0b90b8d-464e-471c-b011-073cf4c79839",
     "showTitle": false,
     "tableResultSettingsMap": {},
     "title": ""
    }
   },
   "outputs": [
    {
     "output_type": "display_data",
     "data": {
      "text/html": [
       "<style scoped>\n",
       "  .table-result-container {\n",
       "    max-height: 300px;\n",
       "    overflow: auto;\n",
       "  }\n",
       "  table, th, td {\n",
       "    border: 1px solid black;\n",
       "    border-collapse: collapse;\n",
       "  }\n",
       "  th, td {\n",
       "    padding: 5px;\n",
       "  }\n",
       "  th {\n",
       "    text-align: left;\n",
       "  }\n",
       "</style><div class='table-result-container'><table class='table-result'><thead style='background-color: white'><tr><th>student</th><th>sub_1</th><th>sub_2</th><th>sub_3</th><th>sub_4</th><th>sub_5</th></tr></thead><tbody><tr><td>Dawid</td><td>70</td><td>68</td><td>89</td><td>40</td><td>84</td></tr><tr><td>Kevin</td><td>90</td><td>67</td><td>87</td><td>79</td><td>74</td></tr><tr><td>Natalia</td><td>66</td><td>88</td><td>49</td><td>65</td><td>72</td></tr><tr><td>Roger</td><td>78</td><td>73</td><td>82</td><td>89</td><td>67</td></tr><tr><td>Michael</td><td>80</td><td>86</td><td>69</td><td>78</td><td>92</td></tr></tbody></table></div>"
      ]
     },
     "metadata": {
      "application/vnd.databricks.v1+output": {
       "addedWidgets": {},
       "aggData": [],
       "aggError": "",
       "aggOverflow": false,
       "aggSchema": [],
       "aggSeriesLimitReached": false,
       "aggType": "",
       "arguments": {},
       "columnCustomDisplayInfos": {},
       "data": [
        [
         "Dawid",
         70,
         68,
         89,
         40,
         84
        ],
        [
         "Kevin",
         90,
         67,
         87,
         79,
         74
        ],
        [
         "Natalia",
         66,
         88,
         49,
         65,
         72
        ],
        [
         "Roger",
         78,
         73,
         82,
         89,
         67
        ],
        [
         "Michael",
         80,
         86,
         69,
         78,
         92
        ]
       ],
       "datasetInfos": [],
       "dbfsResultPath": null,
       "isJsonSchema": true,
       "metadata": {},
       "overflow": false,
       "plotOptions": {
        "customPlotOptions": {},
        "displayType": "table",
        "pivotAggregation": null,
        "pivotColumns": null,
        "xColumns": null,
        "yColumns": null
       },
       "removedWidgets": [],
       "schema": [
        {
         "metadata": "{}",
         "name": "student",
         "type": "\"string\""
        },
        {
         "metadata": "{}",
         "name": "sub_1",
         "type": "\"long\""
        },
        {
         "metadata": "{}",
         "name": "sub_2",
         "type": "\"long\""
        },
        {
         "metadata": "{}",
         "name": "sub_3",
         "type": "\"long\""
        },
        {
         "metadata": "{}",
         "name": "sub_4",
         "type": "\"long\""
        },
        {
         "metadata": "{}",
         "name": "sub_5",
         "type": "\"long\""
        }
       ],
       "type": "table"
      }
     },
     "output_type": "display_data"
    }
   ],
   "source": [
    "input_data=[('Dawid',70,68,89,40,84),\n",
    "            ('Kevin',90,67,87,79,74),\n",
    "            ('Natalia',66,88,49,65,72),\n",
    "            ('Roger',78,73,82,89,67),\n",
    "            ('Michael',80,86,69,78,92)]\n",
    "schema=['student','sub_1','sub_2','sub_3','sub_4','sub_5']\n",
    "df_input=spark.createDataFrame(data=input_data,schema=schema)\n",
    "display(df_input)"
   ]
  },
  {
   "cell_type": "code",
   "execution_count": 0,
   "metadata": {
    "application/vnd.databricks.v1+cell": {
     "cellMetadata": {
      "byteLimit": 2048000,
      "rowLimit": 10000
     },
     "inputWidgets": {},
     "nuid": "f7b47531-7f38-46fd-9734-cac2d4b1ad1c",
     "showTitle": false,
     "tableResultSettingsMap": {},
     "title": ""
    }
   },
   "outputs": [
    {
     "output_type": "display_data",
     "data": {
      "text/html": [
       "<style scoped>\n",
       "  .table-result-container {\n",
       "    max-height: 300px;\n",
       "    overflow: auto;\n",
       "  }\n",
       "  table, th, td {\n",
       "    border: 1px solid black;\n",
       "    border-collapse: collapse;\n",
       "  }\n",
       "  th, td {\n",
       "    padding: 5px;\n",
       "  }\n",
       "  th {\n",
       "    text-align: left;\n",
       "  }\n",
       "</style><div class='table-result-container'><table class='table-result'><thead style='background-color: white'><tr><th>student</th><th>sub_1</th><th>sub_2</th><th>sub_3</th><th>sub_4</th><th>sub_5</th><th>Greatest</th></tr></thead><tbody><tr><td>Dawid</td><td>70</td><td>68</td><td>89</td><td>40</td><td>84</td><td>89</td></tr><tr><td>Kevin</td><td>90</td><td>67</td><td>87</td><td>79</td><td>74</td><td>90</td></tr><tr><td>Natalia</td><td>66</td><td>88</td><td>49</td><td>65</td><td>72</td><td>88</td></tr><tr><td>Roger</td><td>78</td><td>73</td><td>82</td><td>89</td><td>67</td><td>89</td></tr><tr><td>Michael</td><td>80</td><td>86</td><td>69</td><td>78</td><td>92</td><td>92</td></tr></tbody></table></div>"
      ]
     },
     "metadata": {
      "application/vnd.databricks.v1+output": {
       "addedWidgets": {},
       "aggData": [],
       "aggError": "",
       "aggOverflow": false,
       "aggSchema": [],
       "aggSeriesLimitReached": false,
       "aggType": "",
       "arguments": {},
       "columnCustomDisplayInfos": {},
       "data": [
        [
         "Dawid",
         70,
         68,
         89,
         40,
         84,
         89
        ],
        [
         "Kevin",
         90,
         67,
         87,
         79,
         74,
         90
        ],
        [
         "Natalia",
         66,
         88,
         49,
         65,
         72,
         88
        ],
        [
         "Roger",
         78,
         73,
         82,
         89,
         67,
         89
        ],
        [
         "Michael",
         80,
         86,
         69,
         78,
         92,
         92
        ]
       ],
       "datasetInfos": [],
       "dbfsResultPath": null,
       "isJsonSchema": true,
       "metadata": {},
       "overflow": false,
       "plotOptions": {
        "customPlotOptions": {},
        "displayType": "table",
        "pivotAggregation": null,
        "pivotColumns": null,
        "xColumns": null,
        "yColumns": null
       },
       "removedWidgets": [],
       "schema": [
        {
         "metadata": "{}",
         "name": "student",
         "type": "\"string\""
        },
        {
         "metadata": "{}",
         "name": "sub_1",
         "type": "\"long\""
        },
        {
         "metadata": "{}",
         "name": "sub_2",
         "type": "\"long\""
        },
        {
         "metadata": "{}",
         "name": "sub_3",
         "type": "\"long\""
        },
        {
         "metadata": "{}",
         "name": "sub_4",
         "type": "\"long\""
        },
        {
         "metadata": "{}",
         "name": "sub_5",
         "type": "\"long\""
        },
        {
         "metadata": "{}",
         "name": "Greatest",
         "type": "\"long\""
        }
       ],
       "type": "table"
      }
     },
     "output_type": "display_data"
    }
   ],
   "source": [
    "from pyspark.sql.functions import greatest\n",
    "greatdf=df_input.withColumn('Greatest',greatest('sub_1','sub_2','sub_3','sub_4','sub_5'))\n",
    "display(greatdf)"
   ]
  },
  {
   "cell_type": "code",
   "execution_count": 0,
   "metadata": {
    "application/vnd.databricks.v1+cell": {
     "cellMetadata": {
      "byteLimit": 2048000,
      "rowLimit": 10000
     },
     "inputWidgets": {},
     "nuid": "4555fdd5-05fa-4bd1-b552-a5b1f812c9e3",
     "showTitle": false,
     "tableResultSettingsMap": {},
     "title": ""
    }
   },
   "outputs": [
    {
     "output_type": "display_data",
     "data": {
      "text/html": [
       "<style scoped>\n",
       "  .table-result-container {\n",
       "    max-height: 300px;\n",
       "    overflow: auto;\n",
       "  }\n",
       "  table, th, td {\n",
       "    border: 1px solid black;\n",
       "    border-collapse: collapse;\n",
       "  }\n",
       "  th, td {\n",
       "    padding: 5px;\n",
       "  }\n",
       "  th {\n",
       "    text-align: left;\n",
       "  }\n",
       "</style><div class='table-result-container'><table class='table-result'><thead style='background-color: white'><tr><th>student</th><th>sub_1</th><th>sub_2</th><th>sub_3</th><th>sub_4</th><th>sub_5</th><th>least</th></tr></thead><tbody><tr><td>Dawid</td><td>70</td><td>68</td><td>89</td><td>40</td><td>84</td><td>40</td></tr><tr><td>Kevin</td><td>90</td><td>67</td><td>87</td><td>79</td><td>74</td><td>67</td></tr><tr><td>Natalia</td><td>66</td><td>88</td><td>49</td><td>65</td><td>72</td><td>49</td></tr><tr><td>Roger</td><td>78</td><td>73</td><td>82</td><td>89</td><td>67</td><td>67</td></tr><tr><td>Michael</td><td>80</td><td>86</td><td>69</td><td>78</td><td>92</td><td>69</td></tr></tbody></table></div>"
      ]
     },
     "metadata": {
      "application/vnd.databricks.v1+output": {
       "addedWidgets": {},
       "aggData": [],
       "aggError": "",
       "aggOverflow": false,
       "aggSchema": [],
       "aggSeriesLimitReached": false,
       "aggType": "",
       "arguments": {},
       "columnCustomDisplayInfos": {},
       "data": [
        [
         "Dawid",
         70,
         68,
         89,
         40,
         84,
         40
        ],
        [
         "Kevin",
         90,
         67,
         87,
         79,
         74,
         67
        ],
        [
         "Natalia",
         66,
         88,
         49,
         65,
         72,
         49
        ],
        [
         "Roger",
         78,
         73,
         82,
         89,
         67,
         67
        ],
        [
         "Michael",
         80,
         86,
         69,
         78,
         92,
         69
        ]
       ],
       "datasetInfos": [],
       "dbfsResultPath": null,
       "isJsonSchema": true,
       "metadata": {},
       "overflow": false,
       "plotOptions": {
        "customPlotOptions": {},
        "displayType": "table",
        "pivotAggregation": null,
        "pivotColumns": null,
        "xColumns": null,
        "yColumns": null
       },
       "removedWidgets": [],
       "schema": [
        {
         "metadata": "{}",
         "name": "student",
         "type": "\"string\""
        },
        {
         "metadata": "{}",
         "name": "sub_1",
         "type": "\"long\""
        },
        {
         "metadata": "{}",
         "name": "sub_2",
         "type": "\"long\""
        },
        {
         "metadata": "{}",
         "name": "sub_3",
         "type": "\"long\""
        },
        {
         "metadata": "{}",
         "name": "sub_4",
         "type": "\"long\""
        },
        {
         "metadata": "{}",
         "name": "sub_5",
         "type": "\"long\""
        },
        {
         "metadata": "{}",
         "name": "least",
         "type": "\"long\""
        }
       ],
       "type": "table"
      }
     },
     "output_type": "display_data"
    }
   ],
   "source": [
    "from pyspark.sql.functions import least\n",
    "leastdf=df_input.withColumn('least',least('sub_1','sub_2','sub_3','sub_4','sub_5'))\n",
    "display(leastdf)"
   ]
  },
  {
   "cell_type": "code",
   "execution_count": 0,
   "metadata": {
    "application/vnd.databricks.v1+cell": {
     "cellMetadata": {
      "byteLimit": 2048000,
      "rowLimit": 10000
     },
     "inputWidgets": {},
     "nuid": "7d12ccb2-d1a0-41f4-8c07-6f2a7dbbaddd",
     "showTitle": false,
     "tableResultSettingsMap": {},
     "title": ""
    }
   },
   "outputs": [
    {
     "output_type": "display_data",
     "data": {
      "text/html": [
       "<style scoped>\n",
       "  .table-result-container {\n",
       "    max-height: 300px;\n",
       "    overflow: auto;\n",
       "  }\n",
       "  table, th, td {\n",
       "    border: 1px solid black;\n",
       "    border-collapse: collapse;\n",
       "  }\n",
       "  th, td {\n",
       "    padding: 5px;\n",
       "  }\n",
       "  th {\n",
       "    text-align: left;\n",
       "  }\n",
       "</style><div class='table-result-container'><table class='table-result'><thead style='background-color: white'><tr><th>max(sub_1)</th></tr></thead><tbody><tr><td>90</td></tr></tbody></table></div>"
      ]
     },
     "metadata": {
      "application/vnd.databricks.v1+output": {
       "addedWidgets": {},
       "aggData": [],
       "aggError": "",
       "aggOverflow": false,
       "aggSchema": [],
       "aggSeriesLimitReached": false,
       "aggType": "",
       "arguments": {},
       "columnCustomDisplayInfos": {},
       "data": [
        [
         90
        ]
       ],
       "datasetInfos": [],
       "dbfsResultPath": null,
       "isJsonSchema": true,
       "metadata": {},
       "overflow": false,
       "plotOptions": {
        "customPlotOptions": {},
        "displayType": "table",
        "pivotAggregation": null,
        "pivotColumns": null,
        "xColumns": null,
        "yColumns": null
       },
       "removedWidgets": [],
       "schema": [
        {
         "metadata": "{}",
         "name": "max(sub_1)",
         "type": "\"long\""
        }
       ],
       "type": "table"
      }
     },
     "output_type": "display_data"
    }
   ],
   "source": [
    "df_max=df_input.agg({'sub_1':'max'})\n",
    "display(df_max)"
   ]
  },
  {
   "cell_type": "code",
   "execution_count": 0,
   "metadata": {
    "application/vnd.databricks.v1+cell": {
     "cellMetadata": {
      "byteLimit": 2048000,
      "rowLimit": 10000
     },
     "inputWidgets": {},
     "nuid": "5b4b96fe-83d9-4297-ad1b-ee77bd66ebac",
     "showTitle": false,
     "tableResultSettingsMap": {},
     "title": ""
    }
   },
   "outputs": [
    {
     "output_type": "display_data",
     "data": {
      "text/html": [
       "<style scoped>\n",
       "  .table-result-container {\n",
       "    max-height: 300px;\n",
       "    overflow: auto;\n",
       "  }\n",
       "  table, th, td {\n",
       "    border: 1px solid black;\n",
       "    border-collapse: collapse;\n",
       "  }\n",
       "  th, td {\n",
       "    padding: 5px;\n",
       "  }\n",
       "  th {\n",
       "    text-align: left;\n",
       "  }\n",
       "</style><div class='table-result-container'><table class='table-result'><thead style='background-color: white'><tr><th>min(sub_1)</th><th>min(sub_5)</th><th>min(sub_4)</th></tr></thead><tbody><tr><td>66</td><td>67</td><td>40</td></tr></tbody></table></div>"
      ]
     },
     "metadata": {
      "application/vnd.databricks.v1+output": {
       "addedWidgets": {},
       "aggData": [],
       "aggError": "",
       "aggOverflow": false,
       "aggSchema": [],
       "aggSeriesLimitReached": false,
       "aggType": "",
       "arguments": {},
       "columnCustomDisplayInfos": {},
       "data": [
        [
         66,
         67,
         40
        ]
       ],
       "datasetInfos": [],
       "dbfsResultPath": null,
       "isJsonSchema": true,
       "metadata": {},
       "overflow": false,
       "plotOptions": {
        "customPlotOptions": {},
        "displayType": "table",
        "pivotAggregation": null,
        "pivotColumns": null,
        "xColumns": null,
        "yColumns": null
       },
       "removedWidgets": [],
       "schema": [
        {
         "metadata": "{}",
         "name": "min(sub_1)",
         "type": "\"long\""
        },
        {
         "metadata": "{}",
         "name": "min(sub_5)",
         "type": "\"long\""
        },
        {
         "metadata": "{}",
         "name": "min(sub_4)",
         "type": "\"long\""
        }
       ],
       "type": "table"
      }
     },
     "output_type": "display_data"
    }
   ],
   "source": [
    "df_min=df_input.agg({'sub_1':'min','sub_4':'min','sub_5':'min'})\n",
    "display(df_min)"
   ]
  }
 ],
 "metadata": {
  "application/vnd.databricks.v1+notebook": {
   "computePreferences": null,
   "dashboards": [],
   "environmentMetadata": {
    "base_environment": "",
    "client": "1"
   },
   "language": "python",
   "notebookMetadata": {
    "pythonIndentUnit": 4
   },
   "notebookName": "Greatest_max_to_lowest_min",
   "widgets": {}
  }
 },
 "nbformat": 4,
 "nbformat_minor": 0
}
