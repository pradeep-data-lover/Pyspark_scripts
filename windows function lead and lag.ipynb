{
 "cells": [
  {
   "cell_type": "code",
   "execution_count": 0,
   "metadata": {
    "application/vnd.databricks.v1+cell": {
     "cellMetadata": {
      "byteLimit": 2048000,
      "rowLimit": 10000
     },
     "inputWidgets": {},
     "nuid": "54349357-19b4-4ea6-be03-6b45b87c7c56",
     "showTitle": false,
     "tableResultSettingsMap": {},
     "title": ""
    }
   },
   "outputs": [
    {
     "output_type": "display_data",
     "data": {
      "text/html": [
       "<style scoped>\n",
       "  .table-result-container {\n",
       "    max-height: 300px;\n",
       "    overflow: auto;\n",
       "  }\n",
       "  table, th, td {\n",
       "    border: 1px solid black;\n",
       "    border-collapse: collapse;\n",
       "  }\n",
       "  th, td {\n",
       "    padding: 5px;\n",
       "  }\n",
       "  th {\n",
       "    text-align: left;\n",
       "  }\n",
       "</style><div class='table-result-container'><table class='table-result'><thead style='background-color: white'><tr><th>employee_name</th><th>depart</th><th>salary</th></tr></thead><tbody><tr><td>james</td><td>sales</td><td>3000</td></tr><tr><td>michael</td><td>sales</td><td>4600</td></tr><tr><td>Robert</td><td>sales</td><td>4100</td></tr><tr><td>James</td><td>sales</td><td>3000</td></tr><tr><td>saif</td><td>sales</td><td>4100</td></tr><tr><td>maria</td><td>finance</td><td>3000</td></tr><tr><td>scott</td><td>finance</td><td>3300</td></tr><tr><td>jen</td><td>finance</td><td>3900</td></tr><tr><td>jeff</td><td>marketing</td><td>3000</td></tr><tr><td>kumar</td><td>marketing</td><td>2000</td></tr></tbody></table></div>"
      ]
     },
     "metadata": {
      "application/vnd.databricks.v1+output": {
       "addedWidgets": {},
       "aggData": [],
       "aggError": "",
       "aggOverflow": false,
       "aggSchema": [],
       "aggSeriesLimitReached": false,
       "aggType": "",
       "arguments": {},
       "columnCustomDisplayInfos": {},
       "data": [
        [
         "james",
         "sales",
         3000
        ],
        [
         "michael",
         "sales",
         4600
        ],
        [
         "Robert",
         "sales",
         4100
        ],
        [
         "James",
         "sales",
         3000
        ],
        [
         "saif",
         "sales",
         4100
        ],
        [
         "maria",
         "finance",
         3000
        ],
        [
         "scott",
         "finance",
         3300
        ],
        [
         "jen",
         "finance",
         3900
        ],
        [
         "jeff",
         "marketing",
         3000
        ],
        [
         "kumar",
         "marketing",
         2000
        ]
       ],
       "datasetInfos": [],
       "dbfsResultPath": null,
       "isJsonSchema": true,
       "metadata": {},
       "overflow": false,
       "plotOptions": {
        "customPlotOptions": {},
        "displayType": "table",
        "pivotAggregation": null,
        "pivotColumns": null,
        "xColumns": null,
        "yColumns": null
       },
       "removedWidgets": [],
       "schema": [
        {
         "metadata": "{}",
         "name": "employee_name",
         "type": "\"string\""
        },
        {
         "metadata": "{}",
         "name": "depart",
         "type": "\"string\""
        },
        {
         "metadata": "{}",
         "name": "salary",
         "type": "\"long\""
        }
       ],
       "type": "table"
      }
     },
     "output_type": "display_data"
    }
   ],
   "source": [
    "simpledata=[(\"james\",\"sales\",3000),\\\n",
    "    (\"michael\",\"sales\",4600),\\\n",
    "    (\"Robert\",\"sales\",4100),\\\n",
    "    (\"James\",\"sales\",3000),\\\n",
    "    (\"saif\",\"sales\",4100),\\\n",
    "    (\"maria\",\"finance\",3000),\\\n",
    "    (\"scott\",\"finance\",3300),\\\n",
    "    (\"jen\",\"finance\",3900),\\\n",
    "    (\"jeff\",\"marketing\",3000),\\\n",
    "    (\"kumar\",\"marketing\",2000)]\n",
    "columns=[\"employee_name\",\"depart\",\"salary\"]\n",
    "df=spark.createDataFrame(data=simpledata,schema=columns)\n",
    "display(df)"
   ]
  },
  {
   "cell_type": "code",
   "execution_count": 0,
   "metadata": {
    "application/vnd.databricks.v1+cell": {
     "cellMetadata": {
      "byteLimit": 2048000,
      "rowLimit": 10000
     },
     "inputWidgets": {},
     "nuid": "e9718f37-9238-410c-821f-04c10c6eca8f",
     "showTitle": false,
     "tableResultSettingsMap": {},
     "title": ""
    }
   },
   "outputs": [
    {
     "output_type": "stream",
     "name": "stdout",
     "output_type": "stream",
     "text": [
      "root\n |-- employee_name: string (nullable = true)\n |-- depart: string (nullable = true)\n |-- salary: long (nullable = true)\n\n"
     ]
    }
   ],
   "source": [
    "df.printSchema()"
   ]
  },
  {
   "cell_type": "code",
   "execution_count": 0,
   "metadata": {
    "application/vnd.databricks.v1+cell": {
     "cellMetadata": {
      "byteLimit": 2048000,
      "rowLimit": 10000
     },
     "inputWidgets": {},
     "nuid": "21278b36-d58f-46fb-9640-3632b3f94702",
     "showTitle": false,
     "tableResultSettingsMap": {},
     "title": ""
    }
   },
   "outputs": [],
   "source": [
    "from pyspark.sql.functions import lag\n",
    "from pyspark.sql.window import Window\n",
    "windowspec=Window.partitionBy(\"depart\").orderBy(\"salary\")"
   ]
  },
  {
   "cell_type": "code",
   "execution_count": 0,
   "metadata": {
    "application/vnd.databricks.v1+cell": {
     "cellMetadata": {
      "byteLimit": 2048000,
      "rowLimit": 10000
     },
     "inputWidgets": {},
     "nuid": "5a66a66a-3800-455d-a2e3-676c5645e639",
     "showTitle": false,
     "tableResultSettingsMap": {},
     "title": ""
    }
   },
   "outputs": [
    {
     "output_type": "stream",
     "name": "stdout",
     "output_type": "stream",
     "text": [
      "+-------------+---------+------+----+\n|employee_name|   depart|salary| lag|\n+-------------+---------+------+----+\n|        maria|  finance|  3000|NULL|\n|        scott|  finance|  3300|3000|\n|          jen|  finance|  3900|3300|\n|        kumar|marketing|  2000|NULL|\n|         jeff|marketing|  3000|2000|\n|        james|    sales|  3000|NULL|\n|        James|    sales|  3000|3000|\n|       Robert|    sales|  4100|3000|\n|         saif|    sales|  4100|4100|\n|      michael|    sales|  4600|4100|\n+-------------+---------+------+----+\n\n"
     ]
    }
   ],
   "source": [
    "df.withColumn(\"lag\",lag(\"salary\",1).over(windowspec)).show()"
   ]
  },
  {
   "cell_type": "code",
   "execution_count": 0,
   "metadata": {
    "application/vnd.databricks.v1+cell": {
     "cellMetadata": {
      "byteLimit": 2048000,
      "rowLimit": 10000
     },
     "inputWidgets": {},
     "nuid": "49139be2-7d8a-4cac-980b-be26d5ffcf16",
     "showTitle": false,
     "tableResultSettingsMap": {},
     "title": ""
    }
   },
   "outputs": [
    {
     "output_type": "stream",
     "name": "stdout",
     "output_type": "stream",
     "text": [
      "+-------------+---------+------+----+\n|employee_name|   depart|salary|lead|\n+-------------+---------+------+----+\n|          jen|  finance|  3900|3300|\n|        scott|  finance|  3300|3000|\n|        maria|  finance|  3000|NULL|\n|         jeff|marketing|  3000|2000|\n|        kumar|marketing|  2000|NULL|\n|      michael|    sales|  4600|4100|\n|       Robert|    sales|  4100|4100|\n|         saif|    sales|  4100|3000|\n|        james|    sales|  3000|3000|\n|        James|    sales|  3000|NULL|\n+-------------+---------+------+----+\n\n"
     ]
    }
   ],
   "source": [
    "from pyspark.sql.functions import lead\n",
    "from pyspark.sql.window import Window\n",
    "df.withColumn('lead',lead('salary',1).over(Window.partitionBy('depart').orderBy(df[\"salary\"].desc()))).show()"
   ]
  }
 ],
 "metadata": {
  "application/vnd.databricks.v1+notebook": {
   "computePreferences": null,
   "dashboards": [],
   "environmentMetadata": {
    "base_environment": "",
    "client": "1"
   },
   "language": "python",
   "notebookMetadata": {
    "pythonIndentUnit": 4
   },
   "notebookName": "windows function lead and lag",
   "widgets": {}
  }
 },
 "nbformat": 4,
 "nbformat_minor": 0
}
