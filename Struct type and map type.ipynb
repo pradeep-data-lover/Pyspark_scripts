{
 "cells": [
  {
   "cell_type": "code",
   "execution_count": 0,
   "metadata": {
    "application/vnd.databricks.v1+cell": {
     "cellMetadata": {
      "byteLimit": 2048000,
      "rowLimit": 10000
     },
     "inputWidgets": {},
     "nuid": "1bdb9474-6430-4aa2-8730-3c9cc64ad0e3",
     "showTitle": false,
     "tableResultSettingsMap": {},
     "title": ""
    }
   },
   "outputs": [],
   "source": [
    "structuredata=[\n",
    "    ((\"james\",\"will\",\"smith\"),111,\"HR\"),\n",
    "    ((\"michael\",None,\"dan\"),222,\"sales\"),\n",
    "    ((\"Robert\",\"ray\",\"williams\"),333,\"it\"),\n",
    "    ((\"maria\",\"anne\",\"jones\"),444,\"it\")\n",
    "]\n",
    "from pyspark.sql.types import StructType,StructField,StringType,IntegerType\n",
    "structureschema=StructType([\n",
    "    StructField(\"Name\",StructType([\n",
    "    StructField(\"First\",StringType(),True),\n",
    "    StructField(\"Middle\",StringType(),True),\n",
    "    StructField(\"Last\",StringType(),True)])),\n",
    "    StructField(\"id\",IntegerType(),True),\n",
    "    StructField(\"dept\",StringType(),True)\n",
    "])"
   ]
  },
  {
   "cell_type": "code",
   "execution_count": 0,
   "metadata": {
    "application/vnd.databricks.v1+cell": {
     "cellMetadata": {
      "byteLimit": 2048000,
      "rowLimit": 10000
     },
     "inputWidgets": {},
     "nuid": "e662be07-25e4-4af5-b914-f7ca9f98b90d",
     "showTitle": false,
     "tableResultSettingsMap": {},
     "title": ""
    }
   },
   "outputs": [
    {
     "output_type": "display_data",
     "data": {
      "text/html": [
       "<style scoped>\n",
       "  .table-result-container {\n",
       "    max-height: 300px;\n",
       "    overflow: auto;\n",
       "  }\n",
       "  table, th, td {\n",
       "    border: 1px solid black;\n",
       "    border-collapse: collapse;\n",
       "  }\n",
       "  th, td {\n",
       "    padding: 5px;\n",
       "  }\n",
       "  th {\n",
       "    text-align: left;\n",
       "  }\n",
       "</style><div class='table-result-container'><table class='table-result'><thead style='background-color: white'><tr><th>Name</th><th>id</th><th>dept</th></tr></thead><tbody><tr><td>List(james, will, smith)</td><td>111</td><td>HR</td></tr><tr><td>List(michael, null, dan)</td><td>222</td><td>sales</td></tr><tr><td>List(Robert, ray, williams)</td><td>333</td><td>it</td></tr><tr><td>List(maria, anne, jones)</td><td>444</td><td>it</td></tr></tbody></table></div>"
      ]
     },
     "metadata": {
      "application/vnd.databricks.v1+output": {
       "addedWidgets": {},
       "aggData": [],
       "aggError": "",
       "aggOverflow": false,
       "aggSchema": [],
       "aggSeriesLimitReached": false,
       "aggType": "",
       "arguments": {},
       "columnCustomDisplayInfos": {},
       "data": [
        [
         [
          "james",
          "will",
          "smith"
         ],
         111,
         "HR"
        ],
        [
         [
          "michael",
          null,
          "dan"
         ],
         222,
         "sales"
        ],
        [
         [
          "Robert",
          "ray",
          "williams"
         ],
         333,
         "it"
        ],
        [
         [
          "maria",
          "anne",
          "jones"
         ],
         444,
         "it"
        ]
       ],
       "datasetInfos": [],
       "dbfsResultPath": null,
       "isJsonSchema": true,
       "metadata": {},
       "overflow": false,
       "plotOptions": {
        "customPlotOptions": {},
        "displayType": "table",
        "pivotAggregation": null,
        "pivotColumns": null,
        "xColumns": null,
        "yColumns": null
       },
       "removedWidgets": [],
       "schema": [
        {
         "metadata": "{}",
         "name": "Name",
         "type": "{\"type\":\"struct\",\"fields\":[{\"name\":\"First\",\"type\":\"string\",\"nullable\":true,\"metadata\":{}},{\"name\":\"Middle\",\"type\":\"string\",\"nullable\":true,\"metadata\":{}},{\"name\":\"Last\",\"type\":\"string\",\"nullable\":true,\"metadata\":{}}]}"
        },
        {
         "metadata": "{}",
         "name": "id",
         "type": "\"integer\""
        },
        {
         "metadata": "{}",
         "name": "dept",
         "type": "\"string\""
        }
       ],
       "type": "table"
      }
     },
     "output_type": "display_data"
    },
    {
     "output_type": "stream",
     "name": "stdout",
     "output_type": "stream",
     "text": [
      "root\n |-- Name: struct (nullable = true)\n |    |-- First: string (nullable = true)\n |    |-- Middle: string (nullable = true)\n |    |-- Last: string (nullable = true)\n |-- id: integer (nullable = true)\n |-- dept: string (nullable = true)\n\n"
     ]
    }
   ],
   "source": [
    "df=spark.createDataFrame(data=structuredata,schema=structureschema)\n",
    "display(df)\n",
    "df.printSchema()"
   ]
  },
  {
   "cell_type": "code",
   "execution_count": 0,
   "metadata": {
    "application/vnd.databricks.v1+cell": {
     "cellMetadata": {
      "byteLimit": 2048000,
      "rowLimit": 10000
     },
     "inputWidgets": {},
     "nuid": "7fa8b49c-6f1f-4036-8d7f-5503ed3b016c",
     "showTitle": false,
     "tableResultSettingsMap": {},
     "title": ""
    }
   },
   "outputs": [],
   "source": [
    "from pyspark.sql.types import StructField,StructType,StringType,IntegerType,MapType\n",
    "data=[(111,\"Mike\",{\"TV\":\"LG\",\"Refrigerator\":\"Samsung\",\"Oven\":\"Philips\",\"AC\":\"Voltas\"}),\n",
    "      (222,\"David\",{\"AC\":\"Samsung\",\"Washing machine\":\"LG\"}),\n",
    "      (333,\"Thomas\",{\"TV\":\"croma\"}),\n",
    "      (444,\"williams\",None)]\n",
    "schema=StructType([\n",
    "    StructField(\"Id\",IntegerType(),True),\n",
    "    StructField(\"Name\",StringType(),True),\n",
    "    StructField(\"Utilities\",MapType(StringType(),StringType()),True)\n",
    "])"
   ]
  },
  {
   "cell_type": "code",
   "execution_count": 0,
   "metadata": {
    "application/vnd.databricks.v1+cell": {
     "cellMetadata": {
      "byteLimit": 2048000,
      "rowLimit": 10000
     },
     "inputWidgets": {},
     "nuid": "3eb7adc7-53f7-48fd-bc6a-a91d0394ba46",
     "showTitle": false,
     "tableResultSettingsMap": {},
     "title": ""
    }
   },
   "outputs": [
    {
     "output_type": "display_data",
     "data": {
      "text/html": [
       "<style scoped>\n",
       "  .table-result-container {\n",
       "    max-height: 300px;\n",
       "    overflow: auto;\n",
       "  }\n",
       "  table, th, td {\n",
       "    border: 1px solid black;\n",
       "    border-collapse: collapse;\n",
       "  }\n",
       "  th, td {\n",
       "    padding: 5px;\n",
       "  }\n",
       "  th {\n",
       "    text-align: left;\n",
       "  }\n",
       "</style><div class='table-result-container'><table class='table-result'><thead style='background-color: white'><tr><th>Id</th><th>Name</th><th>Utilities</th></tr></thead><tbody><tr><td>111</td><td>Mike</td><td>Map(Refrigerator -> Samsung, AC -> Voltas, TV -> LG, Oven -> Philips)</td></tr><tr><td>222</td><td>David</td><td>Map(AC -> Samsung, Washing machine -> LG)</td></tr><tr><td>333</td><td>Thomas</td><td>Map(TV -> croma)</td></tr><tr><td>444</td><td>williams</td><td>null</td></tr></tbody></table></div>"
      ]
     },
     "metadata": {
      "application/vnd.databricks.v1+output": {
       "addedWidgets": {},
       "aggData": [],
       "aggError": "",
       "aggOverflow": false,
       "aggSchema": [],
       "aggSeriesLimitReached": false,
       "aggType": "",
       "arguments": {},
       "columnCustomDisplayInfos": {},
       "data": [
        [
         111,
         "Mike",
         {
          "AC": "Voltas",
          "Oven": "Philips",
          "Refrigerator": "Samsung",
          "TV": "LG"
         }
        ],
        [
         222,
         "David",
         {
          "AC": "Samsung",
          "Washing machine": "LG"
         }
        ],
        [
         333,
         "Thomas",
         {
          "TV": "croma"
         }
        ],
        [
         444,
         "williams",
         null
        ]
       ],
       "datasetInfos": [],
       "dbfsResultPath": null,
       "isJsonSchema": true,
       "metadata": {},
       "overflow": false,
       "plotOptions": {
        "customPlotOptions": {},
        "displayType": "table",
        "pivotAggregation": null,
        "pivotColumns": null,
        "xColumns": null,
        "yColumns": null
       },
       "removedWidgets": [],
       "schema": [
        {
         "metadata": "{}",
         "name": "Id",
         "type": "\"integer\""
        },
        {
         "metadata": "{}",
         "name": "Name",
         "type": "\"string\""
        },
        {
         "metadata": "{}",
         "name": "Utilities",
         "type": "{\"type\":\"map\",\"keyType\":\"string\",\"valueType\":\"string\",\"valueContainsNull\":true}"
        }
       ],
       "type": "table"
      }
     },
     "output_type": "display_data"
    }
   ],
   "source": [
    "df=spark.createDataFrame(data=data,schema=schema)\n",
    "display(df)"
   ]
  }
 ],
 "metadata": {
  "application/vnd.databricks.v1+notebook": {
   "computePreferences": null,
   "dashboards": [],
   "environmentMetadata": {
    "base_environment": "",
    "client": "1"
   },
   "language": "python",
   "notebookMetadata": {
    "pythonIndentUnit": 4
   },
   "notebookName": "Struct type and map type",
   "widgets": {}
  }
 },
 "nbformat": 4,
 "nbformat_minor": 0
}
