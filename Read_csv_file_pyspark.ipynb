{
 "cells": [
  {
   "cell_type": "code",
   "execution_count": 0,
   "metadata": {
    "application/vnd.databricks.v1+cell": {
     "cellMetadata": {
      "byteLimit": 2048000,
      "rowLimit": 10000
     },
     "inputWidgets": {},
     "nuid": "7cd938aa-167f-492b-8708-5ab487a2e1ec",
     "showTitle": false,
     "tableResultSettingsMap": {},
     "title": ""
    }
   },
   "outputs": [
    {
     "output_type": "stream",
     "name": "stdout",
     "output_type": "stream",
     "text": [
      "root\n |-- day: string (nullable = true)\n |-- temperature: integer (nullable = true)\n |-- windspeed: integer (nullable = true)\n |-- event: string (nullable = true)\n\n"
     ]
    }
   ],
   "source": [
    "df=spark.read.options(inferschema='True',header='True',sep=\",\").format('csv').load('dbfs:/FileStore/tables/weather_data.csv')\n",
    "df.printSchema()\n"
   ]
  },
  {
   "cell_type": "code",
   "execution_count": 0,
   "metadata": {
    "application/vnd.databricks.v1+cell": {
     "cellMetadata": {
      "byteLimit": 2048000,
      "rowLimit": 10000
     },
     "inputWidgets": {},
     "nuid": "63c2a5ce-20d4-443c-a076-e3640d0fcbe3",
     "showTitle": false,
     "tableResultSettingsMap": {},
     "title": ""
    }
   },
   "outputs": [
    {
     "output_type": "stream",
     "name": "stdout",
     "output_type": "stream",
     "text": [
      "root\n |-- day: string (nullable = true)\n |-- temperature: integer (nullable = true)\n |-- windspeed: integer (nullable = true)\n |-- event: string (nullable = true)\n\nroot\n |-- day: string (nullable = true)\n |-- temperature: integer (nullable = true)\n |-- windspeed: integer (nullable = true)\n |-- event: string (nullable = true)\n\n"
     ]
    }
   ],
   "source": [
    "from pyspark.sql.types import StructType,StructField,IntegerType,StringType\n",
    "schema_define=StructType([StructField(\"day\",StringType(),True),\n",
    "                          StructField(\"temperature\",IntegerType(),True),\n",
    "                          StructField(\"windspeed\",IntegerType(),True),\n",
    "                          StructField(\"event\",StringType(),True)])\n",
    "df=spark.read.schema(schema_define).options(header='True',sep=\",\").format('csv').load('dbfs:/FileStore/tables/weather_data.csv')\n",
    "df.printSchema()\n",
    "\n",
    "schema_modify='day STRING,temperature INTEGER,windspeed INTEGER,event STRING'\n",
    "df=spark.read.schema(schema_modify).options(header='True',sep=\",\").format('csv').load('dbfs:/FileStore/tables/weather_data.csv')\n",
    "df.printSchema()"
   ]
  },
  {
   "cell_type": "code",
   "execution_count": 0,
   "metadata": {
    "application/vnd.databricks.v1+cell": {
     "cellMetadata": {
      "byteLimit": 2048000,
      "rowLimit": 10000
     },
     "inputWidgets": {},
     "nuid": "0da216ec-02bf-43af-9f86-71e9bb88edb1",
     "showTitle": false,
     "tableResultSettingsMap": {},
     "title": ""
    }
   },
   "outputs": [
    {
     "output_type": "stream",
     "name": "stdout",
     "output_type": "stream",
     "text": [
      "94\n"
     ]
    }
   ],
   "source": [
    "df=spark.read.options(inferschema='True',header='True',sep=\",\").format('csv').load('dbfs:/FileStore/tables/20th_century_deaths_in_US___CDC.csv')\n",
    "print(df.count())"
   ]
  },
  {
   "cell_type": "code",
   "execution_count": 0,
   "metadata": {
    "application/vnd.databricks.v1+cell": {
     "cellMetadata": {
      "byteLimit": 2048000,
      "rowLimit": 10000
     },
     "inputWidgets": {},
     "nuid": "5447d549-6016-4f7d-96e5-bb21a5c697cd",
     "showTitle": false,
     "tableResultSettingsMap": {},
     "title": ""
    }
   },
   "outputs": [
    {
     "output_type": "stream",
     "name": "stdout",
     "output_type": "stream",
     "text": [
      "root\n |-- Entity: string (nullable = true)\n |-- Year: integer (nullable = true)\n |-- Accidents (excl. road) - Deaths: integer (nullable = true)\n |-- Accidents (total)  - Deaths: integer (nullable = true)\n |-- Arteriosclerosis  - Deaths: integer (nullable = true)\n |-- Bronchitis  - Deaths: integer (nullable = true)\n |-- Cancers  - Deaths: integer (nullable = true)\n |-- COPD  - Deaths: integer (nullable = true)\n |-- Dementia  - Deaths: integer (nullable = true)\n |-- Diabetes  - Deaths: integer (nullable = true)\n |-- Diarrheal disease  - Deaths: integer (nullable = true)\n |-- Heart disease  - Deaths: integer (nullable = true)\n |-- Homicide  - Deaths: integer (nullable = true)\n |-- Kidney infection  - Deaths: integer (nullable = true)\n |-- Liver disease  - Deaths: integer (nullable = true)\n |-- Neonatal disorders  - Deaths: integer (nullable = true)\n |-- Nephritis  - Deaths: integer (nullable = true)\n |-- Other causes  - Deaths: integer (nullable = true)\n |-- Pneumonia and influenza  - Deaths: integer (nullable = true)\n |-- Respiratory disease  - Deaths: integer (nullable = true)\n |-- Road accidents  - Deaths: integer (nullable = true)\n |-- Septicemia  - Deaths: integer (nullable = true)\n |-- Stroke  - Deaths: integer (nullable = true)\n |-- Suicide  - Deaths: integer (nullable = true)\n |-- Syphilis  - Deaths: integer (nullable = true)\n |-- Total deaths  - Deaths: integer (nullable = true)\n |-- Tuberculosis  - Deaths: integer (nullable = true)\n |-- Non-communicable diseases (NCDs)  - Deaths: integer (nullable = true)\n |-- Communicable, infectious, neonatal and other deaths  - Deaths: integer (nullable = true)\n |-- Accidents (excl. road) - Death Rates: double (nullable = true)\n |-- Accidents (total) - Death Rates: double (nullable = true)\n |-- Arteriosclerosis - Death Rates: double (nullable = true)\n |-- Bronchitis - Death Rates: double (nullable = true)\n |-- Cancers - Death Rates: double (nullable = true)\n |-- COPD - Death Rates: double (nullable = true)\n |-- Dementia - Death Rates: double (nullable = true)\n |-- Diabetes - Death Rates: double (nullable = true)\n |-- Diarrheal disease - Death Rates: double (nullable = true)\n |-- Heart disease - Death Rates: double (nullable = true)\n |-- Homicide - Death Rates: double (nullable = true)\n |-- Kidney infection - Death Rates: double (nullable = true)\n |-- Liver disease - Death Rates: double (nullable = true)\n |-- Neonatal disorders - Death Rates: double (nullable = true)\n |-- Nephritis - Death Rates: double (nullable = true)\n |-- Other causes - Death Rates: double (nullable = true)\n |-- Pneumonia and influenza - Death Rates: double (nullable = true)\n |-- Respiratory disease - Death Rates: double (nullable = true)\n |-- Road accidents - Death Rates: double (nullable = true)\n |-- Septicemia - Death Rates: double (nullable = true)\n |-- Stroke - Death Rates: double (nullable = true)\n |-- Suicide - Death Rates: double (nullable = true)\n |-- Syphilis - Death Rates: double (nullable = true)\n |-- Total deaths - Death Rates: double (nullable = true)\n |-- Tuberculosis - Death Rates: double (nullable = true)\n |-- Non-communicable diseases (NCDs) - Death Rates: double (nullable = true)\n |-- Communicable, infectious, neonatal and other deaths - Death Rates: double (nullable = true)\n |-- Accidents (excl. road) - % of Deaths: double (nullable = true)\n |-- Accidents (total) - % of Deaths: double (nullable = true)\n |-- Arteriosclerosis - % of Deaths: double (nullable = true)\n |-- Bronchitis - % of Deaths: double (nullable = true)\n |-- Cancers - % of Deaths: double (nullable = true)\n |-- COPD - % of Deaths: double (nullable = true)\n |-- Dementia - % of Deaths: double (nullable = true)\n |-- Diabetes - % of Deaths: double (nullable = true)\n |-- Diarrheal disease - % of Deaths: double (nullable = true)\n |-- Heart disease - % of Deaths: double (nullable = true)\n |-- Homicide - % of Deaths: double (nullable = true)\n |-- Kidney infection - % of Deaths: double (nullable = true)\n |-- Liver disease - % of Deaths: double (nullable = true)\n |-- Neonatal disorders - % of Deaths: double (nullable = true)\n |-- Nephritis - % of Deaths: double (nullable = true)\n |-- Other bronchopulmonic diseases - % of Deaths: double (nullable = true)\n |-- Other causes - % of Deaths: double (nullable = true)\n |-- Pneumonia and influenza - % of Deaths: double (nullable = true)\n |-- Respiratory disease - % of Deaths: double (nullable = true)\n |-- Road accidents - % of Deaths: double (nullable = true)\n |-- Septicemia - % of Deaths: double (nullable = true)\n |-- Stroke - % of Deaths: double (nullable = true)\n |-- Suicide - % of Deaths: double (nullable = true)\n |-- Syphilis - % of Deaths: double (nullable = true)\n |-- Total deaths - % of Deaths: double (nullable = true)\n |-- Tuberculosis - % of Deaths: double (nullable = true)\n |-- Non-communicable diseases (NCDs) - % of Deaths: double (nullable = true)\n |-- Communicable, infectious, neonatal and other deaths - % of Deaths: double (nullable = true)\n\n"
     ]
    }
   ],
   "source": [
    "df.printSchema()"
   ]
  },
  {
   "cell_type": "code",
   "execution_count": 0,
   "metadata": {
    "application/vnd.databricks.v1+cell": {
     "cellMetadata": {
      "byteLimit": 2048000,
      "rowLimit": 10000
     },
     "inputWidgets": {},
     "nuid": "cb0a400d-2bee-43d1-98eb-3decab61cea2",
     "showTitle": false,
     "tableResultSettingsMap": {},
     "title": ""
    }
   },
   "outputs": [
    {
     "output_type": "execute_result",
     "data": {
      "text/plain": [
       "[FileInfo(path='dbfs:/FileStore/tables/20th_century_deaths_in_US___CDC.csv', name='20th_century_deaths_in_US___CDC.csv', size=32127, modificationTime=1737887910000),\n",
       " FileInfo(path='dbfs:/FileStore/tables/weather_data.xlsx', name='weather_data.xlsx', size=8223, modificationTime=1737889598000)]"
      ]
     },
     "execution_count": 16,
     "metadata": {},
     "output_type": "execute_result"
    }
   ],
   "source": [
    "dbutils.fs.ls(\"FileStore/tables\")"
   ]
  },
  {
   "cell_type": "code",
   "execution_count": 0,
   "metadata": {
    "application/vnd.databricks.v1+cell": {
     "cellMetadata": {
      "byteLimit": 2048000,
      "rowLimit": 10000
     },
     "inputWidgets": {},
     "nuid": "060ff909-1bbd-43a1-b89e-44a7216524e2",
     "showTitle": false,
     "tableResultSettingsMap": {},
     "title": ""
    }
   },
   "outputs": [
    {
     "output_type": "stream",
     "name": "stdout",
     "output_type": "stream",
     "text": [
      "94\n"
     ]
    }
   ],
   "source": [
    "df=spark.read.option('inferschema',True).option('header',True).format('csv').load('dbfs:/FileStore/tables/20th_century_deaths_in_US___CDC.csv')\n",
    "print(df.count())"
   ]
  }
 ],
 "metadata": {
  "application/vnd.databricks.v1+notebook": {
   "computePreferences": null,
   "dashboards": [],
   "environmentMetadata": {
    "base_environment": "",
    "client": "1"
   },
   "language": "python",
   "notebookMetadata": {
    "pythonIndentUnit": 4
   },
   "notebookName": "Read_csv_file_pyspark",
   "widgets": {}
  }
 },
 "nbformat": 4,
 "nbformat_minor": 0
}
