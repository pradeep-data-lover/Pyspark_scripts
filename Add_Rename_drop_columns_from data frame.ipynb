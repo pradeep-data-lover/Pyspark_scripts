{
 "cells": [
  {
   "cell_type": "code",
   "execution_count": 0,
   "metadata": {
    "application/vnd.databricks.v1+cell": {
     "cellMetadata": {
      "byteLimit": 2048000,
      "rowLimit": 10000
     },
     "inputWidgets": {},
     "nuid": "2b6172ca-69ed-4d89-b145-008c5b6b2135",
     "showTitle": false,
     "tableResultSettingsMap": {},
     "title": ""
    }
   },
   "outputs": [
    {
     "output_type": "display_data",
     "data": {
      "text/html": [
       "<style scoped>\n",
       "  .table-result-container {\n",
       "    max-height: 300px;\n",
       "    overflow: auto;\n",
       "  }\n",
       "  table, th, td {\n",
       "    border: 1px solid black;\n",
       "    border-collapse: collapse;\n",
       "  }\n",
       "  th, td {\n",
       "    padding: 5px;\n",
       "  }\n",
       "  th {\n",
       "    text-align: left;\n",
       "  }\n",
       "</style><div class='table-result-container'><table class='table-result'><thead style='background-color: white'><tr><th>employee_id</th><th>firstname</th><th>lastname</th><th>doj</th><th>dptid</th><th>gender</th><th>salary</th></tr></thead><tbody><tr><td>10</td><td>Raj</td><td>kumar</td><td>1999</td><td>100</td><td>M</td><td>2000</td></tr><tr><td>20</td><td>Rahul</td><td>Rajan</td><td>2032</td><td>200</td><td>F</td><td>8000</td></tr><tr><td>30</td><td>Raja</td><td>Singh</td><td>2004</td><td>100</td><td>F</td><td>7000</td></tr><tr><td>40</td><td>Rama</td><td>krishna</td><td>2008</td><td>400</td><td>M</td><td>1000</td></tr><tr><td>60</td><td>Rasul</td><td>Kutty</td><td>2014</td><td>500</td><td>M</td><td>4000</td></tr><tr><td>70</td><td>kumar</td><td>chand</td><td>2034</td><td>600</td><td>M</td><td>5600</td></tr></tbody></table></div>"
      ]
     },
     "metadata": {
      "application/vnd.databricks.v1+output": {
       "addedWidgets": {},
       "aggData": [],
       "aggError": "",
       "aggOverflow": false,
       "aggSchema": [],
       "aggSeriesLimitReached": false,
       "aggType": "",
       "arguments": {},
       "columnCustomDisplayInfos": {},
       "data": [
        [
         10,
         "Raj",
         "kumar",
         1999,
         100,
         "M",
         2000
        ],
        [
         20,
         "Rahul",
         "Rajan",
         2032,
         200,
         "F",
         8000
        ],
        [
         30,
         "Raja",
         "Singh",
         2004,
         100,
         "F",
         7000
        ],
        [
         40,
         "Rama",
         "krishna",
         2008,
         400,
         "M",
         1000
        ],
        [
         60,
         "Rasul",
         "Kutty",
         2014,
         500,
         "M",
         4000
        ],
        [
         70,
         "kumar",
         "chand",
         2034,
         600,
         "M",
         5600
        ]
       ],
       "datasetInfos": [],
       "dbfsResultPath": null,
       "isJsonSchema": true,
       "metadata": {},
       "overflow": false,
       "plotOptions": {
        "customPlotOptions": {},
        "displayType": "table",
        "pivotAggregation": null,
        "pivotColumns": null,
        "xColumns": null,
        "yColumns": null
       },
       "removedWidgets": [],
       "schema": [
        {
         "metadata": "{}",
         "name": "employee_id",
         "type": "\"long\""
        },
        {
         "metadata": "{}",
         "name": "firstname",
         "type": "\"string\""
        },
        {
         "metadata": "{}",
         "name": "lastname",
         "type": "\"string\""
        },
        {
         "metadata": "{}",
         "name": "doj",
         "type": "\"long\""
        },
        {
         "metadata": "{}",
         "name": "dptid",
         "type": "\"long\""
        },
        {
         "metadata": "{}",
         "name": "gender",
         "type": "\"string\""
        },
        {
         "metadata": "{}",
         "name": "salary",
         "type": "\"long\""
        }
       ],
       "type": "table"
      }
     },
     "output_type": "display_data"
    }
   ],
   "source": [
    "employee_detail=[(10,'Raj','kumar',1999,100,'M',2000),\n",
    "                 (20,'Rahul','Rajan',2032,200,'F',8000),\n",
    "                 (30,'Raja','Singh',2004,100,'F',7000),\n",
    "                 (40,'Rama','krishna',2008,400,'M',1000),\n",
    "                 (60,'Rasul','Kutty',2014,500,'M',4000),\n",
    "                 (70,'kumar','chand',2034,600,'M',5600)]\n",
    "employee_detail_schema=['employee_id','firstname','lastname','doj','dptid','gender','salary']\n",
    "df_empdtl=spark.createDataFrame(data=employee_detail,schema=employee_detail_schema)\n",
    "display(df_empdtl)"
   ]
  },
  {
   "cell_type": "code",
   "execution_count": 0,
   "metadata": {
    "application/vnd.databricks.v1+cell": {
     "cellMetadata": {
      "byteLimit": 2048000,
      "rowLimit": 10000
     },
     "inputWidgets": {},
     "nuid": "f37a63d0-ade8-4c65-a98c-fcf06a4ea9b9",
     "showTitle": false,
     "tableResultSettingsMap": {},
     "title": ""
    }
   },
   "outputs": [
    {
     "output_type": "stream",
     "name": "stdout",
     "output_type": "stream",
     "text": [
      "+-----------+---------+--------+----+-----+------+------+-------+-----+------------+------+\n|employee_id|firstname|lastname| doj|dptid|gender|salary|country|Bonus|    Fullname| Total|\n+-----------+---------+--------+----+-----+------+------+-------+-----+------------+------+\n|         10|      Raj|   kumar|1999|  100|     M|  2000|  India|100.0|   Raj kumar|2100.0|\n|         20|    Rahul|   Rajan|2032|  200|     F|  8000|  India|400.0| Rahul Rajan|8400.0|\n|         30|     Raja|   Singh|2004|  100|     F|  7000|  India|350.0|  Raja Singh|7350.0|\n|         40|     Rama| krishna|2008|  400|     M|  1000|  India| 50.0|Rama krishna|1050.0|\n|         60|    Rasul|   Kutty|2014|  500|     M|  4000|  India|200.0| Rasul Kutty|4200.0|\n|         70|    kumar|   chand|2034|  600|     M|  5600|  India|280.0| kumar chand|5880.0|\n+-----------+---------+--------+----+-----+------+------+-------+-----+------------+------+\n\n"
     ]
    }
   ],
   "source": [
    "from pyspark.sql.functions import lit,concat\n",
    "df_country=df_empdtl.withColumn('country',lit('India'))\n",
    "df_Fullname=df_country.withColumn('Bonus',df_country.salary*0.05).withColumn('Fullname',concat('firstname',lit(\" \"),'lastname')).withColumn('Total',df_country.salary+df_country.salary*0.05)\n",
    "df_Fullname.show()\n"
   ]
  },
  {
   "cell_type": "code",
   "execution_count": 0,
   "metadata": {
    "application/vnd.databricks.v1+cell": {
     "cellMetadata": {
      "byteLimit": 2048000,
      "rowLimit": 10000
     },
     "inputWidgets": {},
     "nuid": "38711ad2-a011-4e91-988a-4e2220bb263a",
     "showTitle": false,
     "tableResultSettingsMap": {},
     "title": ""
    }
   },
   "outputs": [
    {
     "output_type": "stream",
     "name": "stdout",
     "output_type": "stream",
     "text": [
      "+-----------+---------+--------+----+-----+------+------+-------+-----+------+\n|employee_id|firstname|lastname| doj|dptid|gender|salary|country|Bonus| Total|\n+-----------+---------+--------+----+-----+------+------+-------+-----+------+\n|         10|      Raj|   kumar|1999|  100|     M|  2000|  India|100.0|2100.0|\n|         20|    Rahul|   Rajan|2032|  200|     F|  8000|  India|400.0|8400.0|\n|         30|     Raja|   Singh|2004|  100|     F|  7000|  India|350.0|7350.0|\n|         40|     Rama| krishna|2008|  400|     M|  1000|  India| 50.0|1050.0|\n|         60|    Rasul|   Kutty|2014|  500|     M|  4000|  India|200.0|4200.0|\n|         70|    kumar|   chand|2034|  600|     M|  5600|  India|280.0|5880.0|\n+-----------+---------+--------+----+-----+------+------+-------+-----+------+\n\n"
     ]
    }
   ],
   "source": [
    "df_show=df_Fullname.withColumnRenamed(\"Fullname\",\"Full_name\")\n",
    "df_show.drop(\"Full_name\").show()"
   ]
  }
 ],
 "metadata": {
  "application/vnd.databricks.v1+notebook": {
   "computePreferences": null,
   "dashboards": [],
   "environmentMetadata": {
    "base_environment": "",
    "client": "1"
   },
   "language": "python",
   "notebookMetadata": {
    "pythonIndentUnit": 4
   },
   "notebookName": "Add_Rename_drop_columns_from data frame",
   "widgets": {}
  }
 },
 "nbformat": 4,
 "nbformat_minor": 0
}
