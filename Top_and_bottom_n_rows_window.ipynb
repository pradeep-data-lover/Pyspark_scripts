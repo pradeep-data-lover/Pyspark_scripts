{
 "cells": [
  {
   "cell_type": "code",
   "execution_count": 0,
   "metadata": {
    "application/vnd.databricks.v1+cell": {
     "cellMetadata": {
      "byteLimit": 2048000,
      "rowLimit": 10000
     },
     "inputWidgets": {},
     "nuid": "9b9eb65a-fc29-462c-853b-546e97949fe2",
     "showTitle": false,
     "tableResultSettingsMap": {},
     "title": ""
    }
   },
   "outputs": [
    {
     "output_type": "display_data",
     "data": {
      "text/html": [
       "<style scoped>\n",
       "  .table-result-container {\n",
       "    max-height: 300px;\n",
       "    overflow: auto;\n",
       "  }\n",
       "  table, th, td {\n",
       "    border: 1px solid black;\n",
       "    border-collapse: collapse;\n",
       "  }\n",
       "  th, td {\n",
       "    padding: 5px;\n",
       "  }\n",
       "  th {\n",
       "    text-align: left;\n",
       "  }\n",
       "</style><div class='table-result-container'><table class='table-result'><thead style='background-color: white'><tr><th>name</th><th>sub</th><th>mark</th><th>status</th><th>attend</th></tr></thead><tbody><tr><td>Michael</td><td>physics</td><td>80</td><td>p</td><td>90</td></tr><tr><td>Michael</td><td>chemistry</td><td>67</td><td>p</td><td>90</td></tr><tr><td>Michael</td><td>maths</td><td>78</td><td>p</td><td>90</td></tr><tr><td>Nancy</td><td>physics</td><td>30</td><td>f</td><td>80</td></tr><tr><td>Nancy</td><td>chemistry</td><td>59</td><td>p</td><td>80</td></tr><tr><td>Nancy</td><td>maths</td><td>75</td><td>p</td><td>80</td></tr><tr><td>Dawid</td><td>physics</td><td>90</td><td>p</td><td>70</td></tr><tr><td>Dawid</td><td>maths</td><td>97</td><td>p</td><td>70</td></tr><tr><td>John</td><td>physics</td><td>33</td><td>f</td><td>60</td></tr><tr><td>John</td><td>chemistry</td><td>28</td><td>f</td><td>60</td></tr><tr><td>John</td><td>maths</td><td>52</td><td>p</td><td>60</td></tr><tr><td>Blessy</td><td>physics</td><td>89</td><td>p</td><td>75</td></tr><tr><td>Blessy</td><td>chemistry</td><td>76</td><td>p</td><td>75</td></tr><tr><td>Blessy</td><td>maths</td><td>63</td><td>p</td><td>75</td></tr></tbody></table></div>"
      ]
     },
     "metadata": {
      "application/vnd.databricks.v1+output": {
       "addedWidgets": {},
       "aggData": [],
       "aggError": "",
       "aggOverflow": false,
       "aggSchema": [],
       "aggSeriesLimitReached": false,
       "aggType": "",
       "arguments": {},
       "columnCustomDisplayInfos": {},
       "data": [
        [
         "Michael",
         "physics",
         80,
         "p",
         90
        ],
        [
         "Michael",
         "chemistry",
         67,
         "p",
         90
        ],
        [
         "Michael",
         "maths",
         78,
         "p",
         90
        ],
        [
         "Nancy",
         "physics",
         30,
         "f",
         80
        ],
        [
         "Nancy",
         "chemistry",
         59,
         "p",
         80
        ],
        [
         "Nancy",
         "maths",
         75,
         "p",
         80
        ],
        [
         "Dawid",
         "physics",
         90,
         "p",
         70
        ],
        [
         "Dawid",
         "maths",
         97,
         "p",
         70
        ],
        [
         "John",
         "physics",
         33,
         "f",
         60
        ],
        [
         "John",
         "chemistry",
         28,
         "f",
         60
        ],
        [
         "John",
         "maths",
         52,
         "p",
         60
        ],
        [
         "Blessy",
         "physics",
         89,
         "p",
         75
        ],
        [
         "Blessy",
         "chemistry",
         76,
         "p",
         75
        ],
        [
         "Blessy",
         "maths",
         63,
         "p",
         75
        ]
       ],
       "datasetInfos": [],
       "dbfsResultPath": null,
       "isJsonSchema": true,
       "metadata": {},
       "overflow": false,
       "plotOptions": {
        "customPlotOptions": {},
        "displayType": "table",
        "pivotAggregation": null,
        "pivotColumns": null,
        "xColumns": null,
        "yColumns": null
       },
       "removedWidgets": [],
       "schema": [
        {
         "metadata": "{}",
         "name": "name",
         "type": "\"string\""
        },
        {
         "metadata": "{}",
         "name": "sub",
         "type": "\"string\""
        },
        {
         "metadata": "{}",
         "name": "mark",
         "type": "\"long\""
        },
        {
         "metadata": "{}",
         "name": "status",
         "type": "\"string\""
        },
        {
         "metadata": "{}",
         "name": "attend",
         "type": "\"long\""
        }
       ],
       "type": "table"
      }
     },
     "output_type": "display_data"
    }
   ],
   "source": [
    "data_stu=[('Michael','physics',80,'p',90),\n",
    "          ('Michael','chemistry',67,'p',90),\n",
    "          ('Michael','maths',78,'p',90),\n",
    "          ('Nancy','physics',30,'f',80),\n",
    "          ('Nancy','chemistry',59,'p',80),\n",
    "          ('Nancy','maths',75,'p',80),\n",
    "          ('Dawid','physics',90,'p',70),\n",
    "          ('Dawid','maths',97,'p',70),\n",
    "          ('John','physics',33,'f',60),\n",
    "          ('John','chemistry',28,'f',60),\n",
    "          ('John','maths',52,'p',60),\n",
    "          ('Blessy','physics',89,'p',75),\n",
    "          ('Blessy','chemistry',76,'p',75),\n",
    "          ('Blessy','maths',63,'p',75)]\n",
    "schema=['name','sub','mark','status','attend']\n",
    "df=spark.createDataFrame(data=data_stu,schema=schema)\n",
    "display(df)"
   ]
  },
  {
   "cell_type": "code",
   "execution_count": 0,
   "metadata": {
    "application/vnd.databricks.v1+cell": {
     "cellMetadata": {
      "byteLimit": 2048000,
      "rowLimit": 10000
     },
     "inputWidgets": {},
     "nuid": "9efe847e-a5c8-46ee-aceb-b26c455e0634",
     "showTitle": false,
     "tableResultSettingsMap": {},
     "title": ""
    }
   },
   "outputs": [
    {
     "output_type": "display_data",
     "data": {
      "text/html": [
       "<style scoped>\n",
       "  .table-result-container {\n",
       "    max-height: 300px;\n",
       "    overflow: auto;\n",
       "  }\n",
       "  table, th, td {\n",
       "    border: 1px solid black;\n",
       "    border-collapse: collapse;\n",
       "  }\n",
       "  th, td {\n",
       "    padding: 5px;\n",
       "  }\n",
       "  th {\n",
       "    text-align: left;\n",
       "  }\n",
       "</style><div class='table-result-container'><table class='table-result'><thead style='background-color: white'><tr><th>name</th><th>sub</th><th>mark</th><th>status</th><th>attend</th><th>row</th></tr></thead><tbody><tr><td>Blessy</td><td>physics</td><td>89</td><td>p</td><td>75</td><td>1</td></tr><tr><td>Blessy</td><td>chemistry</td><td>76</td><td>p</td><td>75</td><td>2</td></tr><tr><td>Blessy</td><td>maths</td><td>63</td><td>p</td><td>75</td><td>3</td></tr><tr><td>Dawid</td><td>maths</td><td>97</td><td>p</td><td>70</td><td>1</td></tr><tr><td>Dawid</td><td>physics</td><td>90</td><td>p</td><td>70</td><td>2</td></tr><tr><td>John</td><td>maths</td><td>52</td><td>p</td><td>60</td><td>1</td></tr><tr><td>John</td><td>physics</td><td>33</td><td>f</td><td>60</td><td>2</td></tr><tr><td>John</td><td>chemistry</td><td>28</td><td>f</td><td>60</td><td>3</td></tr><tr><td>Michael</td><td>physics</td><td>80</td><td>p</td><td>90</td><td>1</td></tr><tr><td>Michael</td><td>maths</td><td>78</td><td>p</td><td>90</td><td>2</td></tr><tr><td>Michael</td><td>chemistry</td><td>67</td><td>p</td><td>90</td><td>3</td></tr><tr><td>Nancy</td><td>maths</td><td>75</td><td>p</td><td>80</td><td>1</td></tr><tr><td>Nancy</td><td>chemistry</td><td>59</td><td>p</td><td>80</td><td>2</td></tr><tr><td>Nancy</td><td>physics</td><td>30</td><td>f</td><td>80</td><td>3</td></tr></tbody></table></div>"
      ]
     },
     "metadata": {
      "application/vnd.databricks.v1+output": {
       "addedWidgets": {},
       "aggData": [],
       "aggError": "",
       "aggOverflow": false,
       "aggSchema": [],
       "aggSeriesLimitReached": false,
       "aggType": "",
       "arguments": {},
       "columnCustomDisplayInfos": {},
       "data": [
        [
         "Blessy",
         "physics",
         89,
         "p",
         75,
         1
        ],
        [
         "Blessy",
         "chemistry",
         76,
         "p",
         75,
         2
        ],
        [
         "Blessy",
         "maths",
         63,
         "p",
         75,
         3
        ],
        [
         "Dawid",
         "maths",
         97,
         "p",
         70,
         1
        ],
        [
         "Dawid",
         "physics",
         90,
         "p",
         70,
         2
        ],
        [
         "John",
         "maths",
         52,
         "p",
         60,
         1
        ],
        [
         "John",
         "physics",
         33,
         "f",
         60,
         2
        ],
        [
         "John",
         "chemistry",
         28,
         "f",
         60,
         3
        ],
        [
         "Michael",
         "physics",
         80,
         "p",
         90,
         1
        ],
        [
         "Michael",
         "maths",
         78,
         "p",
         90,
         2
        ],
        [
         "Michael",
         "chemistry",
         67,
         "p",
         90,
         3
        ],
        [
         "Nancy",
         "maths",
         75,
         "p",
         80,
         1
        ],
        [
         "Nancy",
         "chemistry",
         59,
         "p",
         80,
         2
        ],
        [
         "Nancy",
         "physics",
         30,
         "f",
         80,
         3
        ]
       ],
       "datasetInfos": [],
       "dbfsResultPath": null,
       "isJsonSchema": true,
       "metadata": {},
       "overflow": false,
       "plotOptions": {
        "customPlotOptions": {},
        "displayType": "table",
        "pivotAggregation": null,
        "pivotColumns": null,
        "xColumns": null,
        "yColumns": null
       },
       "removedWidgets": [],
       "schema": [
        {
         "metadata": "{}",
         "name": "name",
         "type": "\"string\""
        },
        {
         "metadata": "{}",
         "name": "sub",
         "type": "\"string\""
        },
        {
         "metadata": "{}",
         "name": "mark",
         "type": "\"long\""
        },
        {
         "metadata": "{}",
         "name": "status",
         "type": "\"string\""
        },
        {
         "metadata": "{}",
         "name": "attend",
         "type": "\"long\""
        },
        {
         "metadata": "{}",
         "name": "row",
         "type": "\"integer\""
        }
       ],
       "type": "table"
      }
     },
     "output_type": "display_data"
    }
   ],
   "source": [
    "from pyspark.sql.functions import col,row_number\n",
    "from pyspark.sql.window import Window\n",
    "windowdept=Window.partitionBy('name').orderBy(col('mark').desc())\n",
    "df2=df.withColumn('row',row_number().over(windowdept)).orderBy('name','row')\n",
    "display(df2)"
   ]
  },
  {
   "cell_type": "code",
   "execution_count": 0,
   "metadata": {
    "application/vnd.databricks.v1+cell": {
     "cellMetadata": {
      "byteLimit": 2048000,
      "rowLimit": 10000
     },
     "inputWidgets": {},
     "nuid": "1258b3e3-2f40-4859-803d-1588fffc0734",
     "showTitle": false,
     "tableResultSettingsMap": {},
     "title": ""
    }
   },
   "outputs": [
    {
     "output_type": "stream",
     "name": "stdout",
     "output_type": "stream",
     "text": [
      "+-------+-------+----+------+------+---+\n|   name|    sub|mark|status|attend|row|\n+-------+-------+----+------+------+---+\n| Blessy|physics|  89|     p|    75|  1|\n|  Dawid|  maths|  97|     p|    70|  1|\n|   John|  maths|  52|     p|    60|  1|\n|Michael|physics|  80|     p|    90|  1|\n|  Nancy|  maths|  75|     p|    80|  1|\n+-------+-------+----+------+------+---+\n\n"
     ]
    }
   ],
   "source": [
    "df2.filter(col('row')<=1).show()"
   ]
  },
  {
   "cell_type": "code",
   "execution_count": 0,
   "metadata": {
    "application/vnd.databricks.v1+cell": {
     "cellMetadata": {
      "byteLimit": 2048000,
      "rowLimit": 10000
     },
     "inputWidgets": {},
     "nuid": "9c1a76ee-13e9-4809-9c0e-683a8a0da53c",
     "showTitle": false,
     "tableResultSettingsMap": {},
     "title": ""
    }
   },
   "outputs": [
    {
     "output_type": "display_data",
     "data": {
      "text/html": [
       "<style scoped>\n",
       "  .table-result-container {\n",
       "    max-height: 300px;\n",
       "    overflow: auto;\n",
       "  }\n",
       "  table, th, td {\n",
       "    border: 1px solid black;\n",
       "    border-collapse: collapse;\n",
       "  }\n",
       "  th, td {\n",
       "    padding: 5px;\n",
       "  }\n",
       "  th {\n",
       "    text-align: left;\n",
       "  }\n",
       "</style><div class='table-result-container'><table class='table-result'><thead style='background-color: white'><tr><th>name</th><th>sub</th><th>mark</th><th>status</th><th>attend</th><th>row</th></tr></thead><tbody><tr><td>Blessy</td><td>chemistry</td><td>76</td><td>p</td><td>75</td><td>1</td></tr><tr><td>Blessy</td><td>physics</td><td>89</td><td>p</td><td>75</td><td>2</td></tr><tr><td>Blessy</td><td>maths</td><td>63</td><td>p</td><td>75</td><td>4</td></tr><tr><td>Dawid</td><td>maths</td><td>97</td><td>p</td><td>70</td><td>1</td></tr><tr><td>Dawid</td><td>physics</td><td>90</td><td>p</td><td>70</td><td>1</td></tr><tr><td>John</td><td>chemistry</td><td>28</td><td>f</td><td>60</td><td>4</td></tr><tr><td>John</td><td>physics</td><td>33</td><td>f</td><td>60</td><td>4</td></tr><tr><td>John</td><td>maths</td><td>52</td><td>p</td><td>60</td><td>5</td></tr><tr><td>Michael</td><td>chemistry</td><td>67</td><td>p</td><td>90</td><td>2</td></tr><tr><td>Michael</td><td>maths</td><td>78</td><td>p</td><td>90</td><td>2</td></tr><tr><td>Michael</td><td>physics</td><td>80</td><td>p</td><td>90</td><td>3</td></tr><tr><td>Nancy</td><td>chemistry</td><td>59</td><td>p</td><td>80</td><td>3</td></tr><tr><td>Nancy</td><td>maths</td><td>75</td><td>p</td><td>80</td><td>3</td></tr><tr><td>Nancy</td><td>physics</td><td>30</td><td>f</td><td>80</td><td>5</td></tr></tbody></table></div>"
      ]
     },
     "metadata": {
      "application/vnd.databricks.v1+output": {
       "addedWidgets": {},
       "aggData": [],
       "aggError": "",
       "aggOverflow": false,
       "aggSchema": [],
       "aggSeriesLimitReached": false,
       "aggType": "",
       "arguments": {},
       "columnCustomDisplayInfos": {},
       "data": [
        [
         "Blessy",
         "chemistry",
         76,
         "p",
         75,
         1
        ],
        [
         "Blessy",
         "physics",
         89,
         "p",
         75,
         2
        ],
        [
         "Blessy",
         "maths",
         63,
         "p",
         75,
         4
        ],
        [
         "Dawid",
         "maths",
         97,
         "p",
         70,
         1
        ],
        [
         "Dawid",
         "physics",
         90,
         "p",
         70,
         1
        ],
        [
         "John",
         "chemistry",
         28,
         "f",
         60,
         4
        ],
        [
         "John",
         "physics",
         33,
         "f",
         60,
         4
        ],
        [
         "John",
         "maths",
         52,
         "p",
         60,
         5
        ],
        [
         "Michael",
         "chemistry",
         67,
         "p",
         90,
         2
        ],
        [
         "Michael",
         "maths",
         78,
         "p",
         90,
         2
        ],
        [
         "Michael",
         "physics",
         80,
         "p",
         90,
         3
        ],
        [
         "Nancy",
         "chemistry",
         59,
         "p",
         80,
         3
        ],
        [
         "Nancy",
         "maths",
         75,
         "p",
         80,
         3
        ],
        [
         "Nancy",
         "physics",
         30,
         "f",
         80,
         5
        ]
       ],
       "datasetInfos": [],
       "dbfsResultPath": null,
       "isJsonSchema": true,
       "metadata": {},
       "overflow": false,
       "plotOptions": {
        "customPlotOptions": {},
        "displayType": "table",
        "pivotAggregation": null,
        "pivotColumns": null,
        "xColumns": null,
        "yColumns": null
       },
       "removedWidgets": [],
       "schema": [
        {
         "metadata": "{}",
         "name": "name",
         "type": "\"string\""
        },
        {
         "metadata": "{}",
         "name": "sub",
         "type": "\"string\""
        },
        {
         "metadata": "{}",
         "name": "mark",
         "type": "\"long\""
        },
        {
         "metadata": "{}",
         "name": "status",
         "type": "\"string\""
        },
        {
         "metadata": "{}",
         "name": "attend",
         "type": "\"long\""
        },
        {
         "metadata": "{}",
         "name": "row",
         "type": "\"integer\""
        }
       ],
       "type": "table"
      }
     },
     "output_type": "display_data"
    }
   ],
   "source": [
    "from pyspark.sql.functions import col,row_number\n",
    "from pyspark.sql.window import Window\n",
    "windowdept=Window.partitionBy('sub').orderBy(col('mark').desc())\n",
    "df4=df.withColumn('row',row_number().over(windowdept)).orderBy('name','row')\n",
    "display(df4)"
   ]
  },
  {
   "cell_type": "code",
   "execution_count": 0,
   "metadata": {
    "application/vnd.databricks.v1+cell": {
     "cellMetadata": {
      "byteLimit": 2048000,
      "rowLimit": 10000
     },
     "inputWidgets": {},
     "nuid": "c43d89e6-3dcf-4682-836e-88f81512f062",
     "showTitle": false,
     "tableResultSettingsMap": {},
     "title": ""
    }
   },
   "outputs": [
    {
     "output_type": "stream",
     "name": "stdout",
     "output_type": "stream",
     "text": [
      "+------+---------+----+------+------+---+\n|  name|      sub|mark|status|attend|row|\n+------+---------+----+------+------+---+\n|Blessy|chemistry|  76|     p|    75|  1|\n| Dawid|    maths|  97|     p|    70|  1|\n| Dawid|  physics|  90|     p|    70|  1|\n+------+---------+----+------+------+---+\n\n"
     ]
    }
   ],
   "source": [
    "df4.filter(col('row')<=1).show()"
   ]
  },
  {
   "cell_type": "code",
   "execution_count": 0,
   "metadata": {
    "application/vnd.databricks.v1+cell": {
     "cellMetadata": {
      "byteLimit": 2048000,
      "rowLimit": 10000
     },
     "inputWidgets": {},
     "nuid": "cff95691-c4d4-48ef-bd63-958917e05db0",
     "showTitle": false,
     "tableResultSettingsMap": {},
     "title": ""
    }
   },
   "outputs": [
    {
     "output_type": "display_data",
     "data": {
      "text/html": [
       "<style scoped>\n",
       "  .table-result-container {\n",
       "    max-height: 300px;\n",
       "    overflow: auto;\n",
       "  }\n",
       "  table, th, td {\n",
       "    border: 1px solid black;\n",
       "    border-collapse: collapse;\n",
       "  }\n",
       "  th, td {\n",
       "    padding: 5px;\n",
       "  }\n",
       "  th {\n",
       "    text-align: left;\n",
       "  }\n",
       "</style><div class='table-result-container'><table class='table-result'><thead style='background-color: white'><tr><th>name</th><th>sub</th><th>mark</th><th>status</th><th>attend</th><th>row</th></tr></thead><tbody><tr><td>Blessy</td><td>maths</td><td>63</td><td>p</td><td>75</td><td>2</td></tr><tr><td>Blessy</td><td>chemistry</td><td>76</td><td>p</td><td>75</td><td>4</td></tr><tr><td>Blessy</td><td>physics</td><td>89</td><td>p</td><td>75</td><td>4</td></tr><tr><td>Dawid</td><td>maths</td><td>97</td><td>p</td><td>70</td><td>5</td></tr><tr><td>Dawid</td><td>physics</td><td>90</td><td>p</td><td>70</td><td>5</td></tr><tr><td>John</td><td>chemistry</td><td>28</td><td>f</td><td>60</td><td>1</td></tr><tr><td>John</td><td>maths</td><td>52</td><td>p</td><td>60</td><td>1</td></tr><tr><td>John</td><td>physics</td><td>33</td><td>f</td><td>60</td><td>2</td></tr><tr><td>Michael</td><td>chemistry</td><td>67</td><td>p</td><td>90</td><td>3</td></tr><tr><td>Michael</td><td>physics</td><td>80</td><td>p</td><td>90</td><td>3</td></tr><tr><td>Michael</td><td>maths</td><td>78</td><td>p</td><td>90</td><td>4</td></tr><tr><td>Nancy</td><td>physics</td><td>30</td><td>f</td><td>80</td><td>1</td></tr><tr><td>Nancy</td><td>chemistry</td><td>59</td><td>p</td><td>80</td><td>2</td></tr><tr><td>Nancy</td><td>maths</td><td>75</td><td>p</td><td>80</td><td>3</td></tr></tbody></table></div>"
      ]
     },
     "metadata": {
      "application/vnd.databricks.v1+output": {
       "addedWidgets": {},
       "aggData": [],
       "aggError": "",
       "aggOverflow": false,
       "aggSchema": [],
       "aggSeriesLimitReached": false,
       "aggType": "",
       "arguments": {},
       "columnCustomDisplayInfos": {},
       "data": [
        [
         "Blessy",
         "maths",
         63,
         "p",
         75,
         2
        ],
        [
         "Blessy",
         "chemistry",
         76,
         "p",
         75,
         4
        ],
        [
         "Blessy",
         "physics",
         89,
         "p",
         75,
         4
        ],
        [
         "Dawid",
         "maths",
         97,
         "p",
         70,
         5
        ],
        [
         "Dawid",
         "physics",
         90,
         "p",
         70,
         5
        ],
        [
         "John",
         "chemistry",
         28,
         "f",
         60,
         1
        ],
        [
         "John",
         "maths",
         52,
         "p",
         60,
         1
        ],
        [
         "John",
         "physics",
         33,
         "f",
         60,
         2
        ],
        [
         "Michael",
         "chemistry",
         67,
         "p",
         90,
         3
        ],
        [
         "Michael",
         "physics",
         80,
         "p",
         90,
         3
        ],
        [
         "Michael",
         "maths",
         78,
         "p",
         90,
         4
        ],
        [
         "Nancy",
         "physics",
         30,
         "f",
         80,
         1
        ],
        [
         "Nancy",
         "chemistry",
         59,
         "p",
         80,
         2
        ],
        [
         "Nancy",
         "maths",
         75,
         "p",
         80,
         3
        ]
       ],
       "datasetInfos": [],
       "dbfsResultPath": null,
       "isJsonSchema": true,
       "metadata": {},
       "overflow": false,
       "plotOptions": {
        "customPlotOptions": {},
        "displayType": "table",
        "pivotAggregation": null,
        "pivotColumns": null,
        "xColumns": null,
        "yColumns": null
       },
       "removedWidgets": [],
       "schema": [
        {
         "metadata": "{}",
         "name": "name",
         "type": "\"string\""
        },
        {
         "metadata": "{}",
         "name": "sub",
         "type": "\"string\""
        },
        {
         "metadata": "{}",
         "name": "mark",
         "type": "\"long\""
        },
        {
         "metadata": "{}",
         "name": "status",
         "type": "\"string\""
        },
        {
         "metadata": "{}",
         "name": "attend",
         "type": "\"long\""
        },
        {
         "metadata": "{}",
         "name": "row",
         "type": "\"integer\""
        }
       ],
       "type": "table"
      }
     },
     "output_type": "display_data"
    }
   ],
   "source": [
    "from pyspark.sql.functions import col,row_number\n",
    "from pyspark.sql.window import Window\n",
    "windowdept=Window.partitionBy('sub').orderBy(col('mark'))\n",
    "df5=df.withColumn('row',row_number().over(windowdept)).orderBy('name','row')\n",
    "display(df5)"
   ]
  },
  {
   "cell_type": "code",
   "execution_count": 0,
   "metadata": {
    "application/vnd.databricks.v1+cell": {
     "cellMetadata": {
      "byteLimit": 2048000,
      "rowLimit": 10000
     },
     "inputWidgets": {},
     "nuid": "cb71fd78-7c94-4044-8528-a1beeb7e3b83",
     "showTitle": false,
     "tableResultSettingsMap": {},
     "title": ""
    }
   },
   "outputs": [
    {
     "output_type": "stream",
     "name": "stdout",
     "output_type": "stream",
     "text": [
      "+-----+---------+----+------+------+---+\n| name|      sub|mark|status|attend|row|\n+-----+---------+----+------+------+---+\n| John|chemistry|  28|     f|    60|  1|\n| John|    maths|  52|     p|    60|  1|\n|Nancy|  physics|  30|     f|    80|  1|\n+-----+---------+----+------+------+---+\n\n"
     ]
    }
   ],
   "source": [
    "df5.filter(col('row')<=1).show()"
   ]
  }
 ],
 "metadata": {
  "application/vnd.databricks.v1+notebook": {
   "computePreferences": null,
   "dashboards": [],
   "environmentMetadata": {
    "base_environment": "",
    "client": "1"
   },
   "language": "python",
   "notebookMetadata": {
    "pythonIndentUnit": 4
   },
   "notebookName": "Top_and_bottom_n_rows_window",
   "widgets": {}
  }
 },
 "nbformat": 4,
 "nbformat_minor": 0
}
